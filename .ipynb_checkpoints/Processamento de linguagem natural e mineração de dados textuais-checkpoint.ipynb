{
 "cells": [
  {
   "cell_type": "markdown",
   "metadata": {},
   "source": [
    "## Dataset notícias IF Barbacena"
   ]
  },
  {
   "cell_type": "code",
   "execution_count": 2,
   "metadata": {},
   "outputs": [
    {
     "name": "stdout",
     "output_type": "stream",
     "text": [
      "1000\n",
      "\n",
      "\n",
      "\tO Campus Barbacena divulgou o Resultado Provisório do VIII Simpósio de Pesquisa e Inovação.\n",
      "\n",
      "\tOs estudantes devem ficar atentos as observações que constam no final do documento.\n",
      "\n",
      "Leia o documento\n",
      "\n"
     ]
    }
   ],
   "source": [
    "import json\n",
    "\n",
    "noticias = json.load(open('noticias_if.json'))\n",
    "\n",
    "print(len(noticias))\n",
    "\n",
    "n1 = noticias[0]\n",
    "\n",
    "print(n1['conteudo'])"
   ]
  },
  {
   "cell_type": "markdown",
   "metadata": {},
   "source": [
    "## Normalização do texto\n",
    "\n",
    "- Remoção de acentos\n",
    "- Remoção de quebras de linha e tabulação\n",
    "- Conversão para minúsculas\n",
    "- Remoção de espaços duplicados"
   ]
  },
  {
   "cell_type": "code",
   "execution_count": 7,
   "metadata": {},
   "outputs": [
    {
     "name": "stdout",
     "output_type": "stream",
     "text": [
      "o campus barbacena divulgou o resultado provisorio do viii simposio de pesquisa e inovacao. os estudantes devem ficar atentos as observacoes que constam no final do documento. leia o documento\n"
     ]
    }
   ],
   "source": [
    "import re\n",
    "from unicodedata import normalize\n",
    "\n",
    "def normaliza(txt):  \n",
    "    txt = normalize('NFKD', txt).encode('ASCII','ignore').decode('ASCII')\n",
    "    \n",
    "    txt = re.sub(r'\\t|\\n|\\r', ' ', txt)\n",
    "    \n",
    "    txt = txt.lower()\n",
    "    \n",
    "    txt = re.sub(r' +', ' ', txt).strip()\n",
    "    \n",
    "    return txt\n",
    "\n",
    "n1 = normaliza(noticias[0]['conteudo'])\n",
    "\n",
    "print(n1)"
   ]
  },
  {
   "cell_type": "markdown",
   "metadata": {},
   "source": [
    "## Tokenização"
   ]
  },
  {
   "cell_type": "code",
   "execution_count": 8,
   "metadata": {},
   "outputs": [
    {
     "name": "stdout",
     "output_type": "stream",
     "text": [
      "['o', 'campus', 'barbacena', 'divulgou', 'o', 'resultado', 'provisorio', 'do', 'viii', 'simposio', 'de', 'pesquisa', 'e', 'inovacao', 'os', 'estudantes', 'devem', 'ficar', 'atentos', 'as', 'observacoes', 'que', 'constam', 'no', 'final', 'do', 'documento', 'leia', 'o', 'documento']\n"
     ]
    }
   ],
   "source": [
    "from nltk import word_tokenize\n",
    "from string import punctuation \n",
    "\n",
    "# Tokeniza\n",
    "tokens = word_tokenize(n1)\n",
    "\n",
    "# Remove pontuação\n",
    "tokens_sem_pontuacao = [t for t in tokens if t not in punctuation]\n",
    "print(tokens_sem_pontuacao)"
   ]
  },
  {
   "cell_type": "markdown",
   "metadata": {},
   "source": [
    "## Remoção de stop words"
   ]
  },
  {
   "cell_type": "code",
   "execution_count": 9,
   "metadata": {},
   "outputs": [
    {
     "name": "stdout",
     "output_type": "stream",
     "text": [
      "15 stopwords pt: ['de', 'a', 'o', 'que', 'e', 'do', 'da', 'em', 'um', 'para', 'com', 'não', 'uma', 'os', 'no'] \n",
      "\n",
      "['campus', 'barbacena', 'divulgou', 'resultado', 'provisorio', 'viii', 'simposio', 'pesquisa', 'inovacao', 'estudantes', 'devem', 'ficar', 'atentos', 'observacoes', 'constam', 'final', 'documento', 'leia', 'documento']\n"
     ]
    }
   ],
   "source": [
    "import nltk\n",
    "\n",
    "stopwords = nltk.corpus.stopwords.words('portuguese')\n",
    "\n",
    "print('15 stopwords pt:', stopwords[:15], '\\n')\n",
    "\n",
    "tokens = [t for t in tokens_sem_pontuacao if t not in stopwords]\n",
    "\n",
    "print(tokens)"
   ]
  },
  {
   "cell_type": "markdown",
   "metadata": {},
   "source": [
    "## Stemming"
   ]
  },
  {
   "cell_type": "code",
   "execution_count": 10,
   "metadata": {},
   "outputs": [
    {
     "name": "stdout",
     "output_type": "stream",
     "text": [
      "program\n",
      "program\n",
      "program\n",
      "----------\n",
      "['campu', 'barbacen', 'divulg', 'result', 'provisori', 'vii', 'simposi', 'pesquis', 'inovaca', 'estud', 'dev', 'fic', 'atent', 'observaco', 'const', 'final', 'document', 'lei', 'document']\n"
     ]
    }
   ],
   "source": [
    "stemmer = nltk.stem.RSLPStemmer()\n",
    "\n",
    "print(stemmer.stem('programar'))\n",
    "print(stemmer.stem('programava'))\n",
    "print(stemmer.stem('programaremos'))\n",
    "\n",
    "tokens = [stemmer.stem(t) for t in tokens]\n",
    "print('----------')\n",
    "print(tokens[:100])"
   ]
  },
  {
   "cell_type": "markdown",
   "metadata": {},
   "source": [
    "## Vectorization (TF-IDF)"
   ]
  },
  {
   "cell_type": "code",
   "execution_count": 11,
   "metadata": {},
   "outputs": [
    {
     "name": "stdout",
     "output_type": "stream",
     "text": [
      "(1000, 11575)\n",
      "['entenda', 'entende', 'entendem', 'entendendo', 'entender', 'entendimento', 'enterro', 'entidades', 'entomologia', 'entorno', 'entrada', 'entram', 'entrando', 'entrar', 'entraram', 'entraremos', 'entrega', 'entregando', 'entregar', 'entregou', 'entregue', 'entregues', 'entretanto', 'entretenimento', 'entrevista', 'entrevistados', 'entrevistas', 'entrou', 'entusiasmados', 'entusiasmo', 'envergadura', 'envia', 'enviada', 'enviadas', 'enviado', 'enviados', 'enviando', 'enviar', 'enviara', 'enviaria', 'envie', 'envio', 'environmental', 'envolve', 'envolvem', 'envolvendo', 'envolver', 'envolveram', 'envolveu', 'envolviam']\n"
     ]
    }
   ],
   "source": [
    "from sklearn.feature_extraction.text import TfidfVectorizer\n",
    "\n",
    "lista_noticias = [n['conteudo'] for n in noticias]\n",
    "\n",
    "lista_noticias_preproc = []\n",
    "\n",
    "# Preprocessa as notícias\n",
    "for i, noticia in enumerate(lista_noticias):\n",
    "    norm = normaliza(noticia)\n",
    "    tokens = [t for t in word_tokenize(norm) if (t not in punctuation and t not in stopwords)]\n",
    "    noticia_preproc = ' '.join(tokens)\n",
    "    \n",
    "    # Adiciona o id da notícia (índice)\n",
    "    lista_noticias_preproc.append(str(i) + '\\n' + noticia_preproc)\n",
    "\n",
    "tfidf_vectorizer = TfidfVectorizer(analyzer='word')\n",
    "\n",
    "tfidf_matrix = tfidf_vectorizer.fit_transform(lista_noticias_preproc)\n",
    "\n",
    "print(tfidf_matrix.shape)\n",
    "print(tfidf_vectorizer.get_feature_names()[5000:5050])"
   ]
  },
  {
   "cell_type": "markdown",
   "metadata": {},
   "source": [
    "## Similaridade textual"
   ]
  },
  {
   "cell_type": "code",
   "execution_count": 12,
   "metadata": {},
   "outputs": [
    {
     "name": "stdout",
     "output_type": "stream",
     "text": [
      "(1000, 1000) \n",
      "\n",
      "CPU times: user 32 ms, sys: 8 ms, total: 40 ms\n",
      "Wall time: 38.8 ms\n"
     ]
    }
   ],
   "source": [
    "%%time\n",
    "\n",
    "from sklearn.metrics.pairwise import cosine_similarity\n",
    "\n",
    "'''\n",
    "    Distância cosine_similarity\n",
    "    Valor 1 -> documentos iguais\n",
    "    \n",
    "    Similaridade:\n",
    "    Valor 0 -> documentos iguais\n",
    "'''\n",
    "\n",
    "# Precomputa todas as distâncias\n",
    "dist = 1 - cosine_similarity(tfidf_matrix)\n",
    "\n",
    "print(dist.shape, '\\n')"
   ]
  },
  {
   "cell_type": "code",
   "execution_count": 13,
   "metadata": {},
   "outputs": [
    {
     "name": "stdout",
     "output_type": "stream",
     "text": [
      "(1000, 1000) \n",
      "\n",
      "[ -2.22044605e-16   8.73339844e-01   1.00000000e+00   1.00000000e+00\n",
      "   9.37683359e-01   9.57493308e-01   9.60413006e-01   9.55252975e-01\n",
      "   7.72281511e-01   9.70043880e-01] \n",
      "\n",
      "0.995450947468 \n",
      "\n"
     ]
    }
   ],
   "source": [
    "print(dist.shape, '\\n')\n",
    "\n",
    "print(dist[0][:10], '\\n')\n",
    "\n",
    "print(dist[0][500], '\\n')"
   ]
  },
  {
   "cell_type": "code",
   "execution_count": 14,
   "metadata": {},
   "outputs": [
    {
     "name": "stdout",
     "output_type": "stream",
     "text": [
      "D1: Estão abertas as inscrições para Festival de Dança do IF Sudeste de Minas Gerais - Campus Barbacena “Volta ao Mundo” \n",
      "\n",
      "D2: Abertura de ciclo de palestras sobre conservação da natureza é um sucesso \n",
      "\n",
      "D3: Campus Barbacena divulga edital do Festival de Dança “Hollywood Ifest” \n",
      "\n",
      "D1 -> D3 0.282603948493\n",
      "D2 -> D3 0.96451245341\n"
     ]
    }
   ],
   "source": [
    "print('D1:', noticias[847]['titulo'], '\\n')\n",
    "print('D2:', noticias[326]['titulo'], '\\n')\n",
    "print('D3:', noticias[338]['titulo'], '\\n')\n",
    "\n",
    "print('D1 -> D3', dist[847][338])\n",
    "print('D2 -> D3', dist[326][338])"
   ]
  },
  {
   "cell_type": "markdown",
   "metadata": {},
   "source": [
    "## Clusterização de documentos textuais"
   ]
  },
  {
   "cell_type": "code",
   "execution_count": 27,
   "metadata": {},
   "outputs": [
    {
     "data": {
      "text/plain": [
       "array([44, 46, 42, 31, 38, 41, 34, 24, 48, 35, 34, 42, 37, 33, 31, 17, 17,\n",
       "        1, 33, 10, 39, 16,  1,  8, 42, 33, 33, 33, 44, 48, 23, 24, 27, 37,\n",
       "        5,  5,  5, 21,  5, 37,  5,  0,  7, 13, 23, 13,  5, 37,  5, 21,  5,\n",
       "       37,  5,  1,  5,  5,  5, 37, 11, 45, 39, 11, 12,  1, 14, 16,  1, 39,\n",
       "       34, 10, 45,  7,  1, 49, 16, 44, 29, 45, 34, 24,  1, 10,  1, 29, 49,\n",
       "        2, 28, 39, 24, 24, 17, 45, 46, 39, 36,  4, 46, 16, 39, 16], dtype=int32)"
      ]
     },
     "execution_count": 27,
     "metadata": {},
     "output_type": "execute_result"
    }
   ],
   "source": [
    "from sklearn.cluster import KMeans\n",
    "\n",
    "clusters = 50\n",
    "model = KMeans(n_clusters=clusters, init='k-means++', max_iter=100, n_init=1)\n",
    "model.fit(tfidf_matrix)\n",
    "\n",
    "# Vetor com o identificador do cluster dos 100 primeiros documentos\n",
    "model.labels_[:100]"
   ]
  },
  {
   "cell_type": "markdown",
   "metadata": {},
   "source": [
    "## Topic modeling"
   ]
  },
  {
   "cell_type": "code",
   "execution_count": 29,
   "metadata": {},
   "outputs": [
    {
     "name": "stdout",
     "output_type": "stream",
     "text": [
      "Matriz W: (1000, 25)\n",
      "Matriz H: (25, 11575) \n",
      "\n"
     ]
    }
   ],
   "source": [
    "from sklearn.decomposition import NMF\n",
    "\n",
    "tfidf_feature_names = tfidf_vectorizer.get_feature_names()\n",
    "\n",
    "# Número de tópicos\n",
    "num_topics = 25\n",
    "\n",
    "# Fatoração da Matriz Não-Negativa (NMF)\n",
    "nmf_model = NMF(\n",
    "    n_components=num_topics,\n",
    "    random_state=1, alpha=.1, l1_ratio=.5, init='nndsvd'\n",
    ").fit(tfidf_matrix)\n",
    "\n",
    "# Matriz de tópicos x documentos (W)\n",
    "nmf_W = nmf_model.transform(tfidf_matrix)\n",
    "\n",
    "# Matriz de paralvras x tópicos (H)\n",
    "nmf_H = nmf_model.components_\n",
    "\n",
    "# Dimensão das matrizes resultantes\n",
    "print('Matriz W:', nmf_W.shape)\n",
    "print('Matriz H:', nmf_H.shape, '\\n')"
   ]
  },
  {
   "cell_type": "code",
   "execution_count": 111,
   "metadata": {},
   "outputs": [
    {
     "name": "stdout",
     "output_type": "stream",
     "text": [
      "\n",
      "Tópico 1\n",
      "   Principais termos: barbacena (0.66), campus (0.63), curso (0.38), alunos (0.37), dia (0.35)\n",
      "   Principais notícias relacionadas ao tópico:\n",
      "\t- Campus Barbacena monta Fazendinha Pedagógica na 49ª Exposição de Barbacena   (0.15)\n",
      "\t- Campus Barbacena é destaque na 49ª Exposição Agropecuária de Barbacena   (0.15)\n",
      "\t- Prorrogadas as inscrições para o Curso de  Esgrima  (0.14)\n",
      "\t- Mensagem do Diretor-geral  (0.14)\n",
      "\t- Atenção Estudantes do Curso de Licenciatura em Educação Física: Estão abertas as inscrições para o Curso de Conhecimentos Básicos de Esgrima (Florete, Sábre e Espada)  (0.14)\n",
      "\n",
      "Tópico 2\n",
      "   Principais termos: resultado (1.97), veja (0.83), divulgado (0.81), final (0.48), provisorio (0.37)\n",
      "   Principais notícias relacionadas ao tópico:\n",
      "\t- Divulgado o resultado dos Projetos de Extensão 2017  (0.25)\n",
      "\t- Divulgado o Resultado provisório da seleção de projetos de monitoria - Edital Nº 02/2017  (0.24)\n",
      "\t- Divulgado o Resultado Final do Edital PIBID 01 - 2016  (0.23)\n",
      "\t- Edital de Vagas Remanescentes: Divulgado o Resultado da Análise Curricular e o Resultado Provisório  (0.22)\n",
      "\t- Pronatec: Divulgado o Resultado Final do Edital Nº 031/2016  (0.21)\n",
      "\n",
      "Tópico 3\n",
      "   Principais termos: licenciatura (1.1), biologicas (0.48), ciencias (0.44), bacharelado (0.42), sistemas (0.42)\n",
      "   Principais notícias relacionadas ao tópico:\n",
      "\t- Divulgado os inscritos para eleição de discentes para compor os colegiados dos cursos superiores  (0.43)\n",
      "\t- Divulgado o resultado da eleição dos discentes para compor os colegiados dos cursos superiores (Bacharelado em Nutrição;  Licenciatura em Ciências Biológicas; Licenciatura em Educação Física; Licenciatura em Química; Tecnologia em Sistemas para Internet)  (0.43)\n",
      "\t- Divulgado o resultado da eleição dos docentes para compor os colegiados dos cursos superiores (Bacharelado em Nutrição;  Licenciatura em Ciências Biológicas; Licenciatura em Educação Física; Licenciatura em Química; Tecnologia em Sistemas para Internet  (0.43)\n",
      "\t- Divulgada a homologação do resultado da eleição dos docentes para compor os colegiados dos cursos superiores (Bacharelado em Nutrição;  Licenciatura em Ciências Biológicas; Licenciatura em Educação Física; Licenciatura em Química; Tecnologia em Sistemas  (0.41)\n",
      "\t- Divulgada a homologação do resultado da eleição dos discentes para compor os colegiados dos cursos superiores (Bacharelado em Nutrição;  Licenciatura em Ciências Biológicas; Licenciatura em Educação Física; Licenciatura em Química; Tecnologia em Sistemas   (0.4)\n",
      "\n",
      "Tópico 4\n",
      "   Principais termos: remunerado (0.81), retificacao (0.8), 8641 (0.75), estagio (0.74), programa (0.51)\n",
      "   Principais notícias relacionadas ao tópico:\n",
      "\t- Divulgada a II Retificação do Programa de Estágio Remunerado  (0.38)\n",
      "\t- Divulgada a retificação do Edital do Programa de Estágio Remunerado  (0.38)\n",
      "\t- Programa de Estágio Remunerado: Divulgada a retificação do resultado da análise de currículo  (0.37)\n",
      "\t- Programa de Estágio Remunerado: Divulgada a retificação do resultado das entrevistas  (0.37)\n",
      "\t- Divulgada a retificação do Edital do Programa de Estágio Remunerado  (0.36)\n",
      "\n",
      "Tópico 5\n",
      "   Principais termos: academico (0.88), centro (0.82), convocacao (0.76), assembleia (0.52), divulgado (0.48)\n",
      "   Principais notícias relacionadas ao tópico:\n",
      "\t- Divulgado o Edital de convocação de assembleia do Centro Acadêmico de Nutrição  (0.45)\n",
      "\t- Divulgado o Edital de convocação de assembleia geral do Centro Acadêmico em Nutrição – C.A.N  (0.4)\n",
      "\t- Divulgado o Edital de Convocação da Assembleia Geral do Centro Acadêmico de Bacharelado em Nutrição – C.A.B.N.  (0.37)\n",
      "\t- Divulgado o Edital de Convocação da Assembleia Geral do Centro Acadêmico de Licenciatura  em Química  - C.A.L.Q.  (0.37)\n",
      "\t- Atenção: Divulgado o Edital de convocação da assembleia geral do Centro Acadêmico de Licenciatura em Química C.A.L.Q.  (0.37)\n",
      "\n",
      "Tópico 6\n",
      "   Principais termos: 00 (0.57), etaria (0.47), faixa (0.47), anos (0.3), 11 (0.26)\n",
      "   Principais notícias relacionadas ao tópico:\n",
      "\t- Estão abertas as inscrições para o  X IFérias – Colônia de Férias do Campus Barbacena  (0.67)\n",
      "\t- Inscrições para a X Colônia de Férias começam na próxima segunda-feira  (0.66)\n",
      "\t- Divulgado o Edital do X IFérias (Colônia de Férias do Campus Barbacena)  (0.66)\n",
      "\t- Divulgado o Edital do XI  IFérias (Colônia de Férias do Campus Barbacena)  (0.61)\n",
      "\t- Divulgado o Edital do XII IFérias (Colônia de Férias do Campus Barbacena)  (0.52)\n",
      "\n",
      "Tópico 7\n",
      "   Principais termos: monitoria (0.68), prova (0.35), alunos (0.31), fisica (0.26), selecao (0.24)\n",
      "   Principais notícias relacionadas ao tópico:\n",
      "\t- Divulgação de monitoria de Física do 3º ano do ensino médio para candidatos  matriculados no 3º ano de qualquer curso técnico do IF - Barbacena.  (0.55)\n",
      "\t- Divulgação de monitoria de Física Instrumental  (0.53)\n",
      "\t- Divulgação de monitoria de Física para candidatos das licenciaturas dos cursos superiores do IF - Barbacena  (0.53)\n",
      "\t- Divulgada oportunidade de monitoria de Física para candidatos das licenciaturas dos cursos superiores do Campus Barbacena  (0.51)\n",
      "\t- Atenção alunos dos Cursos Técnicos Integrados ao Ensino Médio (3ºano): divulgada a oportunidade de vaga para monitoria de Física   (0.5)\n",
      "\n",
      "Tópico 8\n",
      "   Principais termos: escolha (0.56), representantes (0.42), conselho (0.4), docentes (0.39), eleitoral (0.36)\n",
      "   Principais notícias relacionadas ao tópico:\n",
      "\t- Divulgado o Resultado dos inscritos para escolha dos representantes dos servidores docentes, técnicos - administrativos em educação e discentes do CONSU e CEPE do Campus Barbacena  (0.48)\n",
      "\t-  Divulgada a Convocação eleitoral para escolha dos representantes dos servidores docentes, técnico-administrativos e discentes do Conselho de Ensino, Pesquisa e Extensão (CEPE) do Campus Barbacena   (0.48)\n",
      "\t- Eleições CEPE: Divulgados os inscritos  (0.46)\n",
      "\t- Divulgada a Homologação dos inscritos para escolha dos representantes dos servidores docentes, técnicos - administrativos em educação e discentes do CONSU e CEPE  (0.45)\n",
      "\t- Divulgada a Homologação dos eleitos no processo eleitoral para escolha dos membros do Conselho Superior (CONSU) e Conselho de Ensino, Pesquisa e Extensão (CEPE) do IF Sudeste MG – Campus Barbacena  (0.38)\n",
      "\n",
      "Tópico 9\n",
      "   Principais termos: pesquisa (0.69), inovacao (0.42), iniciacao (0.36), viii (0.33), cientifica (0.3)\n",
      "   Principais notícias relacionadas ao tópico:\n",
      "\t- Publicados resultados provisórios de seleção dos projetos de pesquisa submetidos ao VIII Programa de iniciação científica IF Sudeste MG / CNPq (2017/2018)  (0.53)\n",
      "\t- Publicado resultado consolidado dos projetos de pesquisa submetidos ao VIII Programa de iniciação científica IF Sudeste MG / CNPq (2017/2018)  (0.53)\n",
      "\t- Publicados resultados provisórios de seleção dos projetos de pesquisa FAPEMIG editais 10/2015 e 11/2015   (0.41)\n",
      "\t- Publicado edital de chamada de projetos para o VIII Programa Institucional de Bolsas de Iniciação Científica – Fapemig/IFSudesteMG  (0.38)\n",
      "\t- Publicado resultado consolidado com distribuição de bolsas dos projetos de pesquisa submetidos aos editais 10/2016 e 11/2016 - FAPEMIG/IF Sudeste MG  (0.37)\n",
      "\n",
      "Tópico 10\n",
      "   Principais termos: vagas (0.72), seletivo (0.54), remanescentes (0.5), processo (0.45), preenchimento (0.38)\n",
      "   Principais notícias relacionadas ao tópico:\n",
      "\t- Divulgada a homologação das inscrições do Processo Seletivo para Preenchimento de Vagas Remanescentes 2/2017   (0.42)\n",
      "\t- Divulgado o Resultado Final da Homologação das Inscrições do Processo Seletivo para Preenchimento de Vagas Remanescentes  (0.4)\n",
      "\t- Divulgada a Classificação Final do Processo Seletivo para Preenchimento de Vagas Remanescentes, referente ao Edital 10/2017  (0.36)\n",
      "\t- Divulgado o resultado final do Processo Seletivo para preenchimento das vagas remanescentes nos cursos de graduação  (0.34)\n",
      "\t- IF Sudeste MG divulga datas do Processo Seletivo para o segundo semestre de 2017  (0.32)\n",
      "\n",
      "Tópico 11\n",
      "   Principais termos: danca (0.49), festival (0.38), grupos (0.2), barbacena (0.18), serao (0.15)\n",
      "   Principais notícias relacionadas ao tópico:\n",
      "\t- Campus Barbacena promove Festival de Dança \"Volta ao Mundo”  (0.77)\n",
      "\t- Estão abertas as inscrições para Festival de Dança do IF Sudeste de Minas Gerais - Campus Barbacena “Volta ao Mundo”  (0.77)\n",
      "\t- Prorrogadas as inscrições para Festival de Dança do Campus Barbacena - “Volta ao Mundo”  (0.76)\n",
      "\t- Estudantes participam da \"Oficina de Dança Folclórica na Escola\"  (0.76)\n",
      "\t- Campus Barbacena divulga edital do Festival de Dança “Hollywood Ifest”  (0.69)\n",
      "\n",
      "Tópico 12\n",
      "   Principais termos: 8613 (0.47), matriculas (0.44), disciplinas (0.39), matricula (0.35), secretaria (0.28)\n",
      "   Principais notícias relacionadas ao tópico:\n",
      "\t- Alunos de graduação: atenção ao cronograma do período de matrícula em disciplinas e de ajustes do 2º semestre de 2016  (0.55)\n",
      "\t- Atenção alunos de graduação: Retificação da relação de formandos para matrículas em disciplinas e ajuste de matrículas - 01/2017  (0.45)\n",
      "\t- Cronograma de matrículas em disciplinas e de ajustes de matrícula e relação de possíveis formandos   (0.42)\n",
      "\t- ATENÇÃO ALUNOS DE GRADUAÇÃO DIVULGADO O NÚMERO DE VAGAS DISPONÍVEIS POR DISCIPLINA PARA O PERÍODO DE AJUSTE DE MATRÍCULAS  (0.39)\n",
      "\t- Atenção Alunos de Graduação: Publicada a lista com os nomes dos possíveis formandos que terão prioridade no período de Matrículas em Disciplinas no 2º semestre de 2016  (0.37)\n",
      "\n",
      "Tópico 13\n",
      "   Principais termos: ello (0.69), jr (0.58), consultoria (0.52), ellojr (0.22), empresa (0.18)\n",
      "   Principais notícias relacionadas ao tópico:\n",
      "\t- Ello Consultoria Jr lança edital de seleção de novos trainees  (0.52)\n",
      "\t- Ello Consultoria Jr lança edital de seleção de novos trainees  (0.47)\n",
      "\t- Ello Consultoria Jr lança a primeira edição da Ello Revista de Negócios para Empresários Juniores  (0.46)\n",
      "\t- Ello Consultoria Jr promove seleção de trainees e curso de Gerenciamento da Qualidade com ISO 9001  (0.43)\n",
      "\t- Ello Consultoria Jr convoca assembleia geral extraordinária para o dia 29 de abril  (0.41)\n",
      "\n",
      "Tópico 14\n",
      "   Principais termos: colegiados (0.65), compor (0.61), eleicao (0.55), tecnicos (0.5), integrados (0.49)\n",
      "   Principais notícias relacionadas ao tópico:\n",
      "\t- Divulgada a homologação do resultado da eleição dos discentes para compor os colegiados dos cursos técnicos integrados ao ensino médio  (0.46)\n",
      "\t- Divulgado o resultado da eleição dos discentes para compor os colegiados dos cursos técnicos integrados ao ensino médio  (0.43)\n",
      "\t- Divulgada a homologação do resultado da eleição dos docentes para compor os colegiados dos cursos técnicos integrados ao ensino médio  (0.42)\n",
      "\t- Campus Barbacena divulga impugnação e homologação dos inscritos para eleição de discentes para compor os colegiados dos cursos técnicos integrados ao ensino médio  (0.42)\n",
      "\t- Divulgada a ordem dos discentes nas cédulas da eleição para compor os colegiados dos cursos técnicos integrados ao ensino médio  (0.41)\n",
      "\n",
      "Tópico 15\n",
      "   Principais termos: seminario (0.69), iii (0.58), trabalhos (0.31), mostra (0.28), extensao (0.19)\n",
      "   Principais notícias relacionadas ao tópico:\n",
      "\t- Divulgada a programação da Semana Nacional de Ciência e Tecnologia 2016. Faça sua inscrição!  (0.67)\n",
      "\t- Atenção: Modelos de apresentação para Mostra de Trabalho e III Seminário de Extensão  (0.59)\n",
      "\t- Campus Barbacena divulga balanço da Semana Nacional de Ciência e Tecnologia 2016   (0.45)\n",
      "\t- Divulgado o Edital para o III  Seminário de Ensino  (0.42)\n",
      "\t- Divulgado o Edital do III Seminário de Extensão  (0.34)\n",
      "\n",
      "Tópico 16\n",
      "   Principais termos: rede (0.47), educacao (0.46), federal (0.41), tecnologica (0.36), profissional (0.36)\n",
      "   Principais notícias relacionadas ao tópico:\n",
      "\t- Institutos Federais completam sete anos de educação pública, gratuita e de excelência  (0.44)\n",
      "\t- Conif solicita inclusão da Rede Federal no resultado do Enem 2015  (0.4)\n",
      "\t- Institutos Federais completam oito anos  (0.39)\n",
      "\t- Mestrado para servidores da Rede Federal abrirá primeira turma em 2017  (0.39)\n",
      "\t- Ministro da Educação participa da primeira reunião extraordinária do Conif em 2016  (0.38)\n",
      "\n",
      "Tópico 17\n",
      "   Principais termos: edital (1.62), leia (0.67), 2016 (0.56), retificacao (0.4), inscricoes (0.3)\n",
      "   Principais notícias relacionadas ao tópico:\n",
      "\t- Divulgado o Edital Retificado do Programa de Monitoria 2016-1  (0.27)\n",
      "\t- Estão abertas as inscrições para projetos de monitoria (2016 -2)  (0.25)\n",
      "\t- Divulgado o Edital do Programa de Monitoria 2016-1  (0.23)\n",
      "\t- Estão abertas as inscrições para projetos de monitoria (2017 -2)  (0.21)\n",
      "\t- Divulgado  o Edital de chamada pública para seleção de extensionista colaborador externo  (0.2)\n",
      "\n",
      "Tópico 18\n",
      "   Principais termos: pibic (0.87), cnpq (0.73), pibicti (0.31), jr (0.2), af (0.19)\n",
      "   Principais notícias relacionadas ao tópico:\n",
      "\t- Divulgado o Resultado final do Edital 04/2016  (0.68)\n",
      "\t- Divulgado o resultado final retificado do Edital 04/2016 - Edital Projetos de Iniciação Científica  (0.67)\n",
      "\t- Campus divulga o Resultado Provisório dos projetos de iniciação científica encaminhados ao edital 04/2016 (2016/2017)  (0.66)\n",
      "\t- Publicada Retificação para os editais 04 e 05/2016 - Programa Institucional de Iniciação Científica  (0.47)\n",
      "\t- IF Sudeste MG publica editais de bolsas de iniciação científica  (0.4)\n",
      "\n",
      "Tópico 19\n",
      "   Principais termos: kb (1.28), anexotamanho (0.65), pdf107 (0.24), 78 (0.12), _resultado_definitivo (0.1)\n",
      "   Principais notícias relacionadas ao tópico:\n",
      "\t-  Edital de Convocação Eleitoral para escolha dos representantes dos servidores docentes, técnico-administrativos e discentes nas comissões eleitorais de Campus para escolha de Reitor do IF Sudeste MG e Diretores-gerais dos Campi   (0.37)\n",
      "\t- Campus Barbacena divulga Edital de Extensão  (0.35)\n",
      "\t- Divulgado resultado provisório do Programa de Assistência Estudantil 2017  (0.34)\n",
      "\t- Divulgado o resultado definitivo do Programa de Assistência Estudantil 2017  (0.34)\n",
      "\t- Divulgada a retificação do edital de eleições para Diretoria do CAAD   (0.34)\n",
      "\n",
      "Tópico 20\n",
      "   Principais termos: aviso (1.09), servico (0.33), setor (0.29), social (0.28), 8840 (0.27)\n",
      "   Principais notícias relacionadas ao tópico:\n",
      "\t- Setor de Serviço Social divulga avisos  (0.57)\n",
      "\t- Novos avisos do Setor de Serviço Social  (0.56)\n",
      "\t- Atenção: Novo horário de funcionamento do Setor de Serviço Social  (0.53)\n",
      "\t- Aviso do Setor de Serviço Social  (0.47)\n",
      "\t- Divulgados o aviso e a relação de pendências do alunos candidatos ao Programa de Assistência Estudantil  (0.4)\n",
      "\n",
      "Tópico 21\n",
      "   Principais termos: protegidas (0.44), areas (0.36), pos (0.35), naturais (0.35), graduacao (0.29)\n",
      "   Principais notícias relacionadas ao tópico:\n",
      "\t- Aula inaugural da pós-graduação discute “Sobrevivência humana e conservação no Parque Nacional de Virunga  (0.61)\n",
      "\t- Professor do Campus Barbacena lança livro \"Áreas naturais protegidas  e indicadores sócioeconômicos: o desafio da conservação da natureza\"  (0.43)\n",
      "\t- Aula Magna do Curso de Pós-graduação em Planejamento e Gestão de Áreas Naturais Protegidas discute \"Ecologia e evolução\"  (0.42)\n",
      "\t- Divulgado o Ciclo de Palestras sobre conservação da natureza   (0.38)\n",
      "\t- Campus Barbacena divulga informações sobre o início das aulas do Curso de Pós-graduação lato sensu em \"Planejamento e Gestão de Áreas Naturais Protegidas\"  (0.37)\n",
      "\n",
      "Tópico 22\n",
      "   Principais termos: palestra (0.49), gefrut (0.46), auditorio (0.34), estudos (0.28), grupo (0.25)\n",
      "   Principais notícias relacionadas ao tópico:\n",
      "\t- Grupo de Estudos - GEFRUT promove palestra sobre \"Pós-colheita de frutas\"  (0.62)\n",
      "\t- Grupo de Estudos - GEFRUT promove palestra sobre \"Produção de Mudas de Pitaya\"  (0.6)\n",
      "\t- Estudantes participam da palestra \"Pós-colheita de frutas\"  (0.46)\n",
      "\t- O Grupo de Estudos - GEFRUT promove palestra sobre \"Segurança Alimentar na Fruticultura\"  (0.45)\n",
      "\t- Gefrut debate Uso de telados em Fruticultura  (0.36)\n",
      "\n",
      "Tópico 23\n",
      "   Principais termos: documento (1.65), leia (1.24), divulgada (0.67), homologacao (0.39), dce (0.19)\n",
      "   Principais notícias relacionadas ao tópico:\n",
      "\t- Atenção formandos  dos Cursos de Nutrição e Licenciatura em Química  (0.21)\n",
      "\t- Aviso Setor de Serviço Social  (0.21)\n",
      "\t- Setor de Serviço Social divulga aviso  (0.21)\n",
      "\t- Divulgada a homologação das chapas candidatas ao DCE 2017  (0.18)\n",
      "\t- Secretaria de Educação Superior divulga Cronograma de Matrícula em Disciplinas e a Relação de Possíveis Formandos para o 2º semestre de 2017  (0.16)\n",
      "\n",
      "Tópico 24\n",
      "   Principais termos: fecib (0.55), trabalhos (0.5), vi (0.24), ou (0.22), categoria (0.2)\n",
      "   Principais notícias relacionadas ao tópico:\n",
      "\t- Estão abertas as inscrições de trabalhos para a VI Feira Científica de Barbacena (VI FECIB)  (0.76)\n",
      "\t- Estão abertas as inscrições de trabalhos para a V Feira Científica de Barbacena (V FECIB)  (0.72)\n",
      "\t- IF Sudeste MG – Campus Barbacena realiza VI Feira Científica de Barbacena (FECIB) com 70 projetos de escolas de Barbacena  (0.68)\n",
      "\t- IF Sudeste MG – Campus Barbacena realiza V Feira Científica de Barbacena com mais de 70 projetos de escolas de Barbacena  (0.63)\n",
      "\t- Fecib movimenta Campus Barbacena com exposição de projetos   (0.38)\n",
      "\n",
      "Tópico 25\n",
      "   Principais termos: secao (0.33), alimentacao (0.32), nutricao (0.28), lanche (0.23), noturno (0.22)\n",
      "   Principais notícias relacionadas ao tópico:\n",
      "\t- Seção de Alimentação e Nutrição publica comunicado sobre lanche noturno  (0.81)\n",
      "\t- Seção de Alimentação e Nutrição começa a servir o lanche noturno  (0.8)\n",
      "\t- Novo horário de funcionamento do almoço  (0.48)\n",
      "\t- Comunicado: Alteração no horário do jantar  (0.47)\n",
      "\t- Divulgado o horário de Funcionamento da SAN (SEÇÃO DE ALIMENTAÇÃO E NUTRIÇÃO) - CAMPUS BARBACENA no período de férias escolares  (0.44)\n"
     ]
    }
   ],
   "source": [
    "# Função para exibir os tópicos\n",
    "def exibe_topicos(H, W, feature_names, documents, num_top_words, num_top_documents):\n",
    "    for topic_idx, topic in enumerate(H):\n",
    "        print('\\nTópico %d' % (topic_idx + 1))\n",
    "\n",
    "        print('   Principais termos: ' + ', '.join([feature_names[i] + ' (%s)' % round(H[topic_idx][i], 2) \n",
    "                            for i in topic.argsort()[:-num_top_words - 1:-1]]))       \n",
    "\n",
    "        # Top documentos relacionados\n",
    "        print('   Principais notícias relacionadas ao tópico:')\n",
    "\n",
    "        top_doc_indices = np.argsort( W[:,topic_idx] )[::-1][0:num_top_documents]\n",
    "        for doc_index in top_doc_indices:\n",
    "            # Id do documento\n",
    "            id_doc = int(documents[doc_index].split('\\n')[0])\n",
    "            \n",
    "            # Texto\n",
    "            texto = noticias[id_doc]['titulo']\n",
    "            print('\\t-', texto, ' (%s)' % round(W[doc_index][topic_idx], 2))\n",
    "\n",
    "\n",
    "# Número de palavras mais relacionadas que serão exibidas para cada tópico\n",
    "num_top_words = 5\n",
    "\n",
    "# Número de documentos por tópico\n",
    "num_top_documents = 5\n",
    "\n",
    "exibe_topicos(nmf_H, nmf_W, tfidf_feature_names, documents, num_top_words, num_top_documents)"
   ]
  },
  {
   "cell_type": "markdown",
   "metadata": {},
   "source": [
    "### Sistema de recomendação"
   ]
  },
  {
   "cell_type": "code",
   "execution_count": 120,
   "metadata": {},
   "outputs": [
    {
     "name": "stdout",
     "output_type": "stream",
     "text": [
      "- Jogos dos Institutos Federais movimentam comunidade acadêmica\n"
     ]
    },
    {
     "data": {
      "text/plain": [
       "array([  2.22044605e-16,   5.52969170e-01,   7.07878718e-01,\n",
       "         7.09074804e-01,   7.31358349e-01])"
      ]
     },
     "execution_count": 120,
     "metadata": {},
     "output_type": "execute_result"
    }
   ],
   "source": [
    "print('-', noticias[15]['titulo'])\n",
    "\n",
    "# Utiliza a matriz de distâncias precomputadas\n",
    "dist[15].sort()\n",
    "\n",
    "# 5 documentos mais \"próximos\" do documento 0\n",
    "sugestoes = dist[15][:5]\n",
    "\n",
    "for s in sugestoes\n",
    "\n"
   ]
  },
  {
   "cell_type": "markdown",
   "metadata": {},
   "source": [
    "## Bônus"
   ]
  },
  {
   "cell_type": "markdown",
   "metadata": {},
   "source": [
    "## Lemmatization\n",
    "\n",
    "Menos \"agressivo\" que o stemming"
   ]
  },
  {
   "cell_type": "code",
   "execution_count": 122,
   "metadata": {},
   "outputs": [
    {
     "name": "stdout",
     "output_type": "stream",
     "text": [
      "car\n",
      "box\n",
      "spy\n",
      "child\n"
     ]
    }
   ],
   "source": [
    "from nltk.stem.wordnet import WordNetLemmatizer\n",
    "\n",
    "lmtzr = WordNetLemmatizer()\n",
    "\n",
    "print(lmtzr.lemmatize('cars'))\n",
    "print(lmtzr.lemmatize('boxes'))\n",
    "print(lmtzr.lemmatize('spies'))\n",
    "print(lmtzr.lemmatize('children'))"
   ]
  },
  {
   "cell_type": "markdown",
   "metadata": {},
   "source": [
    "## Part-of-Speech Tagging (POS Tagging)"
   ]
  },
  {
   "cell_type": "code",
   "execution_count": 123,
   "metadata": {},
   "outputs": [
    {
     "data": {
      "text/plain": [
       "[('The', 'DT'),\n",
       " ('book', 'NN'),\n",
       " ('is', 'VBZ'),\n",
       " ('on', 'IN'),\n",
       " ('the', 'DT'),\n",
       " ('table', 'NN')]"
      ]
     },
     "execution_count": 123,
     "metadata": {},
     "output_type": "execute_result"
    }
   ],
   "source": [
    "import nltk\n",
    "\n",
    "'''\n",
    "    DT: Determiner\n",
    "    NN: Noun, singular or mass \n",
    "    VBZ: Verb, 3rd person singular present\n",
    "    IN: Preposition or subordinating conjunction\n",
    "'''\n",
    "\n",
    "nltk.pos_tag(['The', 'book', 'is', 'on', 'the', 'table'])"
   ]
  },
  {
   "cell_type": "markdown",
   "metadata": {},
   "source": [
    "## Análise de sentimentos\n",
    "\n",
    "VADER (Valence Aware Dictionary and sEntiment Reasoner)"
   ]
  },
  {
   "cell_type": "code",
   "execution_count": 124,
   "metadata": {},
   "outputs": [
    {
     "name": "stdout",
     "output_type": "stream",
     "text": [
      "{'compound': 0.743, 'neg': 0.0, 'pos': 0.677, 'neu': 0.323}\n"
     ]
    }
   ],
   "source": [
    "from vaderSentiment.vaderSentiment import SentimentIntensityAnalyzer\n",
    "\n",
    "analyzer = SentimentIntensityAnalyzer()\n",
    "\n",
    "print(analyzer.polarity_scores('Machine learning is fun :)'))"
   ]
  },
  {
   "cell_type": "code",
   "execution_count": null,
   "metadata": {
    "collapsed": true
   },
   "outputs": [],
   "source": []
  }
 ],
 "metadata": {
  "kernelspec": {
   "display_name": "Python 3",
   "language": "python",
   "name": "python3"
  },
  "language_info": {
   "codemirror_mode": {
    "name": "ipython",
    "version": 3
   },
   "file_extension": ".py",
   "mimetype": "text/x-python",
   "name": "python",
   "nbconvert_exporter": "python",
   "pygments_lexer": "ipython3",
   "version": "3.6.4"
  }
 },
 "nbformat": 4,
 "nbformat_minor": 2
}
