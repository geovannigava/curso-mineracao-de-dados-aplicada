{
 "cells": [
  {
   "cell_type": "markdown",
   "metadata": {},
   "source": [
    "## Instituto Federal do Sudeste de Minas Gerais, Campus Barbacena\n",
    "### Projeto Laboratório de Redes de Conhecimento"
   ]
  },
  {
   "cell_type": "markdown",
   "metadata": {},
   "source": [
    "## Curso de Mineração de Dados Aplicada\n",
    "\n",
    "Prof. Rafael José de Alencar Almeida\n",
    "<rafael.alencar@ifsudestemg.edu.br>\n",
    "\n",
    "### Aula 3:  Coleta de Dados\n",
    "\n",
    "Nesta aula iremos aprender como criar nosso próprio dataset, coletando dados de uma página web ou API."
   ]
  },
  {
   "cell_type": "markdown",
   "metadata": {},
   "source": [
    "### Biblioteca requests\n",
    "\n",
    "Biblioteca para requisições web (HTTP).\n",
    "\n",
    "<code>pip install requests</code>"
   ]
  },
  {
   "cell_type": "code",
   "execution_count": 1,
   "metadata": {},
   "outputs": [],
   "source": [
    "import requests\n",
    "\n",
    "# Realiza uma requisição HTTP GET\n",
    "req = requests.get('https://barbacenaonline.com.br/')"
   ]
  },
  {
   "cell_type": "code",
   "execution_count": 2,
   "metadata": {},
   "outputs": [
    {
     "data": {
      "text/plain": [
       "<Response [200]>"
      ]
     },
     "execution_count": 2,
     "metadata": {},
     "output_type": "execute_result"
    }
   ],
   "source": [
    "req"
   ]
  },
  {
   "cell_type": "code",
   "execution_count": 3,
   "metadata": {},
   "outputs": [
    {
     "data": {
      "text/plain": [
       "{'Date': 'Mon, 05 Nov 2018 23:39:29 GMT', 'Server': 'Apache', 'Vary': 'Accept-Encoding,User-Agent', 'Last-Modified': 'Mon, 05 Nov 2018 20:43:01 GMT', 'Accept-Ranges': 'bytes', 'Content-Length': '26639', 'Cache-Control': 'max-age=0', 'Expires': 'Mon, 05 Nov 2018 23:39:29 GMT', 'Keep-Alive': 'timeout=5, max=100', 'Connection': 'Keep-Alive', 'Content-Type': 'text/html; charset=UTF-8', 'Content-Encoding': 'gzip'}"
      ]
     },
     "execution_count": 3,
     "metadata": {},
     "output_type": "execute_result"
    }
   ],
   "source": [
    "req.headers"
   ]
  },
  {
   "cell_type": "code",
   "execution_count": 4,
   "metadata": {},
   "outputs": [
    {
     "data": {
      "text/plain": [
       "'Apache'"
      ]
     },
     "execution_count": 4,
     "metadata": {},
     "output_type": "execute_result"
    }
   ],
   "source": [
    "req.headers['Server']"
   ]
  },
  {
   "cell_type": "code",
   "execution_count": 5,
   "metadata": {},
   "outputs": [
    {
     "data": {
      "text/plain": [
       "200"
      ]
     },
     "execution_count": 5,
     "metadata": {},
     "output_type": "execute_result"
    }
   ],
   "source": [
    "req.status_code"
   ]
  },
  {
   "cell_type": "code",
   "execution_count": 6,
   "metadata": {},
   "outputs": [
    {
     "data": {
      "text/plain": [
       "'OK'"
      ]
     },
     "execution_count": 6,
     "metadata": {},
     "output_type": "execute_result"
    }
   ],
   "source": [
    "req.reason"
   ]
  },
  {
   "cell_type": "code",
   "execution_count": 7,
   "metadata": {},
   "outputs": [
    {
     "data": {
      "text/plain": [
       "'<!DOCTYPE html> <!--[if IE 8]><html class=\"ie ie8\" lang=\"pt-BR\"> <![endif]--> <!--[if IE 9]><html class=\"ie ie9\" lang=\"pt-BR\"> <![endif]--> <!--[if gt IE 9]><!--><html lang=\"pt-BR\"> <!--<![endif]--><head><link rel=\"stylesheet\" href=\"https://fonts.googleapis.com/css?family=Roboto:400,700,500,400italic%7CLato:400\" /><link rel=\"stylesheet\" href=\"https://barbacenaonline.com.br/application/cache/min/1/c8a53adb1bc3c8f215c452ae65c67051.css\" data-minify=\"1\" /><script type=\\'text/javascript\\' src=\\'https://barbacenaonline.com.br/application/cache/busting/1/wp-includes/js/jquery/jquery-1.12.4.js\\'></script><script async src=\"//pagead2.googlesyndication.com/pagead/js/adsbygoogle.js\"></script><script async src=\"//pagead2.googlesyndication.com/pagead/js/adsbygoogle.js\"></script><script async src=\"//pagead2.googlesyndication.com/pagead/js/adsbygoogle.js\"></script><script async src=\"//pagead2.googlesyndication.com/pagead/js/adsbygoogle.js\"></script><script async src=\"//pagead2.googlesyndication.com/pagea'"
      ]
     },
     "execution_count": 7,
     "metadata": {},
     "output_type": "execute_result"
    }
   ],
   "source": [
    "req.text[:1000]"
   ]
  },
  {
   "cell_type": "code",
   "execution_count": 8,
   "metadata": {},
   "outputs": [],
   "source": [
    "# Realiza uma requisição HTTP HEAD\n",
    "req = requests.head('https://barbacenaonline.com.br/')"
   ]
  },
  {
   "cell_type": "code",
   "execution_count": 9,
   "metadata": {},
   "outputs": [
    {
     "data": {
      "text/plain": [
       "{'Date': 'Mon, 05 Nov 2018 23:09:07 GMT', 'Server': 'Apache', 'Link': '<https://barbacenaonline.com.br/wp-json/>; rel=\"https://api.w.org/\", <https://barbacenaonline.com.br/>; rel=shortlink', 'Content-Encoding': 'gzip', 'Vary': 'Accept-Encoding,User-Agent', 'Cache-Control': 'max-age=0', 'Expires': 'Mon, 05 Nov 2018 23:09:07 GMT', 'Keep-Alive': 'timeout=5, max=100', 'Connection': 'Keep-Alive', 'Content-Type': 'text/html; charset=UTF-8'}"
      ]
     },
     "execution_count": 9,
     "metadata": {},
     "output_type": "execute_result"
    }
   ],
   "source": [
    "req.headers"
   ]
  },
  {
   "cell_type": "code",
   "execution_count": 10,
   "metadata": {},
   "outputs": [
    {
     "data": {
      "text/plain": [
       "''"
      ]
     },
     "execution_count": 10,
     "metadata": {},
     "output_type": "execute_result"
    }
   ],
   "source": [
    "req.text"
   ]
  },
  {
   "cell_type": "markdown",
   "metadata": {},
   "source": [
    "### Expressões regulares\n",
    "\n",
    "Uma expressão regular (er, re, regex, regexp) é uma notação definida em uma linguagem formal, concisa e flexível, para identificação de padrões de caracteres desejados.\n",
    "\n",
    "As expressões são contruídas na forma de uma string, combinando caracteres literais e caracteres especiais (curingas), chamados metacaracteres.\n",
    "\n",
    "Para evitar que o Python pre-processe caractes com \\, deve-se definir a string como raw (sem pre-processamento):\n",
    "\n",
    "<code>re1 = r'\\d+ '</code>"
   ]
  },
  {
   "cell_type": "code",
   "execution_count": 11,
   "metadata": {},
   "outputs": [],
   "source": [
    "import re"
   ]
  },
  {
   "cell_type": "markdown",
   "metadata": {},
   "source": [
    "Quando um texto equivale à expressão regular definida, dizemos que o mesmo \"casou\" com a expressão:"
   ]
  },
  {
   "cell_type": "code",
   "execution_count": 12,
   "metadata": {},
   "outputs": [
    {
     "name": "stdout",
     "output_type": "stream",
     "text": [
      "Casou\n"
     ]
    }
   ],
   "source": [
    "if re.match(r'[gr]ato', 'gato'):\n",
    "    print('Casou')"
   ]
  },
  {
   "cell_type": "code",
   "execution_count": 13,
   "metadata": {},
   "outputs": [
    {
     "name": "stdout",
     "output_type": "stream",
     "text": [
      "Casou\n"
     ]
    }
   ],
   "source": [
    "if re.match(r'[gr]ato', 'rato'):\n",
    "    print('Casou')"
   ]
  },
  {
   "cell_type": "code",
   "execution_count": 14,
   "metadata": {},
   "outputs": [],
   "source": [
    "if re.match(r'[gr]ato', 'pato'):\n",
    "    print('Casou')"
   ]
  },
  {
   "cell_type": "markdown",
   "metadata": {},
   "source": [
    "### Resumo"
   ]
  },
  {
   "cell_type": "markdown",
   "metadata": {},
   "source": [
    "<img src=\"./img/re.png\">"
   ]
  },
  {
   "cell_type": "markdown",
   "metadata": {},
   "source": [
    "<strong>Exemplo interativo:</strong> http://piazinho.com.br/ed5/exemplos.html"
   ]
  },
  {
   "cell_type": "markdown",
   "metadata": {},
   "source": [
    "### Exemplos práticos"
   ]
  },
  {
   "cell_type": "markdown",
   "metadata": {},
   "source": [
    "<code>re.match(padrao, string, flags=0)</code>\n",
    "\n",
    "Busca o padrão a partir do início da string.\n",
    "Retorna um objeto match caso encontre o padrão. Caso contrário, retorna None."
   ]
  },
  {
   "cell_type": "code",
   "execution_count": 15,
   "metadata": {},
   "outputs": [
    {
     "data": {
      "text/plain": [
       "<_sre.SRE_Match object; span=(0, 4), match='gato'>"
      ]
     },
     "execution_count": 15,
     "metadata": {},
     "output_type": "execute_result"
    }
   ],
   "source": [
    "re.match(r'[gr]ato', 'gato')"
   ]
  },
  {
   "cell_type": "code",
   "execution_count": 16,
   "metadata": {},
   "outputs": [],
   "source": [
    "re.match(r'[gr]ato', 'pato')"
   ]
  },
  {
   "cell_type": "code",
   "execution_count": 17,
   "metadata": {},
   "outputs": [
    {
     "data": {
      "text/plain": [
       "'gato'"
      ]
     },
     "execution_count": 17,
     "metadata": {},
     "output_type": "execute_result"
    }
   ],
   "source": [
    "re.match(r'[gr]ato', 'gato').group()"
   ]
  },
  {
   "cell_type": "code",
   "execution_count": 18,
   "metadata": {},
   "outputs": [
    {
     "data": {
      "text/plain": [
       "'gato'"
      ]
     },
     "execution_count": 18,
     "metadata": {},
     "output_type": "execute_result"
    }
   ],
   "source": [
    "re.match(r'([gr])(ato)', 'gato').group(0)"
   ]
  },
  {
   "cell_type": "code",
   "execution_count": 19,
   "metadata": {},
   "outputs": [
    {
     "data": {
      "text/plain": [
       "'g'"
      ]
     },
     "execution_count": 19,
     "metadata": {},
     "output_type": "execute_result"
    }
   ],
   "source": [
    "re.match(r'([gr])(ato)', 'gato').group(1)"
   ]
  },
  {
   "cell_type": "code",
   "execution_count": 20,
   "metadata": {},
   "outputs": [
    {
     "data": {
      "text/plain": [
       "'ato'"
      ]
     },
     "execution_count": 20,
     "metadata": {},
     "output_type": "execute_result"
    }
   ],
   "source": [
    "re.match(r'([gr])(ato)', 'gato').group(2)"
   ]
  },
  {
   "cell_type": "markdown",
   "metadata": {},
   "source": [
    "<code>re.findall(padrao, string, flags=0)</code>\n",
    "\n",
    "Retorna uma lista com todas as ocorrências não sobrepostas do padrão na string.\n",
    "\n",
    "<br>\n",
    "\n",
    "<strong>Obter o título das notícias do Barbacena Online (passo a passo):</strong>"
   ]
  },
  {
   "cell_type": "code",
   "execution_count": 21,
   "metadata": {},
   "outputs": [],
   "source": [
    "html = requests.get('https://barbacenaonline.com.br/').text"
   ]
  },
  {
   "cell_type": "code",
   "execution_count": 22,
   "metadata": {},
   "outputs": [
    {
     "data": {
      "text/plain": [
       "'\\n<div class=\"item-content\"> <a  title=\"Presídio de São João del-Rei ganha novas vagas\" data-src=\"https://barbacenaonline.com.br/application/themes/publisher/images/default-thumb/publisher-lg.png\"\\t\\t\\t\\tclass=\"img-cont\" href=\"https://barbacenaonline.com.br/presidio-de-sao-joao-del-rei-ganha-novas-vagas/\"></a>\\n'"
      ]
     },
     "execution_count": 22,
     "metadata": {},
     "output_type": "execute_result"
    }
   ],
   "source": [
    "'''\n",
    "<div class=\"item-content\"> <a  title=\"Presídio de São João del-Rei ganha novas vagas\" data-src=\"https://barbacenaonline.com.br/application/themes/publisher/images/default-thumb/publisher-lg.png\"\t\t\t\tclass=\"img-cont\" href=\"https://barbacenaonline.com.br/presidio-de-sao-joao-del-rei-ganha-novas-vagas/\"></a>\n",
    "'''"
   ]
  },
  {
   "cell_type": "code",
   "execution_count": 23,
   "metadata": {},
   "outputs": [
    {
     "data": {
      "text/plain": [
       "[]"
      ]
     },
     "execution_count": 23,
     "metadata": {},
     "output_type": "execute_result"
    }
   ],
   "source": [
    "re.findall(r'<a title=\".+\"', html)"
   ]
  },
  {
   "cell_type": "code",
   "execution_count": 24,
   "metadata": {},
   "outputs": [
    {
     "data": {
      "text/plain": [
       "['<a  title=\"Presídio de São João del-Rei ganha novas vagas\" data-src=\"https://barbacenaonline.com.br/application/themes/publisher/images/default-thumb/publisher-lg.png\"\\t\\t\\t\\tclass=\"img-cont\" href=\"https://barbacenaonline.com.br/presidio-de-sao-joao-del-rei-ganha-novas-vagas/\"></a><div class=\"term-badges floated\"><span class=\"term-badge term-23\"><a href=\"https://barbacenaonline.com.br/category/regiao/\">Região</a></span></div><div class=\"content-container\"><h2 class=\"title\"> <a href=\"https://barbacenaonline.com.br/presidio-de-sao-joao-del-rei-ganha-novas-vagas/\" class=\"post-url post-title\"> Presídio de São João del-Rei ganha novas vagas </a></h2><div class=\"post-meta\"><span class=\"time\"><time class=\"post-published updated\"',\n",
       " '<a  title=\"Homem atingido nas nádegas por disparo de arma de fogo\" data-src=\"https://barbacenaonline.com.br/application/uploads/2018/06/Arma-1306-e1528897950308-279x220.jpg\" data-bs-srcset=\"{&quot;baseurl&quot;:&quot;https:\\\\/\\\\/barbacenaonline.com.br\\\\/application\\\\/uploads\\\\/2018\\\\/06\\\\/&quot;,&quot;sizes&quot;:{&quot;210&quot;:&quot;Arma-1306-e1528897950308-210x136.jpg&quot;,&quot;279&quot;:&quot;Arma-1306-e1528897950308-279x220.jpg&quot;,&quot;357&quot;:&quot;Arma-1306-e1528897950308-357x210.jpg&quot;,&quot;612&quot;:&quot;Arma-1306-e1528897950308.jpg&quot;}}\"\\t\\t\\t\\tclass=\"img-cont\" href=\"https://barbacenaonline.com.br/homem-atingido-nas-nadegas-por-disparo-de-arma-de-fogo/\"></a><div class=\"term-badges floated\"><span class=\"term-badge term-22\"><a href=\"https://barbacenaonline.com.br/category/cidade/\">Cidade</a></span></div><div class=\"content-container\"><h2 class=\"title\"> <a href=\"https://barbacenaonline.com.br/homem-atingido-nas-nadegas-por-disparo-de-arma-de-fogo/\" class=\"post-url post-title\"> Homem atingido nas nádegas por disparo de arma de fogo </a></h2></div></div></article ></div><div class=\"item-3-cont\"><article class=\"post-6025 type-post format-standard has-post-thumbnail  listing-item-3 listing-item listing-mg-item listing-mg-2-item listing-mg-type-1 main-term-25\"><div class=\"item-content\"> <a  title=\"Sine divulga 17 vagas de emprego com salários de até R$3.816\" data-src=\"https://barbacenaonline.com.br/application/uploads/2018/04/RAIS-642x336-279x220.jpg\" data-bs-srcset=\"{&quot;baseurl&quot;:&quot;https:\\\\/\\\\/barbacenaonline.com.br\\\\/application\\\\/uploads\\\\/2018\\\\/04\\\\/&quot;,&quot;sizes&quot;:{&quot;210&quot;:&quot;RAIS-642x336-210x136.jpg&quot;,&quot;279&quot;:&quot;RAIS-642x336-279x220.jpg&quot;,&quot;357&quot;:&quot;RAIS-642x336-357x210.jpg&quot;,&quot;642&quot;:&quot;RAIS-642x336.jpg&quot;}}\"\\t\\t\\t\\tclass=\"img-cont\" href=\"https://barbacenaonline.com.br/sine-divulga-17-vagas-de-emprego-com-salarios-de-ate-r3-816/\"></a><div class=\"term-badges floated\"><span class=\"term-badge term-25\"><a href=\"https://barbacenaonline.com.br/category/articulistas/\">Articulistas</a></span></div><div class=\"content-container\"><h2 class=\"title\"> <a href=\"https://barbacenaonline.com.br/sine-divulga-17-vagas-de-emprego-com-salarios-de-ate-r3-816/\" class=\"post-url post-title\"> Sine divulga 17 vagas de emprego com salários de até R$3.816 </a></h2></div></div></article ></div></div><div class=\"mg-row mg-row-2 clearfix\"><div class=\"item-4-cont\"><article class=\"post-6017 type-post format-standard has-post-thumbnail  listing-item-4 listing-item listing-mg-item listing-mg-2-item listing-mg-type-1 main-term-22\"><div class=\"item-content\"> <a  title=\"Dupla presa em flagrante comprava drogas em SJDR e distribuía em Barbacena\" data-src=\"https://barbacenaonline.com.br/application/uploads/2018/06/Drogas-0406-e1528125906272.jpg\" data-bs-srcset=\"{&quot;baseurl&quot;:&quot;https:\\\\/\\\\/barbacenaonline.com.br\\\\/application\\\\/uploads\\\\/2018\\\\/06\\\\/&quot;,&quot;sizes&quot;:{&quot;162&quot;:&quot;Drogas-0406-e1528125906272.jpg&quot;,&quot;163&quot;:&quot;Drogas-0406-e1528125802573-163x136.jpg&quot;,&quot;168&quot;:&quot;Drogas-0406-168x210.jpg&quot;}}\"\\t\\t\\t\\tclass=\"img-cont\" href=\"https://barbacenaonline.com.br/dupla-presa-em-flagrante-comprava-drogas-em-sjdr-e-distribuia-em-barbacena/\"></a><div class=\"term-badges floated\"><span class=\"term-badge term-22\"><a href=\"https://barbacenaonline.com.br/category/cidade/\">Cidade</a></span></div><div class=\"content-container\"><h2 class=\"title\"> <a href=\"https://barbacenaonline.com.br/dupla-presa-em-flagrante-comprava-drogas-em-sjdr-e-distribuia-em-barbacena/\" class=\"post-url post-title\"> Dupla presa em flagrante comprava drogas em SJDR e distribuía em&hellip; </a></h2></div></div></article ></div><div class=\"item-5-cont\"><article class=\"post-6009 type-post format-standard has-post-thumbnail  listing-item-5 listing-item listing-mg-item listing-mg-2-item listing-mg-type-1 main-term-23\"><div class=\"item-content\"> <a  title=\"Congresso de Medicina Antroposófica põe em discussão as Práticas Integrativas\" data-src=\"https://barbacenaonline.com.br/application/uploads/2018/11/SJDR-279x211.jpg\" data-bs-srcset=\"{&quot;baseurl&quot;:&quot;https:\\\\/\\\\/barbacenaonline.com.br\\\\/application\\\\/uploads\\\\/2018\\\\/11\\\\/&quot;,&quot;sizes&quot;:{&quot;210&quot;:&quot;SJDR-210x136.jpg&quot;,&quot;279&quot;:&quot;SJDR-279x211.jpg&quot;,&quot;357&quot;:&quot;SJDR-357x210.jpg&quot;,&quot;415&quot;:&quot;SJDR.jpg&quot;}}\"\\t\\t\\t\\tclass=\"img-cont\" href=\"https://barbacenaonline.com.br/congresso-de-medicina-antroposofica-poe-em-discussao-as-praticas-integrativas/\"></a><div class=\"term-badges floated\"><span class=\"term-badge term-23\"><a href=\"https://barbacenaonline.com.br/category/regiao/\">Região</a></span></div><div class=\"content-container\"><h2 class=\"title\"> <a href=\"https://barbacenaonline.com.br/congresso-de-medicina-antroposofica-poe-em-discussao-as-praticas-integrativas/\" class=\"post-url post-title\"> Congresso de Medicina Antroposófica põe em discussão as Práticas&hellip; </a></h2></div></div></article ></div></div></div></div></div></div></div></div></div><div class=\"row vc_row wpb_row vc_row-fluid\"><div class=\"bs-vc-wrapper\"><div class=\"wpb_column bs-vc-column vc_column_container vc_col-sm-12\"><div class=\"bs-vc-wrapper wpb_wrapper\"><div class=\"bscb-50506 bsb-have-heading-color bs-listing bs-listing-listing-grid-1 bs-listing-single-tab\"><style>.bscb-50506 .section-heading.sh-t3 a.active,.bscb-50506.bscb-50506 .section-heading.sh-t3 .main-link:first-child:last-child .h-text,.bscb-50506 .section-heading.sh-t3>.h-text,.bscb-50506.bscb-50506 .section-heading.sh-t3.sh-s8>.h-text,.bscb-50506.bscb-50506 .section-heading.sh-t3.sh-s8>a.main-link>.h-text{color:#db0e21}.bscb-50506 .section-heading.sh-t3 a:hover .h-text,.bscb-50506 .section-heading.sh-t3 a.active .h-text{color:#db0e21!important}.bscb-50506.bscb-50506 .section-heading.sh-t3:after{background-color:#db0e21!important}.bscb-50506.bscb-50506 .section-heading.sh-t3.sh-s8>.main-link>.h-text,.bscb-50506.bscb-50506 .section-heading.sh-t3.sh-s8>a:last-child:first-child>.h-text,.bscb-50506.bscb-50506 .section-heading.sh-t3.sh-s8>a:last-child:first-child>.h-text,.bscb-50506.bscb-50506 .section-heading.sh-t3.sh-s8>.h-text:last-child:first-child{border-color:#db0e21}.bscb-50506.bscb-50506 .listing-item:hover .title a,.bscb-50506.bscb-50506 .listing-item-text-1 .post-meta a:hover,.bscb-50506.bscb-50506 .listing-item-grid .post-meta a:hover,.bscb-50506.bscb-50506 .listing-item .rating-stars span:before{color:#db0e21!important}.bscb-50506.bscb-50506 .listing-item .rating-bar span{background-color:#db0e21!important}.bscb-50506 .bs-pagination .btn-bs-pagination:hover,.bscb-50506 .btn-bs-pagination.bs-pagination-in-loading{background-color:#db0e21!important;border-color:#db0e21!important;color:#fff!important}.bscb-50506 .listing-item-text-2:hover .item-inner{border-color:#db0e21!important}.bscb-50506.bscb-50506.bscb-50506.bscb-50506 .term-badges.floated .term-badge a,.bscb-50506.bscb-50506 .bs-pagination-wrapper .bs-loading>div{background-color:#db0e21!important;color:#fff!important}</style><div class=\"listing listing-grid listing-grid-1 clearfix columns-4\"><article class=\"post-5944 type-post format-standard has-post-thumbnail   listing-item listing-item-grid listing-item-grid-1 main-term-22\"><div class=\"item-inner\"><div class=\"featured clearfix\"> <a  title=\"Testes no trânsito são prorrogados\" data-src=\"https://barbacenaonline.com.br/application/uploads/2018/10/MudançaTrânsitoIbiapaba-e1541122362505-271x210.jpg\" data-bs-srcset=\"{&quot;baseurl&quot;:&quot;https:\\\\/\\\\/barbacenaonline.com.br\\\\/application\\\\/uploads\\\\/2018\\\\/10\\\\/&quot;,&quot;sizes&quot;:{&quot;210&quot;:&quot;Mudan\\\\u00e7aTr\\\\u00e2nsitoIbiapaba-e1541122362505-210x136.jpg&quot;,&quot;271&quot;:&quot;Mudan\\\\u00e7aTr\\\\u00e2nsitoIbiapaba-e1541122362505.jpg&quot;,&quot;279&quot;:&quot;Mudan\\\\u00e7aTr\\\\u00e2nsitoIbiapaba-e1540952253807-279x220.jpg&quot;,&quot;750&quot;:&quot;Mudan\\\\u00e7aTr\\\\u00e2nsitoIbiapaba-750x430.jpg&quot;}}\"\\t\\t\\t\\t\\t\\tclass=\"img-holder\" href=\"https://barbacenaonline.com.br/testes-no-transito-sao-prorrogados/\"></a></div><h2 class=\"title\"> <a href=\"https://barbacenaonline.com.br/testes-no-transito-sao-prorrogados/\" class=\"post-title post-url\"> Testes no trânsito são prorrogados </a></h2></div></article ><article class=\"post-5927 type-post format-standard has-post-thumbnail   listing-item listing-item-grid listing-item-grid-1 main-term-22\"><div class=\"item-inner\"><div class=\"featured clearfix\"> <a  title=\"Guarda Civil Municipal participa de capacitação para atuar no trânsito\" data-src=\"https://barbacenaonline.com.br/application/uploads/2018/10/GCM-357x210.jpg\" data-bs-srcset=\"{&quot;baseurl&quot;:&quot;https:\\\\/\\\\/barbacenaonline.com.br\\\\/application\\\\/uploads\\\\/2018\\\\/10\\\\/&quot;,&quot;sizes&quot;:{&quot;210&quot;:&quot;GCM-210x136.jpg&quot;,&quot;279&quot;:&quot;GCM-279x220.jpg&quot;,&quot;357&quot;:&quot;GCM-357x210.jpg&quot;,&quot;750&quot;:&quot;GCM.jpg&quot;}}\"\\t\\t\\t\\t\\t\\tclass=\"img-holder\" href=\"https://barbacenaonline.com.br/guarda-civil-municipal-participa-de-capacitacao-para-atuar-no-transito/\"></a></div><h2 class=\"title\"> <a href=\"https://barbacenaonline.com.br/guarda-civil-municipal-participa-de-capacitacao-para-atuar-no-transito/\" class=\"post-title post-url\"> Guarda Civil Municipal participa de capacitação para atuar no trânsito </a></h2></div></article ><div class=\"listing-item listing-item-ad listing-item-grid listing-item-grid-1\"><div class=\"bsac bsac-clearfix location-block-ad bsac-align-center bsac-column-1\"><div id=\"bsac-15-176867040\" class=\"bsac-container bsac-type-custom_code \" itemscope=\"\" itemtype=\"https://schema.org/WPAdBlock\" data-adid=\"15\" data-type=\"custom_code\"><div id=\"rev_slider_1_1_wrapper\" class=\"rev_slider_wrapper fullwidthbanner-container\" data-source=\"gallery\" style=\"margin:0px auto;background:transparent;padding:0px;margin-top:0px;margin-bottom:0px;\"><div id=\"rev_slider_1_1\" class=\"rev_slider fullwidthabanner\" style=\"display:none;\" data-version=\"5.4.8\"><ul><li data-index=\"rs-22\" data-transition=\"fade\" data-slotamount=\"default\" data-hideafterloop=\"0\" data-hideslideonmobile=\"off\"  data-easein=\"default\" data-easeout=\"default\" data-masterspeed=\"300\"  data-link=\"http://www.saint-gobain.com.br/\"  data-target=\"_blank\"  data-thumb=\"https://barbacenaonline.com.br/application/uploads/2018/05/Saint-Gobain-300x225-1-100x50.jpg\"  data-rotate=\"0\"  data-saveperformance=\"off\"  data-title=\"Slide\" data-param1=\"\" data-param2=\"\" data-param3=\"\" data-param4=\"\" data-param5=\"\" data-param6=\"\" data-param7=\"\" data-param8=\"\" data-param9=\"\" data-param10=\"\" data-description=\"\"> <img src=\"https://barbacenaonline.com.br/application/plugins/revslider/admin/assets/images/dummy.png\"  alt=\"\" title=\"Saint Gobain 300&#215;225\"  width=\"300\" height=\"225\" data-lazyload=\"https://barbacenaonline.com.br/application/uploads/2018/05/Saint-Gobain-300x225-1.jpg\" data-bgposition=\"center center\" data-bgfit=\"cover\" data-bgrepeat=\"no-repeat\" class=\"rev-slidebg\" data-no-retina></li><li data-index=\"rs-23\" data-transition=\"fade\" data-slotamount=\"default\" data-hideafterloop=\"0\" data-hideslideonmobile=\"off\"  data-easein=\"default\" data-easeout=\"default\" data-masterspeed=\"300\"  data-link=\"http://www.rivelli.ind.br/\"  data-target=\"_blank\"  data-thumb=\"https://barbacenaonline.com.br/application/uploads/2018/05/Rivelli-300x225-100x50.jpg\"  data-rotate=\"0\"  data-saveperformance=\"off\"  data-title=\"Slide\" data-param1=\"\" data-param2=\"\" data-param3=\"\" data-param4=\"\" data-param5=\"\" data-param6=\"\" data-param7=\"\" data-param8=\"\" data-param9=\"\" data-param10=\"\" data-description=\"\"> <img src=\"https://barbacenaonline.com.br/application/plugins/revslider/admin/assets/images/dummy.png\"  alt=\"\" title=\"Rivelli 300&#215;225\"  width=\"300\" height=\"225\" data-lazyload=\"https://barbacenaonline.com.br/application/uploads/2018/05/Rivelli-300x225.jpg\" data-bgposition=\"center center\" data-bgfit=\"cover\" data-bgrepeat=\"no-repeat\" class=\"rev-slidebg\" data-no-retina></li><li data-index=\"rs-45\" data-transition=\"fade\" data-slotamount=\"default\" data-hideafterloop=\"0\" data-hideslideonmobile=\"off\"  data-easein=\"default\" data-easeout=\"default\" data-masterspeed=\"300\"  data-link=\"http://www3.net-rosas.com.br/\"  data-target=\"_blank\"  data-thumb=\"https://barbacenaonline.com.br/application/uploads/2018/07/Neet-rosas-300x253-100x50.jpg\"  data-rotate=\"0\"  data-saveperformance=\"off\"  data-title=\"Slide\" data-param1=\"\" data-param2=\"\" data-param3=\"\" data-param4=\"\" data-param5=\"\" data-param6=\"\" data-param7=\"\" data-param8=\"\" data-param9=\"\" data-param10=\"\" data-description=\"\"> <img src=\"https://barbacenaonline.com.br/application/plugins/revslider/admin/assets/images/dummy.png\"  alt=\"\" title=\"Neet-rosas 300&#215;253\"  width=\"300\" height=\"253\" data-lazyload=\"https://barbacenaonline.com.br/application/uploads/2018/07/Neet-rosas-300x253.jpg\" data-bgposition=\"center center\" data-bgfit=\"cover\" data-bgrepeat=\"no-repeat\" class=\"rev-slidebg\" data-no-retina></li><li data-index=\"rs-47\" data-transition=\"fade\" data-slotamount=\"default\" data-hideafterloop=\"0\" data-hideslideonmobile=\"off\"  data-easein=\"default\" data-easeout=\"default\" data-masterspeed=\"300\"  data-link=\"http://www.unipac.br\"  data-target=\"_blank\"  data-thumb=\"https://barbacenaonline.com.br/application/uploads/2018/05/Unipac-300x225-100x50.jpg\"  data-rotate=\"0\"  data-saveperformance=\"off\"  data-title=\"Slide\" data-param1=\"\" data-param2=\"\" data-param3=\"\" data-param4=\"\" data-param5=\"\" data-param6=\"\" data-param7=\"\" data-param8=\"\" data-param9=\"\" data-param10=\"\" data-description=\"\"> <img src=\"https://barbacenaonline.com.br/application/plugins/revslider/admin/assets/images/dummy.png\"  alt=\"\" title=\"Unipac 300&#215;225\"  width=\"300\" height=\"225\" data-lazyload=\"https://barbacenaonline.com.br/application/uploads/2018/05/Unipac-300x225.jpg\" data-bgposition=\"center center\" data-bgfit=\"cover\" data-bgrepeat=\"no-repeat\" class=\"rev-slidebg\" data-no-retina></li></ul> <script>var htmlDiv = document.getElementById(\"rs-plugin-settings-inline-css\"); var htmlDivCss=\"\"',\n",
       " '<a  title=\"Mais de sete mil pessoas farão o Enem em Barbacena\" data-src=\"https://barbacenaonline.com.br/application/uploads/2018/10/Senai-357x210.jpg\" data-bs-srcset=\"{&quot;baseurl&quot;:&quot;https:\\\\/\\\\/barbacenaonline.com.br\\\\/application\\\\/uploads\\\\/2018\\\\/10\\\\/&quot;,&quot;sizes&quot;:{&quot;210&quot;:&quot;Senai-210x136.jpg&quot;,&quot;279&quot;:&quot;Senai-279x220.jpg&quot;,&quot;357&quot;:&quot;Senai-357x210.jpg&quot;,&quot;640&quot;:&quot;Senai-e1540864547420.jpg&quot;,&quot;750&quot;:&quot;Senai-750x430.jpg&quot;}}\"\\t\\t\\t\\t\\t\\tclass=\"img-holder\" href=\"https://barbacenaonline.com.br/mais-de-sete-mil-pessoas-farao-o-enem-em-barbacena/\"></a></div><h2 class=\"title\"> <a href=\"https://barbacenaonline.com.br/mais-de-sete-mil-pessoas-farao-o-enem-em-barbacena/\" class=\"post-title post-url\"> Mais de sete mil pessoas farão o Enem em Barbacena </a></h2></div></article ></div></div></div></div></div></div><div class=\"row vc_row wpb_row vc_row-fluid\"><div class=\"bs-vc-wrapper\"><div class=\"wpb_column bs-vc-column vc_column_container vc_col-sm-8\"><div class=\"bs-vc-wrapper wpb_wrapper\"><div class=\"bsac bsac-clearfix  bsac-align-left bsac-column-1 bsac-float-left\"><div id=\"bsac-1749-704333005\" class=\"bsac-container bsac-type-code \" itemscope=\"\" itemtype=\"https://schema.org/WPAdBlock\" data-adid=\"1749\" data-type=\"code\"><span id=\"bsac-1749-704333005-place\"></span><script type=\"text/javascript\">var betterads_screen_width = document.body.clientWidth;betterads_el = document.getElementById(\\'bsac-1749-704333005\\');             if (betterads_el.getBoundingClientRect().width) {     betterads_el_width_raw = betterads_el_width = betterads_el.getBoundingClientRect().width;    } else {     betterads_el_width_raw = betterads_el_width = betterads_el.offsetWidth;    }        var size = [\"125\", \"125\"];    if ( betterads_el_width >= 728 )      betterads_el_width = [\"728\", \"90\"];    else if ( betterads_el_width >= 468 )     betterads_el_width = [\"468\", \"60\"];    else if ( betterads_el_width >= 336 )     betterads_el_width = [\"336\", \"280\"];    else if ( betterads_el_width >= 300 )     betterads_el_width = [\"300\", \"250\"];    else if ( betterads_el_width >= 250 )     betterads_el_width = [\"250\", \"250\"];    else if ( betterads_el_width >= 200 )     betterads_el_width = [\"200\", \"200\"];    else if ( betterads_el_width >= 180 )     betterads_el_width = [\"180\", \"150\"]; if ( betterads_screen_width >= 1140 ) {          document.getElementById(\\'bsac-1749-704333005-place\\').innerHTML = \\'<ins class=\"adsbygoogle\" style=\"display:inline-block;width:728px;height:90px\"  data-ad-client=\"ca-pub-6484653955591833\"  data-ad-slot=\"9875388233\" ></ins>\\';          (adsbygoogle = window.adsbygoogle || []).push({});         }else if ( betterads_screen_width >= 1019  && betterads_screen_width < 1140 ) { document.getElementById(\\'bsac-1749-704333005-place\\').innerHTML = \\'<ins class=\"adsbygoogle\" style=\"display:inline-block;width:\\' + betterads_el_width[0] + \\'px;height:\\' + betterads_el_width[1] + \\'px\"  data-ad-client=\"ca-pub-6484653955591833\"  data-ad-slot=\"9875388233\" ></ins>\\';         (adsbygoogle = window.adsbygoogle || []).push({});}else if ( betterads_screen_width >= 768  && betterads_screen_width < 1019 ) { document.getElementById(\\'bsac-1749-704333005-place\\').innerHTML = \\'<ins class=\"adsbygoogle\" style=\"display:inline-block;width:\\' + betterads_el_width[0] + \\'px;height:\\' + betterads_el_width[1] + \\'px\"  data-ad-client=\"ca-pub-6484653955591833\"  data-ad-slot=\"9875388233\" ></ins>\\';         (adsbygoogle = window.adsbygoogle || []).push({});}else if ( betterads_screen_width < 768 ) { document.getElementById(\\'bsac-1749-704333005-place\\').innerHTML = \\'<ins class=\"adsbygoogle\" style=\"display:inline-block;width:\\' + betterads_el_width[0] + \\'px;height:\\' + betterads_el_width[1] + \\'px\"  data-ad-client=\"ca-pub-6484653955591833\"  data-ad-slot=\"9875388233\" ></ins>\\';         (adsbygoogle = window.adsbygoogle || []).push({});}</script></div></div></div></div><div class=\"wpb_column bs-vc-column vc_column_container vc_col-sm-4\" id=\"Adsense 2\"><div class=\"bs-vc-wrapper wpb_wrapper\"><div class=\"bsac bsac-clearfix  bsac-align-right bsac-column-1 bsac-float-right\"><div id=\"bsac-1750-833961144\" class=\"bsac-container bsac-type-code \" itemscope=\"\" itemtype=\"https://schema.org/WPAdBlock\" data-adid=\"1750\" data-type=\"code\"><span id=\"bsac-1750-833961144-place\"></span><script type=\"text/javascript\">var betterads_screen_width = document.body.clientWidth;betterads_el = document.getElementById(\\'bsac-1750-833961144\\');             if (betterads_el.getBoundingClientRect().width) {     betterads_el_width_raw = betterads_el_width = betterads_el.getBoundingClientRect().width;    } else {     betterads_el_width_raw = betterads_el_width = betterads_el.offsetWidth;    }        var size = [\"125\", \"125\"];    if ( betterads_el_width >= 728 )      betterads_el_width = [\"728\", \"90\"];    else if ( betterads_el_width >= 468 )     betterads_el_width = [\"468\", \"60\"];    else if ( betterads_el_width >= 336 )     betterads_el_width = [\"336\", \"280\"];    else if ( betterads_el_width >= 300 )     betterads_el_width = [\"300\", \"250\"];    else if ( betterads_el_width >= 250 )     betterads_el_width = [\"250\", \"250\"];    else if ( betterads_el_width >= 200 )     betterads_el_width = [\"200\", \"200\"];    else if ( betterads_el_width >= 180 )     betterads_el_width = [\"180\", \"150\"]; if ( betterads_screen_width >= 1140 ) {          document.getElementById(\\'bsac-1750-833961144-place\\').innerHTML = \\'<ins class=\"adsbygoogle\" style=\"display:inline-block;width:320px;height:100px\"  data-ad-client=\"ca-pub-6484653955591833\"  data-ad-slot=\"6662191097\" ></ins>\\';          (adsbygoogle = window.adsbygoogle || []).push({});         }else if ( betterads_screen_width >= 1019  && betterads_screen_width < 1140 ) { document.getElementById(\\'bsac-1750-833961144-place\\').innerHTML = \\'<ins class=\"adsbygoogle\" style=\"display:inline-block;width:\\' + betterads_el_width[0] + \\'px;height:\\' + betterads_el_width[1] + \\'px\"  data-ad-client=\"ca-pub-6484653955591833\"  data-ad-slot=\"6662191097\" ></ins>\\';         (adsbygoogle = window.adsbygoogle || []).push({});}else if ( betterads_screen_width >= 768  && betterads_screen_width < 1019 ) { document.getElementById(\\'bsac-1750-833961144-place\\').innerHTML = \\'<ins class=\"adsbygoogle\" style=\"display:inline-block;width:\\' + betterads_el_width[0] + \\'px;height:\\' + betterads_el_width[1] + \\'px\"  data-ad-client=\"ca-pub-6484653955591833\"  data-ad-slot=\"6662191097\" ></ins>\\';         (adsbygoogle = window.adsbygoogle || []).push({});}else if ( betterads_screen_width < 768 ) { document.getElementById(\\'bsac-1750-833961144-place\\').innerHTML = \\'<ins class=\"adsbygoogle\" style=\"display:inline-block;width:\\' + betterads_el_width[0] + \\'px;height:\\' + betterads_el_width[1] + \\'px\"  data-ad-client=\"ca-pub-6484653955591833\"  data-ad-slot=\"6662191097\" ></ins>\\';         (adsbygoogle = window.adsbygoogle || []).push({});}</script></div></div></div></div></div></div><div id=\"cotidiano\" class=\"row vc_row wpb_row vc_row-fluid hide-last1\"><div class=\"bs-vc-wrapper\"><div class=\"wpb_column bs-vc-column vc_column_container vc_col-sm-12\"><div class=\"bs-vc-wrapper wpb_wrapper\"><div class=\"bscb-21884 bsb-have-heading-color bs-listing bs-listing-listing-grid-1 bs-listing-single-tab hide-last\"><h3 class=\"section-heading sh-t3 sh-s8 main-term-34\"> <a href=\"https://barbacenaonline.com.br/category/cotidiano/\" class=\"main-link\"> <span class=\"h-text main-term-34\"> <i class=\"bf-icon  fa fa-newspaper-o\"></i> Cotidiano </span> </a></h3><style>.bscb-21884 .section-heading.sh-t3 a.active,.bscb-21884.bscb-21884 .section-heading.sh-t3 .main-link:first-child:last-child .h-text,.bscb-21884 .section-heading.sh-t3>.h-text,.bscb-21884.bscb-21884 .section-heading.sh-t3.sh-s8>.h-text,.bscb-21884.bscb-21884 .section-heading.sh-t3.sh-s8>a.main-link>.h-text{color:#4c97f4}.bscb-21884 .section-heading.sh-t3 a:hover .h-text,.bscb-21884 .section-heading.sh-t3 a.active .h-text{color:#4c97f4!important}.bscb-21884.bscb-21884 .section-heading.sh-t3:after{background-color:#4c97f4!important}.bscb-21884.bscb-21884 .section-heading.sh-t3.sh-s8>.main-link>.h-text,.bscb-21884.bscb-21884 .section-heading.sh-t3.sh-s8>a:last-child:first-child>.h-text,.bscb-21884.bscb-21884 .section-heading.sh-t3.sh-s8>a:last-child:first-child>.h-text,.bscb-21884.bscb-21884 .section-heading.sh-t3.sh-s8>.h-text:last-child:first-child{border-color:#4c97f4}.bscb-21884.bscb-21884 .listing-item:hover .title a,.bscb-21884.bscb-21884 .listing-item-text-1 .post-meta a:hover,.bscb-21884.bscb-21884 .listing-item-grid .post-meta a:hover,.bscb-21884.bscb-21884 .listing-item .rating-stars span:before{color:#4c97f4!important}.bscb-21884.bscb-21884 .listing-item .rating-bar span{background-color:#4c97f4!important}.bscb-21884 .bs-pagination .btn-bs-pagination:hover,.bscb-21884 .btn-bs-pagination.bs-pagination-in-loading{background-color:#4c97f4!important;border-color:#4c97f4!important;color:#fff!important}.bscb-21884 .listing-item-text-2:hover .item-inner{border-color:#4c97f4!important}.bscb-21884.bscb-21884.bscb-21884.bscb-21884 .term-badges.floated .term-badge a,.bscb-21884.bscb-21884 .bs-pagination-wrapper .bs-loading>div{background-color:#4c97f4!important;color:#fff!important}</style><div class=\"listing listing-grid listing-grid-1 clearfix columns-4\"><article class=\"post-6017 type-post format-standard has-post-thumbnail   listing-item listing-item-grid listing-item-grid-1 main-term-22\"><div class=\"item-inner\"><div class=\"featured clearfix\"><div class=\"term-badges floated\"><span class=\"term-badge term-22\"><a href=\"https://barbacenaonline.com.br/category/cidade/\">Cidade</a></span></div> <a  title=\"Dupla presa em flagrante comprava drogas em SJDR e distribuía em Barbacena\" data-src=\"https://barbacenaonline.com.br/application/uploads/2018/06/Drogas-0406-168x210.jpg\" data-bs-srcset=\"{&quot;baseurl&quot;:&quot;https:\\\\/\\\\/barbacenaonline.com.br\\\\/application\\\\/uploads\\\\/2018\\\\/06\\\\/&quot;,&quot;sizes&quot;:{&quot;162&quot;:&quot;Drogas-0406-e1528125906272.jpg&quot;,&quot;163&quot;:&quot;Drogas-0406-e1528125802573-163x136.jpg&quot;,&quot;168&quot;:&quot;Drogas-0406-168x210.jpg&quot;}}\"\\t\\t\\t\\t\\t\\tclass=\"img-holder\" href=\"https://barbacenaonline.com.br/dupla-presa-em-flagrante-comprava-drogas-em-sjdr-e-distribuia-em-barbacena/\"></a></div><h2 class=\"title\"> <a href=\"https://barbacenaonline.com.br/dupla-presa-em-flagrante-comprava-drogas-em-sjdr-e-distribuia-em-barbacena/\" class=\"post-title post-url\"> Dupla presa em flagrante comprava drogas em SJDR e distribuía em Barbacena </a></h2><div class=\"post-meta\"><span class=\"time\"><time class=\"post-published updated\"',\n",
       " '<a  title=\"Corsa capota no Santa Efigênia\" data-src=\"https://barbacenaonline.com.br/application/uploads/2018/11/Acidente-Santa-Efigênia-0211-357x210.jpg\" data-bs-srcset=\"{&quot;baseurl&quot;:&quot;https:\\\\/\\\\/barbacenaonline.com.br\\\\/application\\\\/uploads\\\\/2018\\\\/11\\\\/&quot;,&quot;sizes&quot;:{&quot;210&quot;:&quot;Acidente-Santa-Efig\\\\u00eania-0211-210x136.jpg&quot;,&quot;279&quot;:&quot;Acidente-Santa-Efig\\\\u00eania-0211-279x220.jpg&quot;,&quot;357&quot;:&quot;Acidente-Santa-Efig\\\\u00eania-0211-357x210.jpg&quot;,&quot;640&quot;:&quot;Acidente-Santa-Efig\\\\u00eania-0211-e1541250736220.jpg&quot;,&quot;750&quot;:&quot;Acidente-Santa-Efig\\\\u00eania-0211-750x430.jpg&quot;}}\"\\t\\t\\t\\t\\t\\tclass=\"img-holder\" href=\"https://barbacenaonline.com.br/corsa-capota-no-santa-efigenia/\"></a></div><h2 class=\"title\"> <a href=\"https://barbacenaonline.com.br/corsa-capota-no-santa-efigenia/\" class=\"post-title post-url\"> Corsa capota no Santa Efigênia </a></h2><div class=\"post-meta\"><span class=\"time\"><time class=\"post-published updated\"',\n",
       " '<a  title=\"Motociclista atropela pedestre na Praça da Boa Morte\" data-src=\"https://barbacenaonline.com.br/application/themes/publisher/images/default-thumb/publisher-md.png\"\\t\\t\\t\\t\\t\\tclass=\"img-holder\" href=\"https://barbacenaonline.com.br/motociclista-atropela-pedestre-na-praca-da-boa-morte/\"></a></div><h2 class=\"title\"> <a href=\"https://barbacenaonline.com.br/motociclista-atropela-pedestre-na-praca-da-boa-morte/\" class=\"post-title post-url\"> Motociclista atropela pedestre na Praça da Boa Morte </a></h2><div class=\"post-meta\"><span class=\"time\"><time class=\"post-published updated\"',\n",
       " '<a  title=\"Homem preso no São Pedro por armazenar pornografia infantil\" data-src=\"https://barbacenaonline.com.br/application/uploads/2018/10/índice-357x210.jpg\" data-bs-srcset=\"{&quot;baseurl&quot;:&quot;https:\\\\/\\\\/barbacenaonline.com.br\\\\/application\\\\/uploads\\\\/2018\\\\/10\\\\/&quot;,&quot;sizes&quot;:{&quot;210&quot;:&quot;\\\\u00edndice-210x136.jpg&quot;,&quot;279&quot;:&quot;\\\\u00edndice-279x220.jpg&quot;,&quot;357&quot;:&quot;\\\\u00edndice-357x210.jpg&quot;,&quot;640&quot;:&quot;\\\\u00edndice-e1540995523787.jpg&quot;,&quot;750&quot;:&quot;\\\\u00edndice-750x430.jpg&quot;}}\"\\t\\t\\t\\t\\t\\tclass=\"img-holder\" href=\"https://barbacenaonline.com.br/homem-preso-no-sao-pedro-por-armazenar-pornografia-infantil/\"></a></div><h2 class=\"title\"> <a href=\"https://barbacenaonline.com.br/homem-preso-no-sao-pedro-por-armazenar-pornografia-infantil/\" class=\"post-title post-url\"> Homem preso no São Pedro por armazenar pornografia infantil </a></h2><div class=\"post-meta\"><span class=\"time\"><time class=\"post-published updated\"',\n",
       " '<a  title=\"Incêndio em residência resulta em prejuízos materiais\" data-src=\"https://barbacenaonline.com.br/application/uploads/2018/11/Incêndio-Lafaiete-0211-357x210.jpg\" data-bs-srcset=\"{&quot;baseurl&quot;:&quot;https:\\\\/\\\\/barbacenaonline.com.br\\\\/application\\\\/uploads\\\\/2018\\\\/11\\\\/&quot;,&quot;sizes&quot;:{&quot;210&quot;:&quot;Inc\\\\u00eandio-Lafaiete-0211-210x136.jpg&quot;,&quot;279&quot;:&quot;Inc\\\\u00eandio-Lafaiete-0211-279x220.jpg&quot;,&quot;357&quot;:&quot;Inc\\\\u00eandio-Lafaiete-0211-357x210.jpg&quot;,&quot;640&quot;:&quot;Inc\\\\u00eandio-Lafaiete-0211-e1541251653307.jpg&quot;,&quot;750&quot;:&quot;Inc\\\\u00eandio-Lafaiete-0211-750x430.jpg&quot;}}\"\\t\\t\\t\\t\\t\\tclass=\"img-holder\" href=\"https://barbacenaonline.com.br/incendio-em-residencia-resulta-em-prejuizos-materiais/\"></a></div><h2 class=\"title\"> <a href=\"https://barbacenaonline.com.br/incendio-em-residencia-resulta-em-prejuizos-materiais/\" class=\"post-title post-url\"> Incêndio em residência resulta em prejuízos materiais </a></h2><div class=\"post-meta\"><span class=\"time\"><time class=\"post-published updated\"',\n",
       " '<a  title=\"Saída de pista entre Pinheiro Grosso e Senhora das Dores\" data-src=\"https://barbacenaonline.com.br/application/themes/publisher/images/default-thumb/publisher-md.png\"\\t\\t\\t\\t\\t\\tclass=\"img-holder\" href=\"https://barbacenaonline.com.br/saida-de-pista-entre-pinheiro-grosso-e-senhora-das-dores/\"></a></div><h2 class=\"title\"> <a href=\"https://barbacenaonline.com.br/saida-de-pista-entre-pinheiro-grosso-e-senhora-das-dores/\" class=\"post-title post-url\"> Saída de pista entre Pinheiro Grosso e Senhora das Dores </a></h2><div class=\"post-meta\"><span class=\"time\"><time class=\"post-published updated\"',\n",
       " '<a  title=\"Carreta pega fogo e chamas atingem vegetação\" data-src=\"https://barbacenaonline.com.br/application/uploads/2018/11/Incêndio-Carreta-040-357x210.jpg\" data-bs-srcset=\"{&quot;baseurl&quot;:&quot;https:\\\\/\\\\/barbacenaonline.com.br\\\\/application\\\\/uploads\\\\/2018\\\\/11\\\\/&quot;,&quot;sizes&quot;:{&quot;210&quot;:&quot;Inc\\\\u00eandio-Carreta-040-210x136.jpg&quot;,&quot;279&quot;:&quot;Inc\\\\u00eandio-Carreta-040-279x220.jpg&quot;,&quot;357&quot;:&quot;Inc\\\\u00eandio-Carreta-040-357x210.jpg&quot;,&quot;640&quot;:&quot;Inc\\\\u00eandio-Carreta-040-e1541070652869.jpg&quot;,&quot;750&quot;:&quot;Inc\\\\u00eandio-Carreta-040-750x430.jpg&quot;}}\"\\t\\t\\t\\t\\t\\tclass=\"img-holder\" href=\"https://barbacenaonline.com.br/carreta-pega-fogo-e-chamas-atingem-vegetacao/\"></a></div><h2 class=\"title\"> <a href=\"https://barbacenaonline.com.br/carreta-pega-fogo-e-chamas-atingem-vegetacao/\" class=\"post-title post-url\"> Carreta pega fogo e chamas atingem vegetação </a></h2><div class=\"post-meta\"><span class=\"time\"><time class=\"post-published updated\"',\n",
       " '<a  title=\"Pitbull ataca outro cão no Santa Efigênia\" data-src=\"https://barbacenaonline.com.br/application/uploads/2018/10/Pitbull-e1540984474321-357x210.jpg\" data-bs-srcset=\"{&quot;baseurl&quot;:&quot;https:\\\\/\\\\/barbacenaonline.com.br\\\\/application\\\\/uploads\\\\/2018\\\\/10\\\\/&quot;,&quot;sizes&quot;:{&quot;210&quot;:&quot;Pitbull-e1540984474321-210x136.jpg&quot;,&quot;279&quot;:&quot;Pitbull-e1540984474321-279x220.jpg&quot;,&quot;357&quot;:&quot;Pitbull-e1540984474321-357x210.jpg&quot;,&quot;640&quot;:&quot;Pitbull-e1540984484645.jpg&quot;,&quot;720&quot;:&quot;Pitbull-e1540984474321-720x430.jpg&quot;}}\"\\t\\t\\t\\t\\t\\tclass=\"img-holder\" href=\"https://barbacenaonline.com.br/pitbull-ataca-outro-cao-no-santa-efigenia/\"></a></div><h2 class=\"title\"> <a href=\"https://barbacenaonline.com.br/pitbull-ataca-outro-cao-no-santa-efigenia/\" class=\"post-title post-url\"> Pitbull ataca outro cão no Santa Efigênia </a></h2><div class=\"post-meta\"><span class=\"time\"><time class=\"post-published updated\"',\n",
       " '<a  title=\"SJDR: Jovem fratura a perna em acidente\" data-src=\"https://barbacenaonline.com.br/application/themes/publisher/images/default-thumb/publisher-md.png\"\\t\\t\\t\\t\\t\\tclass=\"img-holder\" href=\"https://barbacenaonline.com.br/sjdr-jovem-fratura-a-perna-em-acidente/\"></a></div><h2 class=\"title\"> <a href=\"https://barbacenaonline.com.br/sjdr-jovem-fratura-a-perna-em-acidente/\" class=\"post-title post-url\"> SJDR: Jovem fratura a perna em acidente </a></h2><div class=\"post-meta\"><span class=\"time\"><time class=\"post-published updated\"',\n",
       " '<a  title=\"Veículo atropela homem na 040\" data-src=\"https://barbacenaonline.com.br/application/uploads/2018/11/Acidente040-0211-357x210.jpg\" data-bs-srcset=\"{&quot;baseurl&quot;:&quot;https:\\\\/\\\\/barbacenaonline.com.br\\\\/application\\\\/uploads\\\\/2018\\\\/11\\\\/&quot;,&quot;sizes&quot;:{&quot;210&quot;:&quot;Acidente040-0211-210x136.jpg&quot;,&quot;279&quot;:&quot;Acidente040-0211-279x220.jpg&quot;,&quot;357&quot;:&quot;Acidente040-0211-357x210.jpg&quot;,&quot;480&quot;:&quot;Acidente040-0211-e1541198297205.jpg&quot;}}\"\\t\\t\\t\\t\\t\\tclass=\"img-holder\" href=\"https://barbacenaonline.com.br/5960-2/\"></a></div><h2 class=\"title\"> <a href=\"https://barbacenaonline.com.br/5960-2/\" class=\"post-title post-url\"> Veículo atropela homem na 040 </a></h2><div class=\"post-meta\"><span class=\"time\"><time class=\"post-published updated\"',\n",
       " '<a  title=\"Localizado corpo no Ribeirão Bananeiras\" data-src=\"https://barbacenaonline.com.br/application/themes/publisher/images/default-thumb/publisher-md.png\"\\t\\t\\t\\t\\t\\tclass=\"img-holder\" href=\"https://barbacenaonline.com.br/localizado-corpo-no-ribeirao-bananeiras/\"></a></div><h2 class=\"title\"> <a href=\"https://barbacenaonline.com.br/localizado-corpo-no-ribeirao-bananeiras/\" class=\"post-title post-url\"> Localizado corpo no Ribeirão Bananeiras </a></h2><div class=\"post-meta\"><span class=\"time\"><time class=\"post-published updated\"',\n",
       " '<a  title=\"Sine divulga 17 vagas de emprego com salários de até R$3.816\" data-src=\"https://barbacenaonline.com.br/application/uploads/2018/04/RAIS-642x336.jpg\" data-bs-srcset=\"{&quot;baseurl&quot;:&quot;https:\\\\/\\\\/barbacenaonline.com.br\\\\/application\\\\/uploads\\\\/2018\\\\/04\\\\/&quot;,&quot;sizes&quot;:{&quot;210&quot;:&quot;RAIS-642x336-210x136.jpg&quot;,&quot;279&quot;:&quot;RAIS-642x336-279x220.jpg&quot;,&quot;357&quot;:&quot;RAIS-642x336-357x210.jpg&quot;,&quot;642&quot;:&quot;RAIS-642x336.jpg&quot;}}\"\\t\\t\\t\\tclass=\"img-cont\" href=\"https://barbacenaonline.com.br/sine-divulga-17-vagas-de-emprego-com-salarios-de-ate-r3-816/\"></a><div class=\"term-badges floated\"><span class=\"term-badge term-25\"><a href=\"https://barbacenaonline.com.br/category/articulistas/\">Articulistas</a></span></div><div class=\"content-container\"><h2 class=\"title\"> <a href=\"https://barbacenaonline.com.br/sine-divulga-17-vagas-de-emprego-com-salarios-de-ate-r3-816/\" class=\"post-url post-title\"> Sine divulga 17 vagas de emprego com salários de até R$3.816 </a></h2><div class=\"post-meta\"><span class=\"time\"><time class=\"post-published updated\"',\n",
       " '<a  title=\"Mais de 3.000 planetas já foram encontrados fora do Sistema Solar. O que isso quer dizer?\" data-src=\"https://barbacenaonline.com.br/application/uploads/2018/11/20172407503018-t1200x480-279x220.jpg\" data-bs-srcset=\"{&quot;baseurl&quot;:&quot;https:\\\\/\\\\/barbacenaonline.com.br\\\\/application\\\\/uploads\\\\/2018\\\\/11\\\\/&quot;,&quot;sizes&quot;:{&quot;210&quot;:&quot;20172407503018-t1200x480-210x136.jpg&quot;,&quot;279&quot;:&quot;20172407503018-t1200x480-279x220.jpg&quot;,&quot;357&quot;:&quot;20172407503018-t1200x480-357x210.jpg&quot;,&quot;640&quot;:&quot;20172407503018-t1200x480-e1541359343755.jpg&quot;,&quot;750&quot;:&quot;20172407503018-t1200x480-750x430.jpg&quot;}}\"\\t\\t\\t\\tclass=\"img-cont\" href=\"https://barbacenaonline.com.br/mais-de-3-000-planetas-ja-foram-encontrados-fora-do-sistema-solar-o-que-isso-quer-dizer/\"></a><div class=\"term-badges floated\"><span class=\"term-badge term-25\"><a href=\"https://barbacenaonline.com.br/category/articulistas/\">Articulistas</a></span></div><div class=\"content-container\"><h2 class=\"title\"> <a href=\"https://barbacenaonline.com.br/mais-de-3-000-planetas-ja-foram-encontrados-fora-do-sistema-solar-o-que-isso-quer-dizer/\" class=\"post-url post-title\"> Mais de 3.000 planetas já foram encontrados fora do Sistema Solar. O&hellip; </a></h2></div></div></article ></div><div class=\"item-3-cont\"><article class=\"post-5978 type-post format-standard has-post-thumbnail  listing-item-3 listing-item listing-mg-item listing-mg-2-item listing-mg-type-1 main-term-25\"><div class=\"item-content\"> <a  title=\"#flashBOL: Medalha Santos Dumont é entregue a personalidades e entidades\" data-src=\"https://barbacenaonline.com.br/application/uploads/2018/11/MedalhaSD-2018-4-279x220.jpg\" data-bs-srcset=\"{&quot;baseurl&quot;:&quot;https:\\\\/\\\\/barbacenaonline.com.br\\\\/application\\\\/uploads\\\\/2018\\\\/11\\\\/&quot;,&quot;sizes&quot;:{&quot;210&quot;:&quot;MedalhaSD-2018-4-210x136.jpg&quot;,&quot;279&quot;:&quot;MedalhaSD-2018-4-279x220.jpg&quot;,&quot;357&quot;:&quot;MedalhaSD-2018-4-357x210.jpg&quot;,&quot;640&quot;:&quot;MedalhaSD-2018-4-e1541331685360.jpg&quot;,&quot;750&quot;:&quot;MedalhaSD-2018-4-750x430.jpg&quot;}}\"\\t\\t\\t\\tclass=\"img-cont\" href=\"https://barbacenaonline.com.br/flashbol-medalha-santos-dumont-e-entregue-a-personalidades-e-entidades/\"></a><div class=\"term-badges floated\"><span class=\"term-badge term-25\"><a href=\"https://barbacenaonline.com.br/category/articulistas/\">Articulistas</a></span></div><div class=\"content-container\"><h2 class=\"title\"> <a href=\"https://barbacenaonline.com.br/flashbol-medalha-santos-dumont-e-entregue-a-personalidades-e-entidades/\" class=\"post-url post-title\"> #flashBOL: Medalha Santos Dumont é entregue a personalidades e&hellip; </a></h2></div></div></article ></div></div><div class=\"mg-row mg-row-2 clearfix\"><div class=\"item-4-cont\"><article class=\"post-5975 type-post format-standard has-post-thumbnail  listing-item-4 listing-item listing-mg-item listing-mg-2-item listing-mg-type-1 main-term-25\"><div class=\"item-content\"> <a  title=\"A importância da família no desenvolvimento da criança\" data-src=\"https://barbacenaonline.com.br/application/uploads/2018/11/familia-279x220.jpg\" data-bs-srcset=\"{&quot;baseurl&quot;:&quot;https:\\\\/\\\\/barbacenaonline.com.br\\\\/application\\\\/uploads\\\\/2018\\\\/11\\\\/&quot;,&quot;sizes&quot;:{&quot;210&quot;:&quot;familia-210x136.jpg&quot;,&quot;279&quot;:&quot;familia-279x220.jpg&quot;,&quot;357&quot;:&quot;familia-357x210.jpg&quot;,&quot;626&quot;:&quot;familia.jpg&quot;}}\"\\t\\t\\t\\tclass=\"img-cont\" href=\"https://barbacenaonline.com.br/a-importancia-da-familia-no-desenvolvimento-da-crianca/\"></a><div class=\"term-badges floated\"><span class=\"term-badge term-25\"><a href=\"https://barbacenaonline.com.br/category/articulistas/\">Articulistas</a></span></div><div class=\"content-container\"><h2 class=\"title\"> <a href=\"https://barbacenaonline.com.br/a-importancia-da-familia-no-desenvolvimento-da-crianca/\" class=\"post-url post-title\"> A importância da família no desenvolvimento da criança </a></h2></div></div></article ></div><div class=\"item-5-cont\"><article class=\"post-5957 type-post format-standard has-post-thumbnail  listing-item-5 listing-item listing-mg-item listing-mg-2-item listing-mg-type-1 main-term-25\"><div class=\"item-content\"> <a  title=\"Lições de vida\" data-src=\"https://barbacenaonline.com.br/application/uploads/2018/11/SirleneAliane-0211-e1541197789506-279x220.jpg\" data-bs-srcset=\"{&quot;baseurl&quot;:&quot;https:\\\\/\\\\/barbacenaonline.com.br\\\\/application\\\\/uploads\\\\/2018\\\\/11\\\\/&quot;,&quot;sizes&quot;:{&quot;210&quot;:&quot;SirleneAliane-0211-e1541197789506-210x136.jpg&quot;,&quot;279&quot;:&quot;SirleneAliane-0211-e1541197789506-279x220.jpg&quot;,&quot;357&quot;:&quot;SirleneAliane-0211-e1541197789506-357x210.jpg&quot;,&quot;715&quot;:&quot;SirleneAliane-0211-e1541197789506.jpg&quot;}}\"\\t\\t\\t\\tclass=\"img-cont\" href=\"https://barbacenaonline.com.br/licoes-de-vida/\"></a><div class=\"term-badges floated\"><span class=\"term-badge term-25\"><a href=\"https://barbacenaonline.com.br/category/articulistas/\">Articulistas</a></span></div><div class=\"content-container\"><h2 class=\"title\"> <a href=\"https://barbacenaonline.com.br/licoes-de-vida/\" class=\"post-url post-title\"> Lições de vida </a></h2></div></div></article ></div></div></div></div></div><div class=\"bs-pagination-wrapper main-term-25 slider  bs-slider-item bs-items-3\"',\n",
       " '<a  title=\"Quem lê indica: O irmão imaginário\" data-src=\"https://barbacenaonline.com.br/application/uploads/2018/11/QLI-0211-750x430.jpg\" data-bs-srcset=\"{&quot;baseurl&quot;:&quot;https:\\\\/\\\\/barbacenaonline.com.br\\\\/application\\\\/uploads\\\\/2018\\\\/11\\\\/&quot;,&quot;sizes&quot;:{&quot;210&quot;:&quot;QLI-0211-210x136.jpg&quot;,&quot;279&quot;:&quot;QLI-0211-279x220.jpg&quot;,&quot;357&quot;:&quot;QLI-0211-357x210.jpg&quot;,&quot;640&quot;:&quot;QLI-0211-e1541123037284.jpg&quot;,&quot;750&quot;:&quot;QLI-0211-750x430.jpg&quot;}}\"\\t\\t\\t\\tclass=\"img-cont\" href=\"https://barbacenaonline.com.br/quem-le-indica-o-irmao-imaginario/\"></a><div class=\"term-badges floated\"><span class=\"term-badge term-25\"><a href=\"https://barbacenaonline.com.br/category/articulistas/\">Articulistas</a></span></div><div class=\"content-container\"><h2 class=\"title\"> <a href=\"https://barbacenaonline.com.br/quem-le-indica-o-irmao-imaginario/\" class=\"post-url post-title\"> Quem lê indica: O irmão imaginário </a></h2><div class=\"post-meta\"><span class=\"time\"><time class=\"post-published updated\"',\n",
       " '<a  title=\"Copa do Brasil e a mágica da inversão de poder\" data-src=\"https://barbacenaonline.com.br/application/uploads/2018/10/Taça-da-Copa-do-Brasil-CBF-279x220.jpeg\" data-bs-srcset=\"{&quot;baseurl&quot;:&quot;https:\\\\/\\\\/barbacenaonline.com.br\\\\/application\\\\/uploads\\\\/2018\\\\/10\\\\/&quot;,&quot;sizes&quot;:{&quot;210&quot;:&quot;Ta\\\\u00e7a-da-Copa-do-Brasil-CBF-210x136.jpeg&quot;,&quot;279&quot;:&quot;Ta\\\\u00e7a-da-Copa-do-Brasil-CBF-279x220.jpeg&quot;,&quot;357&quot;:&quot;Ta\\\\u00e7a-da-Copa-do-Brasil-CBF-357x210.jpeg&quot;,&quot;750&quot;:&quot;Ta\\\\u00e7a-da-Copa-do-Brasil-CBF-750x430.jpeg&quot;,&quot;910&quot;:&quot;Ta\\\\u00e7a-da-Copa-do-Brasil-CBF.jpeg&quot;}}\"\\t\\t\\t\\tclass=\"img-cont\" href=\"https://barbacenaonline.com.br/copa-do-brasil-e-a-magica-da-inversao-de-poder/\"></a><div class=\"term-badges floated\"><span class=\"term-badge term-25\"><a href=\"https://barbacenaonline.com.br/category/articulistas/\">Articulistas</a></span></div><div class=\"content-container\"><h2 class=\"title\"> <a href=\"https://barbacenaonline.com.br/copa-do-brasil-e-a-magica-da-inversao-de-poder/\" class=\"post-url post-title\"> Copa do Brasil e a mágica da inversão de poder </a></h2></div></div></article ></div><div class=\"item-3-cont\"><article class=\"post-5804 type-post format-standard has-post-thumbnail  listing-item-3 listing-item listing-mg-item listing-mg-2-item listing-mg-type-1 main-term-25\"><div class=\"item-content\"> <a  title=\"#flashBOL: Noite de comemoração para as secretárias excelentes\" data-src=\"https://barbacenaonline.com.br/application/uploads/2018/10/secretarias03-1-279x220.jpg\" data-bs-srcset=\"{&quot;baseurl&quot;:&quot;https:\\\\/\\\\/barbacenaonline.com.br\\\\/application\\\\/uploads\\\\/2018\\\\/10\\\\/&quot;,&quot;sizes&quot;:{&quot;210&quot;:&quot;secretarias03-1-210x136.jpg&quot;,&quot;279&quot;:&quot;secretarias03-1-279x220.jpg&quot;,&quot;357&quot;:&quot;secretarias03-1-357x210.jpg&quot;,&quot;640&quot;:&quot;secretarias03-1-e1540640267950.jpg&quot;,&quot;750&quot;:&quot;secretarias03-1-750x430.jpg&quot;}}\"\\t\\t\\t\\tclass=\"img-cont\" href=\"https://barbacenaonline.com.br/flashbol-noite-de-comemoracao-para-as-secretarias-excelentes/\"></a><div class=\"term-badges floated\"><span class=\"term-badge term-25\"><a href=\"https://barbacenaonline.com.br/category/articulistas/\">Articulistas</a></span></div><div class=\"content-container\"><h2 class=\"title\"> <a href=\"https://barbacenaonline.com.br/flashbol-noite-de-comemoracao-para-as-secretarias-excelentes/\" class=\"post-url post-title\"> #flashBOL: Noite de comemoração para as secretárias excelentes </a></h2></div></div></article ></div></div><div class=\"mg-row mg-row-2 clearfix\"><div class=\"item-4-cont\"><article class=\"post-5798 type-post format-standard has-post-thumbnail  listing-item-4 listing-item listing-mg-item listing-mg-2-item listing-mg-type-1 main-term-25\"><div class=\"item-content\"> <a  title=\"T-shirts: As queridinhas do momento\" data-src=\"https://barbacenaonline.com.br/application/uploads/2018/10/FOTO4-279x220.png\" data-bs-srcset=\"{&quot;baseurl&quot;:&quot;https:\\\\/\\\\/barbacenaonline.com.br\\\\/application\\\\/uploads\\\\/2018\\\\/10\\\\/&quot;,&quot;sizes&quot;:{&quot;210&quot;:&quot;FOTO4-210x136.png&quot;,&quot;279&quot;:&quot;FOTO4-279x220.png&quot;,&quot;357&quot;:&quot;FOTO4-357x210.png&quot;,&quot;640&quot;:&quot;FOTO4-e1540585356918.png&quot;,&quot;750&quot;:&quot;FOTO4-750x312.png&quot;}}\"\\t\\t\\t\\tclass=\"img-cont\" href=\"https://barbacenaonline.com.br/t-shits-as-queridinhas-do-momento/\"></a><div class=\"term-badges floated\"><span class=\"term-badge term-25\"><a href=\"https://barbacenaonline.com.br/category/articulistas/\">Articulistas</a></span></div><div class=\"content-container\"><h2 class=\"title\"> <a href=\"https://barbacenaonline.com.br/t-shits-as-queridinhas-do-momento/\" class=\"post-url post-title\"> T-shirts: As queridinhas do momento </a></h2></div></div></article ></div><div class=\"item-5-cont\"><article class=\"post-5795 type-post format-standard has-post-thumbnail  listing-item-5 listing-item listing-mg-item listing-mg-2-item listing-mg-type-1 main-term-25\"><div class=\"item-content\"> <a  title=\"Aprendendo a viver\" data-src=\"https://barbacenaonline.com.br/application/uploads/2018/10/SirleneAliane-2610-279x220.jpg\" data-bs-srcset=\"{&quot;baseurl&quot;:&quot;https:\\\\/\\\\/barbacenaonline.com.br\\\\/application\\\\/uploads\\\\/2018\\\\/10\\\\/&quot;,&quot;sizes&quot;:{&quot;210&quot;:&quot;SirleneAliane-2610-210x136.jpg&quot;,&quot;279&quot;:&quot;SirleneAliane-2610-279x220.jpg&quot;,&quot;357&quot;:&quot;SirleneAliane-2610-357x210.jpg&quot;,&quot;540&quot;:&quot;SirleneAliane-2610-e1540583853173.jpg&quot;}}\"\\t\\t\\t\\tclass=\"img-cont\" href=\"https://barbacenaonline.com.br/aprendendo-a-viver/\"></a><div class=\"term-badges floated\"><span class=\"term-badge term-25\"><a href=\"https://barbacenaonline.com.br/category/articulistas/\">Articulistas</a></span></div><div class=\"content-container\"><h2 class=\"title\"> <a href=\"https://barbacenaonline.com.br/aprendendo-a-viver/\" class=\"post-url post-title\"> Aprendendo a viver </a></h2></div></div></article ></div></div></div></div></div><div class=\"bs-pagination-wrapper main-term-25 slider  bs-slider-item bs-items-3\"',\n",
       " '<a  title=\"Quem lê indica: Diário de um Banana “Maré de azar”\" data-src=\"https://barbacenaonline.com.br/application/uploads/2018/10/QLI-2610-750x430.jpg\" data-bs-srcset=\"{&quot;baseurl&quot;:&quot;https:\\\\/\\\\/barbacenaonline.com.br\\\\/application\\\\/uploads\\\\/2018\\\\/10\\\\/&quot;,&quot;sizes&quot;:{&quot;210&quot;:&quot;QLI-2610-210x136.jpg&quot;,&quot;279&quot;:&quot;QLI-2610-279x220.jpg&quot;,&quot;357&quot;:&quot;QLI-2610-357x210.jpg&quot;,&quot;640&quot;:&quot;QLI-2610-e1540516806824.jpg&quot;,&quot;750&quot;:&quot;QLI-2610-750x430.jpg&quot;}}\"\\t\\t\\t\\tclass=\"img-cont\" href=\"https://barbacenaonline.com.br/quem-le-indica-diario-de-um-banana-mare-de-azar/\"></a><div class=\"term-badges floated\"><span class=\"term-badge term-25\"><a href=\"https://barbacenaonline.com.br/category/articulistas/\">Articulistas</a></span></div><div class=\"content-container\"><h2 class=\"title\"> <a href=\"https://barbacenaonline.com.br/quem-le-indica-diario-de-um-banana-mare-de-azar/\" class=\"post-url post-title\"> Quem lê indica: Diário de um Banana “Maré de azar” </a></h2><div class=\"post-meta\"><span class=\"time\"><time class=\"post-published updated\"',\n",
       " '<a  title=\"Polícia Militar abre concurso para músico\" data-src=\"https://barbacenaonline.com.br/application/themes/publisher/images/default-thumb/publisher-mg2.png\"\\t\\t\\t\\tclass=\"img-cont\" href=\"https://barbacenaonline.com.br/policia-militar-abre-concurso-para-musico/\"></a><div class=\"term-badges floated\"><span class=\"term-badge term-25\"><a href=\"https://barbacenaonline.com.br/category/articulistas/\">Articulistas</a></span></div><div class=\"content-container\"><h2 class=\"title\"> <a href=\"https://barbacenaonline.com.br/policia-militar-abre-concurso-para-musico/\" class=\"post-url post-title\"> Polícia Militar abre concurso para músico </a></h2></div></div></article ></div><div class=\"item-3-cont\"><article class=\"post-5698 type-post format-standard has-post-thumbnail  listing-item-3 listing-item listing-mg-item listing-mg-2-item listing-mg-type-1 main-term-25\"><div class=\"item-content\"> <a  title=\"Transtorno opositor desafiador\" data-src=\"https://barbacenaonline.com.br/application/uploads/2018/10/16-tod-279x220.jpg\" data-bs-srcset=\"{&quot;baseurl&quot;:&quot;https:\\\\/\\\\/barbacenaonline.com.br\\\\/application\\\\/uploads\\\\/2018\\\\/10\\\\/&quot;,&quot;sizes&quot;:{&quot;210&quot;:&quot;16-tod-210x136.jpg&quot;,&quot;279&quot;:&quot;16-tod-279x220.jpg&quot;,&quot;357&quot;:&quot;16-tod-357x210.jpg&quot;,&quot;750&quot;:&quot;16-tod-750x430.jpg&quot;,&quot;1500&quot;:&quot;16-tod.jpg&quot;}}\"\\t\\t\\t\\tclass=\"img-cont\" href=\"https://barbacenaonline.com.br/transtorno-opositor-desafiador/\"></a><div class=\"term-badges floated\"><span class=\"term-badge term-25\"><a href=\"https://barbacenaonline.com.br/category/articulistas/\">Articulistas</a></span></div><div class=\"content-container\"><h2 class=\"title\"> <a href=\"https://barbacenaonline.com.br/transtorno-opositor-desafiador/\" class=\"post-url post-title\"> Transtorno opositor desafiador </a></h2></div></div></article ></div></div><div class=\"mg-row mg-row-2 clearfix\"><div class=\"item-4-cont\"><article class=\"post-5695 type-post format-standard has-post-thumbnail  listing-item-4 listing-item listing-mg-item listing-mg-2-item listing-mg-type-1 main-term-25\"><div class=\"item-content\"> <a  title=\"Olhe mais para a natureza, o cosmos, e menos para o espelho e seu egoísmo\" data-src=\"https://barbacenaonline.com.br/application/uploads/2018/10/o-estudo-de-jane-goodall-sobre-os-chimpanzes-7-279x220.jpg\" data-bs-srcset=\"{&quot;baseurl&quot;:&quot;https:\\\\/\\\\/barbacenaonline.com.br\\\\/application\\\\/uploads\\\\/2018\\\\/10\\\\/&quot;,&quot;sizes&quot;:{&quot;210&quot;:&quot;o-estudo-de-jane-goodall-sobre-os-chimpanzes-7-210x136.jpg&quot;,&quot;279&quot;:&quot;o-estudo-de-jane-goodall-sobre-os-chimpanzes-7-279x220.jpg&quot;,&quot;357&quot;:&quot;o-estudo-de-jane-goodall-sobre-os-chimpanzes-7-357x210.jpg&quot;,&quot;480&quot;:&quot;o-estudo-de-jane-goodall-sobre-os-chimpanzes-7.jpg&quot;}}\"\\t\\t\\t\\tclass=\"img-cont\" href=\"https://barbacenaonline.com.br/olhe-mais-para-a-natureza-o-cosmos-e-menos-para-o-espelho-e-seu-egoismo/\"></a><div class=\"term-badges floated\"><span class=\"term-badge term-25\"><a href=\"https://barbacenaonline.com.br/category/articulistas/\">Articulistas</a></span></div><div class=\"content-container\"><h2 class=\"title\"> <a href=\"https://barbacenaonline.com.br/olhe-mais-para-a-natureza-o-cosmos-e-menos-para-o-espelho-e-seu-egoismo/\" class=\"post-url post-title\"> Olhe mais para a natureza, o cosmos, e menos para o espelho e seu&hellip; </a></h2></div></div></article ></div><div class=\"item-5-cont\"><article class=\"post-5669 type-post format-standard has-post-thumbnail  listing-item-5 listing-item listing-mg-item listing-mg-2-item listing-mg-type-1 main-term-25\"><div class=\"item-content\"> <a  title=\"#flashBOL: Professores e crianças recebem diversas homenagens\" data-src=\"https://barbacenaonline.com.br/application/uploads/2018/10/Conexão-7-279x220.jpg\" data-bs-srcset=\"{&quot;baseurl&quot;:&quot;https:\\\\/\\\\/barbacenaonline.com.br\\\\/application\\\\/uploads\\\\/2018\\\\/10\\\\/&quot;,&quot;sizes&quot;:{&quot;210&quot;:&quot;Conex\\\\u00e3o-7-210x136.jpg&quot;,&quot;279&quot;:&quot;Conex\\\\u00e3o-7-279x220.jpg&quot;,&quot;357&quot;:&quot;Conex\\\\u00e3o-7-357x210.jpg&quot;,&quot;640&quot;:&quot;Conex\\\\u00e3o-7-e1540038978351.jpg&quot;,&quot;750&quot;:&quot;Conex\\\\u00e3o-7-750x430.jpg&quot;}}\"\\t\\t\\t\\tclass=\"img-cont\" href=\"https://barbacenaonline.com.br/flashbol-professores-e-criancas-recebem-diversas-homenagens/\"></a><div class=\"term-badges floated\"><span class=\"term-badge term-25\"><a href=\"https://barbacenaonline.com.br/category/articulistas/\">Articulistas</a></span></div><div class=\"content-container\"><h2 class=\"title\"> <a href=\"https://barbacenaonline.com.br/flashbol-professores-e-criancas-recebem-diversas-homenagens/\" class=\"post-url post-title\"> #flashBOL: Professores e crianças recebem diversas homenagens </a></h2></div></div></article ></div></div></div></div></div><div class=\"bs-slider-controls main-term-25\"><div class=\"bs-control-nav  bs-control-nav-style-1\"></div></div></div></div></div></div></div></div><div class=\"row vc_row wpb_row vc_row-fluid\"><div class=\"bs-vc-wrapper\"><div class=\"wpb_column bs-vc-column vc_column_container vc_col-sm-12\"><div class=\"bs-vc-wrapper wpb_wrapper\"><div class=\"bscb-92126 bsb-have-heading-color bs-listing bs-listing-listing-grid-1 bs-listing-single-tab\"><style>.bscb-92126 .section-heading.sh-t3 a.active,.bscb-92126.bscb-92126 .section-heading.sh-t3 .main-link:first-child:last-child .h-text,.bscb-92126 .section-heading.sh-t3>.h-text,.bscb-92126.bscb-92126 .section-heading.sh-t3.sh-s8>.h-text,.bscb-92126.bscb-92126 .section-heading.sh-t3.sh-s8>a.main-link>.h-text{color:#4c97f4}.bscb-92126 .section-heading.sh-t3 a:hover .h-text,.bscb-92126 .section-heading.sh-t3 a.active .h-text{color:#4c97f4!important}.bscb-92126.bscb-92126 .section-heading.sh-t3:after{background-color:#4c97f4!important}.bscb-92126.bscb-92126 .section-heading.sh-t3.sh-s8>.main-link>.h-text,.bscb-92126.bscb-92126 .section-heading.sh-t3.sh-s8>a:last-child:first-child>.h-text,.bscb-92126.bscb-92126 .section-heading.sh-t3.sh-s8>a:last-child:first-child>.h-text,.bscb-92126.bscb-92126 .section-heading.sh-t3.sh-s8>.h-text:last-child:first-child{border-color:#4c97f4}.bscb-92126.bscb-92126 .listing-item:hover .title a,.bscb-92126.bscb-92126 .listing-item-text-1 .post-meta a:hover,.bscb-92126.bscb-92126 .listing-item-grid .post-meta a:hover,.bscb-92126.bscb-92126 .listing-item .rating-stars span:before{color:#4c97f4!important}.bscb-92126.bscb-92126 .listing-item .rating-bar span{background-color:#4c97f4!important}.bscb-92126 .bs-pagination .btn-bs-pagination:hover,.bscb-92126 .btn-bs-pagination.bs-pagination-in-loading{background-color:#4c97f4!important;border-color:#4c97f4!important;color:#fff!important}.bscb-92126 .listing-item-text-2:hover .item-inner{border-color:#4c97f4!important}.bscb-92126.bscb-92126.bscb-92126.bscb-92126 .term-badges.floated .term-badge a,.bscb-92126.bscb-92126 .bs-pagination-wrapper .bs-loading>div{background-color:#4c97f4!important;color:#fff!important}</style><div class=\"listing listing-grid listing-grid-1 clearfix columns-4\"><article class=\"post-6025 type-post format-standard has-post-thumbnail   listing-item listing-item-grid listing-item-grid-1 main-term-25\"><div class=\"item-inner\"><div class=\"featured clearfix\"><div class=\"term-badges floated\"><span class=\"term-badge term-25\"><a href=\"https://barbacenaonline.com.br/category/articulistas/\">Articulistas</a></span></div> <a  title=\"Sine divulga 17 vagas de emprego com salários de até R$3.816\" data-src=\"https://barbacenaonline.com.br/application/uploads/2018/04/RAIS-642x336-357x210.jpg\" data-bs-srcset=\"{&quot;baseurl&quot;:&quot;https:\\\\/\\\\/barbacenaonline.com.br\\\\/application\\\\/uploads\\\\/2018\\\\/04\\\\/&quot;,&quot;sizes&quot;:{&quot;210&quot;:&quot;RAIS-642x336-210x136.jpg&quot;,&quot;279&quot;:&quot;RAIS-642x336-279x220.jpg&quot;,&quot;357&quot;:&quot;RAIS-642x336-357x210.jpg&quot;,&quot;642&quot;:&quot;RAIS-642x336.jpg&quot;}}\"\\t\\t\\t\\t\\t\\tclass=\"img-holder\" href=\"https://barbacenaonline.com.br/sine-divulga-17-vagas-de-emprego-com-salarios-de-ate-r3-816/\"></a></div><h2 class=\"title\"> <a href=\"https://barbacenaonline.com.br/sine-divulga-17-vagas-de-emprego-com-salarios-de-ate-r3-816/\" class=\"post-title post-url\"> Sine divulga 17 vagas de emprego com salários de até R$3.816 </a></h2><div class=\"post-meta\"><span class=\"time\"><time class=\"post-published updated\"',\n",
       " '<a  title=\"Mais de 3.000 planetas já foram encontrados fora do Sistema Solar. O que isso quer dizer?\" data-src=\"https://barbacenaonline.com.br/application/uploads/2018/11/20172407503018-t1200x480-357x210.jpg\" data-bs-srcset=\"{&quot;baseurl&quot;:&quot;https:\\\\/\\\\/barbacenaonline.com.br\\\\/application\\\\/uploads\\\\/2018\\\\/11\\\\/&quot;,&quot;sizes&quot;:{&quot;210&quot;:&quot;20172407503018-t1200x480-210x136.jpg&quot;,&quot;279&quot;:&quot;20172407503018-t1200x480-279x220.jpg&quot;,&quot;357&quot;:&quot;20172407503018-t1200x480-357x210.jpg&quot;,&quot;640&quot;:&quot;20172407503018-t1200x480-e1541359343755.jpg&quot;,&quot;750&quot;:&quot;20172407503018-t1200x480-750x430.jpg&quot;}}\"\\t\\t\\t\\t\\t\\tclass=\"img-holder\" href=\"https://barbacenaonline.com.br/mais-de-3-000-planetas-ja-foram-encontrados-fora-do-sistema-solar-o-que-isso-quer-dizer/\"></a></div><h2 class=\"title\"> <a href=\"https://barbacenaonline.com.br/mais-de-3-000-planetas-ja-foram-encontrados-fora-do-sistema-solar-o-que-isso-quer-dizer/\" class=\"post-title post-url\"> Mais de 3.000 planetas já foram encontrados fora do Sistema Solar. O que isso quer&hellip; </a></h2><div class=\"post-meta\"><span class=\"time\"><time class=\"post-published updated\"',\n",
       " '<a  title=\"#flashBOL: Medalha Santos Dumont é entregue a personalidades e entidades\" data-src=\"https://barbacenaonline.com.br/application/uploads/2018/11/MedalhaSD-2018-4-357x210.jpg\" data-bs-srcset=\"{&quot;baseurl&quot;:&quot;https:\\\\/\\\\/barbacenaonline.com.br\\\\/application\\\\/uploads\\\\/2018\\\\/11\\\\/&quot;,&quot;sizes&quot;:{&quot;210&quot;:&quot;MedalhaSD-2018-4-210x136.jpg&quot;,&quot;279&quot;:&quot;MedalhaSD-2018-4-279x220.jpg&quot;,&quot;357&quot;:&quot;MedalhaSD-2018-4-357x210.jpg&quot;,&quot;640&quot;:&quot;MedalhaSD-2018-4-e1541331685360.jpg&quot;,&quot;750&quot;:&quot;MedalhaSD-2018-4-750x430.jpg&quot;}}\"\\t\\t\\t\\t\\t\\tclass=\"img-holder\" href=\"https://barbacenaonline.com.br/flashbol-medalha-santos-dumont-e-entregue-a-personalidades-e-entidades/\"></a></div><h2 class=\"title\"> <a href=\"https://barbacenaonline.com.br/flashbol-medalha-santos-dumont-e-entregue-a-personalidades-e-entidades/\" class=\"post-title post-url\"> #flashBOL: Medalha Santos Dumont é entregue a personalidades e entidades </a></h2><div class=\"post-meta\"><span class=\"time\"><time class=\"post-published updated\"',\n",
       " '<a  title=\"Presídio de São João del-Rei ganha novas vagas\" data-src=\"https://barbacenaonline.com.br/application/themes/publisher/images/default-thumb/publisher-tb1.png\"\\t\\t\\t\\t\\t\\tclass=\"img-holder\" href=\"https://barbacenaonline.com.br/presidio-de-sao-joao-del-rei-ganha-novas-vagas/\"></a></div><p class=\"title\"> <a href=\"https://barbacenaonline.com.br/presidio-de-sao-joao-del-rei-ganha-novas-vagas/\" class=\"post-url post-title\"> Presídio de São João del-Rei ganha novas vagas </a></p><div class=\"post-meta\"><span class=\"time\"><time class=\"post-published updated\"',\n",
       " '<a  title=\"Homem atingido nas nádegas por disparo de arma de fogo\" data-src=\"https://barbacenaonline.com.br/application/uploads/2018/06/Arma-1306-e1528897950308-86x64.jpg\" data-bs-srcset=\"{&quot;baseurl&quot;:&quot;https:\\\\/\\\\/barbacenaonline.com.br\\\\/application\\\\/uploads\\\\/2018\\\\/06\\\\/&quot;,&quot;sizes&quot;:{&quot;86&quot;:&quot;Arma-1306-e1528897950308-86x64.jpg&quot;,&quot;210&quot;:&quot;Arma-1306-e1528897950308-210x136.jpg&quot;,&quot;612&quot;:&quot;Arma-1306-e1528897950308.jpg&quot;}}\"\\t\\t\\t\\t\\t\\tclass=\"img-holder\" href=\"https://barbacenaonline.com.br/homem-atingido-nas-nadegas-por-disparo-de-arma-de-fogo/\"></a></div><p class=\"title\"> <a href=\"https://barbacenaonline.com.br/homem-atingido-nas-nadegas-por-disparo-de-arma-de-fogo/\" class=\"post-url post-title\"> Homem atingido nas nádegas por disparo de arma de fogo </a></p><div class=\"post-meta\"><span class=\"time\"><time class=\"post-published updated\"',\n",
       " '<a  title=\"Sine divulga 17 vagas de emprego com salários de até R$3.816\" data-src=\"https://barbacenaonline.com.br/application/uploads/2018/04/RAIS-642x336-86x64.jpg\" data-bs-srcset=\"{&quot;baseurl&quot;:&quot;https:\\\\/\\\\/barbacenaonline.com.br\\\\/application\\\\/uploads\\\\/2018\\\\/04\\\\/&quot;,&quot;sizes&quot;:{&quot;86&quot;:&quot;RAIS-642x336-86x64.jpg&quot;,&quot;210&quot;:&quot;RAIS-642x336-210x136.jpg&quot;,&quot;642&quot;:&quot;RAIS-642x336.jpg&quot;}}\"\\t\\t\\t\\t\\t\\tclass=\"img-holder\" href=\"https://barbacenaonline.com.br/sine-divulga-17-vagas-de-emprego-com-salarios-de-ate-r3-816/\"></a></div><p class=\"title\"> <a href=\"https://barbacenaonline.com.br/sine-divulga-17-vagas-de-emprego-com-salarios-de-ate-r3-816/\" class=\"post-url post-title\"> Sine divulga 17 vagas de emprego com salários de até R$3.816 </a></p><div class=\"post-meta\"><span class=\"time\"><time class=\"post-published updated\"']"
      ]
     },
     "execution_count": 24,
     "metadata": {},
     "output_type": "execute_result"
    }
   ],
   "source": [
    "re.findall(r'<a +title=\".+\"', html)"
   ]
  },
  {
   "cell_type": "code",
   "execution_count": 25,
   "metadata": {},
   "outputs": [
    {
     "data": {
      "text/plain": [
       "['<a  title=\"Presídio de São João del-Rei ganha novas vagas\"',\n",
       " '<a  title=\"Homem atingido nas nádegas por disparo de arma de fogo\"',\n",
       " '<a  title=\"Sine divulga 17 vagas de emprego com salários de até R$3.816\"',\n",
       " '<a  title=\"Dupla presa em flagrante comprava drogas em SJDR e distribuía em Barbacena\"',\n",
       " '<a  title=\"Congresso de Medicina Antroposófica põe em discussão as Práticas Integrativas\"',\n",
       " '<a  title=\"Testes no trânsito são prorrogados\"',\n",
       " '<a  title=\"Guarda Civil Municipal participa de capacitação para atuar no trânsito\"',\n",
       " '<a  title=\"Mais de sete mil pessoas farão o Enem em Barbacena\"',\n",
       " '<a  title=\"Dupla presa em flagrante comprava drogas em SJDR e distribuía em Barbacena\"',\n",
       " '<a  title=\"Corsa capota no Santa Efigênia\"',\n",
       " '<a  title=\"Motociclista atropela pedestre na Praça da Boa Morte\"',\n",
       " '<a  title=\"Homem preso no São Pedro por armazenar pornografia infantil\"',\n",
       " '<a  title=\"Incêndio em residência resulta em prejuízos materiais\"',\n",
       " '<a  title=\"Saída de pista entre Pinheiro Grosso e Senhora das Dores\"',\n",
       " '<a  title=\"Carreta pega fogo e chamas atingem vegetação\"',\n",
       " '<a  title=\"Pitbull ataca outro cão no Santa Efigênia\"',\n",
       " '<a  title=\"SJDR: Jovem fratura a perna em acidente\"',\n",
       " '<a  title=\"Veículo atropela homem na 040\"',\n",
       " '<a  title=\"Localizado corpo no Ribeirão Bananeiras\"',\n",
       " '<a  title=\"Sine divulga 17 vagas de emprego com salários de até R$3.816\"',\n",
       " '<a  title=\"Mais de 3.000 planetas já foram encontrados fora do Sistema Solar. O que isso quer dizer?\"',\n",
       " '<a  title=\"#flashBOL: Medalha Santos Dumont é entregue a personalidades e entidades\"',\n",
       " '<a  title=\"A importância da família no desenvolvimento da criança\"',\n",
       " '<a  title=\"Lições de vida\"',\n",
       " '<a  title=\"Quem lê indica: O irmão imaginário\"',\n",
       " '<a  title=\"Copa do Brasil e a mágica da inversão de poder\"',\n",
       " '<a  title=\"#flashBOL: Noite de comemoração para as secretárias excelentes\"',\n",
       " '<a  title=\"T-shirts: As queridinhas do momento\"',\n",
       " '<a  title=\"Aprendendo a viver\"',\n",
       " '<a  title=\"Quem lê indica: Diário de um Banana “Maré de azar”\"',\n",
       " '<a  title=\"Polícia Militar abre concurso para músico\"',\n",
       " '<a  title=\"Transtorno opositor desafiador\"',\n",
       " '<a  title=\"Olhe mais para a natureza, o cosmos, e menos para o espelho e seu egoísmo\"',\n",
       " '<a  title=\"#flashBOL: Professores e crianças recebem diversas homenagens\"',\n",
       " '<a  title=\"Sine divulga 17 vagas de emprego com salários de até R$3.816\"',\n",
       " '<a  title=\"Mais de 3.000 planetas já foram encontrados fora do Sistema Solar. O que isso quer dizer?\"',\n",
       " '<a  title=\"#flashBOL: Medalha Santos Dumont é entregue a personalidades e entidades\"',\n",
       " '<a  title=\"Presídio de São João del-Rei ganha novas vagas\"',\n",
       " '<a  title=\"Homem atingido nas nádegas por disparo de arma de fogo\"',\n",
       " '<a  title=\"Sine divulga 17 vagas de emprego com salários de até R$3.816\"']"
      ]
     },
     "execution_count": 25,
     "metadata": {},
     "output_type": "execute_result"
    }
   ],
   "source": [
    "re.findall(r'<a +title=\".+?\"', html)"
   ]
  },
  {
   "cell_type": "code",
   "execution_count": 26,
   "metadata": {},
   "outputs": [
    {
     "data": {
      "text/plain": [
       "['Presídio de São João del-Rei ganha novas vagas',\n",
       " 'Homem atingido nas nádegas por disparo de arma de fogo',\n",
       " 'Sine divulga 17 vagas de emprego com salários de até R$3.816',\n",
       " 'Dupla presa em flagrante comprava drogas em SJDR e distribuía em Barbacena',\n",
       " 'Congresso de Medicina Antroposófica põe em discussão as Práticas Integrativas',\n",
       " 'Testes no trânsito são prorrogados',\n",
       " 'Guarda Civil Municipal participa de capacitação para atuar no trânsito',\n",
       " 'Mais de sete mil pessoas farão o Enem em Barbacena',\n",
       " 'Dupla presa em flagrante comprava drogas em SJDR e distribuía em Barbacena',\n",
       " 'Corsa capota no Santa Efigênia',\n",
       " 'Motociclista atropela pedestre na Praça da Boa Morte',\n",
       " 'Homem preso no São Pedro por armazenar pornografia infantil',\n",
       " 'Incêndio em residência resulta em prejuízos materiais',\n",
       " 'Saída de pista entre Pinheiro Grosso e Senhora das Dores',\n",
       " 'Carreta pega fogo e chamas atingem vegetação',\n",
       " 'Pitbull ataca outro cão no Santa Efigênia',\n",
       " 'SJDR: Jovem fratura a perna em acidente',\n",
       " 'Veículo atropela homem na 040',\n",
       " 'Localizado corpo no Ribeirão Bananeiras',\n",
       " 'Sine divulga 17 vagas de emprego com salários de até R$3.816',\n",
       " 'Mais de 3.000 planetas já foram encontrados fora do Sistema Solar. O que isso quer dizer?',\n",
       " '#flashBOL: Medalha Santos Dumont é entregue a personalidades e entidades',\n",
       " 'A importância da família no desenvolvimento da criança',\n",
       " 'Lições de vida',\n",
       " 'Quem lê indica: O irmão imaginário',\n",
       " 'Copa do Brasil e a mágica da inversão de poder',\n",
       " '#flashBOL: Noite de comemoração para as secretárias excelentes',\n",
       " 'T-shirts: As queridinhas do momento',\n",
       " 'Aprendendo a viver',\n",
       " 'Quem lê indica: Diário de um Banana “Maré de azar”',\n",
       " 'Polícia Militar abre concurso para músico',\n",
       " 'Transtorno opositor desafiador',\n",
       " 'Olhe mais para a natureza, o cosmos, e menos para o espelho e seu egoísmo',\n",
       " '#flashBOL: Professores e crianças recebem diversas homenagens',\n",
       " 'Sine divulga 17 vagas de emprego com salários de até R$3.816',\n",
       " 'Mais de 3.000 planetas já foram encontrados fora do Sistema Solar. O que isso quer dizer?',\n",
       " '#flashBOL: Medalha Santos Dumont é entregue a personalidades e entidades',\n",
       " 'Presídio de São João del-Rei ganha novas vagas',\n",
       " 'Homem atingido nas nádegas por disparo de arma de fogo',\n",
       " 'Sine divulga 17 vagas de emprego com salários de até R$3.816']"
      ]
     },
     "execution_count": 26,
     "metadata": {},
     "output_type": "execute_result"
    }
   ],
   "source": [
    "re.findall(r'<a +title=\"(.+?)\"', html)"
   ]
  },
  {
   "cell_type": "markdown",
   "metadata": {},
   "source": [
    "<strong>Gerar dataset com o título e o link das notícias do Barbacena Online:</strong>"
   ]
  },
  {
   "cell_type": "code",
   "execution_count": 27,
   "metadata": {},
   "outputs": [
    {
     "data": {
      "text/plain": [
       "'\\n<div class=\"item-content\"> <a  title=\"Presídio de São João del-Rei ganha novas vagas\" data-src=\"https://barbacenaonline.com.br/application/themes/publisher/images/default-thumb/publisher-lg.png\"\\t\\t\\t\\tclass=\"img-cont\" href=\"https://barbacenaonline.com.br/presidio-de-sao-joao-del-rei-ganha-novas-vagas/\"></a>\\n\\n'"
      ]
     },
     "execution_count": 27,
     "metadata": {},
     "output_type": "execute_result"
    }
   ],
   "source": [
    "'''\n",
    "<div class=\"item-content\"> <a  title=\"Presídio de São João del-Rei ganha novas vagas\" data-src=\"https://barbacenaonline.com.br/application/themes/publisher/images/default-thumb/publisher-lg.png\"\\t\\t\\t\\tclass=\"img-cont\" href=\"https://barbacenaonline.com.br/presidio-de-sao-joao-del-rei-ganha-novas-vagas/\"></a>\n",
    "\n",
    "'''"
   ]
  },
  {
   "cell_type": "code",
   "execution_count": 28,
   "metadata": {},
   "outputs": [
    {
     "data": {
      "text/plain": [
       "('Presídio de São João del-Rei ganha novas vagas',\n",
       " 'https://barbacenaonline.com.br/application/themes/publisher/images/default-thumb/publisher-lg.png')"
      ]
     },
     "execution_count": 28,
     "metadata": {},
     "output_type": "execute_result"
    }
   ],
   "source": [
    "re.findall(r'<a +title=\"(.+?)\" +data-src=\"(.+?)\"', html)[0]"
   ]
  },
  {
   "cell_type": "code",
   "execution_count": 29,
   "metadata": {},
   "outputs": [
    {
     "data": {
      "text/html": [
       "<div>\n",
       "<style scoped>\n",
       "    .dataframe tbody tr th:only-of-type {\n",
       "        vertical-align: middle;\n",
       "    }\n",
       "\n",
       "    .dataframe tbody tr th {\n",
       "        vertical-align: top;\n",
       "    }\n",
       "\n",
       "    .dataframe thead th {\n",
       "        text-align: right;\n",
       "    }\n",
       "</style>\n",
       "<table border=\"1\" class=\"dataframe\">\n",
       "  <thead>\n",
       "    <tr style=\"text-align: right;\">\n",
       "      <th></th>\n",
       "      <th>titulo</th>\n",
       "      <th>link</th>\n",
       "    </tr>\n",
       "  </thead>\n",
       "  <tbody>\n",
       "    <tr>\n",
       "      <th>0</th>\n",
       "      <td>Presídio de São João del-Rei ganha novas vagas</td>\n",
       "      <td>https://barbacenaonline.com.br/application/the...</td>\n",
       "    </tr>\n",
       "    <tr>\n",
       "      <th>1</th>\n",
       "      <td>Homem atingido nas nádegas por disparo de arma...</td>\n",
       "      <td>https://barbacenaonline.com.br/application/upl...</td>\n",
       "    </tr>\n",
       "    <tr>\n",
       "      <th>2</th>\n",
       "      <td>Sine divulga 17 vagas de emprego com salários ...</td>\n",
       "      <td>https://barbacenaonline.com.br/application/upl...</td>\n",
       "    </tr>\n",
       "    <tr>\n",
       "      <th>3</th>\n",
       "      <td>Dupla presa em flagrante comprava drogas em SJ...</td>\n",
       "      <td>https://barbacenaonline.com.br/application/upl...</td>\n",
       "    </tr>\n",
       "    <tr>\n",
       "      <th>4</th>\n",
       "      <td>Congresso de Medicina Antroposófica põe em dis...</td>\n",
       "      <td>https://barbacenaonline.com.br/application/upl...</td>\n",
       "    </tr>\n",
       "  </tbody>\n",
       "</table>\n",
       "</div>"
      ],
      "text/plain": [
       "                                              titulo  \\\n",
       "0     Presídio de São João del-Rei ganha novas vagas   \n",
       "1  Homem atingido nas nádegas por disparo de arma...   \n",
       "2  Sine divulga 17 vagas de emprego com salários ...   \n",
       "3  Dupla presa em flagrante comprava drogas em SJ...   \n",
       "4  Congresso de Medicina Antroposófica põe em dis...   \n",
       "\n",
       "                                                link  \n",
       "0  https://barbacenaonline.com.br/application/the...  \n",
       "1  https://barbacenaonline.com.br/application/upl...  \n",
       "2  https://barbacenaonline.com.br/application/upl...  \n",
       "3  https://barbacenaonline.com.br/application/upl...  \n",
       "4  https://barbacenaonline.com.br/application/upl...  "
      ]
     },
     "execution_count": 29,
     "metadata": {},
     "output_type": "execute_result"
    }
   ],
   "source": [
    "import pandas as pd\n",
    "\n",
    "df = pd.DataFrame(\n",
    "    re.findall(r'<a +title=\"(.+?)\" +data-src=\"(.+?)\"', html),\n",
    "    columns=['titulo', 'link']\n",
    ")\n",
    "\n",
    "df.head()"
   ]
  },
  {
   "cell_type": "markdown",
   "metadata": {},
   "source": [
    "### Beautiful Soup\n",
    "\n",
    "Biblioteca para analisar documentos HTML e XML.\n",
    "\n",
    "https://www.crummy.com/software/BeautifulSoup/bs4/doc/"
   ]
  },
  {
   "cell_type": "code",
   "execution_count": 30,
   "metadata": {},
   "outputs": [],
   "source": [
    "from bs4 import BeautifulSoup"
   ]
  },
  {
   "cell_type": "code",
   "execution_count": 31,
   "metadata": {},
   "outputs": [],
   "source": [
    "soup = BeautifulSoup(html, 'html.parser')"
   ]
  },
  {
   "cell_type": "code",
   "execution_count": 32,
   "metadata": {},
   "outputs": [
    {
     "data": {
      "text/plain": [
       "<title>Barbacena Online – Notícias em Barbacena e região</title>"
      ]
     },
     "execution_count": 32,
     "metadata": {},
     "output_type": "execute_result"
    }
   ],
   "source": [
    "soup.find('title')"
   ]
  },
  {
   "cell_type": "code",
   "execution_count": 33,
   "metadata": {},
   "outputs": [
    {
     "data": {
      "text/plain": [
       "'title'"
      ]
     },
     "execution_count": 33,
     "metadata": {},
     "output_type": "execute_result"
    }
   ],
   "source": [
    "soup.find('title').name"
   ]
  },
  {
   "cell_type": "code",
   "execution_count": 34,
   "metadata": {},
   "outputs": [
    {
     "data": {
      "text/plain": [
       "'Barbacena Online – Notícias em Barbacena e região'"
      ]
     },
     "execution_count": 34,
     "metadata": {},
     "output_type": "execute_result"
    }
   ],
   "source": [
    "soup.find('title').text"
   ]
  },
  {
   "cell_type": "code",
   "execution_count": 35,
   "metadata": {},
   "outputs": [
    {
     "data": {
      "text/plain": [
       "'head'"
      ]
     },
     "execution_count": 35,
     "metadata": {},
     "output_type": "execute_result"
    }
   ],
   "source": [
    "soup.find('title').parent.name"
   ]
  },
  {
   "cell_type": "code",
   "execution_count": 36,
   "metadata": {},
   "outputs": [
    {
     "data": {
      "text/plain": [
       "[<p class=\"bsac-caption\">- Advertisement -</p>,\n",
       " <p class=\"bsac-caption\">- Advertisement -</p>,\n",
       " <p>Portal de Notícias Barbacena Online<br/> Fundado em 01 de setembro de 2001</p>,\n",
       " <p>E-mail: contato@barbacenaonline.com.br</p>,\n",
       " <p>Whatsaap: (32) 9-8835-4900</p>,\n",
       " <p class=\"section-heading sh-t5 sh-s1 main-term-none\"> <span class=\"h-text main-term-none main-link\"> Mais vistos </span></p>,\n",
       " <p class=\"title\"> <a class=\"post-url post-title\" href=\"https://barbacenaonline.com.br/presidio-de-sao-joao-del-rei-ganha-novas-vagas/\"> Presídio de São João del-Rei ganha novas vagas </a></p>,\n",
       " <p class=\"title\"> <a class=\"post-url post-title\" href=\"https://barbacenaonline.com.br/homem-atingido-nas-nadegas-por-disparo-de-arma-de-fogo/\"> Homem atingido nas nádegas por disparo de arma de fogo </a></p>,\n",
       " <p class=\"title\"> <a class=\"post-url post-title\" href=\"https://barbacenaonline.com.br/sine-divulga-17-vagas-de-emprego-com-salarios-de-ate-r3-816/\"> Sine divulga 17 vagas de emprego com salários de até R$3.816 </a></p>,\n",
       " <p>Welcome, Login to your account.</p>,\n",
       " <p>Recover your password.</p>,\n",
       " <p>A password will be e-mailed to you.</p>]"
      ]
     },
     "execution_count": 36,
     "metadata": {},
     "output_type": "execute_result"
    }
   ],
   "source": [
    "soup.find_all('p')"
   ]
  },
  {
   "cell_type": "code",
   "execution_count": 37,
   "metadata": {},
   "outputs": [
    {
     "data": {
      "text/plain": [
       "'- Advertisement -'"
      ]
     },
     "execution_count": 37,
     "metadata": {},
     "output_type": "execute_result"
    }
   ],
   "source": [
    "soup.find_all('p')[0].text"
   ]
  },
  {
   "cell_type": "code",
   "execution_count": 38,
   "metadata": {},
   "outputs": [
    {
     "data": {
      "text/plain": [
       "<article class=\"post-6040 type-post format-standard has-post-thumbnail listing-item-1 listing-item listing-mg-item listing-mg-2-item listing-mg-type-1 main-term-23\"><div class=\"item-content\"> <a class=\"img-cont\" data-src=\"https://barbacenaonline.com.br/application/themes/publisher/images/default-thumb/publisher-lg.png\" href=\"https://barbacenaonline.com.br/presidio-de-sao-joao-del-rei-ganha-novas-vagas/\" title=\"Presídio de São João del-Rei ganha novas vagas\"></a><div class=\"term-badges floated\"><span class=\"term-badge term-23\"><a href=\"https://barbacenaonline.com.br/category/regiao/\">Região</a></span></div><div class=\"content-container\"><h2 class=\"title\"> <a class=\"post-url post-title\" href=\"https://barbacenaonline.com.br/presidio-de-sao-joao-del-rei-ganha-novas-vagas/\"> Presídio de São João del-Rei ganha novas vagas </a></h2><div class=\"post-meta\"><span class=\"time\"><time class=\"post-published updated\" datetime=\"2018-11-05T18:41:43+00:00\">5 nov, 2018</time></span></div></div></div></article>"
      ]
     },
     "execution_count": 38,
     "metadata": {},
     "output_type": "execute_result"
    }
   ],
   "source": [
    "soup.find_all('article', class_='type-post')[0]"
   ]
  },
  {
   "cell_type": "code",
   "execution_count": 39,
   "metadata": {},
   "outputs": [
    {
     "data": {
      "text/plain": [
       "'Presídio de São João del-Rei ganha novas vagas'"
      ]
     },
     "execution_count": 39,
     "metadata": {},
     "output_type": "execute_result"
    }
   ],
   "source": [
    "soup.find_all('article', class_='type-post')[0].find('a')['title']"
   ]
  },
  {
   "cell_type": "code",
   "execution_count": 40,
   "metadata": {},
   "outputs": [
    {
     "data": {
      "text/plain": [
       "'https://barbacenaonline.com.br/presidio-de-sao-joao-del-rei-ganha-novas-vagas/'"
      ]
     },
     "execution_count": 40,
     "metadata": {},
     "output_type": "execute_result"
    }
   ],
   "source": [
    "soup.find_all('article', class_='type-post')[0].find('a')['href']"
   ]
  },
  {
   "cell_type": "markdown",
   "metadata": {},
   "source": [
    "### Consumindo uma API\n",
    "\n",
    "APIs (Application Programming Interface) possibilitam a comunicação entre seu código e um sistema remoto, como uma rede social.\n",
    "\n",
    "Exemplo: OMDb API - The Open Movie Database\n",
    "\n",
    "http://www.omdbapi.com/\n",
    "\n",
    "Gerar uma chave (API key) e ativar o link enviado por e-mail."
   ]
  },
  {
   "cell_type": "code",
   "execution_count": 8,
   "metadata": {},
   "outputs": [],
   "source": [
    "API = 'http://www.omdbapi.com/?apikey=••••••••&'"
   ]
  },
  {
   "cell_type": "code",
   "execution_count": 9,
   "metadata": {},
   "outputs": [
    {
     "data": {
      "text/plain": [
       "{'Response': 'True',\n",
       " 'Search': [{'Poster': 'https://m.media-amazon.com/images/M/MV5BNDQ4YzFmNzktMmM5ZC00MDZjLTk1OTktNDE2ODE4YjM2MjJjXkEyXkFqcGdeQXVyNTA4NzY1MzY@._V1_SX300.jpg',\n",
       "   'Title': 'World War Z',\n",
       "   'Type': 'movie',\n",
       "   'Year': '2013',\n",
       "   'imdbID': 'tt0816711'},\n",
       "  {'Poster': 'https://m.media-amazon.com/images/M/MV5BMjQ0MTgyNjAxMV5BMl5BanBnXkFtZTgwNjUzMDkyODE@._V1_SX300.jpg',\n",
       "   'Title': 'Captain America: Civil War',\n",
       "   'Type': 'movie',\n",
       "   'Year': '2016',\n",
       "   'imdbID': 'tt3498820'},\n",
       "  {'Poster': 'https://m.media-amazon.com/images/M/MV5BMjMxNjY2MDU1OV5BMl5BanBnXkFtZTgwNzY1MTUwNTM@._V1_SX300.jpg',\n",
       "   'Title': 'Avengers: Infinity War',\n",
       "   'Type': 'movie',\n",
       "   'Year': '2018',\n",
       "   'imdbID': 'tt4154756'},\n",
       "  {'Poster': 'https://m.media-amazon.com/images/M/MV5BNDUyODAzNDI1Nl5BMl5BanBnXkFtZTcwMDA2NDAzMw@@._V1_SX300.jpg',\n",
       "   'Title': 'War of the Worlds',\n",
       "   'Type': 'movie',\n",
       "   'Year': '2005',\n",
       "   'imdbID': 'tt0407304'},\n",
       "  {'Poster': 'https://m.media-amazon.com/images/M/MV5BMTYzZWE3MDAtZjZkMi00MzhlLTlhZDUtNmI2Zjg3OWVlZWI0XkEyXkFqcGdeQXVyNDk3NzU2MTQ@._V1_SX300.jpg',\n",
       "   'Title': 'Lord of War',\n",
       "   'Type': 'movie',\n",
       "   'Year': '2005',\n",
       "   'imdbID': 'tt0399295'},\n",
       "  {'Poster': 'https://m.media-amazon.com/images/M/MV5BNDNmYTQzMDEtMmY0MS00OTNjLTk4MjItMDZhMzkzOGI3MzA0XkEyXkFqcGdeQXVyNjk5NDA3OTk@._V1_SX300.jpg',\n",
       "   'Title': 'War for the Planet of the Apes',\n",
       "   'Type': 'movie',\n",
       "   'Year': '2017',\n",
       "   'imdbID': 'tt3450958'},\n",
       "  {'Poster': 'https://m.media-amazon.com/images/M/MV5BMTYyOTQ4MDE2MV5BMl5BanBnXkFtZTcwOTE0MTgwNw@@._V1_SX300.jpg',\n",
       "   'Title': 'This Means War',\n",
       "   'Type': 'movie',\n",
       "   'Year': '2012',\n",
       "   'imdbID': 'tt1596350'},\n",
       "  {'Poster': 'https://m.media-amazon.com/images/M/MV5BMjEyNzQ0NzM4MV5BMl5BanBnXkFtZTgwMDI0ODM2OTE@._V1_SX300.jpg',\n",
       "   'Title': 'War Dogs',\n",
       "   'Type': 'movie',\n",
       "   'Year': '2016',\n",
       "   'imdbID': 'tt2005151'},\n",
       "  {'Poster': 'https://m.media-amazon.com/images/M/MV5BMjExNzkxOTYyNl5BMl5BanBnXkFtZTcwODA0MjU4Ng@@._V1_SX300.jpg',\n",
       "   'Title': 'War Horse',\n",
       "   'Type': 'movie',\n",
       "   'Year': '2011',\n",
       "   'imdbID': 'tt1568911'},\n",
       "  {'Poster': 'https://m.media-amazon.com/images/M/MV5BMTgwMDgwMDc4MF5BMl5BanBnXkFtZTYwOTU3MDM4._V1_SX300.jpg',\n",
       "   'Title': \"Charlie Wilson's War\",\n",
       "   'Type': 'movie',\n",
       "   'Year': '2007',\n",
       "   'imdbID': 'tt0472062'}],\n",
       " 'totalResults': '3841'}"
      ]
     },
     "execution_count": 9,
     "metadata": {},
     "output_type": "execute_result"
    }
   ],
   "source": [
    "# Montar dataset de filmes de guerra\n",
    "requests.get(API + 's=war').json()"
   ]
  },
  {
   "cell_type": "markdown",
   "metadata": {},
   "source": [
    "<strong>Visualizador:</strong> https://jsoneditoronline.org/\n",
    "\n",
    "<img src=\"./img/json.png\">"
   ]
  },
  {
   "cell_type": "code",
   "execution_count": 48,
   "metadata": {},
   "outputs": [],
   "source": [
    "# Coletando os 100 primeiros resultados\n",
    "dados = []\n",
    "\n",
    "for pagina in range(1, 11):\n",
    "    j = requests.get(API + 's=war&page=' + str(pagina)).json()\n",
    "    for resultado in j['Search']:\n",
    "        dados.append([\n",
    "            resultado['Title'],\n",
    "            resultado['Type'],\n",
    "            resultado['Year'],\n",
    "            resultado['Poster'],\n",
    "            resultado['imdbID'],\n",
    "        ])"
   ]
  },
  {
   "cell_type": "code",
   "execution_count": 49,
   "metadata": {},
   "outputs": [
    {
     "name": "stdout",
     "output_type": "stream",
     "text": [
      "(100, 5)\n"
     ]
    },
    {
     "data": {
      "text/html": [
       "<div>\n",
       "<style scoped>\n",
       "    .dataframe tbody tr th:only-of-type {\n",
       "        vertical-align: middle;\n",
       "    }\n",
       "\n",
       "    .dataframe tbody tr th {\n",
       "        vertical-align: top;\n",
       "    }\n",
       "\n",
       "    .dataframe thead th {\n",
       "        text-align: right;\n",
       "    }\n",
       "</style>\n",
       "<table border=\"1\" class=\"dataframe\">\n",
       "  <thead>\n",
       "    <tr style=\"text-align: right;\">\n",
       "      <th></th>\n",
       "      <th>titulo</th>\n",
       "      <th>tipo</th>\n",
       "      <th>ano</th>\n",
       "      <th>poster</th>\n",
       "      <th>id_imdb</th>\n",
       "    </tr>\n",
       "  </thead>\n",
       "  <tbody>\n",
       "    <tr>\n",
       "      <th>0</th>\n",
       "      <td>World War Z</td>\n",
       "      <td>movie</td>\n",
       "      <td>2013</td>\n",
       "      <td>https://m.media-amazon.com/images/M/MV5BNDQ4Yz...</td>\n",
       "      <td>tt0816711</td>\n",
       "    </tr>\n",
       "    <tr>\n",
       "      <th>1</th>\n",
       "      <td>Captain America: Civil War</td>\n",
       "      <td>movie</td>\n",
       "      <td>2016</td>\n",
       "      <td>https://m.media-amazon.com/images/M/MV5BMjQ0MT...</td>\n",
       "      <td>tt3498820</td>\n",
       "    </tr>\n",
       "    <tr>\n",
       "      <th>2</th>\n",
       "      <td>Avengers: Infinity War</td>\n",
       "      <td>movie</td>\n",
       "      <td>2018</td>\n",
       "      <td>https://m.media-amazon.com/images/M/MV5BMjMxNj...</td>\n",
       "      <td>tt4154756</td>\n",
       "    </tr>\n",
       "    <tr>\n",
       "      <th>3</th>\n",
       "      <td>War of the Worlds</td>\n",
       "      <td>movie</td>\n",
       "      <td>2005</td>\n",
       "      <td>https://m.media-amazon.com/images/M/MV5BNDUyOD...</td>\n",
       "      <td>tt0407304</td>\n",
       "    </tr>\n",
       "    <tr>\n",
       "      <th>4</th>\n",
       "      <td>Lord of War</td>\n",
       "      <td>movie</td>\n",
       "      <td>2005</td>\n",
       "      <td>https://m.media-amazon.com/images/M/MV5BMTYzZW...</td>\n",
       "      <td>tt0399295</td>\n",
       "    </tr>\n",
       "  </tbody>\n",
       "</table>\n",
       "</div>"
      ],
      "text/plain": [
       "                       titulo   tipo   ano  \\\n",
       "0                 World War Z  movie  2013   \n",
       "1  Captain America: Civil War  movie  2016   \n",
       "2      Avengers: Infinity War  movie  2018   \n",
       "3           War of the Worlds  movie  2005   \n",
       "4                 Lord of War  movie  2005   \n",
       "\n",
       "                                              poster    id_imdb  \n",
       "0  https://m.media-amazon.com/images/M/MV5BNDQ4Yz...  tt0816711  \n",
       "1  https://m.media-amazon.com/images/M/MV5BMjQ0MT...  tt3498820  \n",
       "2  https://m.media-amazon.com/images/M/MV5BMjMxNj...  tt4154756  \n",
       "3  https://m.media-amazon.com/images/M/MV5BNDUyOD...  tt0407304  \n",
       "4  https://m.media-amazon.com/images/M/MV5BMTYzZW...  tt0399295  "
      ]
     },
     "execution_count": 49,
     "metadata": {},
     "output_type": "execute_result"
    }
   ],
   "source": [
    "df = pd.DataFrame(dados, columns=['titulo', 'tipo', 'ano', 'poster', 'id_imdb'])\n",
    "\n",
    "print(df.shape)\n",
    "df.head()"
   ]
  },
  {
   "cell_type": "code",
   "execution_count": 50,
   "metadata": {},
   "outputs": [
    {
     "data": {
      "text/plain": [
       "array(['2013', '2016', '2018', '2005', '2017', '2012', '2011', '2007',\n",
       "       '2008', '2002', '1989', '2004', '2010', '1953', '2000', '2014',\n",
       "       '2003', '1973–1976', '2015', '1994', '2002–2015', '1990', '1999',\n",
       "       '2005–2007', '1988', '1956', '1967', '1996', '1980', '1949',\n",
       "       '2006', '2009', '2009–', '1965', '1966', '1997', '2001', '1993',\n",
       "       '1983–', '1959', '1992', '1971', '2006–2009', '1969', '1988–'],\n",
       "      dtype=object)"
      ]
     },
     "execution_count": 50,
     "metadata": {},
     "output_type": "execute_result"
    }
   ],
   "source": [
    "df['ano'].unique()"
   ]
  },
  {
   "cell_type": "code",
   "execution_count": 51,
   "metadata": {},
   "outputs": [
    {
     "name": "stdout",
     "output_type": "stream",
     "text": [
      "<class 'pandas.core.frame.DataFrame'>\n",
      "RangeIndex: 100 entries, 0 to 99\n",
      "Data columns (total 5 columns):\n",
      "titulo     100 non-null object\n",
      "tipo       100 non-null object\n",
      "ano        100 non-null object\n",
      "poster     100 non-null object\n",
      "id_imdb    100 non-null object\n",
      "dtypes: object(5)\n",
      "memory usage: 4.0+ KB\n"
     ]
    }
   ],
   "source": [
    "df.info()"
   ]
  },
  {
   "cell_type": "code",
   "execution_count": 52,
   "metadata": {},
   "outputs": [],
   "source": [
    "# Corrigindo o tipo do ano\n",
    "df['ano'] = df['ano'].apply(lambda x: x.split('–')[0]) # Ano de início\n",
    "df = df.astype({'ano': int})"
   ]
  },
  {
   "cell_type": "code",
   "execution_count": 53,
   "metadata": {},
   "outputs": [
    {
     "name": "stdout",
     "output_type": "stream",
     "text": [
      "<class 'pandas.core.frame.DataFrame'>\n",
      "RangeIndex: 100 entries, 0 to 99\n",
      "Data columns (total 5 columns):\n",
      "titulo     100 non-null object\n",
      "tipo       100 non-null object\n",
      "ano        100 non-null int64\n",
      "poster     100 non-null object\n",
      "id_imdb    100 non-null object\n",
      "dtypes: int64(1), object(4)\n",
      "memory usage: 4.0+ KB\n"
     ]
    }
   ],
   "source": [
    "df.info()"
   ]
  },
  {
   "cell_type": "code",
   "execution_count": 54,
   "metadata": {},
   "outputs": [
    {
     "data": {
      "image/png": "[encoded data removed]",
      "text/plain": [
       "<Figure size 432x288 with 1 Axes>"
      ]
     },
     "metadata": {},
     "output_type": "display_data"
    }
   ],
   "source": [
    "# Distribuição dos filmes por ano\n",
    "df['ano'].hist(edgecolor='black', grid=False);"
   ]
  },
  {
   "cell_type": "code",
   "execution_count": 56,
   "metadata": {},
   "outputs": [
    {
     "name": "stdout",
     "output_type": "stream",
     "text": [
      "['movie' 'series' 'game']\n"
     ]
    },
    {
     "data": {
      "text/plain": [
       "0    0\n",
       "1    0\n",
       "2    0\n",
       "3    0\n",
       "4    0\n",
       "Name: tipo, dtype: int64"
      ]
     },
     "execution_count": 56,
     "metadata": {},
     "output_type": "execute_result"
    }
   ],
   "source": [
    "# Transformando o tipo em uma coluna numérica\n",
    "print(df['tipo'].unique())\n",
    "\n",
    "df['tipo'] = df['tipo'].map({\n",
    "    'movie': 0,\n",
    "    'series': 1,\n",
    "    'game': 3\n",
    "})\n",
    "\n",
    "df['tipo'].head()"
   ]
  },
  {
   "cell_type": "code",
   "execution_count": 57,
   "metadata": {},
   "outputs": [
    {
     "data": {
      "image/png": "[encoded data removed]",
      "text/plain": [
       "<Figure size 432x288 with 1 Axes>"
      ]
     },
     "metadata": {},
     "output_type": "display_data"
    }
   ],
   "source": [
    "# Distribuição dos filmes por tipo\n",
    "df['tipo'].hist(edgecolor='black', grid=False);"
   ]
  },
  {
   "cell_type": "code",
   "execution_count": 58,
   "metadata": {},
   "outputs": [
    {
     "data": {
      "text/html": [
       "<div>\n",
       "<style scoped>\n",
       "    .dataframe tbody tr th:only-of-type {\n",
       "        vertical-align: middle;\n",
       "    }\n",
       "\n",
       "    .dataframe tbody tr th {\n",
       "        vertical-align: top;\n",
       "    }\n",
       "\n",
       "    .dataframe thead th {\n",
       "        text-align: right;\n",
       "    }\n",
       "</style>\n",
       "<table border=\"1\" class=\"dataframe\">\n",
       "  <thead>\n",
       "    <tr style=\"text-align: right;\">\n",
       "      <th></th>\n",
       "      <th>titulo</th>\n",
       "      <th>tipo</th>\n",
       "      <th>ano</th>\n",
       "      <th>poster</th>\n",
       "      <th>id_imdb</th>\n",
       "      <th>tam_titulo</th>\n",
       "    </tr>\n",
       "  </thead>\n",
       "  <tbody>\n",
       "    <tr>\n",
       "      <th>0</th>\n",
       "      <td>World War Z</td>\n",
       "      <td>0</td>\n",
       "      <td>2013</td>\n",
       "      <td>https://m.media-amazon.com/images/M/MV5BNDQ4Yz...</td>\n",
       "      <td>tt0816711</td>\n",
       "      <td>11</td>\n",
       "    </tr>\n",
       "    <tr>\n",
       "      <th>1</th>\n",
       "      <td>Captain America: Civil War</td>\n",
       "      <td>0</td>\n",
       "      <td>2016</td>\n",
       "      <td>https://m.media-amazon.com/images/M/MV5BMjQ0MT...</td>\n",
       "      <td>tt3498820</td>\n",
       "      <td>26</td>\n",
       "    </tr>\n",
       "    <tr>\n",
       "      <th>2</th>\n",
       "      <td>Avengers: Infinity War</td>\n",
       "      <td>0</td>\n",
       "      <td>2018</td>\n",
       "      <td>https://m.media-amazon.com/images/M/MV5BMjMxNj...</td>\n",
       "      <td>tt4154756</td>\n",
       "      <td>22</td>\n",
       "    </tr>\n",
       "    <tr>\n",
       "      <th>3</th>\n",
       "      <td>War of the Worlds</td>\n",
       "      <td>0</td>\n",
       "      <td>2005</td>\n",
       "      <td>https://m.media-amazon.com/images/M/MV5BNDUyOD...</td>\n",
       "      <td>tt0407304</td>\n",
       "      <td>17</td>\n",
       "    </tr>\n",
       "    <tr>\n",
       "      <th>4</th>\n",
       "      <td>Lord of War</td>\n",
       "      <td>0</td>\n",
       "      <td>2005</td>\n",
       "      <td>https://m.media-amazon.com/images/M/MV5BMTYzZW...</td>\n",
       "      <td>tt0399295</td>\n",
       "      <td>11</td>\n",
       "    </tr>\n",
       "  </tbody>\n",
       "</table>\n",
       "</div>"
      ],
      "text/plain": [
       "                       titulo  tipo   ano  \\\n",
       "0                 World War Z     0  2013   \n",
       "1  Captain America: Civil War     0  2016   \n",
       "2      Avengers: Infinity War     0  2018   \n",
       "3           War of the Worlds     0  2005   \n",
       "4                 Lord of War     0  2005   \n",
       "\n",
       "                                              poster    id_imdb  tam_titulo  \n",
       "0  https://m.media-amazon.com/images/M/MV5BNDQ4Yz...  tt0816711          11  \n",
       "1  https://m.media-amazon.com/images/M/MV5BMjQ0MT...  tt3498820          26  \n",
       "2  https://m.media-amazon.com/images/M/MV5BMjMxNj...  tt4154756          22  \n",
       "3  https://m.media-amazon.com/images/M/MV5BNDUyOD...  tt0407304          17  \n",
       "4  https://m.media-amazon.com/images/M/MV5BMTYzZW...  tt0399295          11  "
      ]
     },
     "execution_count": 58,
     "metadata": {},
     "output_type": "execute_result"
    }
   ],
   "source": [
    "# Adicionando nova coluna: tamanho do título\n",
    "df['tam_titulo'] = df['titulo'].apply(lambda x: len(x))\n",
    "df.head()"
   ]
  },
  {
   "cell_type": "code",
   "execution_count": 59,
   "metadata": {},
   "outputs": [
    {
     "data": {
      "text/plain": [
       "<matplotlib.axes._subplots.AxesSubplot at 0x7fae9d86a780>"
      ]
     },
     "execution_count": 59,
     "metadata": {},
     "output_type": "execute_result"
    },
    {
     "data": {
      "image/png": "[encoded data removed]",
      "text/plain": [
       "<Figure size 432x288 with 1 Axes>"
      ]
     },
     "metadata": {},
     "output_type": "display_data"
    }
   ],
   "source": [
    "df['tam_titulo'].hist(edgecolor='black', grid=False)"
   ]
  },
  {
   "cell_type": "code",
   "execution_count": 60,
   "metadata": {},
   "outputs": [],
   "source": [
    "# Salvando o dataset\n",
    "df.to_csv('filmes.csv', index=False)"
   ]
  },
  {
   "cell_type": "code",
   "execution_count": 61,
   "metadata": {},
   "outputs": [
    {
     "data": {
      "text/html": [
       "<h1>Hello, world!</h1>"
      ],
      "text/plain": [
       "<IPython.core.display.HTML object>"
      ]
     },
     "metadata": {},
     "output_type": "display_data"
    }
   ],
   "source": [
    "# Renderizando HTML\n",
    "from IPython.core.display import display, HTML\n",
    "\n",
    "display(HTML('<h1>Hello, world!</h1>'))"
   ]
  },
  {
   "cell_type": "code",
   "execution_count": 62,
   "metadata": {},
   "outputs": [
    {
     "name": "stdout",
     "output_type": "stream",
     "text": [
      "World War Z\n"
     ]
    },
    {
     "data": {
      "text/html": [
       "<img src=\"https://m.media-amazon.com/images/M/MV5BNDQ4YzFmNzktMmM5ZC00MDZjLTk1OTktNDE2ODE4YjM2MjJjXkEyXkFqcGdeQXVyNTA4NzY1MzY@._V1_SX300.jpg\" style=\"width: 20%\">"
      ],
      "text/plain": [
       "<IPython.core.display.HTML object>"
      ]
     },
     "metadata": {},
     "output_type": "display_data"
    },
    {
     "data": {
      "text/html": [
       "<hr>"
      ],
      "text/plain": [
       "<IPython.core.display.HTML object>"
      ]
     },
     "metadata": {},
     "output_type": "display_data"
    },
    {
     "name": "stdout",
     "output_type": "stream",
     "text": [
      "Captain America: Civil War\n"
     ]
    },
    {
     "data": {
      "text/html": [
       "<img src=\"https://m.media-amazon.com/images/M/MV5BMjQ0MTgyNjAxMV5BMl5BanBnXkFtZTgwNjUzMDkyODE@._V1_SX300.jpg\" style=\"width: 20%\">"
      ],
      "text/plain": [
       "<IPython.core.display.HTML object>"
      ]
     },
     "metadata": {},
     "output_type": "display_data"
    },
    {
     "data": {
      "text/html": [
       "<hr>"
      ],
      "text/plain": [
       "<IPython.core.display.HTML object>"
      ]
     },
     "metadata": {},
     "output_type": "display_data"
    },
    {
     "name": "stdout",
     "output_type": "stream",
     "text": [
      "Avengers: Infinity War\n"
     ]
    },
    {
     "data": {
      "text/html": [
       "<img src=\"https://m.media-amazon.com/images/M/MV5BMjMxNjY2MDU1OV5BMl5BanBnXkFtZTgwNzY1MTUwNTM@._V1_SX300.jpg\" style=\"width: 20%\">"
      ],
      "text/plain": [
       "<IPython.core.display.HTML object>"
      ]
     },
     "metadata": {},
     "output_type": "display_data"
    },
    {
     "data": {
      "text/html": [
       "<hr>"
      ],
      "text/plain": [
       "<IPython.core.display.HTML object>"
      ]
     },
     "metadata": {},
     "output_type": "display_data"
    },
    {
     "name": "stdout",
     "output_type": "stream",
     "text": [
      "War of the Worlds\n"
     ]
    },
    {
     "data": {
      "text/html": [
       "<img src=\"https://m.media-amazon.com/images/M/MV5BNDUyODAzNDI1Nl5BMl5BanBnXkFtZTcwMDA2NDAzMw@@._V1_SX300.jpg\" style=\"width: 20%\">"
      ],
      "text/plain": [
       "<IPython.core.display.HTML object>"
      ]
     },
     "metadata": {},
     "output_type": "display_data"
    },
    {
     "data": {
      "text/html": [
       "<hr>"
      ],
      "text/plain": [
       "<IPython.core.display.HTML object>"
      ]
     },
     "metadata": {},
     "output_type": "display_data"
    },
    {
     "name": "stdout",
     "output_type": "stream",
     "text": [
      "Lord of War\n"
     ]
    },
    {
     "data": {
      "text/html": [
       "<img src=\"https://m.media-amazon.com/images/M/MV5BMTYzZWE3MDAtZjZkMi00MzhlLTlhZDUtNmI2Zjg3OWVlZWI0XkEyXkFqcGdeQXVyNDk3NzU2MTQ@._V1_SX300.jpg\" style=\"width: 20%\">"
      ],
      "text/plain": [
       "<IPython.core.display.HTML object>"
      ]
     },
     "metadata": {},
     "output_type": "display_data"
    },
    {
     "data": {
      "text/html": [
       "<hr>"
      ],
      "text/plain": [
       "<IPython.core.display.HTML object>"
      ]
     },
     "metadata": {},
     "output_type": "display_data"
    }
   ],
   "source": [
    "# Exibindo os 5 primeiros pôsteres\n",
    "for i in range(5):\n",
    "    print(df['titulo'].iloc[i])\n",
    "    \n",
    "    display(HTML('<img src=\"{0}\" style=\"width: 20%\">'.format(df['poster'].iloc[i])))\n",
    "    display(HTML('<hr>'))"
   ]
  },
  {
   "cell_type": "markdown",
   "metadata": {},
   "source": [
    "## Atividade para sala\n",
    "\n",
    "Criar seu próprio dataset (tema livre) coletando dados de um site ou API. O dataset produzido precisa ter <strong>no mínimo</strong>:\n",
    "\n",
    "<ul>\n",
    "    <li>500 registros (linhas)</li>\n",
    "    <li>6 features (colunas)</li>\n",
    "</ul>\n",
    "\n",
    "Salvar o dataset no formato CSV."
   ]
  },
  {
   "cell_type": "markdown",
   "metadata": {},
   "source": [
    "## Atividade para casa\n",
    "\n",
    "\n",
    "Realizar a análise exploratória do seu dataset, e apresentar para a turma na próxima aula, na forma de apresentação de slides."
   ]
  }
 ],
 "metadata": {
  "kernelspec": {
   "display_name": "Python 3",
   "language": "python",
   "name": "python3"
  },
  "language_info": {
   "codemirror_mode": {
    "name": "ipython",
    "version": 3
   },
   "file_extension": ".py",
   "mimetype": "text/x-python",
   "name": "python",
   "nbconvert_exporter": "python",
   "pygments_lexer": "ipython3",
   "version": "3.6.4"
  }
 },
 "nbformat": 4,
 "nbformat_minor": 2
}
