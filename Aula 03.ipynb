{
 "cells": [
  {
   "cell_type": "markdown",
   "metadata": {},
   "source": [
    "## Instituto Federal do Sudeste de Minas Gerais, Campus Barbacena\n",
    "### Projeto Laboratório de Redes de Conhecimento"
   ]
  },
  {
   "cell_type": "markdown",
   "metadata": {},
   "source": [
    "## Curso de Mineração de Dados Aplicada\n",
    "\n",
    "Prof. Rafael José de Alencar Almeida\n",
    "<rafael.alencar@ifsudestemg.edu.br>\n",
    "\n",
    "### Aula 3:  Coleta de Dados\n",
    "\n",
    "Nesta aula iremos aprender como criar nosso próprio dataset, coletando dados de uma página web ou API."
   ]
  },
  {
   "cell_type": "markdown",
   "metadata": {},
   "source": [
    "### Biblioteca requests\n",
    "\n",
    "Biblioteca para requisições web (HTTP).\n",
    "\n",
    "<code>pip install requests</code>"
   ]
  },
  {
   "cell_type": "code",
   "execution_count": 1,
   "metadata": {},
   "outputs": [],
   "source": [
    "import requests\n",
    "\n",
    "# Realiza uma requisição HTTP GET\n",
    "req = requests.get('https://barbacenaonline.com.br/')"
   ]
  },
  {
   "cell_type": "code",
   "execution_count": 2,
   "metadata": {},
   "outputs": [
    {
     "data": {
      "text/plain": [
       "<Response [200]>"
      ]
     },
     "execution_count": 2,
     "metadata": {},
     "output_type": "execute_result"
    }
   ],
   "source": [
    "req"
   ]
  },
  {
   "cell_type": "code",
   "execution_count": 3,
   "metadata": {},
   "outputs": [
    {
     "data": {
      "text/plain": [
       "{'Date': 'Mon, 05 Nov 2018 23:09:04 GMT', 'Server': 'Apache', 'Vary': 'Accept-Encoding,User-Agent', 'Last-Modified': 'Mon, 05 Nov 2018 20:43:01 GMT', 'Accept-Ranges': 'bytes', 'Content-Length': '26639', 'Cache-Control': 'max-age=0', 'Expires': 'Mon, 05 Nov 2018 23:09:04 GMT', 'Keep-Alive': 'timeout=5, max=100', 'Connection': 'Keep-Alive', 'Content-Type': 'text/html; charset=UTF-8', 'Content-Encoding': 'gzip'}"
      ]
     },
     "execution_count": 3,
     "metadata": {},
     "output_type": "execute_result"
    }
   ],
   "source": [
    "req.headers"
   ]
  },
  {
   "cell_type": "code",
   "execution_count": 4,
   "metadata": {},
   "outputs": [
    {
     "data": {
      "text/plain": [
       "'Apache'"
      ]
     },
     "execution_count": 4,
     "metadata": {},
     "output_type": "execute_result"
    }
   ],
   "source": [
    "req.headers['Server']"
   ]
  },
  {
   "cell_type": "code",
   "execution_count": 5,
   "metadata": {},
   "outputs": [
    {
     "data": {
      "text/plain": [
       "200"
      ]
     },
     "execution_count": 5,
     "metadata": {},
     "output_type": "execute_result"
    }
   ],
   "source": [
    "req.status_code"
   ]
  },
  {
   "cell_type": "code",
   "execution_count": 6,
   "metadata": {},
   "outputs": [
    {
     "data": {
      "text/plain": [
       "'OK'"
      ]
     },
     "execution_count": 6,
     "metadata": {},
     "output_type": "execute_result"
    }
   ],
   "source": [
    "req.reason"
   ]
  },
  {
   "cell_type": "code",
   "execution_count": 7,
   "metadata": {},
   "outputs": [
    {
     "data": {
      "text/plain": [
       "'<!DOCTYPE html> <!--[if IE 8]><html class=\"ie ie8\" lang=\"pt-BR\"> <![endif]--> <!--[if IE 9]><html class=\"ie ie9\" lang=\"pt-BR\"> <![endif]--> <!--[if gt IE 9]><!--><html lang=\"pt-BR\"> <!--<![endif]--><head><link rel=\"stylesheet\" href=\"https://fonts.googleapis.com/css?family=Roboto:400,700,500,400italic%7CLato:400\" /><link rel=\"stylesheet\" href=\"https://barbacenaonline.com.br/application/cache/min/1/c8a53adb1bc3c8f215c452ae65c67051.css\" data-minify=\"1\" /><script type=\\'text/javascript\\' src=\\'https://barbacenaonline.com.br/application/cache/busting/1/wp-includes/js/jquery/jquery-1.12.4.js\\'></script><script async src=\"//pagead2.googlesyndication.com/pagead/js/adsbygoogle.js\"></script><script async src=\"//pagead2.googlesyndication.com/pagead/js/adsbygoogle.js\"></script><script async src=\"//pagead2.googlesyndication.com/pagead/js/adsbygoogle.js\"></script><script async src=\"//pagead2.googlesyndication.com/pagead/js/adsbygoogle.js\"></script><script async src=\"//pagead2.googlesyndication.com/pagead/js/adsbygoogle.js\"></script><script async src=\"//pagead2.googlesyndication.com/pagead/js/adsbygoogle.js\"></script><script async src=\"//pagead2.googlesyndication.com/pagead/js/adsbygoogle.js\"></script><script src=\"https://barbacenaonline.com.br/application/cache/min/1/9fdf312bd921dbf1d125cd013abfe65e.js\" data-minify=\"1\" defer></script> <meta charset=\"UTF-8\"><meta http-equiv=\"X-UA-Compatible\" content=\"IE=edge\"><meta name=\"viewport\" content=\"width=device-width, initial-scale=1.0\"><link rel=\"pingback\" href=\"https://barbacenaonline.com.br/xmlrpc.php\"/><title>Barbacena Online &#8211; Notícias em Barbacena e região</title><meta property=\"og:locale\" content=\"pt_br\"/><meta property=\"og:site_name\" content=\"Barbacena Online\"/><meta property=\"og:url\" content=\"https://barbacenaonline.com.br/\"/><meta property=\"og:title\" content=\"Barbacena Online\"/><meta property=\"og:description\" content=\"Notícias em Barbacena e região\"/><meta property=\"og:type\" content=\"website\"/><meta name=\"twitter:card\" content=\"summary\"/><meta name=\"twitter:url\" content=\"https://barbacenaonline.com.br/\"/><meta name=\"twitter:title\" content=\"Barbacena Online\"/><meta name=\"twitter:description\" content=\"Notícias em Barbacena e região\"/><link rel=\\'dns-prefetch\\' href=\\'//fonts.googleapis.com\\' /><link rel=\\'dns-prefetch\\' href=\\'//s.w.org\\' /><link rel=\"alternate\" type=\"application/rss+xml\" title=\"Feed para Barbacena Online &raquo;\" href=\"https://barbacenaonline.com.br/feed/\" /><link rel=\"alternate\" type=\"application/rss+xml\" title=\"Feed de comentários para Barbacena Online &raquo;\" href=\"https://barbacenaonline.com.br/comments/feed/\" /><style type=\"text/css\">img.wp-smiley,img.emoji{display:inline!important;border:none!important;box-shadow:none!important;height:1em!important;width:1em!important;margin:0 .07em!important;vertical-align:-0.1em!important;background:none!important;padding:0!important}</style><style id=\\'rs-plugin-settings-inline-css\\' type=\\'text/css\\'></style><!--[if lt IE 9]> <script type=\\'text/javascript\\' src=\\'https://barbacenaonline.com.br/application/themes/publisher/includes/libs/better-framework/assets/js/html5shiv.min.js?ver=3.5.3\\' defer></script> <![endif]--> <!--[if lt IE 9]> <script type=\\'text/javascript\\' src=\\'https://barbacenaonline.com.br/application/themes/publisher/includes/libs/better-framework/assets/js/respond.min.js?ver=3.5.3\\' defer></script> <![endif]--><link rel=\\'https://api.w.org/\\' href=\\'https://barbacenaonline.com.br/wp-json/\\' /><link rel=\"EditURI\" type=\"application/rsd+xml\" title=\"RSD\" href=\"https://barbacenaonline.com.br/xmlrpc.php?rsd\" /><link rel=\"wlwmanifest\" type=\"application/wlwmanifest+xml\" href=\"https://barbacenaonline.com.br/wp-includes/wlwmanifest.xml\" /><meta name=\"generator\" content=\"WordPress 4.9.8\" /><link rel=\"canonical\" href=\"https://barbacenaonline.com.br/\" /><link rel=\\'shortlink\\' href=\\'https://barbacenaonline.com.br/\\' /><link rel=\"amphtml\" href=\"https://barbacenaonline.com.br/amp/\"/><meta name=\"generator\" content=\"Powered by WPBakery Page Builder - drag and drop page builder for WordPress.\"/> <!--[if lte IE 9]><link rel=\"stylesheet\" type=\"text/css\" href=\"https://barbacenaonline.com.br/application/plugins/js_composer/assets/css/vc_lte_ie9.min.css\" media=\"screen\"><![endif]--><script type=\"application/ld+json\">{\\n    \"@context\": \"http:\\\\/\\\\/schema.org\\\\/\",\\n    \"@type\": \"organization\",\\n    \"@id\": \"#organization\",\\n    \"logo\": {\\n        \"@type\": \"ImageObject\",\\n        \"url\": \"http:\\\\/\\\\/barbacenaonline.com.br\\\\/application\\\\/uploads\\\\/2018\\\\/04\\\\/logo-1.png\"\\n    },\\n    \"url\": \"https:\\\\/\\\\/barbacenaonline.com.br\\\\/\",\\n    \"name\": \"Barbacena Online\",\\n    \"description\": \"Not\\\\u00edcias em Barbacena e regi\\\\u00e3o\"\\n}</script> <script type=\"application/ld+json\">{\\n    \"@context\": \"http:\\\\/\\\\/schema.org\\\\/\",\\n    \"@type\": \"WebSite\",\\n    \"name\": \"Barbacena Online\",\\n    \"alternateName\": \"Not\\\\u00edcias em Barbacena e regi\\\\u00e3o\",\\n    \"url\": \"https:\\\\/\\\\/barbacenaonline.com.br\\\\/\",\\n    \"potentialAction\": {\\n        \"@type\": \"SearchAction\",\\n        \"target\": \"https:\\\\/\\\\/barbacenaonline.com.br\\\\/search\\\\/{search_term}\",\\n        \"query-input\": \"required name=search_term\"\\n    }\\n}</script> <meta name=\"generator\" content=\"Powered by Slider Revolution 5.4.8 - responsive, Mobile-Friendly Slider Plugin for WordPress with comfortable drag and drop interface.\" /><link rel=\"icon\" href=\"https://barbacenaonline.com.br/application/uploads/2018/10/favcon-barbacena.png\" sizes=\"32x32\" /><link rel=\"icon\" href=\"https://barbacenaonline.com.br/application/uploads/2018/10/favcon-barbacena.png\" sizes=\"192x192\" /><link rel=\"apple-touch-icon-precomposed\" href=\"https://barbacenaonline.com.br/application/uploads/2018/10/favcon-barbacena.png\" /><meta name=\"msapplication-TileImage\" content=\"https://barbacenaonline.com.br/application/uploads/2018/10/favcon-barbacena.png\" /> <script type=\"text/javascript\">function setREVStartSize(e){\\t\\t\\t\\t\\t\\t\\t\\t\\t\\n\\t\\t\\t\\t\\t\\ttry{ e.c=jQuery(e.c);var i=jQuery(window).width(),t=9999,r=0,n=0,l=0,f=0,s=0,h=0;\\n\\t\\t\\t\\t\\t\\t\\tif(e.responsiveLevels&&(jQuery.each(e.responsiveLevels,function(e,f){f>i&&(t=r=f,l=e),i>f&&f>r&&(r=f,n=e)}),t>r&&(l=n)),f=e.gridheight[l]||e.gridheight[0]||e.gridheight,s=e.gridwidth[l]||e.gridwidth[0]||e.gridwidth,h=i/s,h=h>1?1:h,f=Math.round(h*f),\"fullscreen\"==e.sliderLayout){var u=(e.c.width(),jQuery(window).height());if(void 0!=e.fullScreenOffsetContainer){var c=e.fullScreenOffsetContainer.split(\",\");if (c) jQuery.each(c,function(e,i){u=jQuery(i).length>0?u-jQuery(i).outerHeight(!0):u}),e.fullScreenOffset.split(\"%\").length>1&&void 0!=e.fullScreenOffset&&e.fullScreenOffset.length>0?u-=jQuery(window).height()*parseInt(e.fullScreenOffset,0)/100:void 0!=e.fullScreenOffset&&e.fullScreenOffset.length>0&&(u-=parseInt(e.fullScreenOffset,0))}f=u}else void 0!=e.minHeight&&f<e.minHeight&&(f=e.minHeight);e.c.closest(\".rev_slider_wrapper\").css({height:f})\\t\\t\\t\\t\\t\\n\\t\\t\\t\\t\\t\\t}catch(d){console.log(\"Failure at Presize of Slider:\"+d)}\\t\\t\\t\\t\\t\\t\\n\\t\\t\\t\\t\\t};</script> <style>@media(min-width:1019px){.bs-pinning-wrapper{display:none}}@media(max-width:490px){.bsac-hide-on-phone{display:block}}section.post-author{display:none}.post-share-btn-group{display:none}</style><style type=\"text/css\" id=\"wp-custom-css\">a.post-author-a.post-author-avatar,.post-meta .post-author-avatar img,.post-meta.single-post-meta .post-author-name{display:none!important}.listing-item.listing-mg-type-1 .title.title a.post-url.post-url,.listing-item.listing-mg-type-1 .title.title a.post-url.post-url:hover{text-transform:none!important}.post-template-1 .single-post-title{font-size:35px;text-transform:none!important}</style><style type=\"text/css\" data-type=\"vc_custom-css\">.grid-principal .listing .listing-item{margin:10px}.grid-principal .listing .mg-col-1 .listing-item{margin-left:0}.term-badges.floated{display:none}.hide-last1 .listing.columns-4 .listing-item:nth-child(5){display:none}.hide-last2 .listing.columns-4 .listing-item:nth-child(5){display:none}.hide-last3 .listing.columns-4 .listing-item:nth-child(5){display:none}.hide-last .section-heading.sh-t1.sh-s1{display:none}</style><noscript><style type=\"text/css\">.wpb_animate_when_almost_visible{opacity:1}</style></noscript>  <script async src=\"https://www.googletagmanager.com/gtag/js?id=UA-75282302-2\"></script> <script>window.dataLayer = window.dataLayer || [];\\n  function gtag(){dataLayer.push(arguments);}\\n  gtag(\\'js\\', new Date());\\n\\n  gtag(\\'config\\', \\'UA-75282302-2\\');</script> <script>(adsbygoogle = window.adsbygoogle || []).push({\\n          google_ad_client: \"ca-pub-6484653955591833\",\\n          enable_page_level_ads: true\\n     });</script> </head><body class=\"home page-template-default page page-id-91 active-light-box ltr close-rh page-layout-3-col-0 full-width active-sticky-sidebar main-menu-sticky-smart active-ajax-search  wpb-js-composer js-comp-ver-5.5.5 vc_responsive bs-ll-a\" dir=\"ltr\"><div class=\"off-canvas-overlay\"></div><div class=\"off-canvas-container left skin-white\"><div class=\"off-canvas-inner\"> <spn class=\"canvas-close\"><i></i></spn><div class=\"off-canvas-header\"><div class=\"site-description\">Take a fresh look at your lifestyle.</div></div><div class=\"off-canvas-search\"><form role=\"search\" method=\"get\" action=\"https://barbacenaonline.com.br\"> <input type=\"text\" name=\"s\" value=\"\"\\nplaceholder=\"Pesquisa...\"> <i class=\"fa fa-search\"></i></form></div><div class=\"off-canvas-menu\"><div class=\"off-canvas-menu-fallback\"></div></div><div class=\"off_canvas_footer\"><div class=\"off_canvas_footer-info entry-content\"></div></div></div></div><div class=\"main-wrap content-main-wrap\"> <iframe src=\"https://player.hstbr.net/barbacenaonline\" width=\"100%\" height=\"60\"></iframe><header id=\"header\" class=\"site-header header-style-2 full-width\" itemscope=\"itemscope\" itemtype=\"https://schema.org/WPHeader\"><style type=\"text/css\">iframe{border:none}</style><section class=\"topbar topbar-style-1 hidden-xs hidden-xs\"><div class=\"content-wrap\"><div class=\"container\"><div class=\"topbar-inner clearfix\"><div class=\"section-menu\"><div id=\"menu-top\" class=\"menu top-menu-wrapper\" role=\"navigation\" itemscope=\"itemscope\" itemtype=\"https://schema.org/SiteNavigationElement\"><nav class=\"top-menu-container\"><ul id=\"top-navigation\" class=\"top-menu menu clearfix bsm-pure\"><li id=\"menu-item-182\" class=\"menu-item menu-item-type-post_type menu-item-object-page better-anim-fade menu-item-182\"><a href=\"https://barbacenaonline.com.br/todas-noticias/\">Todas as notícias</a></li><li id=\"menu-item-111\" class=\"menu-item menu-item-type-post_type menu-item-object-page better-anim-fade menu-item-111\"><a href=\"https://barbacenaonline.com.br/sobre-nos/\">Quem Somos</a></li><li id=\"menu-item-1557\" class=\"menu-item menu-item-type-post_type menu-item-object-page better-anim-fade menu-item-1557\"><a href=\"https://barbacenaonline.com.br/music/\">Premiere Rádio</a></li><li id=\"menu-item-101\" class=\"menu-item menu-item-type-post_type menu-item-object-page better-anim-fade menu-item-101\"><a href=\"https://barbacenaonline.com.br/contato/\">Contato</a></li></ul></nav></div></div></div></div></div></section><div class=\"header-inner\"><div class=\"content-wrap\"><div class=\"container\"><div class=\"row\"><div class=\"row-height\"><div class=\"logo-col col-xs-4\"><div class=\"col-inside\"><div id=\"site-branding\" class=\"site-branding\"><h1  id=\"site-title\" class=\"logo h1 img-logo\"> <a href=\"https://barbacenaonline.com.br/\" itemprop=\"url\" rel=\"home\"> <img id=\"site-logo\" src=\"https://barbacenaonline.com.br/application/uploads/2018/04/logo-1.png\"\\nalt=\"Publisher\"  /><span class=\"site-title\">Publisher - Notícias em Barbacena e região</span> </a></h1></div></div></div><div class=\"sidebar-col col-xs-8\"><div class=\"col-inside\"><aside id=\"sidebar\" class=\"sidebar\" role=\"complementary\" itemscope=\"itemscope\" itemtype=\"https://schema.org/WPSideBar\"><div class=\"bsac bsac-clearfix adloc-is-banner adloc-show-desktop adloc-show-tablet-portrait adloc-show-tablet-landscape location-header_aside_logo bsac-align-right bsac-column-1 bsac-hide-on-phone\"><div id=\"bsac-16-555025601\" class=\"bsac-container bsac-type-image  bsac-hide-on-phone\" itemscope=\"\" itemtype=\"https://schema.org/WPAdBlock\" data-adid=\"16\" data-type=\"image\"><a itemprop=\"url\" class=\"bsac-link\" href=\"https://ofertas.vw.com.br/barbacena-MG\" target=\"_blank\" ><img class=\"bsac-image\" src=\"https://barbacenaonline.com.br/application/uploads/2018/11/APEC-nov18.jpg\" alt=\"- Advertisement -\" /></a><p class=\"bsac-caption\">- Advertisement -</p></div></div></aside></div></div></div></div></div></div></div><div id=\"menu-main\" class=\"menu main-menu-wrapper show-search-item show-off-canvas menu-actions-btn-width-2\" role=\"navigation\" itemscope=\"itemscope\" itemtype=\"https://schema.org/SiteNavigationElement\"><div class=\"main-menu-inner\"><div class=\"content-wrap\"><div class=\"container\"><nav class=\"main-menu-container\"><ul id=\"main-navigation\" class=\"main-menu menu bsm-pure clearfix\"></ul><div class=\"menu-action-buttons width-2\"><div class=\"off-canvas-menu-icon-container off-icon-left\"><div class=\"off-canvas-menu-icon\"><div class=\"off-canvas-menu-icon-el\"></div></div></div><div class=\"search-container close\"> <span class=\"search-handler\"><i class=\"fa fa-search\"></i></span><div class=\"search-box clearfix\"><form role=\"search\" method=\"get\" class=\"search-form clearfix\" action=\"https://barbacenaonline.com.br\"> <input type=\"search\" class=\"search-field\"\\nplaceholder=\"Pesquisa...\"\\nvalue=\"\" name=\"s\"\\ntitle=\"Procurar por:\"\\nautocomplete=\"off\"> <input type=\"submit\" class=\"search-submit\" value=\"Pesquisa\"></form></div></div></div></nav></div></div></div></div></header><div class=\"rh-header clearfix light deferred-block-exclude\"><div class=\"rh-container clearfix\"><div class=\"menu-container close\"> <span class=\"menu-handler\"><span class=\"lines\"></span></span></div><div class=\"logo-container\"> <a href=\"https://barbacenaonline.com.br/\" itemprop=\"url\" rel=\"home\"> <img src=\"https://barbacenaonline.com.br/application/uploads/2018/06/logo-1.png\"\\nalt=\"Barbacena Online\"  /> </a></div><div class=\"col-xs-12\"><div class=\"bsac bsac-clearfix adloc-is-banner adloc-show-desktop adloc-show-tablet-portrait adloc-show-tablet-landscape location-header_aside_logo bsac-align-right bsac-column-1 bsac-hide-on-phone\"><div id=\"bsac-16-419715536\" class=\"bsac-container bsac-type-image  bsac-hide-on-phone\" itemscope=\"\" itemtype=\"https://schema.org/WPAdBlock\" data-adid=\"16\" data-type=\"image\"><a itemprop=\"url\" class=\"bsac-link\" href=\"https://ofertas.vw.com.br/barbacena-MG\" target=\"_blank\" ><img class=\"bsac-image\" src=\"https://barbacenaonline.com.br/application/uploads/2018/11/APEC-nov18.jpg\" alt=\"- Advertisement -\" /></a><p class=\"bsac-caption\">- Advertisement -</p></div></div></div></div></div><main id=\"content\" class=\"content-container\"><div class=\"layout-3-col layout-3-col-0\"><div class=\"row main-section\"><div class=\"col-sm-12 content-column\"><div class=\"single-container bs-vc-content\"><div class=\"row vc_row wpb_row vc_row-fluid grid-principal\"><div class=\"bs-vc-wrapper\"><div class=\"wpb_column bs-vc-column vc_column_container vc_col-sm-12\"><div class=\"bs-vc-wrapper wpb_wrapper\"><div class=\" bs-listing bs-listing-modern-grid-listing-2 bs-listing-single-tab\"><div\\nclass=\"listing listing-modern-grid listing-modern-grid-2 clearfix slider-overlay-simple-gr\"><div class=\"mg-col mg-col-1\"><article class=\"post-6040 type-post format-standard has-post-thumbnail  listing-item-1 listing-item listing-mg-item listing-mg-2-item listing-mg-type-1 main-term-23\"><div class=\"item-content\"> <a  title=\"Presídio de São João del-Rei ganha novas vagas\" data-src=\"https://barbacenaonline.com.br/application/themes/publisher/images/default-thumb/publisher-lg.png\"\\t\\t\\t\\tclass=\"img-cont\" href=\"https://barbacenaonline.com.br/presidio-de-sao-joao-del-rei-ganha-novas-vagas/\"></a><div class=\"term-badges floated\"><span class=\"term-badge term-23\"><a href=\"https://barbacenaonline.com.br/category/regiao/\">Região</a></span></div><div class=\"content-container\"><h2 class=\"title\"> <a href=\"https://barbacenaonline.com.br/presidio-de-sao-joao-del-rei-ganha-novas-vagas/\" class=\"post-url post-title\"> Presídio de São João del-Rei ganha novas vagas </a></h2><div class=\"post-meta\"><span class=\"time\"><time class=\"post-published updated\"\\ndatetime=\"2018-11-05T18:41:43+00:00\">5 nov, 2018</time></span></div></div></div></article ></div><div class=\"mg-col mg-col-2\"><div class=\"mg-row mg-row-1 clearfix\"><div class=\"item-2-cont\"><article class=\"post-6036 type-post format-standard has-post-thumbnail  listing-item-2 listing-item listing-mg-item listing-mg-2-item listing-mg-type-1 main-term-22\"><div class=\"item-content\"> <a  title=\"Homem atingido nas nádegas por disparo de arma de fogo\" data-src=\"https://barbacenaonline.com.br/application/uploads/2018/06/Arma-1306-e1528897950308-279x220.jpg\" data-bs-srcset=\"{&quot;baseurl&quot;:&quot;https:\\\\/\\\\/barbacenaonline.com.br\\\\/application\\\\/uploads\\\\/2018\\\\/06\\\\/&quot;,&quot;sizes&quot;:{&quot;210&quot;:&quot;Arma-1306-e1528897950308-210x136.jpg&quot;,&quot;279&quot;:&quot;Arma-1306-e1528897950308-279x220.jpg&quot;,&quot;357&quot;:&quot;Arma-1306-e1528897950308-357x210.jpg&quot;,&quot;612&quot;:&quot;Arma-1306-e1528897950308.jpg&quot;}}\"\\t\\t\\t\\tclass=\"img-cont\" href=\"https://barbacenaonline.com.br/homem-atingido-nas-nadegas-por-disparo-de-arma-de-fogo/\"></a><div class=\"term-badges floated\"><span class=\"term-badge term-22\"><a href=\"https://barbacenaonline.com.br/category/cidade/\">Cidade</a></span></div><div class=\"content-container\"><h2 class=\"title\"> <a href=\"https://barbacenaonline.com.br/homem-atingido-nas-nadegas-por-disparo-de-arma-de-fogo/\" class=\"post-url post-title\"> Homem atingido nas nádegas por disparo de arma de fogo </a></h2></div></div></article ></div><div class=\"item-3-cont\"><article class=\"post-6025 type-post format-standard has-post-thumbnail  listing-item-3 listing-item listing-mg-item listing-mg-2-item listing-mg-type-1 main-term-25\"><div class=\"item-content\"> <a  title=\"Sine divulga 17 vagas de emprego com salários de até R$3.816\" data-src=\"https://barbacenaonline.com.br/application/uploads/2018/04/RAIS-642x336-279x220.jpg\" data-bs-srcset=\"{&quot;baseurl&quot;:&quot;https:\\\\/\\\\/barbacenaonline.com.br\\\\/application\\\\/uploads\\\\/2018\\\\/04\\\\/&quot;,&quot;sizes&quot;:{&quot;210&quot;:&quot;RAIS-642x336-210x136.jpg&quot;,&quot;279&quot;:&quot;RAIS-642x336-279x220.jpg&quot;,&quot;357&quot;:&quot;RAIS-642x336-357x210.jpg&quot;,&quot;642&quot;:&quot;RAIS-642x336.jpg&quot;}}\"\\t\\t\\t\\tclass=\"img-cont\" href=\"https://barbacenaonline.com.br/sine-divulga-17-vagas-de-emprego-com-salarios-de-ate-r3-816/\"></a><div class=\"term-badges floated\"><span class=\"term-badge term-25\"><a href=\"https://barbacenaonline.com.br/category/articulistas/\">Articulistas</a></span></div><div class=\"content-container\"><h2 class=\"title\"> <a href=\"https://barbacenaonline.com.br/sine-divulga-17-vagas-de-emprego-com-salarios-de-ate-r3-816/\" class=\"post-url post-title\"> Sine divulga 17 vagas de emprego com salários de até R$3.816 </a></h2></div></div></article ></div></div><div class=\"mg-row mg-row-2 clearfix\"><div class=\"item-4-cont\"><article class=\"post-6017 type-post format-standard has-post-thumbnail  listing-item-4 listing-item listing-mg-item listing-mg-2-item listing-mg-type-1 main-term-22\"><div class=\"item-content\"> <a  title=\"Dupla presa em flagrante comprava drogas em SJDR e distribuía em Barbacena\" data-src=\"https://barbacenaonline.com.br/application/uploads/2018/06/Drogas-0406-e1528125906272.jpg\" data-bs-srcset=\"{&quot;baseurl&quot;:&quot;https:\\\\/\\\\/barbacenaonline.com.br\\\\/application\\\\/uploads\\\\/2018\\\\/06\\\\/&quot;,&quot;sizes&quot;:{&quot;162&quot;:&quot;Drogas-0406-e1528125906272.jpg&quot;,&quot;163&quot;:&quot;Drogas-0406-e1528125802573-163x136.jpg&quot;,&quot;168&quot;:&quot;Drogas-0406-168x210.jpg&quot;}}\"\\t\\t\\t\\tclass=\"img-cont\" href=\"https://barbacenaonline.com.br/dupla-presa-em-flagrante-comprava-drogas-em-sjdr-e-distribuia-em-barbacena/\"></a><div class=\"term-badges floated\"><span class=\"term-badge term-22\"><a href=\"https://barbacenaonline.com.br/category/cidade/\">Cidade</a></span></div><div class=\"content-container\"><h2 class=\"title\"> <a href=\"https://barbacenaonline.com.br/dupla-presa-em-flagrante-comprava-drogas-em-sjdr-e-distribuia-em-barbacena/\" class=\"post-url post-title\"> Dupla presa em flagrante comprava drogas em SJDR e distribuía em&hellip; </a></h2></div></div></article ></div><div class=\"item-5-cont\"><article class=\"post-6009 type-post format-standard has-post-thumbnail  listing-item-5 listing-item listing-mg-item listing-mg-2-item listing-mg-type-1 main-term-23\"><div class=\"item-content\"> <a  title=\"Congresso de Medicina Antroposófica põe em discussão as Práticas Integrativas\" data-src=\"https://barbacenaonline.com.br/application/uploads/2018/11/SJDR-279x211.jpg\" data-bs-srcset=\"{&quot;baseurl&quot;:&quot;https:\\\\/\\\\/barbacenaonline.com.br\\\\/application\\\\/uploads\\\\/2018\\\\/11\\\\/&quot;,&quot;sizes&quot;:{&quot;210&quot;:&quot;SJDR-210x136.jpg&quot;,&quot;279&quot;:&quot;SJDR-279x211.jpg&quot;,&quot;357&quot;:&quot;SJDR-357x210.jpg&quot;,&quot;415&quot;:&quot;SJDR.jpg&quot;}}\"\\t\\t\\t\\tclass=\"img-cont\" href=\"https://barbacenaonline.com.br/congresso-de-medicina-antroposofica-poe-em-discussao-as-praticas-integrativas/\"></a><div class=\"term-badges floated\"><span class=\"term-badge term-23\"><a href=\"https://barbacenaonline.com.br/category/regiao/\">Região</a></span></div><div class=\"content-container\"><h2 class=\"title\"> <a href=\"https://barbacenaonline.com.br/congresso-de-medicina-antroposofica-poe-em-discussao-as-praticas-integrativas/\" class=\"post-url post-title\"> Congresso de Medicina Antroposófica põe em discussão as Práticas&hellip; </a></h2></div></div></article ></div></div></div></div></div></div></div></div></div><div class=\"row vc_row wpb_row vc_row-fluid\"><div class=\"bs-vc-wrapper\"><div class=\"wpb_column bs-vc-column vc_column_container vc_col-sm-12\"><div class=\"bs-vc-wrapper wpb_wrapper\"><div class=\"bscb-50506 bsb-have-heading-color bs-listing bs-listing-listing-grid-1 bs-listing-single-tab\"><style>.bscb-50506 .section-heading.sh-t3 a.active,.bscb-50506.bscb-50506 .section-heading.sh-t3 .main-link:first-child:last-child .h-text,.bscb-50506 .section-heading.sh-t3>.h-text,.bscb-50506.bscb-50506 .section-heading.sh-t3.sh-s8>.h-text,.bscb-50506.bscb-50506 .section-heading.sh-t3.sh-s8>a.main-link>.h-text{color:#db0e21}.bscb-50506 .section-heading.sh-t3 a:hover .h-text,.bscb-50506 .section-heading.sh-t3 a.active .h-text{color:#db0e21!important}.bscb-50506.bscb-50506 .section-heading.sh-t3:after{background-color:#db0e21!important}.bscb-50506.bscb-50506 .section-heading.sh-t3.sh-s8>.main-link>.h-text,.bscb-50506.bscb-50506 .section-heading.sh-t3.sh-s8>a:last-child:first-child>.h-text,.bscb-50506.bscb-50506 .section-heading.sh-t3.sh-s8>a:last-child:first-child>.h-text,.bscb-50506.bscb-50506 .section-heading.sh-t3.sh-s8>.h-text:last-child:first-child{border-color:#db0e21}.bscb-50506.bscb-50506 .listing-item:hover .title a,.bscb-50506.bscb-50506 .listing-item-text-1 .post-meta a:hover,.bscb-50506.bscb-50506 .listing-item-grid .post-meta a:hover,.bscb-50506.bscb-50506 .listing-item .rating-stars span:before{color:#db0e21!important}.bscb-50506.bscb-50506 .listing-item .rating-bar span{background-color:#db0e21!important}.bscb-50506 .bs-pagination .btn-bs-pagination:hover,.bscb-50506 .btn-bs-pagination.bs-pagination-in-loading{background-color:#db0e21!important;border-color:#db0e21!important;color:#fff!important}.bscb-50506 .listing-item-text-2:hover .item-inner{border-color:#db0e21!important}.bscb-50506.bscb-50506.bscb-50506.bscb-50506 .term-badges.floated .term-badge a,.bscb-50506.bscb-50506 .bs-pagination-wrapper .bs-loading>div{background-color:#db0e21!important;color:#fff!important}</style><div class=\"listing listing-grid listing-grid-1 clearfix columns-4\"><article class=\"post-5944 type-post format-standard has-post-thumbnail   listing-item listing-item-grid listing-item-grid-1 main-term-22\"><div class=\"item-inner\"><div class=\"featured clearfix\"> <a  title=\"Testes no trânsito são prorrogados\" data-src=\"https://barbacenaonline.com.br/application/uploads/2018/10/MudançaTrânsitoIbiapaba-e1541122362505-271x210.jpg\" data-bs-srcset=\"{&quot;baseurl&quot;:&quot;https:\\\\/\\\\/barbacenaonline.com.br\\\\/application\\\\/uploads\\\\/2018\\\\/10\\\\/&quot;,&quot;sizes&quot;:{&quot;210&quot;:&quot;Mudan\\\\u00e7aTr\\\\u00e2nsitoIbiapaba-e1541122362505-210x136.jpg&quot;,&quot;271&quot;:&quot;Mudan\\\\u00e7aTr\\\\u00e2nsitoIbiapaba-e1541122362505.jpg&quot;,&quot;279&quot;:&quot;Mudan\\\\u00e7aTr\\\\u00e2nsitoIbiapaba-e1540952253807-279x220.jpg&quot;,&quot;750&quot;:&quot;Mudan\\\\u00e7aTr\\\\u00e2nsitoIbiapaba-750x430.jpg&quot;}}\"\\t\\t\\t\\t\\t\\tclass=\"img-holder\" href=\"https://barbacenaonline.com.br/testes-no-transito-sao-prorrogados/\"></a></div><h2 class=\"title\"> <a href=\"https://barbacenaonline.com.br/testes-no-transito-sao-prorrogados/\" class=\"post-title post-url\"> Testes no trânsito são prorrogados </a></h2></div></article ><article class=\"post-5927 type-post format-standard has-post-thumbnail   listing-item listing-item-grid listing-item-grid-1 main-term-22\"><div class=\"item-inner\"><div class=\"featured clearfix\"> <a  title=\"Guarda Civil Municipal participa de capacitação para atuar no trânsito\" data-src=\"https://barbacenaonline.com.br/application/uploads/2018/10/GCM-357x210.jpg\" data-bs-srcset=\"{&quot;baseurl&quot;:&quot;https:\\\\/\\\\/barbacenaonline.com.br\\\\/application\\\\/uploads\\\\/2018\\\\/10\\\\/&quot;,&quot;sizes&quot;:{&quot;210&quot;:&quot;GCM-210x136.jpg&quot;,&quot;279&quot;:&quot;GCM-279x220.jpg&quot;,&quot;357&quot;:&quot;GCM-357x210.jpg&quot;,&quot;750&quot;:&quot;GCM.jpg&quot;}}\"\\t\\t\\t\\t\\t\\tclass=\"img-holder\" href=\"https://barbacenaonline.com.br/guarda-civil-municipal-participa-de-capacitacao-para-atuar-no-transito/\"></a></div><h2 class=\"title\"> <a href=\"https://barbacenaonline.com.br/guarda-civil-municipal-participa-de-capacitacao-para-atuar-no-transito/\" class=\"post-title post-url\"> Guarda Civil Municipal participa de capacitação para atuar no trânsito </a></h2></div></article ><div class=\"listing-item listing-item-ad listing-item-grid listing-item-grid-1\"><div class=\"bsac bsac-clearfix location-block-ad bsac-align-center bsac-column-1\"><div id=\"bsac-15-176867040\" class=\"bsac-container bsac-type-custom_code \" itemscope=\"\" itemtype=\"https://schema.org/WPAdBlock\" data-adid=\"15\" data-type=\"custom_code\"><div id=\"rev_slider_1_1_wrapper\" class=\"rev_slider_wrapper fullwidthbanner-container\" data-source=\"gallery\" style=\"margin:0px auto;background:transparent;padding:0px;margin-top:0px;margin-bottom:0px;\"><div id=\"rev_slider_1_1\" class=\"rev_slider fullwidthabanner\" style=\"display:none;\" data-version=\"5.4.8\"><ul><li data-index=\"rs-22\" data-transition=\"fade\" data-slotamount=\"default\" data-hideafterloop=\"0\" data-hideslideonmobile=\"off\"  data-easein=\"default\" data-easeout=\"default\" data-masterspeed=\"300\"  data-link=\"http://www.saint-gobain.com.br/\"  data-target=\"_blank\"  data-thumb=\"https://barbacenaonline.com.br/application/uploads/2018/05/Saint-Gobain-300x225-1-100x50.jpg\"  data-rotate=\"0\"  data-saveperformance=\"off\"  data-title=\"Slide\" data-param1=\"\" data-param2=\"\" data-param3=\"\" data-param4=\"\" data-param5=\"\" data-param6=\"\" data-param7=\"\" data-param8=\"\" data-param9=\"\" data-param10=\"\" data-description=\"\"> <img src=\"https://barbacenaonline.com.br/application/plugins/revslider/admin/assets/images/dummy.png\"  alt=\"\" title=\"Saint Gobain 300&#215;225\"  width=\"300\" height=\"225\" data-lazyload=\"https://barbacenaonline.com.br/application/uploads/2018/05/Saint-Gobain-300x225-1.jpg\" data-bgposition=\"center center\" data-bgfit=\"cover\" data-bgrepeat=\"no-repeat\" class=\"rev-slidebg\" data-no-retina></li><li data-index=\"rs-23\" data-transition=\"fade\" data-slotamount=\"default\" data-hideafterloop=\"0\" data-hideslideonmobile=\"off\"  data-easein=\"default\" data-easeout=\"default\" data-masterspeed=\"300\"  data-link=\"http://www.rivelli.ind.br/\"  data-target=\"_blank\"  data-thumb=\"https://barbacenaonline.com.br/application/uploads/2018/05/Rivelli-300x225-100x50.jpg\"  data-rotate=\"0\"  data-saveperformance=\"off\"  data-title=\"Slide\" data-param1=\"\" data-param2=\"\" data-param3=\"\" data-param4=\"\" data-param5=\"\" data-param6=\"\" data-param7=\"\" data-param8=\"\" data-param9=\"\" data-param10=\"\" data-description=\"\"> <img src=\"https://barbacenaonline.com.br/application/plugins/revslider/admin/assets/images/dummy.png\"  alt=\"\" title=\"Rivelli 300&#215;225\"  width=\"300\" height=\"225\" data-lazyload=\"https://barbacenaonline.com.br/application/uploads/2018/05/Rivelli-300x225.jpg\" data-bgposition=\"center center\" data-bgfit=\"cover\" data-bgrepeat=\"no-repeat\" class=\"rev-slidebg\" data-no-retina></li><li data-index=\"rs-45\" data-transition=\"fade\" data-slotamount=\"default\" data-hideafterloop=\"0\" data-hideslideonmobile=\"off\"  data-easein=\"default\" data-easeout=\"default\" data-masterspeed=\"300\"  data-link=\"http://www3.net-rosas.com.br/\"  data-target=\"_blank\"  data-thumb=\"https://barbacenaonline.com.br/application/uploads/2018/07/Neet-rosas-300x253-100x50.jpg\"  data-rotate=\"0\"  data-saveperformance=\"off\"  data-title=\"Slide\" data-param1=\"\" data-param2=\"\" data-param3=\"\" data-param4=\"\" data-param5=\"\" data-param6=\"\" data-param7=\"\" data-param8=\"\" data-param9=\"\" data-param10=\"\" data-description=\"\"> <img src=\"https://barbacenaonline.com.br/application/plugins/revslider/admin/assets/images/dummy.png\"  alt=\"\" title=\"Neet-rosas 300&#215;253\"  width=\"300\" height=\"253\" data-lazyload=\"https://barbacenaonline.com.br/application/uploads/2018/07/Neet-rosas-300x253.jpg\" data-bgposition=\"center center\" data-bgfit=\"cover\" data-bgrepeat=\"no-repeat\" class=\"rev-slidebg\" data-no-retina></li><li data-index=\"rs-47\" data-transition=\"fade\" data-slotamount=\"default\" data-hideafterloop=\"0\" data-hideslideonmobile=\"off\"  data-easein=\"default\" data-easeout=\"default\" data-masterspeed=\"300\"  data-link=\"http://www.unipac.br\"  data-target=\"_blank\"  data-thumb=\"https://barbacenaonline.com.br/application/uploads/2018/05/Unipac-300x225-100x50.jpg\"  data-rotate=\"0\"  data-saveperformance=\"off\"  data-title=\"Slide\" data-param1=\"\" data-param2=\"\" data-param3=\"\" data-param4=\"\" data-param5=\"\" data-param6=\"\" data-param7=\"\" data-param8=\"\" data-param9=\"\" data-param10=\"\" data-description=\"\"> <img src=\"https://barbacenaonline.com.br/application/plugins/revslider/admin/assets/images/dummy.png\"  alt=\"\" title=\"Unipac 300&#215;225\"  width=\"300\" height=\"225\" data-lazyload=\"https://barbacenaonline.com.br/application/uploads/2018/05/Unipac-300x225.jpg\" data-bgposition=\"center center\" data-bgfit=\"cover\" data-bgrepeat=\"no-repeat\" class=\"rev-slidebg\" data-no-retina></li></ul> <script>var htmlDiv = document.getElementById(\"rs-plugin-settings-inline-css\"); var htmlDivCss=\"\";\\n\\t\\t\\t\\t\\t\\tif(htmlDiv) {\\n\\t\\t\\t\\t\\t\\t\\thtmlDiv.innerHTML = htmlDiv.innerHTML + htmlDivCss;\\n\\t\\t\\t\\t\\t\\t}else{\\n\\t\\t\\t\\t\\t\\t\\tvar htmlDiv = document.createElement(\"div\");\\n\\t\\t\\t\\t\\t\\t\\thtmlDiv.innerHTML = \"<style>\" + htmlDivCss + \"</style>\";\\n\\t\\t\\t\\t\\t\\t\\tdocument.getElementsByTagName(\"head\")[0].appendChild(htmlDiv.childNodes[0]);\\n\\t\\t\\t\\t\\t\\t}</script> <div class=\"tp-bannertimer tp-bottom\" style=\"visibility: hidden !important;\"></div></div> <script>var htmlDiv = document.getElementById(\"rs-plugin-settings-inline-css\"); var htmlDivCss=\"\";\\n\\t\\t\\t\\tif(htmlDiv) {\\n\\t\\t\\t\\t\\thtmlDiv.innerHTML = htmlDiv.innerHTML + htmlDivCss;\\n\\t\\t\\t\\t}else{\\n\\t\\t\\t\\t\\tvar htmlDiv = document.createElement(\"div\");\\n\\t\\t\\t\\t\\thtmlDiv.innerHTML = \"<style>\" + htmlDivCss + \"</style>\";\\n\\t\\t\\t\\t\\tdocument.getElementsByTagName(\"head\")[0].appendChild(htmlDiv.childNodes[0]);\\n\\t\\t\\t\\t}</script> <script type=\"text/javascript\">if (setREVStartSize!==undefined) setREVStartSize(\\n\\t{c: \\'#rev_slider_1_1\\', gridwidth: [300], gridheight: [250], sliderLayout: \\'auto\\'});\\n\\t\\t\\t\\nvar revapi1,\\n\\ttpj;\\t\\n(function() {\\t\\t\\t\\n\\tif (!/loaded|interactive|complete/.test(document.readyState)) document.addEventListener(\"DOMContentLoaded\",onLoad); else onLoad();\\t\\n\\tfunction onLoad() {\\t\\t\\t\\t\\n\\t\\tif (tpj===undefined) { tpj = jQuery; if(\"off\" == \"on\") tpj.noConflict();}\\n\\tif(tpj(\"#rev_slider_1_1\").revolution == undefined){\\n\\t\\trevslider_showDoubleJqueryError(\"#rev_slider_1_1\");\\n\\t}else{\\n\\t\\trevapi1 = tpj(\"#rev_slider_1_1\").show().revolution({\\n\\t\\t\\tsliderType:\"standard\",\\n\\t\\t\\tjsFileLocation:\"//barbacenaonline.com.br/application/plugins/revslider/public/assets/js/\",\\n\\t\\t\\tsliderLayout:\"auto\",\\n\\t\\t\\tdottedOverlay:\"none\",\\n\\t\\t\\tdelay:3000,\\n\\t\\t\\tnavigation: {\\n\\t\\t\\t\\tkeyboardNavigation:\"off\",\\n\\t\\t\\t\\tkeyboard_direction: \"horizontal\",\\n\\t\\t\\t\\tmouseScrollNavigation:\"off\",\\n \\t\\t\\t\\t\\t\\t\\tmouseScrollReverse:\"default\",\\n\\t\\t\\t\\tonHoverStop:\"off\",\\n\\t\\t\\t\\tarrows: {\\n\\t\\t\\t\\t\\tstyle:\"hesperiden\",\\n\\t\\t\\t\\t\\tenable:true,\\n\\t\\t\\t\\t\\thide_onmobile:false,\\n\\t\\t\\t\\t\\thide_onleave:false,\\n\\t\\t\\t\\t\\ttmp:\\'\\',\\n\\t\\t\\t\\t\\tleft: {\\n\\t\\t\\t\\t\\t\\th_align:\"left\",\\n\\t\\t\\t\\t\\t\\tv_align:\"center\",\\n\\t\\t\\t\\t\\t\\th_offset:20,\\n\\t\\t\\t\\t\\t\\tv_offset:0\\n\\t\\t\\t\\t\\t},\\n\\t\\t\\t\\t\\tright: {\\n\\t\\t\\t\\t\\t\\th_align:\"right\",\\n\\t\\t\\t\\t\\t\\tv_align:\"center\",\\n\\t\\t\\t\\t\\t\\th_offset:20,\\n\\t\\t\\t\\t\\t\\tv_offset:0\\n\\t\\t\\t\\t\\t}\\n\\t\\t\\t\\t}\\n\\t\\t\\t},\\n\\t\\t\\tvisibilityLevels:[1240,1024,778,480],\\n\\t\\t\\tgridwidth:300,\\n\\t\\t\\tgridheight:250,\\n\\t\\t\\tlazyType:\"single\",\\n\\t\\t\\tshadow:0,\\n\\t\\t\\tspinner:\"spinner0\",\\n\\t\\t\\tstopLoop:\"off\",\\n\\t\\t\\tstopAfterLoops:-1,\\n\\t\\t\\tstopAtSlide:-1,\\n\\t\\t\\tshuffle:\"off\",\\n\\t\\t\\tautoHeight:\"off\",\\n\\t\\t\\tdisableProgressBar:\"on\",\\n\\t\\t\\thideThumbsOnMobile:\"off\",\\n\\t\\t\\thideSliderAtLimit:0,\\n\\t\\t\\thideCaptionAtLimit:0,\\n\\t\\t\\thideAllCaptionAtLilmit:0,\\n\\t\\t\\tdebugMode:false,\\n\\t\\t\\tfallbacks: {\\n\\t\\t\\t\\tsimplifyAll:\"off\",\\n\\t\\t\\t\\tnextSlideOnWindowFocus:\"off\",\\n\\t\\t\\t\\tdisableFocusListener:false,\\n\\t\\t\\t}\\n\\t\\t});\\n\\t}; /* END OF revapi call */\\n\\t\\n }; /* END OF ON LOAD FUNCTION */\\n}()); /* END OF WRAPPING FUNCTION */</script> <script>var htmlDivCss = unescape(\".hesperiden.tparrows%20%7B%0A%09cursor%3Apointer%3B%0A%09background%3Argba%280%2C0%2C0%2C0.5%29%3B%0A%09width%3A40px%3B%0A%09height%3A40px%3B%0A%09position%3Aabsolute%3B%0A%09display%3Ablock%3B%0A%09z-index%3A100%3B%0A%20%20%20%20border-radius%3A%2050%25%3B%0A%7D%0A.hesperiden.tparrows%3Ahover%20%7B%0A%09background%3Argba%280%2C%200%2C%200%2C%201%29%3B%0A%7D%0A.hesperiden.tparrows%3Abefore%20%7B%0A%09font-family%3A%20%22revicons%22%3B%0A%09font-size%3A20px%3B%0A%09color%3Argb%28255%2C%20255%2C%20255%29%3B%0A%09display%3Ablock%3B%0A%09line-height%3A%2040px%3B%0A%09text-align%3A%20center%3B%0A%7D%0A.hesperiden.tparrows.tp-leftarrow%3Abefore%20%7B%0A%09content%3A%20%22%5Ce82c%22%3B%0A%20%20%20%20margin-left%3A-3px%3B%0A%7D%0A.hesperiden.tparrows.tp-rightarrow%3Abefore%20%7B%0A%09content%3A%20%22%5Ce82d%22%3B%0A%20%20%20%20margin-right%3A-3px%3B%0A%7D%0A\");\\n\\t\\t\\t\\t\\tvar htmlDiv = document.getElementById(\\'rs-plugin-settings-inline-css\\');\\n\\t\\t\\t\\t\\tif(htmlDiv) {\\n\\t\\t\\t\\t\\t\\thtmlDiv.innerHTML = htmlDiv.innerHTML + htmlDivCss;\\n\\t\\t\\t\\t\\t}\\n\\t\\t\\t\\t\\telse{\\n\\t\\t\\t\\t\\t\\tvar htmlDiv = document.createElement(\\'div\\');\\n\\t\\t\\t\\t\\t\\thtmlDiv.innerHTML = \\'<style>\\' + htmlDivCss + \\'</style>\\';\\n\\t\\t\\t\\t\\t\\tdocument.getElementsByTagName(\\'head\\')[0].appendChild(htmlDiv.childNodes[0]);\\n\\t\\t\\t\\t\\t}</script> </div></div></div></div><article class=\"post-5858 type-post format-standard has-post-thumbnail   listing-item listing-item-grid listing-item-grid-1 main-term-41\"><div class=\"item-inner\"><div class=\"featured clearfix\"> <a  title=\"Mais de sete mil pessoas farão o Enem em Barbacena\" data-src=\"https://barbacenaonline.com.br/application/uploads/2018/10/Senai-357x210.jpg\" data-bs-srcset=\"{&quot;baseurl&quot;:&quot;https:\\\\/\\\\/barbacenaonline.com.br\\\\/application\\\\/uploads\\\\/2018\\\\/10\\\\/&quot;,&quot;sizes&quot;:{&quot;210&quot;:&quot;Senai-210x136.jpg&quot;,&quot;279&quot;:&quot;Senai-279x220.jpg&quot;,&quot;357&quot;:&quot;Senai-357x210.jpg&quot;,&quot;640&quot;:&quot;Senai-e1540864547420.jpg&quot;,&quot;750&quot;:&quot;Senai-750x430.jpg&quot;}}\"\\t\\t\\t\\t\\t\\tclass=\"img-holder\" href=\"https://barbacenaonline.com.br/mais-de-sete-mil-pessoas-farao-o-enem-em-barbacena/\"></a></div><h2 class=\"title\"> <a href=\"https://barbacenaonline.com.br/mais-de-sete-mil-pessoas-farao-o-enem-em-barbacena/\" class=\"post-title post-url\"> Mais de sete mil pessoas farão o Enem em Barbacena </a></h2></div></article ></div></div></div></div></div></div><div class=\"row vc_row wpb_row vc_row-fluid\"><div class=\"bs-vc-wrapper\"><div class=\"wpb_column bs-vc-column vc_column_container vc_col-sm-8\"><div class=\"bs-vc-wrapper wpb_wrapper\"><div class=\"bsac bsac-clearfix  bsac-align-left bsac-column-1 bsac-float-left\"><div id=\"bsac-1749-704333005\" class=\"bsac-container bsac-type-code \" itemscope=\"\" itemtype=\"https://schema.org/WPAdBlock\" data-adid=\"1749\" data-type=\"code\"><span id=\"bsac-1749-704333005-place\"></span><script type=\"text/javascript\">var betterads_screen_width = document.body.clientWidth;betterads_el = document.getElementById(\\'bsac-1749-704333005\\');             if (betterads_el.getBoundingClientRect().width) {     betterads_el_width_raw = betterads_el_width = betterads_el.getBoundingClientRect().width;    } else {     betterads_el_width_raw = betterads_el_width = betterads_el.offsetWidth;    }        var size = [\"125\", \"125\"];    if ( betterads_el_width >= 728 )      betterads_el_width = [\"728\", \"90\"];    else if ( betterads_el_width >= 468 )     betterads_el_width = [\"468\", \"60\"];    else if ( betterads_el_width >= 336 )     betterads_el_width = [\"336\", \"280\"];    else if ( betterads_el_width >= 300 )     betterads_el_width = [\"300\", \"250\"];    else if ( betterads_el_width >= 250 )     betterads_el_width = [\"250\", \"250\"];    else if ( betterads_el_width >= 200 )     betterads_el_width = [\"200\", \"200\"];    else if ( betterads_el_width >= 180 )     betterads_el_width = [\"180\", \"150\"]; if ( betterads_screen_width >= 1140 ) {          document.getElementById(\\'bsac-1749-704333005-place\\').innerHTML = \\'<ins class=\"adsbygoogle\" style=\"display:inline-block;width:728px;height:90px\"  data-ad-client=\"ca-pub-6484653955591833\"  data-ad-slot=\"9875388233\" ></ins>\\';          (adsbygoogle = window.adsbygoogle || []).push({});         }else if ( betterads_screen_width >= 1019  && betterads_screen_width < 1140 ) { document.getElementById(\\'bsac-1749-704333005-place\\').innerHTML = \\'<ins class=\"adsbygoogle\" style=\"display:inline-block;width:\\' + betterads_el_width[0] + \\'px;height:\\' + betterads_el_width[1] + \\'px\"  data-ad-client=\"ca-pub-6484653955591833\"  data-ad-slot=\"9875388233\" ></ins>\\';         (adsbygoogle = window.adsbygoogle || []).push({});}else if ( betterads_screen_width >= 768  && betterads_screen_width < 1019 ) { document.getElementById(\\'bsac-1749-704333005-place\\').innerHTML = \\'<ins class=\"adsbygoogle\" style=\"display:inline-block;width:\\' + betterads_el_width[0] + \\'px;height:\\' + betterads_el_width[1] + \\'px\"  data-ad-client=\"ca-pub-6484653955591833\"  data-ad-slot=\"9875388233\" ></ins>\\';         (adsbygoogle = window.adsbygoogle || []).push({});}else if ( betterads_screen_width < 768 ) { document.getElementById(\\'bsac-1749-704333005-place\\').innerHTML = \\'<ins class=\"adsbygoogle\" style=\"display:inline-block;width:\\' + betterads_el_width[0] + \\'px;height:\\' + betterads_el_width[1] + \\'px\"  data-ad-client=\"ca-pub-6484653955591833\"  data-ad-slot=\"9875388233\" ></ins>\\';         (adsbygoogle = window.adsbygoogle || []).push({});}</script></div></div></div></div><div class=\"wpb_column bs-vc-column vc_column_container vc_col-sm-4\" id=\"Adsense 2\"><div class=\"bs-vc-wrapper wpb_wrapper\"><div class=\"bsac bsac-clearfix  bsac-align-right bsac-column-1 bsac-float-right\"><div id=\"bsac-1750-833961144\" class=\"bsac-container bsac-type-code \" itemscope=\"\" itemtype=\"https://schema.org/WPAdBlock\" data-adid=\"1750\" data-type=\"code\"><span id=\"bsac-1750-833961144-place\"></span><script type=\"text/javascript\">var betterads_screen_width = document.body.clientWidth;betterads_el = document.getElementById(\\'bsac-1750-833961144\\');             if (betterads_el.getBoundingClientRect().width) {     betterads_el_width_raw = betterads_el_width = betterads_el.getBoundingClientRect().width;    } else {     betterads_el_width_raw = betterads_el_width = betterads_el.offsetWidth;    }        var size = [\"125\", \"125\"];    if ( betterads_el_width >= 728 )      betterads_el_width = [\"728\", \"90\"];    else if ( betterads_el_width >= 468 )     betterads_el_width = [\"468\", \"60\"];    else if ( betterads_el_width >= 336 )     betterads_el_width = [\"336\", \"280\"];    else if ( betterads_el_width >= 300 )     betterads_el_width = [\"300\", \"250\"];    else if ( betterads_el_width >= 250 )     betterads_el_width = [\"250\", \"250\"];    else if ( betterads_el_width >= 200 )     betterads_el_width = [\"200\", \"200\"];    else if ( betterads_el_width >= 180 )     betterads_el_width = [\"180\", \"150\"]; if ( betterads_screen_width >= 1140 ) {          document.getElementById(\\'bsac-1750-833961144-place\\').innerHTML = \\'<ins class=\"adsbygoogle\" style=\"display:inline-block;width:320px;height:100px\"  data-ad-client=\"ca-pub-6484653955591833\"  data-ad-slot=\"6662191097\" ></ins>\\';          (adsbygoogle = window.adsbygoogle || []).push({});         }else if ( betterads_screen_width >= 1019  && betterads_screen_width < 1140 ) { document.getElementById(\\'bsac-1750-833961144-place\\').innerHTML = \\'<ins class=\"adsbygoogle\" style=\"display:inline-block;width:\\' + betterads_el_width[0] + \\'px;height:\\' + betterads_el_width[1] + \\'px\"  data-ad-client=\"ca-pub-6484653955591833\"  data-ad-slot=\"6662191097\" ></ins>\\';         (adsbygoogle = window.adsbygoogle || []).push({});}else if ( betterads_screen_width >= 768  && betterads_screen_width < 1019 ) { document.getElementById(\\'bsac-1750-833961144-place\\').innerHTML = \\'<ins class=\"adsbygoogle\" style=\"display:inline-block;width:\\' + betterads_el_width[0] + \\'px;height:\\' + betterads_el_width[1] + \\'px\"  data-ad-client=\"ca-pub-6484653955591833\"  data-ad-slot=\"6662191097\" ></ins>\\';         (adsbygoogle = window.adsbygoogle || []).push({});}else if ( betterads_screen_width < 768 ) { document.getElementById(\\'bsac-1750-833961144-place\\').innerHTML = \\'<ins class=\"adsbygoogle\" style=\"display:inline-block;width:\\' + betterads_el_width[0] + \\'px;height:\\' + betterads_el_width[1] + \\'px\"  data-ad-client=\"ca-pub-6484653955591833\"  data-ad-slot=\"6662191097\" ></ins>\\';         (adsbygoogle = window.adsbygoogle || []).push({});}</script></div></div></div></div></div></div><div id=\"cotidiano\" class=\"row vc_row wpb_row vc_row-fluid hide-last1\"><div class=\"bs-vc-wrapper\"><div class=\"wpb_column bs-vc-column vc_column_container vc_col-sm-12\"><div class=\"bs-vc-wrapper wpb_wrapper\"><div class=\"bscb-21884 bsb-have-heading-color bs-listing bs-listing-listing-grid-1 bs-listing-single-tab hide-last\"><h3 class=\"section-heading sh-t3 sh-s8 main-term-34\"> <a href=\"https://barbacenaonline.com.br/category/cotidiano/\" class=\"main-link\"> <span class=\"h-text main-term-34\"> <i class=\"bf-icon  fa fa-newspaper-o\"></i> Cotidiano </span> </a></h3><style>.bscb-21884 .section-heading.sh-t3 a.active,.bscb-21884.bscb-21884 .section-heading.sh-t3 .main-link:first-child:last-child .h-text,.bscb-21884 .section-heading.sh-t3>.h-text,.bscb-21884.bscb-21884 .section-heading.sh-t3.sh-s8>.h-text,.bscb-21884.bscb-21884 .section-heading.sh-t3.sh-s8>a.main-link>.h-text{color:#4c97f4}.bscb-21884 .section-heading.sh-t3 a:hover .h-text,.bscb-21884 .section-heading.sh-t3 a.active .h-text{color:#4c97f4!important}.bscb-21884.bscb-21884 .section-heading.sh-t3:after{background-color:#4c97f4!important}.bscb-21884.bscb-21884 .section-heading.sh-t3.sh-s8>.main-link>.h-text,.bscb-21884.bscb-21884 .section-heading.sh-t3.sh-s8>a:last-child:first-child>.h-text,.bscb-21884.bscb-21884 .section-heading.sh-t3.sh-s8>a:last-child:first-child>.h-text,.bscb-21884.bscb-21884 .section-heading.sh-t3.sh-s8>.h-text:last-child:first-child{border-color:#4c97f4}.bscb-21884.bscb-21884 .listing-item:hover .title a,.bscb-21884.bscb-21884 .listing-item-text-1 .post-meta a:hover,.bscb-21884.bscb-21884 .listing-item-grid .post-meta a:hover,.bscb-21884.bscb-21884 .listing-item .rating-stars span:before{color:#4c97f4!important}.bscb-21884.bscb-21884 .listing-item .rating-bar span{background-color:#4c97f4!important}.bscb-21884 .bs-pagination .btn-bs-pagination:hover,.bscb-21884 .btn-bs-pagination.bs-pagination-in-loading{background-color:#4c97f4!important;border-color:#4c97f4!important;color:#fff!important}.bscb-21884 .listing-item-text-2:hover .item-inner{border-color:#4c97f4!important}.bscb-21884.bscb-21884.bscb-21884.bscb-21884 .term-badges.floated .term-badge a,.bscb-21884.bscb-21884 .bs-pagination-wrapper .bs-loading>div{background-color:#4c97f4!important;color:#fff!important}</style><div class=\"listing listing-grid listing-grid-1 clearfix columns-4\"><article class=\"post-6017 type-post format-standard has-post-thumbnail   listing-item listing-item-grid listing-item-grid-1 main-term-22\"><div class=\"item-inner\"><div class=\"featured clearfix\"><div class=\"term-badges floated\"><span class=\"term-badge term-22\"><a href=\"https://barbacenaonline.com.br/category/cidade/\">Cidade</a></span></div> <a  title=\"Dupla presa em flagrante comprava drogas em SJDR e distribuía em Barbacena\" data-src=\"https://barbacenaonline.com.br/application/uploads/2018/06/Drogas-0406-168x210.jpg\" data-bs-srcset=\"{&quot;baseurl&quot;:&quot;https:\\\\/\\\\/barbacenaonline.com.br\\\\/application\\\\/uploads\\\\/2018\\\\/06\\\\/&quot;,&quot;sizes&quot;:{&quot;162&quot;:&quot;Drogas-0406-e1528125906272.jpg&quot;,&quot;163&quot;:&quot;Drogas-0406-e1528125802573-163x136.jpg&quot;,&quot;168&quot;:&quot;Drogas-0406-168x210.jpg&quot;}}\"\\t\\t\\t\\t\\t\\tclass=\"img-holder\" href=\"https://barbacenaonline.com.br/dupla-presa-em-flagrante-comprava-drogas-em-sjdr-e-distribuia-em-barbacena/\"></a></div><h2 class=\"title\"> <a href=\"https://barbacenaonline.com.br/dupla-presa-em-flagrante-comprava-drogas-em-sjdr-e-distribuia-em-barbacena/\" class=\"post-title post-url\"> Dupla presa em flagrante comprava drogas em SJDR e distribuía em Barbacena </a></h2><div class=\"post-meta\"><span class=\"time\"><time class=\"post-published updated\"\\ndatetime=\"2018-11-05T10:56:30+00:00\">5 nov, 2018</time></span></div><div class=\"post-summary\"> Duas pessoas foram presas suspeitas de tráfico de drogas em Barbacena. De acordo com a Polícia Civil, as&hellip;</div></div></article ><article class=\"post-5965 type-post format-standard has-post-thumbnail   listing-item listing-item-grid listing-item-grid-1 main-term-37\"><div class=\"item-inner\"><div class=\"featured clearfix\"><div class=\"term-badges floated\"><span class=\"term-badge term-37\"><a href=\"https://barbacenaonline.com.br/category/cotidiano/corpo-de-bombeiros/\">Corpo de Bombeiros</a></span></div> <a  title=\"Corsa capota no Santa Efigênia\" data-src=\"https://barbacenaonline.com.br/application/uploads/2018/11/Acidente-Santa-Efigênia-0211-357x210.jpg\" data-bs-srcset=\"{&quot;baseurl&quot;:&quot;https:\\\\/\\\\/barbacenaonline.com.br\\\\/application\\\\/uploads\\\\/2018\\\\/11\\\\/&quot;,&quot;sizes&quot;:{&quot;210&quot;:&quot;Acidente-Santa-Efig\\\\u00eania-0211-210x136.jpg&quot;,&quot;279&quot;:&quot;Acidente-Santa-Efig\\\\u00eania-0211-279x220.jpg&quot;,&quot;357&quot;:&quot;Acidente-Santa-Efig\\\\u00eania-0211-357x210.jpg&quot;,&quot;640&quot;:&quot;Acidente-Santa-Efig\\\\u00eania-0211-e1541250736220.jpg&quot;,&quot;750&quot;:&quot;Acidente-Santa-Efig\\\\u00eania-0211-750x430.jpg&quot;}}\"\\t\\t\\t\\t\\t\\tclass=\"img-holder\" href=\"https://barbacenaonline.com.br/corsa-capota-no-santa-efigenia/\"></a></div><h2 class=\"title\"> <a href=\"https://barbacenaonline.com.br/corsa-capota-no-santa-efigenia/\" class=\"post-title post-url\"> Corsa capota no Santa Efigênia </a></h2><div class=\"post-meta\"><span class=\"time\"><time class=\"post-published updated\"\\ndatetime=\"2018-11-03T10:12:37+00:00\">3 nov, 2018</time></span></div><div class=\"post-summary\"> Por motivos ainda desconhecidos, um veículo Corsa capotou na rua Major Diniz, bairro Santa Efigênia, na noite de&hellip;</div></div></article ><div class=\"listing-item listing-item-ad listing-item-grid listing-item-grid-1\"><div class=\"bsac bsac-clearfix location-block-ad bsac-align-center bsac-column-1\"><div id=\"bsac-259-1755041122\" class=\"bsac-container bsac-type-custom_code \" itemscope=\"\" itemtype=\"https://schema.org/WPAdBlock\" data-adid=\"259\" data-type=\"custom_code\"><div id=\"rev_slider_2_2_wrapper\" class=\"rev_slider_wrapper fullwidthbanner-container\" data-source=\"gallery\" style=\"margin:0px auto;background:transparent;padding:0px;margin-top:0px;margin-bottom:0px;\"><div id=\"rev_slider_2_2\" class=\"rev_slider fullwidthabanner\" style=\"display:none;\" data-version=\"5.4.8\"><ul><li data-index=\"rs-24\" data-transition=\"fade\" data-slotamount=\"default\" data-hideafterloop=\"0\" data-hideslideonmobile=\"off\"  data-easein=\"default\" data-easeout=\"default\" data-masterspeed=\"300\"  data-link=\"https://www.unimed.coop.br/web/barbacena\"  data-target=\"_blank\"  data-thumb=\"https://barbacenaonline.com.br/application/uploads/2018/05/unimed-300x225-100x50.jpg\"  data-rotate=\"0\"  data-saveperformance=\"off\"  data-title=\"Slide\" data-param1=\"\" data-param2=\"\" data-param3=\"\" data-param4=\"\" data-param5=\"\" data-param6=\"\" data-param7=\"\" data-param8=\"\" data-param9=\"\" data-param10=\"\" data-description=\"\"> <img src=\"https://barbacenaonline.com.br/application/plugins/revslider/admin/assets/images/dummy.png\"  alt=\"\" title=\"unimed &#8211; 300&#215;225\"  width=\"300\" height=\"225\" data-lazyload=\"https://barbacenaonline.com.br/application/uploads/2018/05/unimed-300x225.jpg\" data-bgposition=\"center center\" data-bgfit=\"cover\" data-bgrepeat=\"no-repeat\" class=\"rev-slidebg\" data-no-retina></li><li data-index=\"rs-25\" data-transition=\"fade\" data-slotamount=\"default\" data-hideafterloop=\"0\" data-hideslideonmobile=\"off\"  data-easein=\"default\" data-easeout=\"default\" data-masterspeed=\"300\"  data-link=\"http://www.cabanadamantiqueira.com.br/\"  data-target=\"_blank\"  data-thumb=\"https://barbacenaonline.com.br/application/uploads/2018/05/cabana-300x225-1-100x50.gif\"  data-rotate=\"0\"  data-saveperformance=\"off\"  data-title=\"Slide\" data-param1=\"\" data-param2=\"\" data-param3=\"\" data-param4=\"\" data-param5=\"\" data-param6=\"\" data-param7=\"\" data-param8=\"\" data-param9=\"\" data-param10=\"\" data-description=\"\"> <img src=\"https://barbacenaonline.com.br/application/plugins/revslider/admin/assets/images/dummy.png\"  alt=\"\" title=\"cabana &#8211; 300&#215;225\"  width=\"300\" height=\"225\" data-lazyload=\"https://barbacenaonline.com.br/application/uploads/2018/05/cabana-300x225-1.gif\" data-bgposition=\"center center\" data-bgfit=\"cover\" data-bgrepeat=\"no-repeat\" class=\"rev-slidebg\" data-no-retina></li><li data-index=\"rs-26\" data-transition=\"fade\" data-slotamount=\"default\" data-hideafterloop=\"0\" data-hideslideonmobile=\"off\"  data-easein=\"default\" data-easeout=\"default\" data-masterspeed=\"300\"  data-link=\"http://www.rivelli.ind.br/\"  data-target=\"_blank\"  data-thumb=\"https://barbacenaonline.com.br/application/uploads/2018/05/Rivelli-300x225-100x50.jpg\"  data-rotate=\"0\"  data-saveperformance=\"off\"  data-title=\"Slide\" data-param1=\"\" data-param2=\"\" data-param3=\"\" data-param4=\"\" data-param5=\"\" data-param6=\"\" data-param7=\"\" data-param8=\"\" data-param9=\"\" data-param10=\"\" data-description=\"\"> <img src=\"https://barbacenaonline.com.br/application/plugins/revslider/admin/assets/images/dummy.png\"  alt=\"\" title=\"Rivelli 300&#215;225\"  width=\"300\" height=\"225\" data-lazyload=\"https://barbacenaonline.com.br/application/uploads/2018/05/Rivelli-300x225.jpg\" data-bgposition=\"center center\" data-bgfit=\"cover\" data-bgrepeat=\"no-repeat\" class=\"rev-slidebg\" data-no-retina></li></ul> <script>var htmlDiv = document.getElementById(\"rs-plugin-settings-inline-css\"); var htmlDivCss=\"\";\\n\\t\\t\\t\\t\\t\\tif(htmlDiv) {\\n\\t\\t\\t\\t\\t\\t\\thtmlDiv.innerHTML = htmlDiv.innerHTML + htmlDivCss;\\n\\t\\t\\t\\t\\t\\t}else{\\n\\t\\t\\t\\t\\t\\t\\tvar htmlDiv = document.createElement(\"div\");\\n\\t\\t\\t\\t\\t\\t\\thtmlDiv.innerHTML = \"<style>\" + htmlDivCss + \"</style>\";\\n\\t\\t\\t\\t\\t\\t\\tdocument.getElementsByTagName(\"head\")[0].appendChild(htmlDiv.childNodes[0]);\\n\\t\\t\\t\\t\\t\\t}</script> <div class=\"tp-bannertimer tp-bottom\" style=\"visibility: hidden !important;\"></div></div> <script>var htmlDiv = document.getElementById(\"rs-plugin-settings-inline-css\"); var htmlDivCss=\"\";\\n\\t\\t\\t\\tif(htmlDiv) {\\n\\t\\t\\t\\t\\thtmlDiv.innerHTML = htmlDiv.innerHTML + htmlDivCss;\\n\\t\\t\\t\\t}else{\\n\\t\\t\\t\\t\\tvar htmlDiv = document.createElement(\"div\");\\n\\t\\t\\t\\t\\thtmlDiv.innerHTML = \"<style>\" + htmlDivCss + \"</style>\";\\n\\t\\t\\t\\t\\tdocument.getElementsByTagName(\"head\")[0].appendChild(htmlDiv.childNodes[0]);\\n\\t\\t\\t\\t}</script> <script type=\"text/javascript\">if (setREVStartSize!==undefined) setREVStartSize(\\n\\t{c: \\'#rev_slider_2_2\\', gridwidth: [300], gridheight: [250], sliderLayout: \\'auto\\'});\\n\\t\\t\\t\\nvar revapi2,\\n\\ttpj;\\t\\n(function() {\\t\\t\\t\\n\\tif (!/loaded|interactive|complete/.test(document.readyState)) document.addEventListener(\"DOMContentLoaded\",onLoad); else onLoad();\\t\\n\\tfunction onLoad() {\\t\\t\\t\\t\\n\\t\\tif (tpj===undefined) { tpj = jQuery; if(\"off\" == \"on\") tpj.noConflict();}\\n\\tif(tpj(\"#rev_slider_2_2\").revolution == undefined){\\n\\t\\trevslider_showDoubleJqueryError(\"#rev_slider_2_2\");\\n\\t}else{\\n\\t\\trevapi2 = tpj(\"#rev_slider_2_2\").show().revolution({\\n\\t\\t\\tsliderType:\"standard\",\\n\\t\\t\\tjsFileLocation:\"//barbacenaonline.com.br/application/plugins/revslider/public/assets/js/\",\\n\\t\\t\\tsliderLayout:\"auto\",\\n\\t\\t\\tdottedOverlay:\"none\",\\n\\t\\t\\tdelay:3000,\\n\\t\\t\\tnavigation: {\\n\\t\\t\\t\\tkeyboardNavigation:\"off\",\\n\\t\\t\\t\\tkeyboard_direction: \"horizontal\",\\n\\t\\t\\t\\tmouseScrollNavigation:\"off\",\\n \\t\\t\\t\\t\\t\\t\\tmouseScrollReverse:\"default\",\\n\\t\\t\\t\\tonHoverStop:\"off\",\\n\\t\\t\\t\\tarrows: {\\n\\t\\t\\t\\t\\tstyle:\"hesperiden\",\\n\\t\\t\\t\\t\\tenable:true,\\n\\t\\t\\t\\t\\thide_onmobile:false,\\n\\t\\t\\t\\t\\thide_onleave:false,\\n\\t\\t\\t\\t\\ttmp:\\'\\',\\n\\t\\t\\t\\t\\tleft: {\\n\\t\\t\\t\\t\\t\\th_align:\"left\",\\n\\t\\t\\t\\t\\t\\tv_align:\"center\",\\n\\t\\t\\t\\t\\t\\th_offset:20,\\n\\t\\t\\t\\t\\t\\tv_offset:0\\n\\t\\t\\t\\t\\t},\\n\\t\\t\\t\\t\\tright: {\\n\\t\\t\\t\\t\\t\\th_align:\"right\",\\n\\t\\t\\t\\t\\t\\tv_align:\"center\",\\n\\t\\t\\t\\t\\t\\th_offset:20,\\n\\t\\t\\t\\t\\t\\tv_offset:0\\n\\t\\t\\t\\t\\t}\\n\\t\\t\\t\\t}\\n\\t\\t\\t},\\n\\t\\t\\tvisibilityLevels:[1240,1024,778,480],\\n\\t\\t\\tgridwidth:300,\\n\\t\\t\\tgridheight:250,\\n\\t\\t\\tlazyType:\"single\",\\n\\t\\t\\tshadow:0,\\n\\t\\t\\tspinner:\"spinner0\",\\n\\t\\t\\tstopLoop:\"off\",\\n\\t\\t\\tstopAfterLoops:-1,\\n\\t\\t\\tstopAtSlide:-1,\\n\\t\\t\\tshuffle:\"off\",\\n\\t\\t\\tautoHeight:\"off\",\\n\\t\\t\\tdisableProgressBar:\"on\",\\n\\t\\t\\thideThumbsOnMobile:\"off\",\\n\\t\\t\\thideSliderAtLimit:0,\\n\\t\\t\\thideCaptionAtLimit:0,\\n\\t\\t\\thideAllCaptionAtLilmit:0,\\n\\t\\t\\tdebugMode:false,\\n\\t\\t\\tfallbacks: {\\n\\t\\t\\t\\tsimplifyAll:\"off\",\\n\\t\\t\\t\\tnextSlideOnWindowFocus:\"off\",\\n\\t\\t\\t\\tdisableFocusListener:false,\\n\\t\\t\\t}\\n\\t\\t});\\n\\t}; /* END OF revapi call */\\n\\t\\n }; /* END OF ON LOAD FUNCTION */\\n}()); /* END OF WRAPPING FUNCTION */</script> <script>var htmlDivCss = unescape(\".hesperiden.tparrows%20%7B%0A%09cursor%3Apointer%3B%0A%09background%3Argba%280%2C0%2C0%2C0.5%29%3B%0A%09width%3A40px%3B%0A%09height%3A40px%3B%0A%09position%3Aabsolute%3B%0A%09display%3Ablock%3B%0A%09z-index%3A100%3B%0A%20%20%20%20border-radius%3A%2050%25%3B%0A%7D%0A.hesperiden.tparrows%3Ahover%20%7B%0A%09background%3Argba%280%2C%200%2C%200%2C%201%29%3B%0A%7D%0A.hesperiden.tparrows%3Abefore%20%7B%0A%09font-family%3A%20%22revicons%22%3B%0A%09font-size%3A20px%3B%0A%09color%3Argb%28255%2C%20255%2C%20255%29%3B%0A%09display%3Ablock%3B%0A%09line-height%3A%2040px%3B%0A%09text-align%3A%20center%3B%0A%7D%0A.hesperiden.tparrows.tp-leftarrow%3Abefore%20%7B%0A%09content%3A%20%22%5Ce82c%22%3B%0A%20%20%20%20margin-left%3A-3px%3B%0A%7D%0A.hesperiden.tparrows.tp-rightarrow%3Abefore%20%7B%0A%09content%3A%20%22%5Ce82d%22%3B%0A%20%20%20%20margin-right%3A-3px%3B%0A%7D%0A\");\\n\\t\\t\\t\\t\\tvar htmlDiv = document.getElementById(\\'rs-plugin-settings-inline-css\\');\\n\\t\\t\\t\\t\\tif(htmlDiv) {\\n\\t\\t\\t\\t\\t\\thtmlDiv.innerHTML = htmlDiv.innerHTML + htmlDivCss;\\n\\t\\t\\t\\t\\t}\\n\\t\\t\\t\\t\\telse{\\n\\t\\t\\t\\t\\t\\tvar htmlDiv = document.createElement(\\'div\\');\\n\\t\\t\\t\\t\\t\\thtmlDiv.innerHTML = \\'<style>\\' + htmlDivCss + \\'</style>\\';\\n\\t\\t\\t\\t\\t\\tdocument.getElementsByTagName(\\'head\\')[0].appendChild(htmlDiv.childNodes[0]);\\n\\t\\t\\t\\t\\t}</script> </div></div></div></div><article class=\"post-5952 type-post format-standard has-post-thumbnail   listing-item listing-item-grid listing-item-grid-1 main-term-37\"><div class=\"item-inner\"><div class=\"featured clearfix\"><div class=\"term-badges floated\"><span class=\"term-badge term-37\"><a href=\"https://barbacenaonline.com.br/category/cotidiano/corpo-de-bombeiros/\">Corpo de Bombeiros</a></span></div> <a  title=\"Motociclista atropela pedestre na Praça da Boa Morte\" data-src=\"https://barbacenaonline.com.br/application/themes/publisher/images/default-thumb/publisher-md.png\"\\t\\t\\t\\t\\t\\tclass=\"img-holder\" href=\"https://barbacenaonline.com.br/motociclista-atropela-pedestre-na-praca-da-boa-morte/\"></a></div><h2 class=\"title\"> <a href=\"https://barbacenaonline.com.br/motociclista-atropela-pedestre-na-praca-da-boa-morte/\" class=\"post-title post-url\"> Motociclista atropela pedestre na Praça da Boa Morte </a></h2><div class=\"post-meta\"><span class=\"time\"><time class=\"post-published updated\"\\ndatetime=\"2018-11-02T15:32:50+00:00\">2 nov, 2018</time></span></div><div class=\"post-summary\"> Um homem de 57 anos ficou ferido ao ser atropelado por uma motocicleta na tarde desta quinta-feira (01), na Praça&hellip;</div></div></article ><article class=\"post-5912 type-post format-standard has-post-thumbnail   listing-item listing-item-grid listing-item-grid-1 main-term-34\"><div class=\"item-inner\"><div class=\"featured clearfix\"><div class=\"term-badges floated\"><span class=\"term-badge term-34\"><a href=\"https://barbacenaonline.com.br/category/cotidiano/\">Cotidiano</a></span></div> <a  title=\"Homem preso no São Pedro por armazenar pornografia infantil\" data-src=\"https://barbacenaonline.com.br/application/uploads/2018/10/índice-357x210.jpg\" data-bs-srcset=\"{&quot;baseurl&quot;:&quot;https:\\\\/\\\\/barbacenaonline.com.br\\\\/application\\\\/uploads\\\\/2018\\\\/10\\\\/&quot;,&quot;sizes&quot;:{&quot;210&quot;:&quot;\\\\u00edndice-210x136.jpg&quot;,&quot;279&quot;:&quot;\\\\u00edndice-279x220.jpg&quot;,&quot;357&quot;:&quot;\\\\u00edndice-357x210.jpg&quot;,&quot;640&quot;:&quot;\\\\u00edndice-e1540995523787.jpg&quot;,&quot;750&quot;:&quot;\\\\u00edndice-750x430.jpg&quot;}}\"\\t\\t\\t\\t\\t\\tclass=\"img-holder\" href=\"https://barbacenaonline.com.br/homem-preso-no-sao-pedro-por-armazenar-pornografia-infantil/\"></a></div><h2 class=\"title\"> <a href=\"https://barbacenaonline.com.br/homem-preso-no-sao-pedro-por-armazenar-pornografia-infantil/\" class=\"post-title post-url\"> Homem preso no São Pedro por armazenar pornografia infantil </a></h2><div class=\"post-meta\"><span class=\"time\"><time class=\"post-published updated\"\\ndatetime=\"2018-10-31T11:18:50+00:00\">31 out, 2018</time></span></div><div class=\"post-summary\"> Um homem de 41 anos foi preso, no bairro São Pedro, em Barbacena, acusado de armazenar pornografia infantil. A\\xa0&hellip;</div></div></article ></div></div></div></div></div></div><div id=\"cotidiano-linha-2\" class=\"row vc_row wpb_row vc_row-fluid hide-last2\"><div class=\"bs-vc-wrapper\"><div class=\"wpb_column bs-vc-column vc_column_container vc_col-sm-12\"><div class=\"bs-vc-wrapper wpb_wrapper\"><div class=\" bs-listing bs-listing-listing-grid-1 bs-listing-single-tab\"><div class=\"listing listing-grid listing-grid-1 clearfix columns-4\"><article class=\"post-5968 type-post format-standard has-post-thumbnail   listing-item listing-item-grid listing-item-grid-1 main-term-37\"><div class=\"item-inner\"><div class=\"featured clearfix\"><div class=\"term-badges floated\"><span class=\"term-badge term-37\"><a href=\"https://barbacenaonline.com.br/category/cotidiano/corpo-de-bombeiros/\">Corpo de Bombeiros</a></span></div> <a  title=\"Incêndio em residência resulta em prejuízos materiais\" data-src=\"https://barbacenaonline.com.br/application/uploads/2018/11/Incêndio-Lafaiete-0211-357x210.jpg\" data-bs-srcset=\"{&quot;baseurl&quot;:&quot;https:\\\\/\\\\/barbacenaonline.com.br\\\\/application\\\\/uploads\\\\/2018\\\\/11\\\\/&quot;,&quot;sizes&quot;:{&quot;210&quot;:&quot;Inc\\\\u00eandio-Lafaiete-0211-210x136.jpg&quot;,&quot;279&quot;:&quot;Inc\\\\u00eandio-Lafaiete-0211-279x220.jpg&quot;,&quot;357&quot;:&quot;Inc\\\\u00eandio-Lafaiete-0211-357x210.jpg&quot;,&quot;640&quot;:&quot;Inc\\\\u00eandio-Lafaiete-0211-e1541251653307.jpg&quot;,&quot;750&quot;:&quot;Inc\\\\u00eandio-Lafaiete-0211-750x430.jpg&quot;}}\"\\t\\t\\t\\t\\t\\tclass=\"img-holder\" href=\"https://barbacenaonline.com.br/incendio-em-residencia-resulta-em-prejuizos-materiais/\"></a></div><h2 class=\"title\"> <a href=\"https://barbacenaonline.com.br/incendio-em-residencia-resulta-em-prejuizos-materiais/\" class=\"post-title post-url\"> Incêndio em residência resulta em prejuízos materiais </a></h2><div class=\"post-meta\"><span class=\"time\"><time class=\"post-published updated\"\\ndatetime=\"2018-11-03T10:27:43+00:00\">3 nov, 2018</time></span></div><div class=\"post-summary\"> Em Conselheiro Lafaiete, na tarde de sexta-feira (02), Bombeiros foram acionados para combater o incêndio em uma&hellip;</div></div></article ><article class=\"post-5954 type-post format-standard has-post-thumbnail   listing-item listing-item-grid listing-item-grid-1 main-term-37\"><div class=\"item-inner\"><div class=\"featured clearfix\"><div class=\"term-badges floated\"><span class=\"term-badge term-37\"><a href=\"https://barbacenaonline.com.br/category/cotidiano/corpo-de-bombeiros/\">Corpo de Bombeiros</a></span></div> <a  title=\"Saída de pista entre Pinheiro Grosso e Senhora das Dores\" data-src=\"https://barbacenaonline.com.br/application/themes/publisher/images/default-thumb/publisher-md.png\"\\t\\t\\t\\t\\t\\tclass=\"img-holder\" href=\"https://barbacenaonline.com.br/saida-de-pista-entre-pinheiro-grosso-e-senhora-das-dores/\"></a></div><h2 class=\"title\"> <a href=\"https://barbacenaonline.com.br/saida-de-pista-entre-pinheiro-grosso-e-senhora-das-dores/\" class=\"post-title post-url\"> Saída de pista entre Pinheiro Grosso e Senhora das Dores </a></h2><div class=\"post-meta\"><span class=\"time\"><time class=\"post-published updated\"\\ndatetime=\"2018-11-02T15:34:13+00:00\">2 nov, 2018</time></span></div><div class=\"post-summary\"> O motorista (32 anos) de um VW/Fox ficou ferido após sair da pista na MG 132, km 22. O acidente aconteceu no início&hellip;</div></div></article ><article class=\"post-5939 type-post format-standard has-post-thumbnail   listing-item listing-item-grid listing-item-grid-1 main-term-37\"><div class=\"item-inner\"><div class=\"featured clearfix\"><div class=\"term-badges floated\"><span class=\"term-badge term-37\"><a href=\"https://barbacenaonline.com.br/category/cotidiano/corpo-de-bombeiros/\">Corpo de Bombeiros</a></span></div> <a  title=\"Carreta pega fogo e chamas atingem vegetação\" data-src=\"https://barbacenaonline.com.br/application/uploads/2018/11/Incêndio-Carreta-040-357x210.jpg\" data-bs-srcset=\"{&quot;baseurl&quot;:&quot;https:\\\\/\\\\/barbacenaonline.com.br\\\\/application\\\\/uploads\\\\/2018\\\\/11\\\\/&quot;,&quot;sizes&quot;:{&quot;210&quot;:&quot;Inc\\\\u00eandio-Carreta-040-210x136.jpg&quot;,&quot;279&quot;:&quot;Inc\\\\u00eandio-Carreta-040-279x220.jpg&quot;,&quot;357&quot;:&quot;Inc\\\\u00eandio-Carreta-040-357x210.jpg&quot;,&quot;640&quot;:&quot;Inc\\\\u00eandio-Carreta-040-e1541070652869.jpg&quot;,&quot;750&quot;:&quot;Inc\\\\u00eandio-Carreta-040-750x430.jpg&quot;}}\"\\t\\t\\t\\t\\t\\tclass=\"img-holder\" href=\"https://barbacenaonline.com.br/carreta-pega-fogo-e-chamas-atingem-vegetacao/\"></a></div><h2 class=\"title\"> <a href=\"https://barbacenaonline.com.br/carreta-pega-fogo-e-chamas-atingem-vegetacao/\" class=\"post-title post-url\"> Carreta pega fogo e chamas atingem vegetação </a></h2><div class=\"post-meta\"><span class=\"time\"><time class=\"post-published updated\"\\ndatetime=\"2018-11-01T08:11:03+00:00\">1 nov, 2018</time></span></div><div class=\"post-summary\"> As chamas que atingiram uma carreta, na manhã de quarta-feira (31), no km 687 da BR-040, em Alfredo Vasconcelos,&hellip;</div></div></article ><div class=\"listing-item listing-item-ad listing-item-grid listing-item-grid-1\"><div class=\"bsac bsac-clearfix location-block-ad bsac-align-center bsac-column-1\"><div id=\"bsac-300-669680275\" class=\"bsac-container bsac-type-custom_code \" itemscope=\"\" itemtype=\"https://schema.org/WPAdBlock\" data-adid=\"300\" data-type=\"custom_code\"><div id=\"rev_slider_7_3_wrapper\" class=\"rev_slider_wrapper fullwidthbanner-container\" data-source=\"gallery\" style=\"margin:0px auto;background:transparent;padding:0px;margin-top:0px;margin-bottom:0px;\"><div id=\"rev_slider_7_3\" class=\"rev_slider fullwidthabanner\" style=\"display:none;\" data-version=\"5.4.8\"><ul><li data-index=\"rs-27\" data-transition=\"fade\" data-slotamount=\"default\" data-hideafterloop=\"0\" data-hideslideonmobile=\"off\"  data-easein=\"default\" data-easeout=\"default\" data-masterspeed=\"300\"  data-link=\"http://www.rivelli.ind.br/\"  data-target=\"_blank\"  data-thumb=\"https://barbacenaonline.com.br/application/uploads/2018/05/Rivelli-300x225-100x50.jpg\"  data-rotate=\"0\"  data-saveperformance=\"off\"  data-title=\"Slide\" data-param1=\"\" data-param2=\"\" data-param3=\"\" data-param4=\"\" data-param5=\"\" data-param6=\"\" data-param7=\"\" data-param8=\"\" data-param9=\"\" data-param10=\"\" data-description=\"\"> <img src=\"https://barbacenaonline.com.br/application/plugins/revslider/admin/assets/images/dummy.png\"  alt=\"\" title=\"Rivelli 300&#215;225\"  width=\"300\" height=\"225\" data-lazyload=\"https://barbacenaonline.com.br/application/uploads/2018/05/Rivelli-300x225.jpg\" data-bgposition=\"center center\" data-bgfit=\"cover\" data-bgrepeat=\"no-repeat\" class=\"rev-slidebg\" data-no-retina></li><li data-index=\"rs-29\" data-transition=\"fade\" data-slotamount=\"default\" data-hideafterloop=\"0\" data-hideslideonmobile=\"off\"  data-easein=\"default\" data-easeout=\"default\" data-masterspeed=\"300\"  data-thumb=\"https://barbacenaonline.com.br/application/uploads/2018/05/Posto-GNV-300x225-100x50.jpg\"  data-rotate=\"0\"  data-saveperformance=\"off\"  data-title=\"Slide\" data-param1=\"\" data-param2=\"\" data-param3=\"\" data-param4=\"\" data-param5=\"\" data-param6=\"\" data-param7=\"\" data-param8=\"\" data-param9=\"\" data-param10=\"\" data-description=\"\"> <img src=\"https://barbacenaonline.com.br/application/plugins/revslider/admin/assets/images/dummy.png\"  alt=\"\" title=\"Posto GNV &#8211; 300&#215;225\"  width=\"300\" height=\"225\" data-lazyload=\"https://barbacenaonline.com.br/application/uploads/2018/05/Posto-GNV-300x225.jpg\" data-bgposition=\"center center\" data-bgfit=\"cover\" data-bgrepeat=\"no-repeat\" class=\"rev-slidebg\" data-no-retina></li><li data-index=\"rs-30\" data-transition=\"fade\" data-slotamount=\"default\" data-hideafterloop=\"0\" data-hideslideonmobile=\"off\"  data-easein=\"default\" data-easeout=\"default\" data-masterspeed=\"300\"  data-thumb=\"https://barbacenaonline.com.br/application/uploads/2018/05/cabana-300x225-1-100x50.gif\"  data-rotate=\"0\"  data-saveperformance=\"off\"  data-title=\"Slide\" data-param1=\"\" data-param2=\"\" data-param3=\"\" data-param4=\"\" data-param5=\"\" data-param6=\"\" data-param7=\"\" data-param8=\"\" data-param9=\"\" data-param10=\"\" data-description=\"\"> <img src=\"https://barbacenaonline.com.br/application/plugins/revslider/admin/assets/images/dummy.png\"  alt=\"\" title=\"cabana &#8211; 300&#215;225\"  width=\"300\" height=\"225\" data-lazyload=\"https://barbacenaonline.com.br/application/uploads/2018/05/cabana-300x225-1.gif\" data-bgposition=\"center center\" data-bgfit=\"cover\" data-bgrepeat=\"no-repeat\" class=\"rev-slidebg\" data-no-retina></li><li data-index=\"rs-31\" data-transition=\"fade\" data-slotamount=\"default\" data-hideafterloop=\"0\" data-hideslideonmobile=\"off\"  data-easein=\"default\" data-easeout=\"default\" data-masterspeed=\"300\"  data-link=\"https://www.saint-gobain.com.br/\"  data-target=\"_blank\"  data-thumb=\"https://barbacenaonline.com.br/application/uploads/2018/05/Saint-Gobain-300x225-1-100x50.jpg\"  data-rotate=\"0\"  data-saveperformance=\"off\"  data-title=\"Slide\" data-param1=\"\" data-param2=\"\" data-param3=\"\" data-param4=\"\" data-param5=\"\" data-param6=\"\" data-param7=\"\" data-param8=\"\" data-param9=\"\" data-param10=\"\" data-description=\"\"> <img src=\"https://barbacenaonline.com.br/application/plugins/revslider/admin/assets/images/dummy.png\"  alt=\"\" title=\"Saint Gobain 300&#215;225\"  width=\"300\" height=\"225\" data-lazyload=\"https://barbacenaonline.com.br/application/uploads/2018/05/Saint-Gobain-300x225-1.jpg\" data-bgposition=\"center center\" data-bgfit=\"cover\" data-bgrepeat=\"no-repeat\" class=\"rev-slidebg\" data-no-retina></li><li data-index=\"rs-46\" data-transition=\"fade\" data-slotamount=\"default\" data-hideafterloop=\"0\" data-hideslideonmobile=\"off\"  data-easein=\"default\" data-easeout=\"default\" data-masterspeed=\"300\"  data-link=\"http://www3.net-rosas.com.br/\"  data-target=\"_blank\"  data-thumb=\"https://barbacenaonline.com.br/application/uploads/2018/07/Neet-rosas-300x253-100x50.jpg\"  data-rotate=\"0\"  data-saveperformance=\"off\"  data-title=\"Slide\" data-param1=\"\" data-param2=\"\" data-param3=\"\" data-param4=\"\" data-param5=\"\" data-param6=\"\" data-param7=\"\" data-param8=\"\" data-param9=\"\" data-param10=\"\" data-description=\"\"> <img src=\"https://barbacenaonline.com.br/application/plugins/revslider/admin/assets/images/dummy.png\"  alt=\"\" title=\"Neet-rosas 300&#215;253\"  width=\"300\" height=\"253\" data-lazyload=\"https://barbacenaonline.com.br/application/uploads/2018/07/Neet-rosas-300x253.jpg\" data-bgposition=\"center center\" data-bgfit=\"cover\" data-bgrepeat=\"no-repeat\" class=\"rev-slidebg\" data-no-retina></li><li data-index=\"rs-48\" data-transition=\"fade\" data-slotamount=\"default\" data-hideafterloop=\"0\" data-hideslideonmobile=\"off\"  data-easein=\"default\" data-easeout=\"default\" data-masterspeed=\"300\"  data-link=\"http://www.unipac.br\"  data-target=\"_blank\"  data-thumb=\"https://barbacenaonline.com.br/application/uploads/2018/05/Unipac-300x225-100x50.jpg\"  data-rotate=\"0\"  data-saveperformance=\"off\"  data-title=\"Slide\" data-param1=\"\" data-param2=\"\" data-param3=\"\" data-param4=\"\" data-param5=\"\" data-param6=\"\" data-param7=\"\" data-param8=\"\" data-param9=\"\" data-param10=\"\" data-description=\"\"> <img src=\"https://barbacenaonline.com.br/application/plugins/revslider/admin/assets/images/dummy.png\"  alt=\"\" title=\"Unipac 300&#215;225\"  width=\"300\" height=\"225\" data-lazyload=\"https://barbacenaonline.com.br/application/uploads/2018/05/Unipac-300x225.jpg\" data-bgposition=\"center center\" data-bgfit=\"cover\" data-bgrepeat=\"no-repeat\" class=\"rev-slidebg\" data-no-retina></li></ul> <script>var htmlDiv = document.getElementById(\"rs-plugin-settings-inline-css\"); var htmlDivCss=\"\";\\n\\t\\t\\t\\t\\t\\tif(htmlDiv) {\\n\\t\\t\\t\\t\\t\\t\\thtmlDiv.innerHTML = htmlDiv.innerHTML + htmlDivCss;\\n\\t\\t\\t\\t\\t\\t}else{\\n\\t\\t\\t\\t\\t\\t\\tvar htmlDiv = document.createElement(\"div\");\\n\\t\\t\\t\\t\\t\\t\\thtmlDiv.innerHTML = \"<style>\" + htmlDivCss + \"</style>\";\\n\\t\\t\\t\\t\\t\\t\\tdocument.getElementsByTagName(\"head\")[0].appendChild(htmlDiv.childNodes[0]);\\n\\t\\t\\t\\t\\t\\t}</script> <div class=\"tp-bannertimer tp-bottom\" style=\"visibility: hidden !important;\"></div></div> <script>var htmlDiv = document.getElementById(\"rs-plugin-settings-inline-css\"); var htmlDivCss=\"\";\\n\\t\\t\\t\\tif(htmlDiv) {\\n\\t\\t\\t\\t\\thtmlDiv.innerHTML = htmlDiv.innerHTML + htmlDivCss;\\n\\t\\t\\t\\t}else{\\n\\t\\t\\t\\t\\tvar htmlDiv = document.createElement(\"div\");\\n\\t\\t\\t\\t\\thtmlDiv.innerHTML = \"<style>\" + htmlDivCss + \"</style>\";\\n\\t\\t\\t\\t\\tdocument.getElementsByTagName(\"head\")[0].appendChild(htmlDiv.childNodes[0]);\\n\\t\\t\\t\\t}</script> <script type=\"text/javascript\">if (setREVStartSize!==undefined) setREVStartSize(\\n\\t{c: \\'#rev_slider_7_3\\', gridwidth: [300], gridheight: [250], sliderLayout: \\'auto\\'});\\n\\t\\t\\t\\nvar revapi7,\\n\\ttpj;\\t\\n(function() {\\t\\t\\t\\n\\tif (!/loaded|interactive|complete/.test(document.readyState)) document.addEventListener(\"DOMContentLoaded\",onLoad); else onLoad();\\t\\n\\tfunction onLoad() {\\t\\t\\t\\t\\n\\t\\tif (tpj===undefined) { tpj = jQuery; if(\"off\" == \"on\") tpj.noConflict();}\\n\\tif(tpj(\"#rev_slider_7_3\").revolution == undefined){\\n\\t\\trevslider_showDoubleJqueryError(\"#rev_slider_7_3\");\\n\\t}else{\\n\\t\\trevapi7 = tpj(\"#rev_slider_7_3\").show().revolution({\\n\\t\\t\\tsliderType:\"standard\",\\n\\t\\t\\tjsFileLocation:\"//barbacenaonline.com.br/application/plugins/revslider/public/assets/js/\",\\n\\t\\t\\tsliderLayout:\"auto\",\\n\\t\\t\\tdottedOverlay:\"none\",\\n\\t\\t\\tdelay:3000,\\n\\t\\t\\tnavigation: {\\n\\t\\t\\t\\tkeyboardNavigation:\"off\",\\n\\t\\t\\t\\tkeyboard_direction: \"horizontal\",\\n\\t\\t\\t\\tmouseScrollNavigation:\"off\",\\n \\t\\t\\t\\t\\t\\t\\tmouseScrollReverse:\"default\",\\n\\t\\t\\t\\tonHoverStop:\"off\",\\n\\t\\t\\t\\tarrows: {\\n\\t\\t\\t\\t\\tstyle:\"hesperiden\",\\n\\t\\t\\t\\t\\tenable:true,\\n\\t\\t\\t\\t\\thide_onmobile:false,\\n\\t\\t\\t\\t\\thide_onleave:false,\\n\\t\\t\\t\\t\\ttmp:\\'\\',\\n\\t\\t\\t\\t\\tleft: {\\n\\t\\t\\t\\t\\t\\th_align:\"left\",\\n\\t\\t\\t\\t\\t\\tv_align:\"center\",\\n\\t\\t\\t\\t\\t\\th_offset:20,\\n\\t\\t\\t\\t\\t\\tv_offset:0\\n\\t\\t\\t\\t\\t},\\n\\t\\t\\t\\t\\tright: {\\n\\t\\t\\t\\t\\t\\th_align:\"right\",\\n\\t\\t\\t\\t\\t\\tv_align:\"center\",\\n\\t\\t\\t\\t\\t\\th_offset:20,\\n\\t\\t\\t\\t\\t\\tv_offset:0\\n\\t\\t\\t\\t\\t}\\n\\t\\t\\t\\t}\\n\\t\\t\\t},\\n\\t\\t\\tvisibilityLevels:[1240,1024,778,480],\\n\\t\\t\\tgridwidth:300,\\n\\t\\t\\tgridheight:250,\\n\\t\\t\\tlazyType:\"single\",\\n\\t\\t\\tshadow:0,\\n\\t\\t\\tspinner:\"spinner0\",\\n\\t\\t\\tstopLoop:\"off\",\\n\\t\\t\\tstopAfterLoops:-1,\\n\\t\\t\\tstopAtSlide:-1,\\n\\t\\t\\tshuffle:\"off\",\\n\\t\\t\\tautoHeight:\"off\",\\n\\t\\t\\tdisableProgressBar:\"on\",\\n\\t\\t\\thideThumbsOnMobile:\"off\",\\n\\t\\t\\thideSliderAtLimit:0,\\n\\t\\t\\thideCaptionAtLimit:0,\\n\\t\\t\\thideAllCaptionAtLilmit:0,\\n\\t\\t\\tdebugMode:false,\\n\\t\\t\\tfallbacks: {\\n\\t\\t\\t\\tsimplifyAll:\"off\",\\n\\t\\t\\t\\tnextSlideOnWindowFocus:\"off\",\\n\\t\\t\\t\\tdisableFocusListener:false,\\n\\t\\t\\t}\\n\\t\\t});\\n\\t}; /* END OF revapi call */\\n\\t\\n }; /* END OF ON LOAD FUNCTION */\\n}()); /* END OF WRAPPING FUNCTION */</script> <script>var htmlDivCss = unescape(\".hesperiden.tparrows%20%7B%0A%09cursor%3Apointer%3B%0A%09background%3Argba%280%2C0%2C0%2C0.5%29%3B%0A%09width%3A40px%3B%0A%09height%3A40px%3B%0A%09position%3Aabsolute%3B%0A%09display%3Ablock%3B%0A%09z-index%3A100%3B%0A%20%20%20%20border-radius%3A%2050%25%3B%0A%7D%0A.hesperiden.tparrows%3Ahover%20%7B%0A%09background%3Argba%280%2C%200%2C%200%2C%201%29%3B%0A%7D%0A.hesperiden.tparrows%3Abefore%20%7B%0A%09font-family%3A%20%22revicons%22%3B%0A%09font-size%3A20px%3B%0A%09color%3Argb%28255%2C%20255%2C%20255%29%3B%0A%09display%3Ablock%3B%0A%09line-height%3A%2040px%3B%0A%09text-align%3A%20center%3B%0A%7D%0A.hesperiden.tparrows.tp-leftarrow%3Abefore%20%7B%0A%09content%3A%20%22%5Ce82c%22%3B%0A%20%20%20%20margin-left%3A-3px%3B%0A%7D%0A.hesperiden.tparrows.tp-rightarrow%3Abefore%20%7B%0A%09content%3A%20%22%5Ce82d%22%3B%0A%20%20%20%20margin-right%3A-3px%3B%0A%7D%0A\");\\n\\t\\t\\t\\t\\tvar htmlDiv = document.getElementById(\\'rs-plugin-settings-inline-css\\');\\n\\t\\t\\t\\t\\tif(htmlDiv) {\\n\\t\\t\\t\\t\\t\\thtmlDiv.innerHTML = htmlDiv.innerHTML + htmlDivCss;\\n\\t\\t\\t\\t\\t}\\n\\t\\t\\t\\t\\telse{\\n\\t\\t\\t\\t\\t\\tvar htmlDiv = document.createElement(\\'div\\');\\n\\t\\t\\t\\t\\t\\thtmlDiv.innerHTML = \\'<style>\\' + htmlDivCss + \\'</style>\\';\\n\\t\\t\\t\\t\\t\\tdocument.getElementsByTagName(\\'head\\')[0].appendChild(htmlDiv.childNodes[0]);\\n\\t\\t\\t\\t\\t}</script> </div></div></div></div><article class=\"post-5908 type-post format-standard has-post-thumbnail   listing-item listing-item-grid listing-item-grid-1 main-term-37\"><div class=\"item-inner\"><div class=\"featured clearfix\"><div class=\"term-badges floated\"><span class=\"term-badge term-37\"><a href=\"https://barbacenaonline.com.br/category/cotidiano/corpo-de-bombeiros/\">Corpo de Bombeiros</a></span></div> <a  title=\"Pitbull ataca outro cão no Santa Efigênia\" data-src=\"https://barbacenaonline.com.br/application/uploads/2018/10/Pitbull-e1540984474321-357x210.jpg\" data-bs-srcset=\"{&quot;baseurl&quot;:&quot;https:\\\\/\\\\/barbacenaonline.com.br\\\\/application\\\\/uploads\\\\/2018\\\\/10\\\\/&quot;,&quot;sizes&quot;:{&quot;210&quot;:&quot;Pitbull-e1540984474321-210x136.jpg&quot;,&quot;279&quot;:&quot;Pitbull-e1540984474321-279x220.jpg&quot;,&quot;357&quot;:&quot;Pitbull-e1540984474321-357x210.jpg&quot;,&quot;640&quot;:&quot;Pitbull-e1540984484645.jpg&quot;,&quot;720&quot;:&quot;Pitbull-e1540984474321-720x430.jpg&quot;}}\"\\t\\t\\t\\t\\t\\tclass=\"img-holder\" href=\"https://barbacenaonline.com.br/pitbull-ataca-outro-cao-no-santa-efigenia/\"></a></div><h2 class=\"title\"> <a href=\"https://barbacenaonline.com.br/pitbull-ataca-outro-cao-no-santa-efigenia/\" class=\"post-title post-url\"> Pitbull ataca outro cão no Santa Efigênia </a></h2><div class=\"post-meta\"><span class=\"time\"><time class=\"post-published updated\"\\ndatetime=\"2018-10-31T08:14:55+00:00\">31 out, 2018</time></span></div><div class=\"post-summary\"> No bairro Santa Efigênia, por volta das 13h de terça-feira (30), um cão morreu após ser atacado por outro da raça&hellip;</div></div></article ></div></div></div></div></div></div><div id=\"cotidiano-linha-3\" class=\"row vc_row wpb_row vc_row-fluid hide-last3\"><div class=\"bs-vc-wrapper\"><div class=\"wpb_column bs-vc-column vc_column_container vc_col-sm-12\"><div class=\"bs-vc-wrapper wpb_wrapper\"><div class=\" bs-listing bs-listing-listing-grid-1 bs-listing-single-tab\"><div class=\"listing listing-grid listing-grid-1 clearfix columns-4\"><article class=\"post-5972 type-post format-standard has-post-thumbnail   listing-item listing-item-grid listing-item-grid-1 main-term-37\"><div class=\"item-inner\"><div class=\"featured clearfix\"><div class=\"term-badges floated\"><span class=\"term-badge term-37\"><a href=\"https://barbacenaonline.com.br/category/cotidiano/corpo-de-bombeiros/\">Corpo de Bombeiros</a></span></div> <a  title=\"SJDR: Jovem fratura a perna em acidente\" data-src=\"https://barbacenaonline.com.br/application/themes/publisher/images/default-thumb/publisher-md.png\"\\t\\t\\t\\t\\t\\tclass=\"img-holder\" href=\"https://barbacenaonline.com.br/sjdr-jovem-fratura-a-perna-em-acidente/\"></a></div><h2 class=\"title\"> <a href=\"https://barbacenaonline.com.br/sjdr-jovem-fratura-a-perna-em-acidente/\" class=\"post-title post-url\"> SJDR: Jovem fratura a perna em acidente </a></h2><div class=\"post-meta\"><span class=\"time\"><time class=\"post-published updated\"\\ndatetime=\"2018-11-03T21:29:19+00:00\">3 nov, 2018</time></span></div><div class=\"post-summary\"> Uma jovem ficou ferida após um acidente em São João del-Rei, na noite de sexta-feira (02).\\xa0 Ela conduzia uma&hellip;</div></div></article ><article class=\"post-5960 type-post format-standard has-post-thumbnail   listing-item listing-item-grid listing-item-grid-1 main-term-34\"><div class=\"item-inner\"><div class=\"featured clearfix\"><div class=\"term-badges floated\"><span class=\"term-badge term-34\"><a href=\"https://barbacenaonline.com.br/category/cotidiano/\">Cotidiano</a></span></div> <a  title=\"Veículo atropela homem na 040\" data-src=\"https://barbacenaonline.com.br/application/uploads/2018/11/Acidente040-0211-357x210.jpg\" data-bs-srcset=\"{&quot;baseurl&quot;:&quot;https:\\\\/\\\\/barbacenaonline.com.br\\\\/application\\\\/uploads\\\\/2018\\\\/11\\\\/&quot;,&quot;sizes&quot;:{&quot;210&quot;:&quot;Acidente040-0211-210x136.jpg&quot;,&quot;279&quot;:&quot;Acidente040-0211-279x220.jpg&quot;,&quot;357&quot;:&quot;Acidente040-0211-357x210.jpg&quot;,&quot;480&quot;:&quot;Acidente040-0211-e1541198297205.jpg&quot;}}\"\\t\\t\\t\\t\\t\\tclass=\"img-holder\" href=\"https://barbacenaonline.com.br/5960-2/\"></a></div><h2 class=\"title\"> <a href=\"https://barbacenaonline.com.br/5960-2/\" class=\"post-title post-url\"> Veículo atropela homem na 040 </a></h2><div class=\"post-meta\"><span class=\"time\"><time class=\"post-published updated\"\\ndatetime=\"2018-11-02T19:39:19+00:00\">2 nov, 2018</time></span></div><div class=\"post-summary\"> Um homem morreu atropelado no início da manhã de sexta-feira (02), no km 624 da BR-040, em Conselheiro Lafaiete. O&hellip;</div></div></article ><div class=\"listing-item listing-item-ad listing-item-grid listing-item-grid-1\"><div class=\"bsac bsac-clearfix location-block-ad bsac-align-left bsac-column-1\"><div id=\"bsac-301-1286991558\" class=\"bsac-container bsac-type-custom_code \" itemscope=\"\" itemtype=\"https://schema.org/WPAdBlock\" data-adid=\"301\" data-type=\"custom_code\"><div id=\"rev_slider_8_4_wrapper\" class=\"rev_slider_wrapper fullwidthbanner-container\" data-source=\"gallery\" style=\"margin:0px auto;background:transparent;padding:0px;margin-top:0px;margin-bottom:0px;\"><div id=\"rev_slider_8_4\" class=\"rev_slider fullwidthabanner\" style=\"display:none;\" data-version=\"5.4.8\"><ul><li data-index=\"rs-35\" data-transition=\"fade\" data-slotamount=\"default\" data-hideafterloop=\"0\" data-hideslideonmobile=\"off\"  data-easein=\"default\" data-easeout=\"default\" data-masterspeed=\"300\"  data-link=\"https://www.unimed.coop.br/web/barbacena\"  data-target=\"_blank\"  data-thumb=\"https://barbacenaonline.com.br/application/uploads/2018/05/unimed-300x225-100x50.jpg\"  data-rotate=\"0\"  data-saveperformance=\"off\"  data-title=\"Slide\" data-param1=\"\" data-param2=\"\" data-param3=\"\" data-param4=\"\" data-param5=\"\" data-param6=\"\" data-param7=\"\" data-param8=\"\" data-param9=\"\" data-param10=\"\" data-description=\"\"> <img src=\"https://barbacenaonline.com.br/application/plugins/revslider/admin/assets/images/dummy.png\"  alt=\"\" title=\"unimed &#8211; 300&#215;225\"  width=\"300\" height=\"225\" data-lazyload=\"https://barbacenaonline.com.br/application/uploads/2018/05/unimed-300x225.jpg\" data-bgposition=\"center center\" data-bgfit=\"cover\" data-bgrepeat=\"no-repeat\" class=\"rev-slidebg\" data-no-retina></li><li data-index=\"rs-36\" data-transition=\"fade\" data-slotamount=\"default\" data-hideafterloop=\"0\" data-hideslideonmobile=\"off\"  data-easein=\"default\" data-easeout=\"default\" data-masterspeed=\"300\"  data-link=\"https://www.facebook.com/bqnotebooks\"  data-target=\"_blank\"  data-thumb=\"https://barbacenaonline.com.br/application/uploads/2018/05/BQ-notebooks-300x225-1-100x50.jpg\"  data-rotate=\"0\"  data-saveperformance=\"off\"  data-title=\"Slide\" data-param1=\"\" data-param2=\"\" data-param3=\"\" data-param4=\"\" data-param5=\"\" data-param6=\"\" data-param7=\"\" data-param8=\"\" data-param9=\"\" data-param10=\"\" data-description=\"\"> <img src=\"https://barbacenaonline.com.br/application/plugins/revslider/admin/assets/images/dummy.png\"  alt=\"\" title=\"BQ notebooks 300&#215;225\"  width=\"300\" height=\"225\" data-lazyload=\"https://barbacenaonline.com.br/application/uploads/2018/05/BQ-notebooks-300x225-1.jpg\" data-bgposition=\"center center\" data-bgfit=\"cover\" data-bgrepeat=\"no-repeat\" class=\"rev-slidebg\" data-no-retina></li><li data-index=\"rs-37\" data-transition=\"fade\" data-slotamount=\"default\" data-hideafterloop=\"0\" data-hideslideonmobile=\"off\"  data-easein=\"default\" data-easeout=\"default\" data-masterspeed=\"300\"  data-link=\"https://www.vingtsunbarbacena.com.br/\"  data-target=\"_blank\"  data-thumb=\"https://barbacenaonline.com.br/application/uploads/2018/05/Ving-Tsun-Kung-Fu-300x225-100x50.jpg\"  data-rotate=\"0\"  data-saveperformance=\"off\"  data-title=\"Slide\" data-param1=\"\" data-param2=\"\" data-param3=\"\" data-param4=\"\" data-param5=\"\" data-param6=\"\" data-param7=\"\" data-param8=\"\" data-param9=\"\" data-param10=\"\" data-description=\"\"> <img src=\"https://barbacenaonline.com.br/application/plugins/revslider/admin/assets/images/dummy.png\"  alt=\"\" title=\"Ving Tsun &#8211; Kung Fu 300&#215;225\"  width=\"300\" height=\"225\" data-lazyload=\"https://barbacenaonline.com.br/application/uploads/2018/05/Ving-Tsun-Kung-Fu-300x225.jpg\" data-bgposition=\"center center\" data-bgfit=\"cover\" data-bgrepeat=\"no-repeat\" class=\"rev-slidebg\" data-no-retina></li></ul> <script>var htmlDiv = document.getElementById(\"rs-plugin-settings-inline-css\"); var htmlDivCss=\"\";\\n\\t\\t\\t\\t\\t\\tif(htmlDiv) {\\n\\t\\t\\t\\t\\t\\t\\thtmlDiv.innerHTML = htmlDiv.innerHTML + htmlDivCss;\\n\\t\\t\\t\\t\\t\\t}else{\\n\\t\\t\\t\\t\\t\\t\\tvar htmlDiv = document.createElement(\"div\");\\n\\t\\t\\t\\t\\t\\t\\thtmlDiv.innerHTML = \"<style>\" + htmlDivCss + \"</style>\";\\n\\t\\t\\t\\t\\t\\t\\tdocument.getElementsByTagName(\"head\")[0].appendChild(htmlDiv.childNodes[0]);\\n\\t\\t\\t\\t\\t\\t}</script> <div class=\"tp-bannertimer tp-bottom\" style=\"visibility: hidden !important;\"></div></div> <script>var htmlDiv = document.getElementById(\"rs-plugin-settings-inline-css\"); var htmlDivCss=\"\";\\n\\t\\t\\t\\tif(htmlDiv) {\\n\\t\\t\\t\\t\\thtmlDiv.innerHTML = htmlDiv.innerHTML + htmlDivCss;\\n\\t\\t\\t\\t}else{\\n\\t\\t\\t\\t\\tvar htmlDiv = document.createElement(\"div\");\\n\\t\\t\\t\\t\\thtmlDiv.innerHTML = \"<style>\" + htmlDivCss + \"</style>\";\\n\\t\\t\\t\\t\\tdocument.getElementsByTagName(\"head\")[0].appendChild(htmlDiv.childNodes[0]);\\n\\t\\t\\t\\t}</script> <script type=\"text/javascript\">if (setREVStartSize!==undefined) setREVStartSize(\\n\\t{c: \\'#rev_slider_8_4\\', gridwidth: [300], gridheight: [250], sliderLayout: \\'auto\\'});\\n\\t\\t\\t\\nvar revapi8,\\n\\ttpj;\\t\\n(function() {\\t\\t\\t\\n\\tif (!/loaded|interactive|complete/.test(document.readyState)) document.addEventListener(\"DOMContentLoaded\",onLoad); else onLoad();\\t\\n\\tfunction onLoad() {\\t\\t\\t\\t\\n\\t\\tif (tpj===undefined) { tpj = jQuery; if(\"off\" == \"on\") tpj.noConflict();}\\n\\tif(tpj(\"#rev_slider_8_4\").revolution == undefined){\\n\\t\\trevslider_showDoubleJqueryError(\"#rev_slider_8_4\");\\n\\t}else{\\n\\t\\trevapi8 = tpj(\"#rev_slider_8_4\").show().revolution({\\n\\t\\t\\tsliderType:\"standard\",\\n\\t\\t\\tjsFileLocation:\"//barbacenaonline.com.br/application/plugins/revslider/public/assets/js/\",\\n\\t\\t\\tsliderLayout:\"auto\",\\n\\t\\t\\tdottedOverlay:\"none\",\\n\\t\\t\\tdelay:3000,\\n\\t\\t\\tnavigation: {\\n\\t\\t\\t\\tkeyboardNavigation:\"off\",\\n\\t\\t\\t\\tkeyboard_direction: \"horizontal\",\\n\\t\\t\\t\\tmouseScrollNavigation:\"off\",\\n \\t\\t\\t\\t\\t\\t\\tmouseScrollReverse:\"default\",\\n\\t\\t\\t\\tonHoverStop:\"off\",\\n\\t\\t\\t\\tarrows: {\\n\\t\\t\\t\\t\\tstyle:\"hesperiden\",\\n\\t\\t\\t\\t\\tenable:true,\\n\\t\\t\\t\\t\\thide_onmobile:false,\\n\\t\\t\\t\\t\\thide_onleave:false,\\n\\t\\t\\t\\t\\ttmp:\\'\\',\\n\\t\\t\\t\\t\\tleft: {\\n\\t\\t\\t\\t\\t\\th_align:\"left\",\\n\\t\\t\\t\\t\\t\\tv_align:\"center\",\\n\\t\\t\\t\\t\\t\\th_offset:20,\\n\\t\\t\\t\\t\\t\\tv_offset:0\\n\\t\\t\\t\\t\\t},\\n\\t\\t\\t\\t\\tright: {\\n\\t\\t\\t\\t\\t\\th_align:\"right\",\\n\\t\\t\\t\\t\\t\\tv_align:\"center\",\\n\\t\\t\\t\\t\\t\\th_offset:20,\\n\\t\\t\\t\\t\\t\\tv_offset:0\\n\\t\\t\\t\\t\\t}\\n\\t\\t\\t\\t}\\n\\t\\t\\t},\\n\\t\\t\\tvisibilityLevels:[1240,1024,778,480],\\n\\t\\t\\tgridwidth:300,\\n\\t\\t\\tgridheight:250,\\n\\t\\t\\tlazyType:\"single\",\\n\\t\\t\\tshadow:0,\\n\\t\\t\\tspinner:\"spinner0\",\\n\\t\\t\\tstopLoop:\"off\",\\n\\t\\t\\tstopAfterLoops:-1,\\n\\t\\t\\tstopAtSlide:-1,\\n\\t\\t\\tshuffle:\"off\",\\n\\t\\t\\tautoHeight:\"off\",\\n\\t\\t\\tdisableProgressBar:\"on\",\\n\\t\\t\\thideThumbsOnMobile:\"off\",\\n\\t\\t\\thideSliderAtLimit:0,\\n\\t\\t\\thideCaptionAtLimit:0,\\n\\t\\t\\thideAllCaptionAtLilmit:0,\\n\\t\\t\\tdebugMode:false,\\n\\t\\t\\tfallbacks: {\\n\\t\\t\\t\\tsimplifyAll:\"off\",\\n\\t\\t\\t\\tnextSlideOnWindowFocus:\"off\",\\n\\t\\t\\t\\tdisableFocusListener:false,\\n\\t\\t\\t}\\n\\t\\t});\\n\\t}; /* END OF revapi call */\\n\\t\\n }; /* END OF ON LOAD FUNCTION */\\n}()); /* END OF WRAPPING FUNCTION */</script> <script>var htmlDivCss = unescape(\".hesperiden.tparrows%20%7B%0A%09cursor%3Apointer%3B%0A%09background%3Argba%280%2C0%2C0%2C0.5%29%3B%0A%09width%3A40px%3B%0A%09height%3A40px%3B%0A%09position%3Aabsolute%3B%0A%09display%3Ablock%3B%0A%09z-index%3A100%3B%0A%20%20%20%20border-radius%3A%2050%25%3B%0A%7D%0A.hesperiden.tparrows%3Ahover%20%7B%0A%09background%3Argba%280%2C%200%2C%200%2C%201%29%3B%0A%7D%0A.hesperiden.tparrows%3Abefore%20%7B%0A%09font-family%3A%20%22revicons%22%3B%0A%09font-size%3A20px%3B%0A%09color%3Argb%28255%2C%20255%2C%20255%29%3B%0A%09display%3Ablock%3B%0A%09line-height%3A%2040px%3B%0A%09text-align%3A%20center%3B%0A%7D%0A.hesperiden.tparrows.tp-leftarrow%3Abefore%20%7B%0A%09content%3A%20%22%5Ce82c%22%3B%0A%20%20%20%20margin-left%3A-3px%3B%0A%7D%0A.hesperiden.tparrows.tp-rightarrow%3Abefore%20%7B%0A%09content%3A%20%22%5Ce82d%22%3B%0A%20%20%20%20margin-right%3A-3px%3B%0A%7D%0A\");\\n\\t\\t\\t\\t\\tvar htmlDiv = document.getElementById(\\'rs-plugin-settings-inline-css\\');\\n\\t\\t\\t\\t\\tif(htmlDiv) {\\n\\t\\t\\t\\t\\t\\thtmlDiv.innerHTML = htmlDiv.innerHTML + htmlDivCss;\\n\\t\\t\\t\\t\\t}\\n\\t\\t\\t\\t\\telse{\\n\\t\\t\\t\\t\\t\\tvar htmlDiv = document.createElement(\\'div\\');\\n\\t\\t\\t\\t\\t\\thtmlDiv.innerHTML = \\'<style>\\' + htmlDivCss + \\'</style>\\';\\n\\t\\t\\t\\t\\t\\tdocument.getElementsByTagName(\\'head\\')[0].appendChild(htmlDiv.childNodes[0]);\\n\\t\\t\\t\\t\\t}</script> </div></div></div></div><article class=\"post-5942 type-post format-standard has-post-thumbnail   listing-item listing-item-grid listing-item-grid-1 main-term-37\"><div class=\"item-inner\"><div class=\"featured clearfix\"><div class=\"term-badges floated\"><span class=\"term-badge term-37\"><a href=\"https://barbacenaonline.com.br/category/cotidiano/corpo-de-bombeiros/\">Corpo de Bombeiros</a></span></div> <a  title=\"Localizado corpo no Ribeirão Bananeiras\" data-src=\"https://barbacenaonline.com.br/application/themes/publisher/images/default-thumb/publisher-md.png\"\\t\\t\\t\\t\\t\\tclass=\"img-holder\" href=\"https://barbacenaonline.com.br/localizado-corpo-no-ribeirao-bananeiras/\"></a></div><h2 class=\"title\"> <a href=\"https://barbacenaonline.com.br/localizado-corpo-no-ribeirao-bananeiras/\" class=\"post-title post-url\"> Localizado corpo no Ribeirão Bananeiras </a></h2><div class=\"post-meta\"><span class=\"time\"><time class=\"post-published updated\"\\ndatetime=\"2018-11-01T17:13:01+00:00\">1 nov, 2018</time></span></div><div class=\"post-summary\"> Um corpo, ainda sem identificação, foi resgatado pelo Corpo de Bombeiros na manhã de quinta-feira (01), às margens&hellip;</div></div></article ></div></div></div></div></div></div><div class=\"row vc_row wpb_row vc_row-fluid\"><div class=\"bs-vc-wrapper\"><div class=\"wpb_column bs-vc-column vc_column_container vc_col-sm-8\"><div class=\"bs-vc-wrapper wpb_wrapper\"><div class=\"bsac bsac-clearfix  bsac-align-left bsac-column-1 bsac-float-left\"><div id=\"bsac-1749-1027355034\" class=\"bsac-container bsac-type-code \" itemscope=\"\" itemtype=\"https://schema.org/WPAdBlock\" data-adid=\"1749\" data-type=\"code\"><span id=\"bsac-1749-1027355034-place\"></span><script type=\"text/javascript\">var betterads_screen_width = document.body.clientWidth;betterads_el = document.getElementById(\\'bsac-1749-1027355034\\');             if (betterads_el.getBoundingClientRect().width) {     betterads_el_width_raw = betterads_el_width = betterads_el.getBoundingClientRect().width;    } else {     betterads_el_width_raw = betterads_el_width = betterads_el.offsetWidth;    }        var size = [\"125\", \"125\"];    if ( betterads_el_width >= 728 )      betterads_el_width = [\"728\", \"90\"];    else if ( betterads_el_width >= 468 )     betterads_el_width = [\"468\", \"60\"];    else if ( betterads_el_width >= 336 )     betterads_el_width = [\"336\", \"280\"];    else if ( betterads_el_width >= 300 )     betterads_el_width = [\"300\", \"250\"];    else if ( betterads_el_width >= 250 )     betterads_el_width = [\"250\", \"250\"];    else if ( betterads_el_width >= 200 )     betterads_el_width = [\"200\", \"200\"];    else if ( betterads_el_width >= 180 )     betterads_el_width = [\"180\", \"150\"]; if ( betterads_screen_width >= 1140 ) {          document.getElementById(\\'bsac-1749-1027355034-place\\').innerHTML = \\'<ins class=\"adsbygoogle\" style=\"display:inline-block;width:728px;height:90px\"  data-ad-client=\"ca-pub-6484653955591833\"  data-ad-slot=\"9875388233\" ></ins>\\';          (adsbygoogle = window.adsbygoogle || []).push({});         }else if ( betterads_screen_width >= 1019  && betterads_screen_width < 1140 ) { document.getElementById(\\'bsac-1749-1027355034-place\\').innerHTML = \\'<ins class=\"adsbygoogle\" style=\"display:inline-block;width:\\' + betterads_el_width[0] + \\'px;height:\\' + betterads_el_width[1] + \\'px\"  data-ad-client=\"ca-pub-6484653955591833\"  data-ad-slot=\"9875388233\" ></ins>\\';         (adsbygoogle = window.adsbygoogle || []).push({});}else if ( betterads_screen_width >= 768  && betterads_screen_width < 1019 ) { document.getElementById(\\'bsac-1749-1027355034-place\\').innerHTML = \\'<ins class=\"adsbygoogle\" style=\"display:inline-block;width:\\' + betterads_el_width[0] + \\'px;height:\\' + betterads_el_width[1] + \\'px\"  data-ad-client=\"ca-pub-6484653955591833\"  data-ad-slot=\"9875388233\" ></ins>\\';         (adsbygoogle = window.adsbygoogle || []).push({});}else if ( betterads_screen_width < 768 ) { document.getElementById(\\'bsac-1749-1027355034-place\\').innerHTML = \\'<ins class=\"adsbygoogle\" style=\"display:inline-block;width:\\' + betterads_el_width[0] + \\'px;height:\\' + betterads_el_width[1] + \\'px\"  data-ad-client=\"ca-pub-6484653955591833\"  data-ad-slot=\"9875388233\" ></ins>\\';         (adsbygoogle = window.adsbygoogle || []).push({});}</script></div></div></div></div><div class=\"wpb_column bs-vc-column vc_column_container vc_col-sm-4\"><div class=\"bs-vc-wrapper wpb_wrapper\"><div class=\"bsac bsac-clearfix  bsac-align-right bsac-column-1 bsac-float-right\"><div id=\"bsac-1750-1633921221\" class=\"bsac-container bsac-type-code \" itemscope=\"\" itemtype=\"https://schema.org/WPAdBlock\" data-adid=\"1750\" data-type=\"code\"><span id=\"bsac-1750-1633921221-place\"></span><script type=\"text/javascript\">var betterads_screen_width = document.body.clientWidth;betterads_el = document.getElementById(\\'bsac-1750-1633921221\\');             if (betterads_el.getBoundingClientRect().width) {     betterads_el_width_raw = betterads_el_width = betterads_el.getBoundingClientRect().width;    } else {     betterads_el_width_raw = betterads_el_width = betterads_el.offsetWidth;    }        var size = [\"125\", \"125\"];    if ( betterads_el_width >= 728 )      betterads_el_width = [\"728\", \"90\"];    else if ( betterads_el_width >= 468 )     betterads_el_width = [\"468\", \"60\"];    else if ( betterads_el_width >= 336 )     betterads_el_width = [\"336\", \"280\"];    else if ( betterads_el_width >= 300 )     betterads_el_width = [\"300\", \"250\"];    else if ( betterads_el_width >= 250 )     betterads_el_width = [\"250\", \"250\"];    else if ( betterads_el_width >= 200 )     betterads_el_width = [\"200\", \"200\"];    else if ( betterads_el_width >= 180 )     betterads_el_width = [\"180\", \"150\"]; if ( betterads_screen_width >= 1140 ) {          document.getElementById(\\'bsac-1750-1633921221-place\\').innerHTML = \\'<ins class=\"adsbygoogle\" style=\"display:inline-block;width:320px;height:100px\"  data-ad-client=\"ca-pub-6484653955591833\"  data-ad-slot=\"6662191097\" ></ins>\\';          (adsbygoogle = window.adsbygoogle || []).push({});         }else if ( betterads_screen_width >= 1019  && betterads_screen_width < 1140 ) { document.getElementById(\\'bsac-1750-1633921221-place\\').innerHTML = \\'<ins class=\"adsbygoogle\" style=\"display:inline-block;width:\\' + betterads_el_width[0] + \\'px;height:\\' + betterads_el_width[1] + \\'px\"  data-ad-client=\"ca-pub-6484653955591833\"  data-ad-slot=\"6662191097\" ></ins>\\';         (adsbygoogle = window.adsbygoogle || []).push({});}else if ( betterads_screen_width >= 768  && betterads_screen_width < 1019 ) { document.getElementById(\\'bsac-1750-1633921221-place\\').innerHTML = \\'<ins class=\"adsbygoogle\" style=\"display:inline-block;width:\\' + betterads_el_width[0] + \\'px;height:\\' + betterads_el_width[1] + \\'px\"  data-ad-client=\"ca-pub-6484653955591833\"  data-ad-slot=\"6662191097\" ></ins>\\';         (adsbygoogle = window.adsbygoogle || []).push({});}else if ( betterads_screen_width < 768 ) { document.getElementById(\\'bsac-1750-1633921221-place\\').innerHTML = \\'<ins class=\"adsbygoogle\" style=\"display:inline-block;width:\\' + betterads_el_width[0] + \\'px;height:\\' + betterads_el_width[1] + \\'px\"  data-ad-client=\"ca-pub-6484653955591833\"  data-ad-slot=\"6662191097\" ></ins>\\';         (adsbygoogle = window.adsbygoogle || []).push({});}</script></div></div></div></div></div></div><div id=\"articulistas\" class=\"row vc_row wpb_row vc_row-fluid\"><div class=\"bs-vc-wrapper\"><div class=\"wpb_column bs-vc-column vc_column_container vc_col-sm-12\"><div class=\"bs-vc-wrapper wpb_wrapper\"><div class=\"bscb-38369 bsb-have-heading-color bs-listing bs-listing-listing-grid-1 bs-listing-single-tab\"><h3 class=\"section-heading sh-t3 sh-s8 main-term-none\"> <span class=\"h-text main-term-none main-link\"> <i class=\"bf-icon  fa fa-newspaper-o\"></i> Articulistas </span></h3><style>.bscb-38369 .section-heading.sh-t3 a.active,.bscb-38369.bscb-38369 .section-heading.sh-t3 .main-link:first-child:last-child .h-text,.bscb-38369 .section-heading.sh-t3>.h-text,.bscb-38369.bscb-38369 .section-heading.sh-t3.sh-s8>.h-text,.bscb-38369.bscb-38369 .section-heading.sh-t3.sh-s8>a.main-link>.h-text{color:#4c97f4}.bscb-38369 .section-heading.sh-t3 a:hover .h-text,.bscb-38369 .section-heading.sh-t3 a.active .h-text{color:#4c97f4!important}.bscb-38369.bscb-38369 .section-heading.sh-t3:after{background-color:#4c97f4!important}.bscb-38369.bscb-38369 .section-heading.sh-t3.sh-s8>.main-link>.h-text,.bscb-38369.bscb-38369 .section-heading.sh-t3.sh-s8>a:last-child:first-child>.h-text,.bscb-38369.bscb-38369 .section-heading.sh-t3.sh-s8>a:last-child:first-child>.h-text,.bscb-38369.bscb-38369 .section-heading.sh-t3.sh-s8>.h-text:last-child:first-child{border-color:#4c97f4}.bscb-38369.bscb-38369 .listing-item:hover .title a,.bscb-38369.bscb-38369 .listing-item-text-1 .post-meta a:hover,.bscb-38369.bscb-38369 .listing-item-grid .post-meta a:hover,.bscb-38369.bscb-38369 .listing-item .rating-stars span:before{color:#4c97f4!important}.bscb-38369.bscb-38369 .listing-item .rating-bar span{background-color:#4c97f4!important}.bscb-38369 .bs-pagination .btn-bs-pagination:hover,.bscb-38369 .btn-bs-pagination.bs-pagination-in-loading{background-color:#4c97f4!important;border-color:#4c97f4!important;color:#fff!important}.bscb-38369 .listing-item-text-2:hover .item-inner{border-color:#4c97f4!important}.bscb-38369.bscb-38369.bscb-38369.bscb-38369 .term-badges.floated .term-badge a,.bscb-38369.bscb-38369 .bs-pagination-wrapper .bs-loading>div{background-color:#4c97f4!important;color:#fff!important}</style><div class=\"listing listing-grid listing-grid-1 clearfix columns-1\"></div></div></div></div></div></div><div class=\"row vc_row wpb_row vc_row-fluid grid-principal\"><div class=\"bs-vc-wrapper\"><div class=\"wpb_column bs-vc-column vc_column_container vc_col-sm-12\"><div class=\"bs-vc-wrapper wpb_wrapper\"><div class=\" bs-listing bs-listing-modern-grid-listing-2 bs-listing-single-tab pagination-animate\"><div class=\"bs-slider-items-container\" data-slider-animation-speed=\"750\" data-slider-autoplay=\"1\" data-slider-control-dots=\"off\" data-slider-control-next-prev=\"style-1\" data-autoplaySpeed=\"3000\"><div class=\"bs-pagination-wrapper main-term-25 slider bs-slider-first-item bs-slider-item bs-items-3\"><div\\nclass=\"listing listing-modern-grid listing-modern-grid-2 clearfix slider-overlay-simple-gr\"><div class=\"mg-col mg-col-1\"><article class=\"post-6025 type-post format-standard has-post-thumbnail  listing-item-1 listing-item listing-mg-item listing-mg-2-item listing-mg-type-1 main-term-25\"><div class=\"item-content\"> <a  title=\"Sine divulga 17 vagas de emprego com salários de até R$3.816\" data-src=\"https://barbacenaonline.com.br/application/uploads/2018/04/RAIS-642x336.jpg\" data-bs-srcset=\"{&quot;baseurl&quot;:&quot;https:\\\\/\\\\/barbacenaonline.com.br\\\\/application\\\\/uploads\\\\/2018\\\\/04\\\\/&quot;,&quot;sizes&quot;:{&quot;210&quot;:&quot;RAIS-642x336-210x136.jpg&quot;,&quot;279&quot;:&quot;RAIS-642x336-279x220.jpg&quot;,&quot;357&quot;:&quot;RAIS-642x336-357x210.jpg&quot;,&quot;642&quot;:&quot;RAIS-642x336.jpg&quot;}}\"\\t\\t\\t\\tclass=\"img-cont\" href=\"https://barbacenaonline.com.br/sine-divulga-17-vagas-de-emprego-com-salarios-de-ate-r3-816/\"></a><div class=\"term-badges floated\"><span class=\"term-badge term-25\"><a href=\"https://barbacenaonline.com.br/category/articulistas/\">Articulistas</a></span></div><div class=\"content-container\"><h2 class=\"title\"> <a href=\"https://barbacenaonline.com.br/sine-divulga-17-vagas-de-emprego-com-salarios-de-ate-r3-816/\" class=\"post-url post-title\"> Sine divulga 17 vagas de emprego com salários de até R$3.816 </a></h2><div class=\"post-meta\"><span class=\"time\"><time class=\"post-published updated\"\\ndatetime=\"2018-11-05T14:28:11+00:00\">5 nov, 2018</time></span></div></div></div></article ></div><div class=\"mg-col mg-col-2\"><div class=\"mg-row mg-row-1 clearfix\"><div class=\"item-2-cont\"><article class=\"post-5991 type-post format-standard has-post-thumbnail  listing-item-2 listing-item listing-mg-item listing-mg-2-item listing-mg-type-1 main-term-25\"><div class=\"item-content\"> <a  title=\"Mais de 3.000 planetas já foram encontrados fora do Sistema Solar. O que isso quer dizer?\" data-src=\"https://barbacenaonline.com.br/application/uploads/2018/11/20172407503018-t1200x480-279x220.jpg\" data-bs-srcset=\"{&quot;baseurl&quot;:&quot;https:\\\\/\\\\/barbacenaonline.com.br\\\\/application\\\\/uploads\\\\/2018\\\\/11\\\\/&quot;,&quot;sizes&quot;:{&quot;210&quot;:&quot;20172407503018-t1200x480-210x136.jpg&quot;,&quot;279&quot;:&quot;20172407503018-t1200x480-279x220.jpg&quot;,&quot;357&quot;:&quot;20172407503018-t1200x480-357x210.jpg&quot;,&quot;640&quot;:&quot;20172407503018-t1200x480-e1541359343755.jpg&quot;,&quot;750&quot;:&quot;20172407503018-t1200x480-750x430.jpg&quot;}}\"\\t\\t\\t\\tclass=\"img-cont\" href=\"https://barbacenaonline.com.br/mais-de-3-000-planetas-ja-foram-encontrados-fora-do-sistema-solar-o-que-isso-quer-dizer/\"></a><div class=\"term-badges floated\"><span class=\"term-badge term-25\"><a href=\"https://barbacenaonline.com.br/category/articulistas/\">Articulistas</a></span></div><div class=\"content-container\"><h2 class=\"title\"> <a href=\"https://barbacenaonline.com.br/mais-de-3-000-planetas-ja-foram-encontrados-fora-do-sistema-solar-o-que-isso-quer-dizer/\" class=\"post-url post-title\"> Mais de 3.000 planetas já foram encontrados fora do Sistema Solar. O&hellip; </a></h2></div></div></article ></div><div class=\"item-3-cont\"><article class=\"post-5978 type-post format-standard has-post-thumbnail  listing-item-3 listing-item listing-mg-item listing-mg-2-item listing-mg-type-1 main-term-25\"><div class=\"item-content\"> <a  title=\"#flashBOL: Medalha Santos Dumont é entregue a personalidades e entidades\" data-src=\"https://barbacenaonline.com.br/application/uploads/2018/11/MedalhaSD-2018-4-279x220.jpg\" data-bs-srcset=\"{&quot;baseurl&quot;:&quot;https:\\\\/\\\\/barbacenaonline.com.br\\\\/application\\\\/uploads\\\\/2018\\\\/11\\\\/&quot;,&quot;sizes&quot;:{&quot;210&quot;:&quot;MedalhaSD-2018-4-210x136.jpg&quot;,&quot;279&quot;:&quot;MedalhaSD-2018-4-279x220.jpg&quot;,&quot;357&quot;:&quot;MedalhaSD-2018-4-357x210.jpg&quot;,&quot;640&quot;:&quot;MedalhaSD-2018-4-e1541331685360.jpg&quot;,&quot;750&quot;:&quot;MedalhaSD-2018-4-750x430.jpg&quot;}}\"\\t\\t\\t\\tclass=\"img-cont\" href=\"https://barbacenaonline.com.br/flashbol-medalha-santos-dumont-e-entregue-a-personalidades-e-entidades/\"></a><div class=\"term-badges floated\"><span class=\"term-badge term-25\"><a href=\"https://barbacenaonline.com.br/category/articulistas/\">Articulistas</a></span></div><div class=\"content-container\"><h2 class=\"title\"> <a href=\"https://barbacenaonline.com.br/flashbol-medalha-santos-dumont-e-entregue-a-personalidades-e-entidades/\" class=\"post-url post-title\"> #flashBOL: Medalha Santos Dumont é entregue a personalidades e&hellip; </a></h2></div></div></article ></div></div><div class=\"mg-row mg-row-2 clearfix\"><div class=\"item-4-cont\"><article class=\"post-5975 type-post format-standard has-post-thumbnail  listing-item-4 listing-item listing-mg-item listing-mg-2-item listing-mg-type-1 main-term-25\"><div class=\"item-content\"> <a  title=\"A importância da família no desenvolvimento da criança\" data-src=\"https://barbacenaonline.com.br/application/uploads/2018/11/familia-279x220.jpg\" data-bs-srcset=\"{&quot;baseurl&quot;:&quot;https:\\\\/\\\\/barbacenaonline.com.br\\\\/application\\\\/uploads\\\\/2018\\\\/11\\\\/&quot;,&quot;sizes&quot;:{&quot;210&quot;:&quot;familia-210x136.jpg&quot;,&quot;279&quot;:&quot;familia-279x220.jpg&quot;,&quot;357&quot;:&quot;familia-357x210.jpg&quot;,&quot;626&quot;:&quot;familia.jpg&quot;}}\"\\t\\t\\t\\tclass=\"img-cont\" href=\"https://barbacenaonline.com.br/a-importancia-da-familia-no-desenvolvimento-da-crianca/\"></a><div class=\"term-badges floated\"><span class=\"term-badge term-25\"><a href=\"https://barbacenaonline.com.br/category/articulistas/\">Articulistas</a></span></div><div class=\"content-container\"><h2 class=\"title\"> <a href=\"https://barbacenaonline.com.br/a-importancia-da-familia-no-desenvolvimento-da-crianca/\" class=\"post-url post-title\"> A importância da família no desenvolvimento da criança </a></h2></div></div></article ></div><div class=\"item-5-cont\"><article class=\"post-5957 type-post format-standard has-post-thumbnail  listing-item-5 listing-item listing-mg-item listing-mg-2-item listing-mg-type-1 main-term-25\"><div class=\"item-content\"> <a  title=\"Lições de vida\" data-src=\"https://barbacenaonline.com.br/application/uploads/2018/11/SirleneAliane-0211-e1541197789506-279x220.jpg\" data-bs-srcset=\"{&quot;baseurl&quot;:&quot;https:\\\\/\\\\/barbacenaonline.com.br\\\\/application\\\\/uploads\\\\/2018\\\\/11\\\\/&quot;,&quot;sizes&quot;:{&quot;210&quot;:&quot;SirleneAliane-0211-e1541197789506-210x136.jpg&quot;,&quot;279&quot;:&quot;SirleneAliane-0211-e1541197789506-279x220.jpg&quot;,&quot;357&quot;:&quot;SirleneAliane-0211-e1541197789506-357x210.jpg&quot;,&quot;715&quot;:&quot;SirleneAliane-0211-e1541197789506.jpg&quot;}}\"\\t\\t\\t\\tclass=\"img-cont\" href=\"https://barbacenaonline.com.br/licoes-de-vida/\"></a><div class=\"term-badges floated\"><span class=\"term-badge term-25\"><a href=\"https://barbacenaonline.com.br/category/articulistas/\">Articulistas</a></span></div><div class=\"content-container\"><h2 class=\"title\"> <a href=\"https://barbacenaonline.com.br/licoes-de-vida/\" class=\"post-url post-title\"> Lições de vida </a></h2></div></div></article ></div></div></div></div></div><div class=\"bs-pagination-wrapper main-term-25 slider  bs-slider-item bs-items-3\"><div\\nclass=\"listing listing-modern-grid listing-modern-grid-2 clearfix slider-overlay-simple-gr\"><div class=\"mg-col mg-col-1\"><article class=\"post-5949 type-post format-standard has-post-thumbnail  listing-item-1 listing-item listing-mg-item listing-mg-2-item listing-mg-type-1 main-term-25\"><div class=\"item-content\"> <a  title=\"Quem lê indica: O irmão imaginário\" data-src=\"https://barbacenaonline.com.br/application/uploads/2018/11/QLI-0211-750x430.jpg\" data-bs-srcset=\"{&quot;baseurl&quot;:&quot;https:\\\\/\\\\/barbacenaonline.com.br\\\\/application\\\\/uploads\\\\/2018\\\\/11\\\\/&quot;,&quot;sizes&quot;:{&quot;210&quot;:&quot;QLI-0211-210x136.jpg&quot;,&quot;279&quot;:&quot;QLI-0211-279x220.jpg&quot;,&quot;357&quot;:&quot;QLI-0211-357x210.jpg&quot;,&quot;640&quot;:&quot;QLI-0211-e1541123037284.jpg&quot;,&quot;750&quot;:&quot;QLI-0211-750x430.jpg&quot;}}\"\\t\\t\\t\\tclass=\"img-cont\" href=\"https://barbacenaonline.com.br/quem-le-indica-o-irmao-imaginario/\"></a><div class=\"term-badges floated\"><span class=\"term-badge term-25\"><a href=\"https://barbacenaonline.com.br/category/articulistas/\">Articulistas</a></span></div><div class=\"content-container\"><h2 class=\"title\"> <a href=\"https://barbacenaonline.com.br/quem-le-indica-o-irmao-imaginario/\" class=\"post-url post-title\"> Quem lê indica: O irmão imaginário </a></h2><div class=\"post-meta\"><span class=\"time\"><time class=\"post-published updated\"\\ndatetime=\"2018-11-01T21:30:53+00:00\">1 nov, 2018</time></span></div></div></div></article ></div><div class=\"mg-col mg-col-2\"><div class=\"mg-row mg-row-1 clearfix\"><div class=\"item-2-cont\"><article class=\"post-5838 type-post format-standard has-post-thumbnail  listing-item-2 listing-item listing-mg-item listing-mg-2-item listing-mg-type-1 main-term-25\"><div class=\"item-content\"> <a  title=\"Copa do Brasil e a mágica da inversão de poder\" data-src=\"https://barbacenaonline.com.br/application/uploads/2018/10/Taça-da-Copa-do-Brasil-CBF-279x220.jpeg\" data-bs-srcset=\"{&quot;baseurl&quot;:&quot;https:\\\\/\\\\/barbacenaonline.com.br\\\\/application\\\\/uploads\\\\/2018\\\\/10\\\\/&quot;,&quot;sizes&quot;:{&quot;210&quot;:&quot;Ta\\\\u00e7a-da-Copa-do-Brasil-CBF-210x136.jpeg&quot;,&quot;279&quot;:&quot;Ta\\\\u00e7a-da-Copa-do-Brasil-CBF-279x220.jpeg&quot;,&quot;357&quot;:&quot;Ta\\\\u00e7a-da-Copa-do-Brasil-CBF-357x210.jpeg&quot;,&quot;750&quot;:&quot;Ta\\\\u00e7a-da-Copa-do-Brasil-CBF-750x430.jpeg&quot;,&quot;910&quot;:&quot;Ta\\\\u00e7a-da-Copa-do-Brasil-CBF.jpeg&quot;}}\"\\t\\t\\t\\tclass=\"img-cont\" href=\"https://barbacenaonline.com.br/copa-do-brasil-e-a-magica-da-inversao-de-poder/\"></a><div class=\"term-badges floated\"><span class=\"term-badge term-25\"><a href=\"https://barbacenaonline.com.br/category/articulistas/\">Articulistas</a></span></div><div class=\"content-container\"><h2 class=\"title\"> <a href=\"https://barbacenaonline.com.br/copa-do-brasil-e-a-magica-da-inversao-de-poder/\" class=\"post-url post-title\"> Copa do Brasil e a mágica da inversão de poder </a></h2></div></div></article ></div><div class=\"item-3-cont\"><article class=\"post-5804 type-post format-standard has-post-thumbnail  listing-item-3 listing-item listing-mg-item listing-mg-2-item listing-mg-type-1 main-term-25\"><div class=\"item-content\"> <a  title=\"#flashBOL: Noite de comemoração para as secretárias excelentes\" data-src=\"https://barbacenaonline.com.br/application/uploads/2018/10/secretarias03-1-279x220.jpg\" data-bs-srcset=\"{&quot;baseurl&quot;:&quot;https:\\\\/\\\\/barbacenaonline.com.br\\\\/application\\\\/uploads\\\\/2018\\\\/10\\\\/&quot;,&quot;sizes&quot;:{&quot;210&quot;:&quot;secretarias03-1-210x136.jpg&quot;,&quot;279&quot;:&quot;secretarias03-1-279x220.jpg&quot;,&quot;357&quot;:&quot;secretarias03-1-357x210.jpg&quot;,&quot;640&quot;:&quot;secretarias03-1-e1540640267950.jpg&quot;,&quot;750&quot;:&quot;secretarias03-1-750x430.jpg&quot;}}\"\\t\\t\\t\\tclass=\"img-cont\" href=\"https://barbacenaonline.com.br/flashbol-noite-de-comemoracao-para-as-secretarias-excelentes/\"></a><div class=\"term-badges floated\"><span class=\"term-badge term-25\"><a href=\"https://barbacenaonline.com.br/category/articulistas/\">Articulistas</a></span></div><div class=\"content-container\"><h2 class=\"title\"> <a href=\"https://barbacenaonline.com.br/flashbol-noite-de-comemoracao-para-as-secretarias-excelentes/\" class=\"post-url post-title\"> #flashBOL: Noite de comemoração para as secretárias excelentes </a></h2></div></div></article ></div></div><div class=\"mg-row mg-row-2 clearfix\"><div class=\"item-4-cont\"><article class=\"post-5798 type-post format-standard has-post-thumbnail  listing-item-4 listing-item listing-mg-item listing-mg-2-item listing-mg-type-1 main-term-25\"><div class=\"item-content\"> <a  title=\"T-shirts: As queridinhas do momento\" data-src=\"https://barbacenaonline.com.br/application/uploads/2018/10/FOTO4-279x220.png\" data-bs-srcset=\"{&quot;baseurl&quot;:&quot;https:\\\\/\\\\/barbacenaonline.com.br\\\\/application\\\\/uploads\\\\/2018\\\\/10\\\\/&quot;,&quot;sizes&quot;:{&quot;210&quot;:&quot;FOTO4-210x136.png&quot;,&quot;279&quot;:&quot;FOTO4-279x220.png&quot;,&quot;357&quot;:&quot;FOTO4-357x210.png&quot;,&quot;640&quot;:&quot;FOTO4-e1540585356918.png&quot;,&quot;750&quot;:&quot;FOTO4-750x312.png&quot;}}\"\\t\\t\\t\\tclass=\"img-cont\" href=\"https://barbacenaonline.com.br/t-shits-as-queridinhas-do-momento/\"></a><div class=\"term-badges floated\"><span class=\"term-badge term-25\"><a href=\"https://barbacenaonline.com.br/category/articulistas/\">Articulistas</a></span></div><div class=\"content-container\"><h2 class=\"title\"> <a href=\"https://barbacenaonline.com.br/t-shits-as-queridinhas-do-momento/\" class=\"post-url post-title\"> T-shirts: As queridinhas do momento </a></h2></div></div></article ></div><div class=\"item-5-cont\"><article class=\"post-5795 type-post format-standard has-post-thumbnail  listing-item-5 listing-item listing-mg-item listing-mg-2-item listing-mg-type-1 main-term-25\"><div class=\"item-content\"> <a  title=\"Aprendendo a viver\" data-src=\"https://barbacenaonline.com.br/application/uploads/2018/10/SirleneAliane-2610-279x220.jpg\" data-bs-srcset=\"{&quot;baseurl&quot;:&quot;https:\\\\/\\\\/barbacenaonline.com.br\\\\/application\\\\/uploads\\\\/2018\\\\/10\\\\/&quot;,&quot;sizes&quot;:{&quot;210&quot;:&quot;SirleneAliane-2610-210x136.jpg&quot;,&quot;279&quot;:&quot;SirleneAliane-2610-279x220.jpg&quot;,&quot;357&quot;:&quot;SirleneAliane-2610-357x210.jpg&quot;,&quot;540&quot;:&quot;SirleneAliane-2610-e1540583853173.jpg&quot;}}\"\\t\\t\\t\\tclass=\"img-cont\" href=\"https://barbacenaonline.com.br/aprendendo-a-viver/\"></a><div class=\"term-badges floated\"><span class=\"term-badge term-25\"><a href=\"https://barbacenaonline.com.br/category/articulistas/\">Articulistas</a></span></div><div class=\"content-container\"><h2 class=\"title\"> <a href=\"https://barbacenaonline.com.br/aprendendo-a-viver/\" class=\"post-url post-title\"> Aprendendo a viver </a></h2></div></div></article ></div></div></div></div></div><div class=\"bs-pagination-wrapper main-term-25 slider  bs-slider-item bs-items-3\"><div\\nclass=\"listing listing-modern-grid listing-modern-grid-2 clearfix slider-overlay-simple-gr\"><div class=\"mg-col mg-col-1\"><article class=\"post-5775 type-post format-standard has-post-thumbnail  listing-item-1 listing-item listing-mg-item listing-mg-2-item listing-mg-type-1 main-term-25\"><div class=\"item-content\"> <a  title=\"Quem lê indica: Diário de um Banana “Maré de azar”\" data-src=\"https://barbacenaonline.com.br/application/uploads/2018/10/QLI-2610-750x430.jpg\" data-bs-srcset=\"{&quot;baseurl&quot;:&quot;https:\\\\/\\\\/barbacenaonline.com.br\\\\/application\\\\/uploads\\\\/2018\\\\/10\\\\/&quot;,&quot;sizes&quot;:{&quot;210&quot;:&quot;QLI-2610-210x136.jpg&quot;,&quot;279&quot;:&quot;QLI-2610-279x220.jpg&quot;,&quot;357&quot;:&quot;QLI-2610-357x210.jpg&quot;,&quot;640&quot;:&quot;QLI-2610-e1540516806824.jpg&quot;,&quot;750&quot;:&quot;QLI-2610-750x430.jpg&quot;}}\"\\t\\t\\t\\tclass=\"img-cont\" href=\"https://barbacenaonline.com.br/quem-le-indica-diario-de-um-banana-mare-de-azar/\"></a><div class=\"term-badges floated\"><span class=\"term-badge term-25\"><a href=\"https://barbacenaonline.com.br/category/articulistas/\">Articulistas</a></span></div><div class=\"content-container\"><h2 class=\"title\"> <a href=\"https://barbacenaonline.com.br/quem-le-indica-diario-de-um-banana-mare-de-azar/\" class=\"post-url post-title\"> Quem lê indica: Diário de um Banana “Maré de azar” </a></h2><div class=\"post-meta\"><span class=\"time\"><time class=\"post-published updated\"\\ndatetime=\"2018-10-25T22:20:21+00:00\">25 out, 2018</time></span></div></div></div></article ></div><div class=\"mg-col mg-col-2\"><div class=\"mg-row mg-row-1 clearfix\"><div class=\"item-2-cont\"><article class=\"post-5702 type-post format-standard has-post-thumbnail  listing-item-2 listing-item listing-mg-item listing-mg-2-item listing-mg-type-1 main-term-25\"><div class=\"item-content\"> <a  title=\"Polícia Militar abre concurso para músico\" data-src=\"https://barbacenaonline.com.br/application/themes/publisher/images/default-thumb/publisher-mg2.png\"\\t\\t\\t\\tclass=\"img-cont\" href=\"https://barbacenaonline.com.br/policia-militar-abre-concurso-para-musico/\"></a><div class=\"term-badges floated\"><span class=\"term-badge term-25\"><a href=\"https://barbacenaonline.com.br/category/articulistas/\">Articulistas</a></span></div><div class=\"content-container\"><h2 class=\"title\"> <a href=\"https://barbacenaonline.com.br/policia-militar-abre-concurso-para-musico/\" class=\"post-url post-title\"> Polícia Militar abre concurso para músico </a></h2></div></div></article ></div><div class=\"item-3-cont\"><article class=\"post-5698 type-post format-standard has-post-thumbnail  listing-item-3 listing-item listing-mg-item listing-mg-2-item listing-mg-type-1 main-term-25\"><div class=\"item-content\"> <a  title=\"Transtorno opositor desafiador\" data-src=\"https://barbacenaonline.com.br/application/uploads/2018/10/16-tod-279x220.jpg\" data-bs-srcset=\"{&quot;baseurl&quot;:&quot;https:\\\\/\\\\/barbacenaonline.com.br\\\\/application\\\\/uploads\\\\/2018\\\\/10\\\\/&quot;,&quot;sizes&quot;:{&quot;210&quot;:&quot;16-tod-210x136.jpg&quot;,&quot;279&quot;:&quot;16-tod-279x220.jpg&quot;,&quot;357&quot;:&quot;16-tod-357x210.jpg&quot;,&quot;750&quot;:&quot;16-tod-750x430.jpg&quot;,&quot;1500&quot;:&quot;16-tod.jpg&quot;}}\"\\t\\t\\t\\tclass=\"img-cont\" href=\"https://barbacenaonline.com.br/transtorno-opositor-desafiador/\"></a><div class=\"term-badges floated\"><span class=\"term-badge term-25\"><a href=\"https://barbacenaonline.com.br/category/articulistas/\">Articulistas</a></span></div><div class=\"content-container\"><h2 class=\"title\"> <a href=\"https://barbacenaonline.com.br/transtorno-opositor-desafiador/\" class=\"post-url post-title\"> Transtorno opositor desafiador </a></h2></div></div></article ></div></div><div class=\"mg-row mg-row-2 clearfix\"><div class=\"item-4-cont\"><article class=\"post-5695 type-post format-standard has-post-thumbnail  listing-item-4 listing-item listing-mg-item listing-mg-2-item listing-mg-type-1 main-term-25\"><div class=\"item-content\"> <a  title=\"Olhe mais para a natureza, o cosmos, e menos para o espelho e seu egoísmo\" data-src=\"https://barbacenaonline.com.br/application/uploads/2018/10/o-estudo-de-jane-goodall-sobre-os-chimpanzes-7-279x220.jpg\" data-bs-srcset=\"{&quot;baseurl&quot;:&quot;https:\\\\/\\\\/barbacenaonline.com.br\\\\/application\\\\/uploads\\\\/2018\\\\/10\\\\/&quot;,&quot;sizes&quot;:{&quot;210&quot;:&quot;o-estudo-de-jane-goodall-sobre-os-chimpanzes-7-210x136.jpg&quot;,&quot;279&quot;:&quot;o-estudo-de-jane-goodall-sobre-os-chimpanzes-7-279x220.jpg&quot;,&quot;357&quot;:&quot;o-estudo-de-jane-goodall-sobre-os-chimpanzes-7-357x210.jpg&quot;,&quot;480&quot;:&quot;o-estudo-de-jane-goodall-sobre-os-chimpanzes-7.jpg&quot;}}\"\\t\\t\\t\\tclass=\"img-cont\" href=\"https://barbacenaonline.com.br/olhe-mais-para-a-natureza-o-cosmos-e-menos-para-o-espelho-e-seu-egoismo/\"></a><div class=\"term-badges floated\"><span class=\"term-badge term-25\"><a href=\"https://barbacenaonline.com.br/category/articulistas/\">Articulistas</a></span></div><div class=\"content-container\"><h2 class=\"title\"> <a href=\"https://barbacenaonline.com.br/olhe-mais-para-a-natureza-o-cosmos-e-menos-para-o-espelho-e-seu-egoismo/\" class=\"post-url post-title\"> Olhe mais para a natureza, o cosmos, e menos para o espelho e seu&hellip; </a></h2></div></div></article ></div><div class=\"item-5-cont\"><article class=\"post-5669 type-post format-standard has-post-thumbnail  listing-item-5 listing-item listing-mg-item listing-mg-2-item listing-mg-type-1 main-term-25\"><div class=\"item-content\"> <a  title=\"#flashBOL: Professores e crianças recebem diversas homenagens\" data-src=\"https://barbacenaonline.com.br/application/uploads/2018/10/Conexão-7-279x220.jpg\" data-bs-srcset=\"{&quot;baseurl&quot;:&quot;https:\\\\/\\\\/barbacenaonline.com.br\\\\/application\\\\/uploads\\\\/2018\\\\/10\\\\/&quot;,&quot;sizes&quot;:{&quot;210&quot;:&quot;Conex\\\\u00e3o-7-210x136.jpg&quot;,&quot;279&quot;:&quot;Conex\\\\u00e3o-7-279x220.jpg&quot;,&quot;357&quot;:&quot;Conex\\\\u00e3o-7-357x210.jpg&quot;,&quot;640&quot;:&quot;Conex\\\\u00e3o-7-e1540038978351.jpg&quot;,&quot;750&quot;:&quot;Conex\\\\u00e3o-7-750x430.jpg&quot;}}\"\\t\\t\\t\\tclass=\"img-cont\" href=\"https://barbacenaonline.com.br/flashbol-professores-e-criancas-recebem-diversas-homenagens/\"></a><div class=\"term-badges floated\"><span class=\"term-badge term-25\"><a href=\"https://barbacenaonline.com.br/category/articulistas/\">Articulistas</a></span></div><div class=\"content-container\"><h2 class=\"title\"> <a href=\"https://barbacenaonline.com.br/flashbol-professores-e-criancas-recebem-diversas-homenagens/\" class=\"post-url post-title\"> #flashBOL: Professores e crianças recebem diversas homenagens </a></h2></div></div></article ></div></div></div></div></div><div class=\"bs-slider-controls main-term-25\"><div class=\"bs-control-nav  bs-control-nav-style-1\"></div></div></div></div></div></div></div></div><div class=\"row vc_row wpb_row vc_row-fluid\"><div class=\"bs-vc-wrapper\"><div class=\"wpb_column bs-vc-column vc_column_container vc_col-sm-12\"><div class=\"bs-vc-wrapper wpb_wrapper\"><div class=\"bscb-92126 bsb-have-heading-color bs-listing bs-listing-listing-grid-1 bs-listing-single-tab\"><style>.bscb-92126 .section-heading.sh-t3 a.active,.bscb-92126.bscb-92126 .section-heading.sh-t3 .main-link:first-child:last-child .h-text,.bscb-92126 .section-heading.sh-t3>.h-text,.bscb-92126.bscb-92126 .section-heading.sh-t3.sh-s8>.h-text,.bscb-92126.bscb-92126 .section-heading.sh-t3.sh-s8>a.main-link>.h-text{color:#4c97f4}.bscb-92126 .section-heading.sh-t3 a:hover .h-text,.bscb-92126 .section-heading.sh-t3 a.active .h-text{color:#4c97f4!important}.bscb-92126.bscb-92126 .section-heading.sh-t3:after{background-color:#4c97f4!important}.bscb-92126.bscb-92126 .section-heading.sh-t3.sh-s8>.main-link>.h-text,.bscb-92126.bscb-92126 .section-heading.sh-t3.sh-s8>a:last-child:first-child>.h-text,.bscb-92126.bscb-92126 .section-heading.sh-t3.sh-s8>a:last-child:first-child>.h-text,.bscb-92126.bscb-92126 .section-heading.sh-t3.sh-s8>.h-text:last-child:first-child{border-color:#4c97f4}.bscb-92126.bscb-92126 .listing-item:hover .title a,.bscb-92126.bscb-92126 .listing-item-text-1 .post-meta a:hover,.bscb-92126.bscb-92126 .listing-item-grid .post-meta a:hover,.bscb-92126.bscb-92126 .listing-item .rating-stars span:before{color:#4c97f4!important}.bscb-92126.bscb-92126 .listing-item .rating-bar span{background-color:#4c97f4!important}.bscb-92126 .bs-pagination .btn-bs-pagination:hover,.bscb-92126 .btn-bs-pagination.bs-pagination-in-loading{background-color:#4c97f4!important;border-color:#4c97f4!important;color:#fff!important}.bscb-92126 .listing-item-text-2:hover .item-inner{border-color:#4c97f4!important}.bscb-92126.bscb-92126.bscb-92126.bscb-92126 .term-badges.floated .term-badge a,.bscb-92126.bscb-92126 .bs-pagination-wrapper .bs-loading>div{background-color:#4c97f4!important;color:#fff!important}</style><div class=\"listing listing-grid listing-grid-1 clearfix columns-4\"><article class=\"post-6025 type-post format-standard has-post-thumbnail   listing-item listing-item-grid listing-item-grid-1 main-term-25\"><div class=\"item-inner\"><div class=\"featured clearfix\"><div class=\"term-badges floated\"><span class=\"term-badge term-25\"><a href=\"https://barbacenaonline.com.br/category/articulistas/\">Articulistas</a></span></div> <a  title=\"Sine divulga 17 vagas de emprego com salários de até R$3.816\" data-src=\"https://barbacenaonline.com.br/application/uploads/2018/04/RAIS-642x336-357x210.jpg\" data-bs-srcset=\"{&quot;baseurl&quot;:&quot;https:\\\\/\\\\/barbacenaonline.com.br\\\\/application\\\\/uploads\\\\/2018\\\\/04\\\\/&quot;,&quot;sizes&quot;:{&quot;210&quot;:&quot;RAIS-642x336-210x136.jpg&quot;,&quot;279&quot;:&quot;RAIS-642x336-279x220.jpg&quot;,&quot;357&quot;:&quot;RAIS-642x336-357x210.jpg&quot;,&quot;642&quot;:&quot;RAIS-642x336.jpg&quot;}}\"\\t\\t\\t\\t\\t\\tclass=\"img-holder\" href=\"https://barbacenaonline.com.br/sine-divulga-17-vagas-de-emprego-com-salarios-de-ate-r3-816/\"></a></div><h2 class=\"title\"> <a href=\"https://barbacenaonline.com.br/sine-divulga-17-vagas-de-emprego-com-salarios-de-ate-r3-816/\" class=\"post-title post-url\"> Sine divulga 17 vagas de emprego com salários de até R$3.816 </a></h2><div class=\"post-meta\"><span class=\"time\"><time class=\"post-published updated\"\\ndatetime=\"2018-11-05T14:28:11+00:00\">5 nov, 2018</time></span></div><div class=\"post-summary\"> Dezessete oportunidades de emprego estão disponíveis no Sine em Barbacena para áreas como cirurgião dentista,\\xa0&hellip;</div></div></article ><article class=\"post-5991 type-post format-standard has-post-thumbnail   listing-item listing-item-grid listing-item-grid-1 main-term-25\"><div class=\"item-inner\"><div class=\"featured clearfix\"><div class=\"term-badges floated\"><span class=\"term-badge term-25\"><a href=\"https://barbacenaonline.com.br/category/articulistas/\">Articulistas</a></span></div> <a  title=\"Mais de 3.000 planetas já foram encontrados fora do Sistema Solar. O que isso quer dizer?\" data-src=\"https://barbacenaonline.com.br/application/uploads/2018/11/20172407503018-t1200x480-357x210.jpg\" data-bs-srcset=\"{&quot;baseurl&quot;:&quot;https:\\\\/\\\\/barbacenaonline.com.br\\\\/application\\\\/uploads\\\\/2018\\\\/11\\\\/&quot;,&quot;sizes&quot;:{&quot;210&quot;:&quot;20172407503018-t1200x480-210x136.jpg&quot;,&quot;279&quot;:&quot;20172407503018-t1200x480-279x220.jpg&quot;,&quot;357&quot;:&quot;20172407503018-t1200x480-357x210.jpg&quot;,&quot;640&quot;:&quot;20172407503018-t1200x480-e1541359343755.jpg&quot;,&quot;750&quot;:&quot;20172407503018-t1200x480-750x430.jpg&quot;}}\"\\t\\t\\t\\t\\t\\tclass=\"img-holder\" href=\"https://barbacenaonline.com.br/mais-de-3-000-planetas-ja-foram-encontrados-fora-do-sistema-solar-o-que-isso-quer-dizer/\"></a></div><h2 class=\"title\"> <a href=\"https://barbacenaonline.com.br/mais-de-3-000-planetas-ja-foram-encontrados-fora-do-sistema-solar-o-que-isso-quer-dizer/\" class=\"post-title post-url\"> Mais de 3.000 planetas já foram encontrados fora do Sistema Solar. O que isso quer&hellip; </a></h2><div class=\"post-meta\"><span class=\"time\"><time class=\"post-published updated\"\\ndatetime=\"2018-11-04T17:25:32+00:00\">4 nov, 2018</time></span></div><div class=\"post-summary\"> Por muito tempo, falar de vida extraterrestre era motivo de riso nas universidades. Muitas ciências não discutiam o&hellip;</div></div></article ><div class=\"listing-item listing-item-ad listing-item-grid listing-item-grid-1\"><div class=\"bsac bsac-clearfix location-block-ad bsac-align-center bsac-column-1\"><div id=\"bsac-302-1810983669\" class=\"bsac-container bsac-type-custom_code \" itemscope=\"\" itemtype=\"https://schema.org/WPAdBlock\" data-adid=\"302\" data-type=\"custom_code\"><div id=\"rev_slider_9_5_wrapper\" class=\"rev_slider_wrapper fullwidthbanner-container\" data-source=\"gallery\" style=\"margin:0px auto;background:transparent;padding:0px;margin-top:0px;margin-bottom:0px;\"><div id=\"rev_slider_9_5\" class=\"rev_slider fullwidthabanner\" style=\"display:none;\" data-version=\"5.4.8\"><ul><li data-index=\"rs-38\" data-transition=\"fade\" data-slotamount=\"default\" data-hideafterloop=\"0\" data-hideslideonmobile=\"off\"  data-easein=\"default\" data-easeout=\"default\" data-masterspeed=\"300\"  data-link=\"http://www.apecveiculos.com.br\"  data-target=\"_blank\"  data-thumb=\"https://barbacenaonline.com.br/application/uploads/2018/05/Apec-300x225-1-100x50.jpg\"  data-rotate=\"0\"  data-saveperformance=\"off\"  data-title=\"Slide\" data-param1=\"\" data-param2=\"\" data-param3=\"\" data-param4=\"\" data-param5=\"\" data-param6=\"\" data-param7=\"\" data-param8=\"\" data-param9=\"\" data-param10=\"\" data-description=\"\"> <img src=\"https://barbacenaonline.com.br/application/plugins/revslider/admin/assets/images/dummy.png\"  alt=\"\" title=\"Apec &#8211; 300&#215;225\"  width=\"300\" height=\"225\" data-lazyload=\"https://barbacenaonline.com.br/application/uploads/2018/05/Apec-300x225-1.jpg\" data-bgposition=\"center center\" data-bgfit=\"cover\" data-bgrepeat=\"no-repeat\" class=\"rev-slidebg\" data-no-retina></li><li data-index=\"rs-39\" data-transition=\"fade\" data-slotamount=\"default\" data-hideafterloop=\"0\" data-hideslideonmobile=\"off\"  data-easein=\"default\" data-easeout=\"default\" data-masterspeed=\"300\"  data-thumb=\"https://barbacenaonline.com.br/application/uploads/2018/05/cabana-300x225-1-100x50.gif\"  data-rotate=\"0\"  data-saveperformance=\"off\"  data-title=\"Slide\" data-param1=\"\" data-param2=\"\" data-param3=\"\" data-param4=\"\" data-param5=\"\" data-param6=\"\" data-param7=\"\" data-param8=\"\" data-param9=\"\" data-param10=\"\" data-description=\"\"> <img src=\"https://barbacenaonline.com.br/application/plugins/revslider/admin/assets/images/dummy.png\"  alt=\"\" title=\"cabana &#8211; 300&#215;225\"  width=\"300\" height=\"225\" data-lazyload=\"https://barbacenaonline.com.br/application/uploads/2018/05/cabana-300x225-1.gif\" data-bgposition=\"center center\" data-bgfit=\"cover\" data-bgrepeat=\"no-repeat\" class=\"rev-slidebg\" data-no-retina></li><li data-index=\"rs-40\" data-transition=\"fade\" data-slotamount=\"default\" data-hideafterloop=\"0\" data-hideslideonmobile=\"off\"  data-easein=\"default\" data-easeout=\"default\" data-masterspeed=\"300\"  data-link=\"http://www.facebook.com/vitaebarbacena\"  data-target=\"_blank\"  data-thumb=\"https://barbacenaonline.com.br/application/uploads/2018/05/Farmavitae-300x251-1-100x50.jpg\"  data-rotate=\"0\"  data-saveperformance=\"off\"  data-title=\"Slide\" data-param1=\"\" data-param2=\"\" data-param3=\"\" data-param4=\"\" data-param5=\"\" data-param6=\"\" data-param7=\"\" data-param8=\"\" data-param9=\"\" data-param10=\"\" data-description=\"\"> <img src=\"https://barbacenaonline.com.br/application/plugins/revslider/admin/assets/images/dummy.png\"  alt=\"\" title=\"Farmavitae &#8211; 300&#215;251\"  width=\"300\" height=\"251\" data-lazyload=\"https://barbacenaonline.com.br/application/uploads/2018/05/Farmavitae-300x251-1.jpg\" data-bgposition=\"center center\" data-bgfit=\"cover\" data-bgrepeat=\"no-repeat\" class=\"rev-slidebg\" data-no-retina></li><li data-index=\"rs-41\" data-transition=\"fade\" data-slotamount=\"default\" data-hideafterloop=\"0\" data-hideslideonmobile=\"off\"  data-easein=\"default\" data-easeout=\"default\" data-masterspeed=\"300\"  data-thumb=\"https://barbacenaonline.com.br/application/uploads/2018/05/Posto-GNV-300x225-100x50.jpg\"  data-rotate=\"0\"  data-saveperformance=\"off\"  data-title=\"Slide\" data-param1=\"\" data-param2=\"\" data-param3=\"\" data-param4=\"\" data-param5=\"\" data-param6=\"\" data-param7=\"\" data-param8=\"\" data-param9=\"\" data-param10=\"\" data-description=\"\"> <img src=\"https://barbacenaonline.com.br/application/plugins/revslider/admin/assets/images/dummy.png\"  alt=\"\" title=\"Posto GNV &#8211; 300&#215;225\"  width=\"300\" height=\"225\" data-lazyload=\"https://barbacenaonline.com.br/application/uploads/2018/05/Posto-GNV-300x225.jpg\" data-bgposition=\"center center\" data-bgfit=\"cover\" data-bgrepeat=\"no-repeat\" class=\"rev-slidebg\" data-no-retina></li><li data-index=\"rs-42\" data-transition=\"fade\" data-slotamount=\"default\" data-hideafterloop=\"0\" data-hideslideonmobile=\"off\"  data-easein=\"default\" data-easeout=\"default\" data-masterspeed=\"300\"  data-link=\"http://sejagenesis.com.br/\"  data-target=\"_blank\"  data-thumb=\"https://barbacenaonline.com.br/application/uploads/2018/05/Genesis-300x225-1-100x50.jpg\"  data-rotate=\"0\"  data-saveperformance=\"off\"  data-title=\"Slide\" data-param1=\"\" data-param2=\"\" data-param3=\"\" data-param4=\"\" data-param5=\"\" data-param6=\"\" data-param7=\"\" data-param8=\"\" data-param9=\"\" data-param10=\"\" data-description=\"\"> <img src=\"https://barbacenaonline.com.br/application/plugins/revslider/admin/assets/images/dummy.png\"  alt=\"\" title=\"Genesis 300&#215;225\"  width=\"300\" height=\"225\" data-lazyload=\"https://barbacenaonline.com.br/application/uploads/2018/05/Genesis-300x225-1.jpg\" data-bgposition=\"center center\" data-bgfit=\"cover\" data-bgrepeat=\"no-repeat\" class=\"rev-slidebg\" data-no-retina></li><li data-index=\"rs-43\" data-transition=\"fade\" data-slotamount=\"default\" data-hideafterloop=\"0\" data-hideslideonmobile=\"off\"  data-easein=\"default\" data-easeout=\"default\" data-masterspeed=\"300\"  data-link=\"https://www.vingtsunbarbacena.com.br/\"  data-target=\"_blank\"  data-thumb=\"https://barbacenaonline.com.br/application/uploads/2018/05/Ving-Tsun-Kung-Fu-300x225-100x50.jpg\"  data-rotate=\"0\"  data-saveperformance=\"off\"  data-title=\"Slide\" data-param1=\"\" data-param2=\"\" data-param3=\"\" data-param4=\"\" data-param5=\"\" data-param6=\"\" data-param7=\"\" data-param8=\"\" data-param9=\"\" data-param10=\"\" data-description=\"\"> <img src=\"https://barbacenaonline.com.br/application/plugins/revslider/admin/assets/images/dummy.png\"  alt=\"\" title=\"Ving Tsun &#8211; Kung Fu 300&#215;225\"  width=\"300\" height=\"225\" data-lazyload=\"https://barbacenaonline.com.br/application/uploads/2018/05/Ving-Tsun-Kung-Fu-300x225.jpg\" data-bgposition=\"center center\" data-bgfit=\"cover\" data-bgrepeat=\"no-repeat\" class=\"rev-slidebg\" data-no-retina></li><li data-index=\"rs-44\" data-transition=\"fade\" data-slotamount=\"default\" data-hideafterloop=\"0\" data-hideslideonmobile=\"off\"  data-easein=\"default\" data-easeout=\"default\" data-masterspeed=\"300\"  data-link=\"https://www.facebook.com/bqnotebooks\"  data-target=\"_blank\"  data-thumb=\"https://barbacenaonline.com.br/application/uploads/2018/05/BQ-notebooks-300x225-1-100x50.jpg\"  data-rotate=\"0\"  data-saveperformance=\"off\"  data-title=\"Slide\" data-param1=\"\" data-param2=\"\" data-param3=\"\" data-param4=\"\" data-param5=\"\" data-param6=\"\" data-param7=\"\" data-param8=\"\" data-param9=\"\" data-param10=\"\" data-description=\"\"> <img src=\"https://barbacenaonline.com.br/application/plugins/revslider/admin/assets/images/dummy.png\"  alt=\"\" title=\"BQ notebooks 300&#215;225\"  width=\"300\" height=\"225\" data-lazyload=\"https://barbacenaonline.com.br/application/uploads/2018/05/BQ-notebooks-300x225-1.jpg\" data-bgposition=\"center center\" data-bgfit=\"cover\" data-bgrepeat=\"no-repeat\" class=\"rev-slidebg\" data-no-retina></li></ul> <script>var htmlDiv = document.getElementById(\"rs-plugin-settings-inline-css\"); var htmlDivCss=\"\";\\n\\t\\t\\t\\t\\t\\tif(htmlDiv) {\\n\\t\\t\\t\\t\\t\\t\\thtmlDiv.innerHTML = htmlDiv.innerHTML + htmlDivCss;\\n\\t\\t\\t\\t\\t\\t}else{\\n\\t\\t\\t\\t\\t\\t\\tvar htmlDiv = document.createElement(\"div\");\\n\\t\\t\\t\\t\\t\\t\\thtmlDiv.innerHTML = \"<style>\" + htmlDivCss + \"</style>\";\\n\\t\\t\\t\\t\\t\\t\\tdocument.getElementsByTagName(\"head\")[0].appendChild(htmlDiv.childNodes[0]);\\n\\t\\t\\t\\t\\t\\t}</script> <div class=\"tp-bannertimer tp-bottom\" style=\"visibility: hidden !important;\"></div></div> <script>var htmlDiv = document.getElementById(\"rs-plugin-settings-inline-css\"); var htmlDivCss=\"\";\\n\\t\\t\\t\\tif(htmlDiv) {\\n\\t\\t\\t\\t\\thtmlDiv.innerHTML = htmlDiv.innerHTML + htmlDivCss;\\n\\t\\t\\t\\t}else{\\n\\t\\t\\t\\t\\tvar htmlDiv = document.createElement(\"div\");\\n\\t\\t\\t\\t\\thtmlDiv.innerHTML = \"<style>\" + htmlDivCss + \"</style>\";\\n\\t\\t\\t\\t\\tdocument.getElementsByTagName(\"head\")[0].appendChild(htmlDiv.childNodes[0]);\\n\\t\\t\\t\\t}</script> <script type=\"text/javascript\">if (setREVStartSize!==undefined) setREVStartSize(\\n\\t{c: \\'#rev_slider_9_5\\', gridwidth: [300], gridheight: [250], sliderLayout: \\'auto\\'});\\n\\t\\t\\t\\nvar revapi9,\\n\\ttpj;\\t\\n(function() {\\t\\t\\t\\n\\tif (!/loaded|interactive|complete/.test(document.readyState)) document.addEventListener(\"DOMContentLoaded\",onLoad); else onLoad();\\t\\n\\tfunction onLoad() {\\t\\t\\t\\t\\n\\t\\tif (tpj===undefined) { tpj = jQuery; if(\"off\" == \"on\") tpj.noConflict();}\\n\\tif(tpj(\"#rev_slider_9_5\").revolution == undefined){\\n\\t\\trevslider_showDoubleJqueryError(\"#rev_slider_9_5\");\\n\\t}else{\\n\\t\\trevapi9 = tpj(\"#rev_slider_9_5\").show().revolution({\\n\\t\\t\\tsliderType:\"standard\",\\n\\t\\t\\tjsFileLocation:\"//barbacenaonline.com.br/application/plugins/revslider/public/assets/js/\",\\n\\t\\t\\tsliderLayout:\"auto\",\\n\\t\\t\\tdottedOverlay:\"none\",\\n\\t\\t\\tdelay:3000,\\n\\t\\t\\tnavigation: {\\n\\t\\t\\t\\tkeyboardNavigation:\"off\",\\n\\t\\t\\t\\tkeyboard_direction: \"horizontal\",\\n\\t\\t\\t\\tmouseScrollNavigation:\"off\",\\n \\t\\t\\t\\t\\t\\t\\tmouseScrollReverse:\"default\",\\n\\t\\t\\t\\tonHoverStop:\"off\",\\n\\t\\t\\t\\tarrows: {\\n\\t\\t\\t\\t\\tstyle:\"hesperiden\",\\n\\t\\t\\t\\t\\tenable:true,\\n\\t\\t\\t\\t\\thide_onmobile:false,\\n\\t\\t\\t\\t\\thide_onleave:false,\\n\\t\\t\\t\\t\\ttmp:\\'\\',\\n\\t\\t\\t\\t\\tleft: {\\n\\t\\t\\t\\t\\t\\th_align:\"left\",\\n\\t\\t\\t\\t\\t\\tv_align:\"center\",\\n\\t\\t\\t\\t\\t\\th_offset:20,\\n\\t\\t\\t\\t\\t\\tv_offset:0\\n\\t\\t\\t\\t\\t},\\n\\t\\t\\t\\t\\tright: {\\n\\t\\t\\t\\t\\t\\th_align:\"right\",\\n\\t\\t\\t\\t\\t\\tv_align:\"center\",\\n\\t\\t\\t\\t\\t\\th_offset:20,\\n\\t\\t\\t\\t\\t\\tv_offset:0\\n\\t\\t\\t\\t\\t}\\n\\t\\t\\t\\t}\\n\\t\\t\\t},\\n\\t\\t\\tvisibilityLevels:[1240,1024,778,480],\\n\\t\\t\\tgridwidth:300,\\n\\t\\t\\tgridheight:250,\\n\\t\\t\\tlazyType:\"single\",\\n\\t\\t\\tshadow:0,\\n\\t\\t\\tspinner:\"spinner0\",\\n\\t\\t\\tstopLoop:\"off\",\\n\\t\\t\\tstopAfterLoops:-1,\\n\\t\\t\\tstopAtSlide:-1,\\n\\t\\t\\tshuffle:\"off\",\\n\\t\\t\\tautoHeight:\"off\",\\n\\t\\t\\tdisableProgressBar:\"on\",\\n\\t\\t\\thideThumbsOnMobile:\"off\",\\n\\t\\t\\thideSliderAtLimit:0,\\n\\t\\t\\thideCaptionAtLimit:0,\\n\\t\\t\\thideAllCaptionAtLilmit:0,\\n\\t\\t\\tdebugMode:false,\\n\\t\\t\\tfallbacks: {\\n\\t\\t\\t\\tsimplifyAll:\"off\",\\n\\t\\t\\t\\tnextSlideOnWindowFocus:\"off\",\\n\\t\\t\\t\\tdisableFocusListener:false,\\n\\t\\t\\t}\\n\\t\\t});\\n\\t}; /* END OF revapi call */\\n\\t\\n }; /* END OF ON LOAD FUNCTION */\\n}()); /* END OF WRAPPING FUNCTION */</script> <script>var htmlDivCss = unescape(\".hesperiden.tparrows%20%7B%0A%09cursor%3Apointer%3B%0A%09background%3Argba%280%2C0%2C0%2C0.5%29%3B%0A%09width%3A40px%3B%0A%09height%3A40px%3B%0A%09position%3Aabsolute%3B%0A%09display%3Ablock%3B%0A%09z-index%3A100%3B%0A%20%20%20%20border-radius%3A%2050%25%3B%0A%7D%0A.hesperiden.tparrows%3Ahover%20%7B%0A%09background%3Argba%280%2C%200%2C%200%2C%201%29%3B%0A%7D%0A.hesperiden.tparrows%3Abefore%20%7B%0A%09font-family%3A%20%22revicons%22%3B%0A%09font-size%3A20px%3B%0A%09color%3Argb%28255%2C%20255%2C%20255%29%3B%0A%09display%3Ablock%3B%0A%09line-height%3A%2040px%3B%0A%09text-align%3A%20center%3B%0A%7D%0A.hesperiden.tparrows.tp-leftarrow%3Abefore%20%7B%0A%09content%3A%20%22%5Ce82c%22%3B%0A%20%20%20%20margin-left%3A-3px%3B%0A%7D%0A.hesperiden.tparrows.tp-rightarrow%3Abefore%20%7B%0A%09content%3A%20%22%5Ce82d%22%3B%0A%20%20%20%20margin-right%3A-3px%3B%0A%7D%0A\");\\n\\t\\t\\t\\t\\tvar htmlDiv = document.getElementById(\\'rs-plugin-settings-inline-css\\');\\n\\t\\t\\t\\t\\tif(htmlDiv) {\\n\\t\\t\\t\\t\\t\\thtmlDiv.innerHTML = htmlDiv.innerHTML + htmlDivCss;\\n\\t\\t\\t\\t\\t}\\n\\t\\t\\t\\t\\telse{\\n\\t\\t\\t\\t\\t\\tvar htmlDiv = document.createElement(\\'div\\');\\n\\t\\t\\t\\t\\t\\thtmlDiv.innerHTML = \\'<style>\\' + htmlDivCss + \\'</style>\\';\\n\\t\\t\\t\\t\\t\\tdocument.getElementsByTagName(\\'head\\')[0].appendChild(htmlDiv.childNodes[0]);\\n\\t\\t\\t\\t\\t}</script> </div></div></div></div><article class=\"post-5978 type-post format-standard has-post-thumbnail   listing-item listing-item-grid listing-item-grid-1 main-term-25\"><div class=\"item-inner\"><div class=\"featured clearfix\"><div class=\"term-badges floated\"><span class=\"term-badge term-25\"><a href=\"https://barbacenaonline.com.br/category/articulistas/\">Articulistas</a></span></div> <a  title=\"#flashBOL: Medalha Santos Dumont é entregue a personalidades e entidades\" data-src=\"https://barbacenaonline.com.br/application/uploads/2018/11/MedalhaSD-2018-4-357x210.jpg\" data-bs-srcset=\"{&quot;baseurl&quot;:&quot;https:\\\\/\\\\/barbacenaonline.com.br\\\\/application\\\\/uploads\\\\/2018\\\\/11\\\\/&quot;,&quot;sizes&quot;:{&quot;210&quot;:&quot;MedalhaSD-2018-4-210x136.jpg&quot;,&quot;279&quot;:&quot;MedalhaSD-2018-4-279x220.jpg&quot;,&quot;357&quot;:&quot;MedalhaSD-2018-4-357x210.jpg&quot;,&quot;640&quot;:&quot;MedalhaSD-2018-4-e1541331685360.jpg&quot;,&quot;750&quot;:&quot;MedalhaSD-2018-4-750x430.jpg&quot;}}\"\\t\\t\\t\\t\\t\\tclass=\"img-holder\" href=\"https://barbacenaonline.com.br/flashbol-medalha-santos-dumont-e-entregue-a-personalidades-e-entidades/\"></a></div><h2 class=\"title\"> <a href=\"https://barbacenaonline.com.br/flashbol-medalha-santos-dumont-e-entregue-a-personalidades-e-entidades/\" class=\"post-title post-url\"> #flashBOL: Medalha Santos Dumont é entregue a personalidades e entidades </a></h2><div class=\"post-meta\"><span class=\"time\"><time class=\"post-published updated\"\\ndatetime=\"2018-11-04T09:41:37+00:00\">4 nov, 2018</time></span></div><div class=\"post-summary\"> Medalha Santos Dumont é entregue a personalidades e entidades\\nRealizada na manhã do dia 30 de outubro, na Fazenda&hellip;</div></div></article ></div></div></div></div></div></div><div class=\"row vc_row wpb_row vc_row-fluid\"><div class=\"bs-vc-wrapper\"><div class=\"wpb_column bs-vc-column vc_column_container vc_col-sm-8\"><div class=\"bs-vc-wrapper wpb_wrapper\"><div class=\"bsac bsac-clearfix  bsac-align-left bsac-column-1 bsac-float-left\"><div id=\"bsac-1749-1403528018\" class=\"bsac-container bsac-type-code \" itemscope=\"\" itemtype=\"https://schema.org/WPAdBlock\" data-adid=\"1749\" data-type=\"code\"><span id=\"bsac-1749-1403528018-place\"></span><script type=\"text/javascript\">var betterads_screen_width = document.body.clientWidth;betterads_el = document.getElementById(\\'bsac-1749-1403528018\\');             if (betterads_el.getBoundingClientRect().width) {     betterads_el_width_raw = betterads_el_width = betterads_el.getBoundingClientRect().width;    } else {     betterads_el_width_raw = betterads_el_width = betterads_el.offsetWidth;    }        var size = [\"125\", \"125\"];    if ( betterads_el_width >= 728 )      betterads_el_width = [\"728\", \"90\"];    else if ( betterads_el_width >= 468 )     betterads_el_width = [\"468\", \"60\"];    else if ( betterads_el_width >= 336 )     betterads_el_width = [\"336\", \"280\"];    else if ( betterads_el_width >= 300 )     betterads_el_width = [\"300\", \"250\"];    else if ( betterads_el_width >= 250 )     betterads_el_width = [\"250\", \"250\"];    else if ( betterads_el_width >= 200 )     betterads_el_width = [\"200\", \"200\"];    else if ( betterads_el_width >= 180 )     betterads_el_width = [\"180\", \"150\"]; if ( betterads_screen_width >= 1140 ) {          document.getElementById(\\'bsac-1749-1403528018-place\\').innerHTML = \\'<ins class=\"adsbygoogle\" style=\"display:inline-block;width:728px;height:90px\"  data-ad-client=\"ca-pub-6484653955591833\"  data-ad-slot=\"9875388233\" ></ins>\\';          (adsbygoogle = window.adsbygoogle || []).push({});         }else if ( betterads_screen_width >= 1019  && betterads_screen_width < 1140 ) { document.getElementById(\\'bsac-1749-1403528018-place\\').innerHTML = \\'<ins class=\"adsbygoogle\" style=\"display:inline-block;width:\\' + betterads_el_width[0] + \\'px;height:\\' + betterads_el_width[1] + \\'px\"  data-ad-client=\"ca-pub-6484653955591833\"  data-ad-slot=\"9875388233\" ></ins>\\';         (adsbygoogle = window.adsbygoogle || []).push({});}else if ( betterads_screen_width >= 768  && betterads_screen_width < 1019 ) { document.getElementById(\\'bsac-1749-1403528018-place\\').innerHTML = \\'<ins class=\"adsbygoogle\" style=\"display:inline-block;width:\\' + betterads_el_width[0] + \\'px;height:\\' + betterads_el_width[1] + \\'px\"  data-ad-client=\"ca-pub-6484653955591833\"  data-ad-slot=\"9875388233\" ></ins>\\';         (adsbygoogle = window.adsbygoogle || []).push({});}else if ( betterads_screen_width < 768 ) { document.getElementById(\\'bsac-1749-1403528018-place\\').innerHTML = \\'<ins class=\"adsbygoogle\" style=\"display:inline-block;width:\\' + betterads_el_width[0] + \\'px;height:\\' + betterads_el_width[1] + \\'px\"  data-ad-client=\"ca-pub-6484653955591833\"  data-ad-slot=\"9875388233\" ></ins>\\';         (adsbygoogle = window.adsbygoogle || []).push({});}</script></div></div></div></div><div class=\"wpb_column bs-vc-column vc_column_container vc_col-sm-4\"><div class=\"bs-vc-wrapper wpb_wrapper\"><div class=\"bsac bsac-clearfix  bsac-align-right bsac-column-1 bsac-float-right\"><div id=\"bsac-1750-1483954232\" class=\"bsac-container bsac-type-code \" itemscope=\"\" itemtype=\"https://schema.org/WPAdBlock\" data-adid=\"1750\" data-type=\"code\"><span id=\"bsac-1750-1483954232-place\"></span><script type=\"text/javascript\">var betterads_screen_width = document.body.clientWidth;betterads_el = document.getElementById(\\'bsac-1750-1483954232\\');             if (betterads_el.getBoundingClientRect().width) {     betterads_el_width_raw = betterads_el_width = betterads_el.getBoundingClientRect().width;    } else {     betterads_el_width_raw = betterads_el_width = betterads_el.offsetWidth;    }        var size = [\"125\", \"125\"];    if ( betterads_el_width >= 728 )      betterads_el_width = [\"728\", \"90\"];    else if ( betterads_el_width >= 468 )     betterads_el_width = [\"468\", \"60\"];    else if ( betterads_el_width >= 336 )     betterads_el_width = [\"336\", \"280\"];    else if ( betterads_el_width >= 300 )     betterads_el_width = [\"300\", \"250\"];    else if ( betterads_el_width >= 250 )     betterads_el_width = [\"250\", \"250\"];    else if ( betterads_el_width >= 200 )     betterads_el_width = [\"200\", \"200\"];    else if ( betterads_el_width >= 180 )     betterads_el_width = [\"180\", \"150\"]; if ( betterads_screen_width >= 1140 ) {          document.getElementById(\\'bsac-1750-1483954232-place\\').innerHTML = \\'<ins class=\"adsbygoogle\" style=\"display:inline-block;width:320px;height:100px\"  data-ad-client=\"ca-pub-6484653955591833\"  data-ad-slot=\"6662191097\" ></ins>\\';          (adsbygoogle = window.adsbygoogle || []).push({});         }else if ( betterads_screen_width >= 1019  && betterads_screen_width < 1140 ) { document.getElementById(\\'bsac-1750-1483954232-place\\').innerHTML = \\'<ins class=\"adsbygoogle\" style=\"display:inline-block;width:\\' + betterads_el_width[0] + \\'px;height:\\' + betterads_el_width[1] + \\'px\"  data-ad-client=\"ca-pub-6484653955591833\"  data-ad-slot=\"6662191097\" ></ins>\\';         (adsbygoogle = window.adsbygoogle || []).push({});}else if ( betterads_screen_width >= 768  && betterads_screen_width < 1019 ) { document.getElementById(\\'bsac-1750-1483954232-place\\').innerHTML = \\'<ins class=\"adsbygoogle\" style=\"display:inline-block;width:\\' + betterads_el_width[0] + \\'px;height:\\' + betterads_el_width[1] + \\'px\"  data-ad-client=\"ca-pub-6484653955591833\"  data-ad-slot=\"6662191097\" ></ins>\\';         (adsbygoogle = window.adsbygoogle || []).push({});}else if ( betterads_screen_width < 768 ) { document.getElementById(\\'bsac-1750-1483954232-place\\').innerHTML = \\'<ins class=\"adsbygoogle\" style=\"display:inline-block;width:\\' + betterads_el_width[0] + \\'px;height:\\' + betterads_el_width[1] + \\'px\"  data-ad-client=\"ca-pub-6484653955591833\"  data-ad-slot=\"6662191097\" ></ins>\\';         (adsbygoogle = window.adsbygoogle || []).push({});}</script></div></div></div></div></div></div></div></div></div></div></main><footer id=\"site-footer\" class=\"site-footer full-width\"><div class=\"footer-widgets dark-text\"><div class=\"content-wrap\"><div class=\"container\"><div class=\"row\"><div class=\"col-sm-4\"><aside id=\"sidebar-footer-1\" class=\"sidebar\" role=\"complementary\" aria-label=\"Footer - Column 1 Sidebar\" itemscope=\"itemscope\" itemtype=\"https://schema.org/WPSideBar\"><div id=\"bs-about-2\" class=\" h-ni w-t footer-widget footer-column-1 widget widget_bs-about\"><div class=\"section-heading sh-t5 sh-s1\"><span class=\"h-text\">Sobre nós</span></div><div  class=\"bs-shortcode bs-about \"><h4 class=\"about-title\"> <img class=\"logo-image\" src=\"https://barbacenaonline.com.br/wp-content/uploads/2018/04/logo-1.png\"\\nalt=\"\"></h4><div class=\"about-text\"><p>Portal de Notícias Barbacena Online<br /> Fundado em 01 de setembro de 2001</p><p>E-mail: contato@barbacenaonline.com.br</p><p>Whatsaap: (32) 9-8835-4900</p></div><ul class=\"about-icons-list\"><li class=\"about-icon-item facebook\"><a href=\"#\" target=\"_blank\"><i class=\"fa fa-facebook\"></i></a></ul></div></div></aside></div><div class=\"col-sm-4\"><aside id=\"sidebar-footer-2\" class=\"sidebar\" role=\"complementary\" aria-label=\"Footer - Column 2 Sidebar\" itemscope=\"itemscope\" itemtype=\"https://schema.org/WPSideBar\"><div id=\"bs-thumbnail-listing-1-2\" class=\" h-ni w-t footer-widget footer-column-2 widget widget_bs-thumbnail-listing-1\"><div class=\" bs-listing bs-listing-listing-thumbnail-1 bs-listing-single-tab\"><p class=\"section-heading sh-t5 sh-s1 main-term-none\"> <span class=\"h-text main-term-none main-link\"> Mais vistos </span></p><div class=\"listing listing-thumbnail listing-tb-1 clearfix columns-1\"><div class=\"post-6040 type-post format-standard has-post-thumbnail   listing-item listing-item-thumbnail listing-item-tb-1 main-term-23\"><div class=\"item-inner clearfix\"><div class=\"featured\"> <a  title=\"Presídio de São João del-Rei ganha novas vagas\" data-src=\"https://barbacenaonline.com.br/application/themes/publisher/images/default-thumb/publisher-tb1.png\"\\t\\t\\t\\t\\t\\tclass=\"img-holder\" href=\"https://barbacenaonline.com.br/presidio-de-sao-joao-del-rei-ganha-novas-vagas/\"></a></div><p class=\"title\"> <a href=\"https://barbacenaonline.com.br/presidio-de-sao-joao-del-rei-ganha-novas-vagas/\" class=\"post-url post-title\"> Presídio de São João del-Rei ganha novas vagas </a></p><div class=\"post-meta\"><span class=\"time\"><time class=\"post-published updated\"\\ndatetime=\"2018-11-05T18:41:43+00:00\">5 nov, 2018</time></span></div></div></div ><div class=\"post-6036 type-post format-standard has-post-thumbnail   listing-item listing-item-thumbnail listing-item-tb-1 main-term-22\"><div class=\"item-inner clearfix\"><div class=\"featured\"> <a  title=\"Homem atingido nas nádegas por disparo de arma de fogo\" data-src=\"https://barbacenaonline.com.br/application/uploads/2018/06/Arma-1306-e1528897950308-86x64.jpg\" data-bs-srcset=\"{&quot;baseurl&quot;:&quot;https:\\\\/\\\\/barbacenaonline.com.br\\\\/application\\\\/uploads\\\\/2018\\\\/06\\\\/&quot;,&quot;sizes&quot;:{&quot;86&quot;:&quot;Arma-1306-e1528897950308-86x64.jpg&quot;,&quot;210&quot;:&quot;Arma-1306-e1528897950308-210x136.jpg&quot;,&quot;612&quot;:&quot;Arma-1306-e1528897950308.jpg&quot;}}\"\\t\\t\\t\\t\\t\\tclass=\"img-holder\" href=\"https://barbacenaonline.com.br/homem-atingido-nas-nadegas-por-disparo-de-arma-de-fogo/\"></a></div><p class=\"title\"> <a href=\"https://barbacenaonline.com.br/homem-atingido-nas-nadegas-por-disparo-de-arma-de-fogo/\" class=\"post-url post-title\"> Homem atingido nas nádegas por disparo de arma de fogo </a></p><div class=\"post-meta\"><span class=\"time\"><time class=\"post-published updated\"\\ndatetime=\"2018-11-05T16:57:27+00:00\">5 nov, 2018</time></span></div></div></div ><div class=\"post-6025 type-post format-standard has-post-thumbnail   listing-item listing-item-thumbnail listing-item-tb-1 main-term-25\"><div class=\"item-inner clearfix\"><div class=\"featured\"> <a  title=\"Sine divulga 17 vagas de emprego com salários de até R$3.816\" data-src=\"https://barbacenaonline.com.br/application/uploads/2018/04/RAIS-642x336-86x64.jpg\" data-bs-srcset=\"{&quot;baseurl&quot;:&quot;https:\\\\/\\\\/barbacenaonline.com.br\\\\/application\\\\/uploads\\\\/2018\\\\/04\\\\/&quot;,&quot;sizes&quot;:{&quot;86&quot;:&quot;RAIS-642x336-86x64.jpg&quot;,&quot;210&quot;:&quot;RAIS-642x336-210x136.jpg&quot;,&quot;642&quot;:&quot;RAIS-642x336.jpg&quot;}}\"\\t\\t\\t\\t\\t\\tclass=\"img-holder\" href=\"https://barbacenaonline.com.br/sine-divulga-17-vagas-de-emprego-com-salarios-de-ate-r3-816/\"></a></div><p class=\"title\"> <a href=\"https://barbacenaonline.com.br/sine-divulga-17-vagas-de-emprego-com-salarios-de-ate-r3-816/\" class=\"post-url post-title\"> Sine divulga 17 vagas de emprego com salários de até R$3.816 </a></p><div class=\"post-meta\"><span class=\"time\"><time class=\"post-published updated\"\\ndatetime=\"2018-11-05T14:28:11+00:00\">5 nov, 2018</time></span></div></div></div ></div></div></div></aside></div><div class=\"col-sm-4\"><aside id=\"sidebar-footer-3\" class=\"sidebar\" role=\"complementary\" aria-label=\"Footer - Column 3 Sidebar\" itemscope=\"itemscope\" itemtype=\"https://schema.org/WPSideBar\"><div id=\"bs-popular-categories-2\" class=\" h-ni w-t footer-widget footer-column-3 widget widget_bs-popular-categories\"><div class=\"section-heading sh-t5 sh-s1\"><span class=\"h-text\">Categorias populares</span></div><div  class=\"bs-shortcode bs-popular-categories \"><ul class=\"bs-popular-terms-list\"><li class=\"bs-popular-term-item term-item-34\"> <a href=\"https://barbacenaonline.com.br/category/cotidiano/\">Cotidiano<span class=\"term-count\">323</span></a></li><li class=\"bs-popular-term-item term-item-22\"> <a href=\"https://barbacenaonline.com.br/category/cidade/\">Cidade<span class=\"term-count\">298</span></a></li><li class=\"bs-popular-term-item term-item-25\"> <a href=\"https://barbacenaonline.com.br/category/articulistas/\">Articulistas<span class=\"term-count\">269</span></a></li><li class=\"bs-popular-term-item term-item-36\"> <a href=\"https://barbacenaonline.com.br/category/cotidiano/policia-militar/\">Polícia Militar<span class=\"term-count\">121</span></a></li><li class=\"bs-popular-term-item term-item-37\"> <a href=\"https://barbacenaonline.com.br/category/cotidiano/corpo-de-bombeiros/\">Corpo de Bombeiros<span class=\"term-count\">103</span></a></li><li class=\"bs-popular-term-item term-item-41\"> <a href=\"https://barbacenaonline.com.br/category/educacao/\">Educação<span class=\"term-count\">89</span></a></li></ul></div></div></aside></div></div></div></div></div><div class=\"copy-footer\"><div class=\"content-wrap\"><div class=\"container\"><div class=\"row footer-copy-row\"><div class=\"copy-1 col-lg-6 col-md-6 col-sm-6 col-xs-12\"> © 2018 - Barbacena Online. Todos os direitos reservados.</div><div class=\"copy-2 col-lg-6 col-md-6 col-sm-6 col-xs-12\"> Desenvolvido por <a href=\"//studiositebh.com.br\"> Studio Site BH</a></div></div></div></div></div></footer></div> <span class=\"back-top\"><i class=\"fa fa-arrow-up\"></i></span> <script type=\\'text/javascript\\'>/* <![CDATA[ */ var bs_pagination_loc = {\"loading\":\"<div class=\\\\\"bs-loading\\\\\"><div><\\\\/div><div><\\\\/div><div><\\\\/div><div><\\\\/div><div><\\\\/div><div><\\\\/div><div><\\\\/div><div><\\\\/div><div><\\\\/div><\\\\/div>\"}; /* ]]> */</script> <script type=\\'text/javascript\\'>/* <![CDATA[ */ var better_bam_loc = {\"ajax_url\":\"https:\\\\/\\\\/barbacenaonline.com.br\\\\/wp-admin\\\\/admin-ajax.php\"}; /* ]]> */</script> <script type=\\'text/javascript\\'>/* <![CDATA[ */ var publisher_theme_global_loc = {\"page\":{\"boxed\":\"full-width\"},\"header\":{\"style\":\"style-2\",\"boxed\":\"full-width\"},\"ajax_url\":\"https:\\\\/\\\\/barbacenaonline.com.br\\\\/wp-admin\\\\/admin-ajax.php\",\"loading\":\"<div class=\\\\\"bs-loading\\\\\"><div><\\\\/div><div><\\\\/div><div><\\\\/div><div><\\\\/div><div><\\\\/div><div><\\\\/div><div><\\\\/div><div><\\\\/div><div><\\\\/div><\\\\/div>\",\"translations\":{\"tabs_all\":\"Todos\",\"tabs_more\":\"Mais\",\"lightbox_expand\":\"Expand the image\",\"lightbox_close\":\"Close\"},\"lightbox\":{\"not_classes\":\"\"},\"main_menu\":{\"more_menu\":\"enable\"},\"skyscraper\":{\"sticky_gap\":30,\"sticky\":true,\"position\":\"after-header\"},\"share\":{\"more\":true},\"refresh_googletagads\":\"1\"};\\nvar publisher_theme_ajax_search_loc = {\"ajax_url\":\"https:\\\\/\\\\/barbacenaonline.com.br\\\\/wp-admin\\\\/admin-ajax.php\",\"previewMarkup\":\"<div class=\\\\\"ajax-search-results-wrapper ajax-search-no-product ajax-search-fullwidth\\\\\">\\\\n\\\\t<div class=\\\\\"ajax-search-results\\\\\">\\\\n\\\\t\\\\t<div class=\\\\\"ajax-ajax-posts-list\\\\\">\\\\n\\\\t\\\\t\\\\t<div class=\\\\\"clean-title heading-typo\\\\\">\\\\n\\\\t\\\\t\\\\t\\\\t<span>Postagens<\\\\/span>\\\\n\\\\t\\\\t\\\\t<\\\\/div>\\\\n\\\\t\\\\t\\\\t<div class=\\\\\"posts-lists\\\\\" data-section-name=\\\\\"posts\\\\\"><\\\\/div>\\\\n\\\\t\\\\t<\\\\/div>\\\\n\\\\t\\\\t<div class=\\\\\"ajax-taxonomy-list\\\\\">\\\\n\\\\t\\\\t\\\\t<div class=\\\\\"ajax-categories-columns\\\\\">\\\\n\\\\t\\\\t\\\\t\\\\t<div class=\\\\\"clean-title heading-typo\\\\\">\\\\n\\\\t\\\\t\\\\t\\\\t\\\\t<span>Categorias<\\\\/span>\\\\n\\\\t\\\\t\\\\t\\\\t<\\\\/div>\\\\n\\\\t\\\\t\\\\t\\\\t<div class=\\\\\"posts-lists\\\\\" data-section-name=\\\\\"categories\\\\\"><\\\\/div>\\\\n\\\\t\\\\t\\\\t<\\\\/div>\\\\n\\\\t\\\\t\\\\t<div class=\\\\\"ajax-tags-columns\\\\\">\\\\n\\\\t\\\\t\\\\t\\\\t<div class=\\\\\"clean-title heading-typo\\\\\">\\\\n\\\\t\\\\t\\\\t\\\\t\\\\t<span>Tags<\\\\/span>\\\\n\\\\t\\\\t\\\\t\\\\t<\\\\/div>\\\\n\\\\t\\\\t\\\\t\\\\t<div class=\\\\\"posts-lists\\\\\" data-section-name=\\\\\"tags\\\\\"><\\\\/div>\\\\n\\\\t\\\\t\\\\t<\\\\/div>\\\\n\\\\t\\\\t<\\\\/div>\\\\n\\\\t<\\\\/div>\\\\n<\\\\/div>\",\"full_width\":\"1\"}; /* ]]> */</script> <!--[if lt IE 9]> <script type=\\'text/javascript\\'\\n\\t\\t        src=\\'https://cdnjs.cloudflare.com/ajax/libs/ace/1.2.8/ext-old_ie.js\\'></script> <![endif]--><div class=\"rh-cover noscroll \" > <span class=\"rh-close\"></span><div class=\"rh-panel rh-pm\"><div class=\"rh-p-h\"> <span class=\"user-login\"> <span class=\"user-avatar user-avatar-icon\"><i class=\"fa fa-user-circle\"></i></span> Sign in </span></div><div class=\"rh-p-b\"><div class=\"rh-c-m clearfix\"><ul id=\"resp-navigation\" class=\"resp-menu menu clearfix\"><li class=\"menu-item menu-item-type-post_type menu-item-object-page better-anim-fade menu-item-182\"><a href=\"https://barbacenaonline.com.br/todas-noticias/\">Todas as notícias</a></li><li class=\"menu-item menu-item-type-post_type menu-item-object-page better-anim-fade menu-item-111\"><a href=\"https://barbacenaonline.com.br/sobre-nos/\">Quem Somos</a></li><li class=\"menu-item menu-item-type-post_type menu-item-object-page better-anim-fade menu-item-1557\"><a href=\"https://barbacenaonline.com.br/music/\">Premiere Rádio</a></li><li class=\"menu-item menu-item-type-post_type menu-item-object-page better-anim-fade menu-item-101\"><a href=\"https://barbacenaonline.com.br/contato/\">Contato</a></li></ul></div><form role=\"search\" method=\"get\" class=\"search-form\" action=\"https://barbacenaonline.com.br\"> <input type=\"search\" class=\"search-field\"\\nplaceholder=\"Pesquisa...\"\\nvalue=\"\" name=\"s\"\\ntitle=\"Procurar por:\"\\nautocomplete=\"off\"></form></div></div><div class=\"rh-panel rh-p-u\"><div class=\"rh-p-h\"> <span class=\"rh-back-menu\"><i></i></span></div><div class=\"rh-p-b\"><div  class=\"bs-shortcode bs-login-shortcode \"><div class=\"bs-login bs-type-login\"  style=\"display:none\"><div class=\"bs-login-panel bs-login-sign-panel bs-current-login-panel\"><form name=\"loginform\"\\naction=\"https://barbacenaonline.com.br/wp-login.php?itsec-hb-token=painel\" method=\"post\"><div class=\"login-header\"> <span class=\"login-icon fa fa-user-circle main-color\"></span><p>Welcome, Login to your account.</p></div><div class=\"login-field login-username\"> <input type=\"text\" name=\"log\" id=\"user_login\" class=\"input\"\\nvalue=\"\" size=\"20\"\\nplaceholder=\"Username or Email...\" required/></div><div class=\"login-field login-password\"> <input type=\"password\" name=\"pwd\" id=\"user_pass\"\\nclass=\"input\"\\nvalue=\"\" size=\"20\" placeholder=\"Password...\"\\nrequired/></div><div class=\"login-field\"> <a href=\"https://barbacenaonline.com.br/wp-login.php?itsec-hb-token=painel&action=lostpassword&redirect_to=https%3A%2F%2Fbarbacenaonline.com.br%2F\"\\nclass=\"go-reset-panel\">Forget password?</a><span class=\"login-remember\"> <input class=\"remember-checkbox\" name=\"rememberme\" type=\"checkbox\"\\nid=\"rememberme\"\\nvalue=\"forever\"  /> <label class=\"remember-label\">Remember me</label> </span></div><div class=\"login-field login-submit\"> <input type=\"submit\" name=\"wp-submit\"\\nclass=\"button-primary login-btn\"\\nvalue=\"Log In\"/> <input type=\"hidden\" name=\"redirect_to\" value=\"https://barbacenaonline.com.br/\"/></div></form></div><div class=\"bs-login-panel bs-login-reset-panel\"><span class=\"go-login-panel\"><i\\nclass=\"fa fa-angle-left\"></i> Sign in</span><div class=\"bs-login-reset-panel-inner\"><div class=\"login-header\"> <span class=\"login-icon fa fa-support\"></span><p>Recover your password.</p><p>A password will be e-mailed to you.</p></div><form name=\"lostpasswordform\" id=\"lostpasswordform\"\\naction=\"https://barbacenaonline.com.br/wp-login.php?action=lostpassword&#038;itsec-hb-token=painel\"\\nmethod=\"post\"><div class=\"login-field reset-username\"> <input type=\"text\" name=\"user_login\" class=\"input\" value=\"\"\\nplaceholder=\"Username or Email...\"\\nrequired/></div><div class=\"login-field reset-submit\"><input type=\"hidden\" name=\"redirect_to\" value=\"\"/> <input type=\"submit\" name=\"wp-submit\" class=\"login-btn\"\\nvalue=\"Send My Password\"/></div></form></div></div></div></div></div></div></div> <script type=\"text/javascript\">function revslider_showDoubleJqueryError(sliderID) {\\n\\t\\t\\t\\t\\tvar errorMessage = \"Revolution Slider Error: You have some jquery.js library include that comes after the revolution files js include.\";\\n\\t\\t\\t\\t\\terrorMessage += \"<br> This includes make eliminates the revolution slider libraries, and make it not work.\";\\n\\t\\t\\t\\t\\terrorMessage += \"<br><br> To fix it you can:<br>&nbsp;&nbsp;&nbsp; 1. In the Slider Settings -> Troubleshooting set option:  <strong><b>Put JS Includes To Body</b></strong> option to true.\";\\n\\t\\t\\t\\t\\terrorMessage += \"<br>&nbsp;&nbsp;&nbsp; 2. Find the double jquery.js include and remove it.\";\\n\\t\\t\\t\\t\\terrorMessage = \"<span style=\\'font-size:16px;color:#BC0C06;\\'>\" + errorMessage + \"</span>\";\\n\\t\\t\\t\\t\\t\\tjQuery(sliderID).show().html(errorMessage);\\n\\t\\t\\t\\t}</script> <script type=\\'text/javascript\\'>/* <![CDATA[ */ var wpcf7 = {\"apiSettings\":{\"root\":\"https:\\\\/\\\\/barbacenaonline.com.br\\\\/wp-json\\\\/contact-form-7\\\\/v1\",\"namespace\":\"contact-form-7\\\\/v1\"},\"recaptcha\":{\"messages\":{\"empty\":\"Verifique se voc\\\\u00ea n\\\\u00e3o \\\\u00e9 um rob\\\\u00f4.\"}},\"cached\":\"1\"}; /* ]]> */</script> <script>(function(w, d){\\n\\tvar b = d.getElementsByTagName(\"body\")[0];\\n\\tvar s = d.createElement(\"script\"); s.async = true;\\n\\tvar v = !(\"IntersectionObserver\" in w) ? \"8.7.1\" : \"10.5.2\";\\n\\ts.src = \"https://barbacenaonline.com.br/application/plugins/wp-rocket/inc/front/js/lazyload-\" + v + \".min.js\";\\n\\tw.lazyLoadOptions = {\\n\\t\\telements_selector: \"img, iframe\",\\n\\t\\tdata_src: \"lazy-src\",\\n\\t\\tdata_srcset: \"lazy-srcset\",\\n\\t\\tskip_invisible: false,\\n\\t\\tclass_loading: \"lazyloading\",\\n\\t\\tclass_loaded: \"lazyloaded\",\\n\\t\\tthreshold: 300,\\n\\t\\tcallback_load: function(element) {\\n\\t\\t\\tif ( element.tagName === \"IFRAME\" && element.dataset.rocketLazyload == \"fitvidscompatible\" ) {\\n\\t\\t\\t\\tif (element.classList.contains(\"lazyloaded\") ) {\\n\\t\\t\\t\\t\\tif (typeof window.jQuery != \"undefined\") {\\n\\t\\t\\t\\t\\t\\tif (jQuery.fn.fitVids) {\\n\\t\\t\\t\\t\\t\\t\\tjQuery(element).parent().fitVids();\\n\\t\\t\\t\\t\\t\\t}\\n\\t\\t\\t\\t\\t}\\n\\t\\t\\t\\t}\\n\\t\\t\\t}\\n\\t\\t}\\n\\t}; // Your options here. See \"recipes\" for more information about async.\\n\\tb.appendChild(s);\\n}(window, document));\\n\\n// Listen to the Initialized event\\nwindow.addEventListener(\\'LazyLoad::Initialized\\', function (e) {\\n    // Get the instance and puts it in the lazyLoadInstance variable\\n\\tvar lazyLoadInstance = e.detail.instance;\\n\\n\\tvar observer = new MutationObserver(function(mutations) {\\n\\t\\tmutations.forEach(function(mutation) {\\n\\t\\t\\tlazyLoadInstance.update();\\n\\t\\t} );\\n\\t} );\\n\\t\\n\\tvar b      = document.getElementsByTagName(\"body\")[0];\\n\\tvar config = { childList: true, subtree: true };\\n\\t\\n\\tobserver.observe(b, config);\\n}, false);</script> <script src=\"https://barbacenaonline.com.br/application/cache/min/1/1239eff86dfa5905a1d59a20c9c4b5e4.js\" data-minify=\"1\" defer></script></body></html>\\n<!-- This website is like a Rocket, isn\\'t it? Performance optimized by WP Rocket. Learn more: https://wp-rocket.me - Debug: cached@1541450581 -->'"
      ]
     },
     "execution_count": 7,
     "metadata": {},
     "output_type": "execute_result"
    }
   ],
   "source": [
    "req.text"
   ]
  },
  {
   "cell_type": "code",
   "execution_count": 8,
   "metadata": {},
   "outputs": [],
   "source": [
    "# Realiza uma requisição HTTP HEAD\n",
    "req = requests.head('https://barbacenaonline.com.br/')"
   ]
  },
  {
   "cell_type": "code",
   "execution_count": 9,
   "metadata": {},
   "outputs": [
    {
     "data": {
      "text/plain": [
       "{'Date': 'Mon, 05 Nov 2018 23:09:07 GMT', 'Server': 'Apache', 'Link': '<https://barbacenaonline.com.br/wp-json/>; rel=\"https://api.w.org/\", <https://barbacenaonline.com.br/>; rel=shortlink', 'Content-Encoding': 'gzip', 'Vary': 'Accept-Encoding,User-Agent', 'Cache-Control': 'max-age=0', 'Expires': 'Mon, 05 Nov 2018 23:09:07 GMT', 'Keep-Alive': 'timeout=5, max=100', 'Connection': 'Keep-Alive', 'Content-Type': 'text/html; charset=UTF-8'}"
      ]
     },
     "execution_count": 9,
     "metadata": {},
     "output_type": "execute_result"
    }
   ],
   "source": [
    "req.headers"
   ]
  },
  {
   "cell_type": "code",
   "execution_count": 10,
   "metadata": {},
   "outputs": [
    {
     "data": {
      "text/plain": [
       "''"
      ]
     },
     "execution_count": 10,
     "metadata": {},
     "output_type": "execute_result"
    }
   ],
   "source": [
    "req.text"
   ]
  },
  {
   "cell_type": "markdown",
   "metadata": {},
   "source": [
    "### Expressões regulares\n",
    "\n",
    "Uma expressão regular (er, re, regex, regexp) é uma notação definida em uma linguagem formal, concisa e flexível, para identificação de padrões de caracteres desejados.\n",
    "\n",
    "As expressões são contruídas na forma de uma string, combinando caracteres literais e caracteres especiais (curingas), chamados metacaracteres.\n",
    "\n",
    "Para evitar que o Python pre-processe caractes com \\, deve-se definir a string como raw (sem pre-processamento):\n",
    "\n",
    "<code>re1 = r'\\d+ '</code>"
   ]
  },
  {
   "cell_type": "code",
   "execution_count": 11,
   "metadata": {},
   "outputs": [],
   "source": [
    "import re"
   ]
  },
  {
   "cell_type": "markdown",
   "metadata": {},
   "source": [
    "Quando um texto equivale à expressão regular definida, dizemos que o mesmo \"casou\" com a expressão:"
   ]
  },
  {
   "cell_type": "code",
   "execution_count": 12,
   "metadata": {},
   "outputs": [
    {
     "name": "stdout",
     "output_type": "stream",
     "text": [
      "Casou\n"
     ]
    }
   ],
   "source": [
    "if re.match(r'[gr]ato', 'gato'):\n",
    "    print('Casou')"
   ]
  },
  {
   "cell_type": "code",
   "execution_count": 13,
   "metadata": {},
   "outputs": [
    {
     "name": "stdout",
     "output_type": "stream",
     "text": [
      "Casou\n"
     ]
    }
   ],
   "source": [
    "if re.match(r'[gr]ato', 'rato'):\n",
    "    print('Casou')"
   ]
  },
  {
   "cell_type": "code",
   "execution_count": 14,
   "metadata": {},
   "outputs": [],
   "source": [
    "if re.match(r'[gr]ato', 'pato'):\n",
    "    print('Casou')"
   ]
  },
  {
   "cell_type": "markdown",
   "metadata": {},
   "source": [
    "### Resumo"
   ]
  },
  {
   "cell_type": "markdown",
   "metadata": {},
   "source": [
    "<img src=\"./img/re.png\">"
   ]
  },
  {
   "cell_type": "markdown",
   "metadata": {},
   "source": [
    "<strong>Exemplo interativo:</strong> http://piazinho.com.br/ed5/exemplos.html"
   ]
  },
  {
   "cell_type": "markdown",
   "metadata": {},
   "source": [
    "### Exemplos práticos"
   ]
  },
  {
   "cell_type": "markdown",
   "metadata": {},
   "source": [
    "<code>re.match(padrao, string, flags=0)</code>\n",
    "\n",
    "Busca o padrão a partir do início da string.\n",
    "Retorna um objeto match caso encontre o padrão. Caso contrário, retorna None."
   ]
  },
  {
   "cell_type": "code",
   "execution_count": 15,
   "metadata": {},
   "outputs": [
    {
     "data": {
      "text/plain": [
       "<_sre.SRE_Match object; span=(0, 4), match='gato'>"
      ]
     },
     "execution_count": 15,
     "metadata": {},
     "output_type": "execute_result"
    }
   ],
   "source": [
    "re.match(r'[gr]ato', 'gato')"
   ]
  },
  {
   "cell_type": "code",
   "execution_count": 16,
   "metadata": {},
   "outputs": [],
   "source": [
    "re.match(r'[gr]ato', 'pato')"
   ]
  },
  {
   "cell_type": "code",
   "execution_count": 17,
   "metadata": {},
   "outputs": [
    {
     "data": {
      "text/plain": [
       "'gato'"
      ]
     },
     "execution_count": 17,
     "metadata": {},
     "output_type": "execute_result"
    }
   ],
   "source": [
    "re.match(r'[gr]ato', 'gato').group()"
   ]
  },
  {
   "cell_type": "code",
   "execution_count": 18,
   "metadata": {},
   "outputs": [
    {
     "data": {
      "text/plain": [
       "'gato'"
      ]
     },
     "execution_count": 18,
     "metadata": {},
     "output_type": "execute_result"
    }
   ],
   "source": [
    "re.match(r'([gr])(ato)', 'gato').group(0)"
   ]
  },
  {
   "cell_type": "code",
   "execution_count": 19,
   "metadata": {},
   "outputs": [
    {
     "data": {
      "text/plain": [
       "'g'"
      ]
     },
     "execution_count": 19,
     "metadata": {},
     "output_type": "execute_result"
    }
   ],
   "source": [
    "re.match(r'([gr])(ato)', 'gato').group(1)"
   ]
  },
  {
   "cell_type": "code",
   "execution_count": 20,
   "metadata": {},
   "outputs": [
    {
     "data": {
      "text/plain": [
       "'ato'"
      ]
     },
     "execution_count": 20,
     "metadata": {},
     "output_type": "execute_result"
    }
   ],
   "source": [
    "re.match(r'([gr])(ato)', 'gato').group(2)"
   ]
  },
  {
   "cell_type": "markdown",
   "metadata": {},
   "source": [
    "<code>re.findall(padrao, string, flags=0)</code>\n",
    "\n",
    "Retorna uma lista com todas as ocorrências não sobrepostas do padrão na string.\n",
    "\n",
    "<br>\n",
    "\n",
    "<strong>Obter o título das notícias do Barbacena Online (passo a passo):</strong>"
   ]
  },
  {
   "cell_type": "code",
   "execution_count": 21,
   "metadata": {},
   "outputs": [],
   "source": [
    "html = requests.get('https://barbacenaonline.com.br/').text"
   ]
  },
  {
   "cell_type": "code",
   "execution_count": 22,
   "metadata": {},
   "outputs": [
    {
     "data": {
      "text/plain": [
       "'\\n<div class=\"item-content\"> <a  title=\"Presídio de São João del-Rei ganha novas vagas\" data-src=\"https://barbacenaonline.com.br/application/themes/publisher/images/default-thumb/publisher-lg.png\"\\t\\t\\t\\tclass=\"img-cont\" href=\"https://barbacenaonline.com.br/presidio-de-sao-joao-del-rei-ganha-novas-vagas/\"></a>\\n'"
      ]
     },
     "execution_count": 22,
     "metadata": {},
     "output_type": "execute_result"
    }
   ],
   "source": [
    "'''\n",
    "<div class=\"item-content\"> <a  title=\"Presídio de São João del-Rei ganha novas vagas\" data-src=\"https://barbacenaonline.com.br/application/themes/publisher/images/default-thumb/publisher-lg.png\"\t\t\t\tclass=\"img-cont\" href=\"https://barbacenaonline.com.br/presidio-de-sao-joao-del-rei-ganha-novas-vagas/\"></a>\n",
    "'''"
   ]
  },
  {
   "cell_type": "code",
   "execution_count": 23,
   "metadata": {},
   "outputs": [
    {
     "data": {
      "text/plain": [
       "[]"
      ]
     },
     "execution_count": 23,
     "metadata": {},
     "output_type": "execute_result"
    }
   ],
   "source": [
    "re.findall(r'<a title=\".+\"', html)"
   ]
  },
  {
   "cell_type": "code",
   "execution_count": 24,
   "metadata": {},
   "outputs": [
    {
     "data": {
      "text/plain": [
       "['<a  title=\"Presídio de São João del-Rei ganha novas vagas\" data-src=\"https://barbacenaonline.com.br/application/themes/publisher/images/default-thumb/publisher-lg.png\"\\t\\t\\t\\tclass=\"img-cont\" href=\"https://barbacenaonline.com.br/presidio-de-sao-joao-del-rei-ganha-novas-vagas/\"></a><div class=\"term-badges floated\"><span class=\"term-badge term-23\"><a href=\"https://barbacenaonline.com.br/category/regiao/\">Região</a></span></div><div class=\"content-container\"><h2 class=\"title\"> <a href=\"https://barbacenaonline.com.br/presidio-de-sao-joao-del-rei-ganha-novas-vagas/\" class=\"post-url post-title\"> Presídio de São João del-Rei ganha novas vagas </a></h2><div class=\"post-meta\"><span class=\"time\"><time class=\"post-published updated\"',\n",
       " '<a  title=\"Homem atingido nas nádegas por disparo de arma de fogo\" data-src=\"https://barbacenaonline.com.br/application/uploads/2018/06/Arma-1306-e1528897950308-279x220.jpg\" data-bs-srcset=\"{&quot;baseurl&quot;:&quot;https:\\\\/\\\\/barbacenaonline.com.br\\\\/application\\\\/uploads\\\\/2018\\\\/06\\\\/&quot;,&quot;sizes&quot;:{&quot;210&quot;:&quot;Arma-1306-e1528897950308-210x136.jpg&quot;,&quot;279&quot;:&quot;Arma-1306-e1528897950308-279x220.jpg&quot;,&quot;357&quot;:&quot;Arma-1306-e1528897950308-357x210.jpg&quot;,&quot;612&quot;:&quot;Arma-1306-e1528897950308.jpg&quot;}}\"\\t\\t\\t\\tclass=\"img-cont\" href=\"https://barbacenaonline.com.br/homem-atingido-nas-nadegas-por-disparo-de-arma-de-fogo/\"></a><div class=\"term-badges floated\"><span class=\"term-badge term-22\"><a href=\"https://barbacenaonline.com.br/category/cidade/\">Cidade</a></span></div><div class=\"content-container\"><h2 class=\"title\"> <a href=\"https://barbacenaonline.com.br/homem-atingido-nas-nadegas-por-disparo-de-arma-de-fogo/\" class=\"post-url post-title\"> Homem atingido nas nádegas por disparo de arma de fogo </a></h2></div></div></article ></div><div class=\"item-3-cont\"><article class=\"post-6025 type-post format-standard has-post-thumbnail  listing-item-3 listing-item listing-mg-item listing-mg-2-item listing-mg-type-1 main-term-25\"><div class=\"item-content\"> <a  title=\"Sine divulga 17 vagas de emprego com salários de até R$3.816\" data-src=\"https://barbacenaonline.com.br/application/uploads/2018/04/RAIS-642x336-279x220.jpg\" data-bs-srcset=\"{&quot;baseurl&quot;:&quot;https:\\\\/\\\\/barbacenaonline.com.br\\\\/application\\\\/uploads\\\\/2018\\\\/04\\\\/&quot;,&quot;sizes&quot;:{&quot;210&quot;:&quot;RAIS-642x336-210x136.jpg&quot;,&quot;279&quot;:&quot;RAIS-642x336-279x220.jpg&quot;,&quot;357&quot;:&quot;RAIS-642x336-357x210.jpg&quot;,&quot;642&quot;:&quot;RAIS-642x336.jpg&quot;}}\"\\t\\t\\t\\tclass=\"img-cont\" href=\"https://barbacenaonline.com.br/sine-divulga-17-vagas-de-emprego-com-salarios-de-ate-r3-816/\"></a><div class=\"term-badges floated\"><span class=\"term-badge term-25\"><a href=\"https://barbacenaonline.com.br/category/articulistas/\">Articulistas</a></span></div><div class=\"content-container\"><h2 class=\"title\"> <a href=\"https://barbacenaonline.com.br/sine-divulga-17-vagas-de-emprego-com-salarios-de-ate-r3-816/\" class=\"post-url post-title\"> Sine divulga 17 vagas de emprego com salários de até R$3.816 </a></h2></div></div></article ></div></div><div class=\"mg-row mg-row-2 clearfix\"><div class=\"item-4-cont\"><article class=\"post-6017 type-post format-standard has-post-thumbnail  listing-item-4 listing-item listing-mg-item listing-mg-2-item listing-mg-type-1 main-term-22\"><div class=\"item-content\"> <a  title=\"Dupla presa em flagrante comprava drogas em SJDR e distribuía em Barbacena\" data-src=\"https://barbacenaonline.com.br/application/uploads/2018/06/Drogas-0406-e1528125906272.jpg\" data-bs-srcset=\"{&quot;baseurl&quot;:&quot;https:\\\\/\\\\/barbacenaonline.com.br\\\\/application\\\\/uploads\\\\/2018\\\\/06\\\\/&quot;,&quot;sizes&quot;:{&quot;162&quot;:&quot;Drogas-0406-e1528125906272.jpg&quot;,&quot;163&quot;:&quot;Drogas-0406-e1528125802573-163x136.jpg&quot;,&quot;168&quot;:&quot;Drogas-0406-168x210.jpg&quot;}}\"\\t\\t\\t\\tclass=\"img-cont\" href=\"https://barbacenaonline.com.br/dupla-presa-em-flagrante-comprava-drogas-em-sjdr-e-distribuia-em-barbacena/\"></a><div class=\"term-badges floated\"><span class=\"term-badge term-22\"><a href=\"https://barbacenaonline.com.br/category/cidade/\">Cidade</a></span></div><div class=\"content-container\"><h2 class=\"title\"> <a href=\"https://barbacenaonline.com.br/dupla-presa-em-flagrante-comprava-drogas-em-sjdr-e-distribuia-em-barbacena/\" class=\"post-url post-title\"> Dupla presa em flagrante comprava drogas em SJDR e distribuía em&hellip; </a></h2></div></div></article ></div><div class=\"item-5-cont\"><article class=\"post-6009 type-post format-standard has-post-thumbnail  listing-item-5 listing-item listing-mg-item listing-mg-2-item listing-mg-type-1 main-term-23\"><div class=\"item-content\"> <a  title=\"Congresso de Medicina Antroposófica põe em discussão as Práticas Integrativas\" data-src=\"https://barbacenaonline.com.br/application/uploads/2018/11/SJDR-279x211.jpg\" data-bs-srcset=\"{&quot;baseurl&quot;:&quot;https:\\\\/\\\\/barbacenaonline.com.br\\\\/application\\\\/uploads\\\\/2018\\\\/11\\\\/&quot;,&quot;sizes&quot;:{&quot;210&quot;:&quot;SJDR-210x136.jpg&quot;,&quot;279&quot;:&quot;SJDR-279x211.jpg&quot;,&quot;357&quot;:&quot;SJDR-357x210.jpg&quot;,&quot;415&quot;:&quot;SJDR.jpg&quot;}}\"\\t\\t\\t\\tclass=\"img-cont\" href=\"https://barbacenaonline.com.br/congresso-de-medicina-antroposofica-poe-em-discussao-as-praticas-integrativas/\"></a><div class=\"term-badges floated\"><span class=\"term-badge term-23\"><a href=\"https://barbacenaonline.com.br/category/regiao/\">Região</a></span></div><div class=\"content-container\"><h2 class=\"title\"> <a href=\"https://barbacenaonline.com.br/congresso-de-medicina-antroposofica-poe-em-discussao-as-praticas-integrativas/\" class=\"post-url post-title\"> Congresso de Medicina Antroposófica põe em discussão as Práticas&hellip; </a></h2></div></div></article ></div></div></div></div></div></div></div></div></div><div class=\"row vc_row wpb_row vc_row-fluid\"><div class=\"bs-vc-wrapper\"><div class=\"wpb_column bs-vc-column vc_column_container vc_col-sm-12\"><div class=\"bs-vc-wrapper wpb_wrapper\"><div class=\"bscb-50506 bsb-have-heading-color bs-listing bs-listing-listing-grid-1 bs-listing-single-tab\"><style>.bscb-50506 .section-heading.sh-t3 a.active,.bscb-50506.bscb-50506 .section-heading.sh-t3 .main-link:first-child:last-child .h-text,.bscb-50506 .section-heading.sh-t3>.h-text,.bscb-50506.bscb-50506 .section-heading.sh-t3.sh-s8>.h-text,.bscb-50506.bscb-50506 .section-heading.sh-t3.sh-s8>a.main-link>.h-text{color:#db0e21}.bscb-50506 .section-heading.sh-t3 a:hover .h-text,.bscb-50506 .section-heading.sh-t3 a.active .h-text{color:#db0e21!important}.bscb-50506.bscb-50506 .section-heading.sh-t3:after{background-color:#db0e21!important}.bscb-50506.bscb-50506 .section-heading.sh-t3.sh-s8>.main-link>.h-text,.bscb-50506.bscb-50506 .section-heading.sh-t3.sh-s8>a:last-child:first-child>.h-text,.bscb-50506.bscb-50506 .section-heading.sh-t3.sh-s8>a:last-child:first-child>.h-text,.bscb-50506.bscb-50506 .section-heading.sh-t3.sh-s8>.h-text:last-child:first-child{border-color:#db0e21}.bscb-50506.bscb-50506 .listing-item:hover .title a,.bscb-50506.bscb-50506 .listing-item-text-1 .post-meta a:hover,.bscb-50506.bscb-50506 .listing-item-grid .post-meta a:hover,.bscb-50506.bscb-50506 .listing-item .rating-stars span:before{color:#db0e21!important}.bscb-50506.bscb-50506 .listing-item .rating-bar span{background-color:#db0e21!important}.bscb-50506 .bs-pagination .btn-bs-pagination:hover,.bscb-50506 .btn-bs-pagination.bs-pagination-in-loading{background-color:#db0e21!important;border-color:#db0e21!important;color:#fff!important}.bscb-50506 .listing-item-text-2:hover .item-inner{border-color:#db0e21!important}.bscb-50506.bscb-50506.bscb-50506.bscb-50506 .term-badges.floated .term-badge a,.bscb-50506.bscb-50506 .bs-pagination-wrapper .bs-loading>div{background-color:#db0e21!important;color:#fff!important}</style><div class=\"listing listing-grid listing-grid-1 clearfix columns-4\"><article class=\"post-5944 type-post format-standard has-post-thumbnail   listing-item listing-item-grid listing-item-grid-1 main-term-22\"><div class=\"item-inner\"><div class=\"featured clearfix\"> <a  title=\"Testes no trânsito são prorrogados\" data-src=\"https://barbacenaonline.com.br/application/uploads/2018/10/MudançaTrânsitoIbiapaba-e1541122362505-271x210.jpg\" data-bs-srcset=\"{&quot;baseurl&quot;:&quot;https:\\\\/\\\\/barbacenaonline.com.br\\\\/application\\\\/uploads\\\\/2018\\\\/10\\\\/&quot;,&quot;sizes&quot;:{&quot;210&quot;:&quot;Mudan\\\\u00e7aTr\\\\u00e2nsitoIbiapaba-e1541122362505-210x136.jpg&quot;,&quot;271&quot;:&quot;Mudan\\\\u00e7aTr\\\\u00e2nsitoIbiapaba-e1541122362505.jpg&quot;,&quot;279&quot;:&quot;Mudan\\\\u00e7aTr\\\\u00e2nsitoIbiapaba-e1540952253807-279x220.jpg&quot;,&quot;750&quot;:&quot;Mudan\\\\u00e7aTr\\\\u00e2nsitoIbiapaba-750x430.jpg&quot;}}\"\\t\\t\\t\\t\\t\\tclass=\"img-holder\" href=\"https://barbacenaonline.com.br/testes-no-transito-sao-prorrogados/\"></a></div><h2 class=\"title\"> <a href=\"https://barbacenaonline.com.br/testes-no-transito-sao-prorrogados/\" class=\"post-title post-url\"> Testes no trânsito são prorrogados </a></h2></div></article ><article class=\"post-5927 type-post format-standard has-post-thumbnail   listing-item listing-item-grid listing-item-grid-1 main-term-22\"><div class=\"item-inner\"><div class=\"featured clearfix\"> <a  title=\"Guarda Civil Municipal participa de capacitação para atuar no trânsito\" data-src=\"https://barbacenaonline.com.br/application/uploads/2018/10/GCM-357x210.jpg\" data-bs-srcset=\"{&quot;baseurl&quot;:&quot;https:\\\\/\\\\/barbacenaonline.com.br\\\\/application\\\\/uploads\\\\/2018\\\\/10\\\\/&quot;,&quot;sizes&quot;:{&quot;210&quot;:&quot;GCM-210x136.jpg&quot;,&quot;279&quot;:&quot;GCM-279x220.jpg&quot;,&quot;357&quot;:&quot;GCM-357x210.jpg&quot;,&quot;750&quot;:&quot;GCM.jpg&quot;}}\"\\t\\t\\t\\t\\t\\tclass=\"img-holder\" href=\"https://barbacenaonline.com.br/guarda-civil-municipal-participa-de-capacitacao-para-atuar-no-transito/\"></a></div><h2 class=\"title\"> <a href=\"https://barbacenaonline.com.br/guarda-civil-municipal-participa-de-capacitacao-para-atuar-no-transito/\" class=\"post-title post-url\"> Guarda Civil Municipal participa de capacitação para atuar no trânsito </a></h2></div></article ><div class=\"listing-item listing-item-ad listing-item-grid listing-item-grid-1\"><div class=\"bsac bsac-clearfix location-block-ad bsac-align-center bsac-column-1\"><div id=\"bsac-15-176867040\" class=\"bsac-container bsac-type-custom_code \" itemscope=\"\" itemtype=\"https://schema.org/WPAdBlock\" data-adid=\"15\" data-type=\"custom_code\"><div id=\"rev_slider_1_1_wrapper\" class=\"rev_slider_wrapper fullwidthbanner-container\" data-source=\"gallery\" style=\"margin:0px auto;background:transparent;padding:0px;margin-top:0px;margin-bottom:0px;\"><div id=\"rev_slider_1_1\" class=\"rev_slider fullwidthabanner\" style=\"display:none;\" data-version=\"5.4.8\"><ul><li data-index=\"rs-22\" data-transition=\"fade\" data-slotamount=\"default\" data-hideafterloop=\"0\" data-hideslideonmobile=\"off\"  data-easein=\"default\" data-easeout=\"default\" data-masterspeed=\"300\"  data-link=\"http://www.saint-gobain.com.br/\"  data-target=\"_blank\"  data-thumb=\"https://barbacenaonline.com.br/application/uploads/2018/05/Saint-Gobain-300x225-1-100x50.jpg\"  data-rotate=\"0\"  data-saveperformance=\"off\"  data-title=\"Slide\" data-param1=\"\" data-param2=\"\" data-param3=\"\" data-param4=\"\" data-param5=\"\" data-param6=\"\" data-param7=\"\" data-param8=\"\" data-param9=\"\" data-param10=\"\" data-description=\"\"> <img src=\"https://barbacenaonline.com.br/application/plugins/revslider/admin/assets/images/dummy.png\"  alt=\"\" title=\"Saint Gobain 300&#215;225\"  width=\"300\" height=\"225\" data-lazyload=\"https://barbacenaonline.com.br/application/uploads/2018/05/Saint-Gobain-300x225-1.jpg\" data-bgposition=\"center center\" data-bgfit=\"cover\" data-bgrepeat=\"no-repeat\" class=\"rev-slidebg\" data-no-retina></li><li data-index=\"rs-23\" data-transition=\"fade\" data-slotamount=\"default\" data-hideafterloop=\"0\" data-hideslideonmobile=\"off\"  data-easein=\"default\" data-easeout=\"default\" data-masterspeed=\"300\"  data-link=\"http://www.rivelli.ind.br/\"  data-target=\"_blank\"  data-thumb=\"https://barbacenaonline.com.br/application/uploads/2018/05/Rivelli-300x225-100x50.jpg\"  data-rotate=\"0\"  data-saveperformance=\"off\"  data-title=\"Slide\" data-param1=\"\" data-param2=\"\" data-param3=\"\" data-param4=\"\" data-param5=\"\" data-param6=\"\" data-param7=\"\" data-param8=\"\" data-param9=\"\" data-param10=\"\" data-description=\"\"> <img src=\"https://barbacenaonline.com.br/application/plugins/revslider/admin/assets/images/dummy.png\"  alt=\"\" title=\"Rivelli 300&#215;225\"  width=\"300\" height=\"225\" data-lazyload=\"https://barbacenaonline.com.br/application/uploads/2018/05/Rivelli-300x225.jpg\" data-bgposition=\"center center\" data-bgfit=\"cover\" data-bgrepeat=\"no-repeat\" class=\"rev-slidebg\" data-no-retina></li><li data-index=\"rs-45\" data-transition=\"fade\" data-slotamount=\"default\" data-hideafterloop=\"0\" data-hideslideonmobile=\"off\"  data-easein=\"default\" data-easeout=\"default\" data-masterspeed=\"300\"  data-link=\"http://www3.net-rosas.com.br/\"  data-target=\"_blank\"  data-thumb=\"https://barbacenaonline.com.br/application/uploads/2018/07/Neet-rosas-300x253-100x50.jpg\"  data-rotate=\"0\"  data-saveperformance=\"off\"  data-title=\"Slide\" data-param1=\"\" data-param2=\"\" data-param3=\"\" data-param4=\"\" data-param5=\"\" data-param6=\"\" data-param7=\"\" data-param8=\"\" data-param9=\"\" data-param10=\"\" data-description=\"\"> <img src=\"https://barbacenaonline.com.br/application/plugins/revslider/admin/assets/images/dummy.png\"  alt=\"\" title=\"Neet-rosas 300&#215;253\"  width=\"300\" height=\"253\" data-lazyload=\"https://barbacenaonline.com.br/application/uploads/2018/07/Neet-rosas-300x253.jpg\" data-bgposition=\"center center\" data-bgfit=\"cover\" data-bgrepeat=\"no-repeat\" class=\"rev-slidebg\" data-no-retina></li><li data-index=\"rs-47\" data-transition=\"fade\" data-slotamount=\"default\" data-hideafterloop=\"0\" data-hideslideonmobile=\"off\"  data-easein=\"default\" data-easeout=\"default\" data-masterspeed=\"300\"  data-link=\"http://www.unipac.br\"  data-target=\"_blank\"  data-thumb=\"https://barbacenaonline.com.br/application/uploads/2018/05/Unipac-300x225-100x50.jpg\"  data-rotate=\"0\"  data-saveperformance=\"off\"  data-title=\"Slide\" data-param1=\"\" data-param2=\"\" data-param3=\"\" data-param4=\"\" data-param5=\"\" data-param6=\"\" data-param7=\"\" data-param8=\"\" data-param9=\"\" data-param10=\"\" data-description=\"\"> <img src=\"https://barbacenaonline.com.br/application/plugins/revslider/admin/assets/images/dummy.png\"  alt=\"\" title=\"Unipac 300&#215;225\"  width=\"300\" height=\"225\" data-lazyload=\"https://barbacenaonline.com.br/application/uploads/2018/05/Unipac-300x225.jpg\" data-bgposition=\"center center\" data-bgfit=\"cover\" data-bgrepeat=\"no-repeat\" class=\"rev-slidebg\" data-no-retina></li></ul> <script>var htmlDiv = document.getElementById(\"rs-plugin-settings-inline-css\"); var htmlDivCss=\"\"',\n",
       " '<a  title=\"Mais de sete mil pessoas farão o Enem em Barbacena\" data-src=\"https://barbacenaonline.com.br/application/uploads/2018/10/Senai-357x210.jpg\" data-bs-srcset=\"{&quot;baseurl&quot;:&quot;https:\\\\/\\\\/barbacenaonline.com.br\\\\/application\\\\/uploads\\\\/2018\\\\/10\\\\/&quot;,&quot;sizes&quot;:{&quot;210&quot;:&quot;Senai-210x136.jpg&quot;,&quot;279&quot;:&quot;Senai-279x220.jpg&quot;,&quot;357&quot;:&quot;Senai-357x210.jpg&quot;,&quot;640&quot;:&quot;Senai-e1540864547420.jpg&quot;,&quot;750&quot;:&quot;Senai-750x430.jpg&quot;}}\"\\t\\t\\t\\t\\t\\tclass=\"img-holder\" href=\"https://barbacenaonline.com.br/mais-de-sete-mil-pessoas-farao-o-enem-em-barbacena/\"></a></div><h2 class=\"title\"> <a href=\"https://barbacenaonline.com.br/mais-de-sete-mil-pessoas-farao-o-enem-em-barbacena/\" class=\"post-title post-url\"> Mais de sete mil pessoas farão o Enem em Barbacena </a></h2></div></article ></div></div></div></div></div></div><div class=\"row vc_row wpb_row vc_row-fluid\"><div class=\"bs-vc-wrapper\"><div class=\"wpb_column bs-vc-column vc_column_container vc_col-sm-8\"><div class=\"bs-vc-wrapper wpb_wrapper\"><div class=\"bsac bsac-clearfix  bsac-align-left bsac-column-1 bsac-float-left\"><div id=\"bsac-1749-704333005\" class=\"bsac-container bsac-type-code \" itemscope=\"\" itemtype=\"https://schema.org/WPAdBlock\" data-adid=\"1749\" data-type=\"code\"><span id=\"bsac-1749-704333005-place\"></span><script type=\"text/javascript\">var betterads_screen_width = document.body.clientWidth;betterads_el = document.getElementById(\\'bsac-1749-704333005\\');             if (betterads_el.getBoundingClientRect().width) {     betterads_el_width_raw = betterads_el_width = betterads_el.getBoundingClientRect().width;    } else {     betterads_el_width_raw = betterads_el_width = betterads_el.offsetWidth;    }        var size = [\"125\", \"125\"];    if ( betterads_el_width >= 728 )      betterads_el_width = [\"728\", \"90\"];    else if ( betterads_el_width >= 468 )     betterads_el_width = [\"468\", \"60\"];    else if ( betterads_el_width >= 336 )     betterads_el_width = [\"336\", \"280\"];    else if ( betterads_el_width >= 300 )     betterads_el_width = [\"300\", \"250\"];    else if ( betterads_el_width >= 250 )     betterads_el_width = [\"250\", \"250\"];    else if ( betterads_el_width >= 200 )     betterads_el_width = [\"200\", \"200\"];    else if ( betterads_el_width >= 180 )     betterads_el_width = [\"180\", \"150\"]; if ( betterads_screen_width >= 1140 ) {          document.getElementById(\\'bsac-1749-704333005-place\\').innerHTML = \\'<ins class=\"adsbygoogle\" style=\"display:inline-block;width:728px;height:90px\"  data-ad-client=\"ca-pub-6484653955591833\"  data-ad-slot=\"9875388233\" ></ins>\\';          (adsbygoogle = window.adsbygoogle || []).push({});         }else if ( betterads_screen_width >= 1019  && betterads_screen_width < 1140 ) { document.getElementById(\\'bsac-1749-704333005-place\\').innerHTML = \\'<ins class=\"adsbygoogle\" style=\"display:inline-block;width:\\' + betterads_el_width[0] + \\'px;height:\\' + betterads_el_width[1] + \\'px\"  data-ad-client=\"ca-pub-6484653955591833\"  data-ad-slot=\"9875388233\" ></ins>\\';         (adsbygoogle = window.adsbygoogle || []).push({});}else if ( betterads_screen_width >= 768  && betterads_screen_width < 1019 ) { document.getElementById(\\'bsac-1749-704333005-place\\').innerHTML = \\'<ins class=\"adsbygoogle\" style=\"display:inline-block;width:\\' + betterads_el_width[0] + \\'px;height:\\' + betterads_el_width[1] + \\'px\"  data-ad-client=\"ca-pub-6484653955591833\"  data-ad-slot=\"9875388233\" ></ins>\\';         (adsbygoogle = window.adsbygoogle || []).push({});}else if ( betterads_screen_width < 768 ) { document.getElementById(\\'bsac-1749-704333005-place\\').innerHTML = \\'<ins class=\"adsbygoogle\" style=\"display:inline-block;width:\\' + betterads_el_width[0] + \\'px;height:\\' + betterads_el_width[1] + \\'px\"  data-ad-client=\"ca-pub-6484653955591833\"  data-ad-slot=\"9875388233\" ></ins>\\';         (adsbygoogle = window.adsbygoogle || []).push({});}</script></div></div></div></div><div class=\"wpb_column bs-vc-column vc_column_container vc_col-sm-4\" id=\"Adsense 2\"><div class=\"bs-vc-wrapper wpb_wrapper\"><div class=\"bsac bsac-clearfix  bsac-align-right bsac-column-1 bsac-float-right\"><div id=\"bsac-1750-833961144\" class=\"bsac-container bsac-type-code \" itemscope=\"\" itemtype=\"https://schema.org/WPAdBlock\" data-adid=\"1750\" data-type=\"code\"><span id=\"bsac-1750-833961144-place\"></span><script type=\"text/javascript\">var betterads_screen_width = document.body.clientWidth;betterads_el = document.getElementById(\\'bsac-1750-833961144\\');             if (betterads_el.getBoundingClientRect().width) {     betterads_el_width_raw = betterads_el_width = betterads_el.getBoundingClientRect().width;    } else {     betterads_el_width_raw = betterads_el_width = betterads_el.offsetWidth;    }        var size = [\"125\", \"125\"];    if ( betterads_el_width >= 728 )      betterads_el_width = [\"728\", \"90\"];    else if ( betterads_el_width >= 468 )     betterads_el_width = [\"468\", \"60\"];    else if ( betterads_el_width >= 336 )     betterads_el_width = [\"336\", \"280\"];    else if ( betterads_el_width >= 300 )     betterads_el_width = [\"300\", \"250\"];    else if ( betterads_el_width >= 250 )     betterads_el_width = [\"250\", \"250\"];    else if ( betterads_el_width >= 200 )     betterads_el_width = [\"200\", \"200\"];    else if ( betterads_el_width >= 180 )     betterads_el_width = [\"180\", \"150\"]; if ( betterads_screen_width >= 1140 ) {          document.getElementById(\\'bsac-1750-833961144-place\\').innerHTML = \\'<ins class=\"adsbygoogle\" style=\"display:inline-block;width:320px;height:100px\"  data-ad-client=\"ca-pub-6484653955591833\"  data-ad-slot=\"6662191097\" ></ins>\\';          (adsbygoogle = window.adsbygoogle || []).push({});         }else if ( betterads_screen_width >= 1019  && betterads_screen_width < 1140 ) { document.getElementById(\\'bsac-1750-833961144-place\\').innerHTML = \\'<ins class=\"adsbygoogle\" style=\"display:inline-block;width:\\' + betterads_el_width[0] + \\'px;height:\\' + betterads_el_width[1] + \\'px\"  data-ad-client=\"ca-pub-6484653955591833\"  data-ad-slot=\"6662191097\" ></ins>\\';         (adsbygoogle = window.adsbygoogle || []).push({});}else if ( betterads_screen_width >= 768  && betterads_screen_width < 1019 ) { document.getElementById(\\'bsac-1750-833961144-place\\').innerHTML = \\'<ins class=\"adsbygoogle\" style=\"display:inline-block;width:\\' + betterads_el_width[0] + \\'px;height:\\' + betterads_el_width[1] + \\'px\"  data-ad-client=\"ca-pub-6484653955591833\"  data-ad-slot=\"6662191097\" ></ins>\\';         (adsbygoogle = window.adsbygoogle || []).push({});}else if ( betterads_screen_width < 768 ) { document.getElementById(\\'bsac-1750-833961144-place\\').innerHTML = \\'<ins class=\"adsbygoogle\" style=\"display:inline-block;width:\\' + betterads_el_width[0] + \\'px;height:\\' + betterads_el_width[1] + \\'px\"  data-ad-client=\"ca-pub-6484653955591833\"  data-ad-slot=\"6662191097\" ></ins>\\';         (adsbygoogle = window.adsbygoogle || []).push({});}</script></div></div></div></div></div></div><div id=\"cotidiano\" class=\"row vc_row wpb_row vc_row-fluid hide-last1\"><div class=\"bs-vc-wrapper\"><div class=\"wpb_column bs-vc-column vc_column_container vc_col-sm-12\"><div class=\"bs-vc-wrapper wpb_wrapper\"><div class=\"bscb-21884 bsb-have-heading-color bs-listing bs-listing-listing-grid-1 bs-listing-single-tab hide-last\"><h3 class=\"section-heading sh-t3 sh-s8 main-term-34\"> <a href=\"https://barbacenaonline.com.br/category/cotidiano/\" class=\"main-link\"> <span class=\"h-text main-term-34\"> <i class=\"bf-icon  fa fa-newspaper-o\"></i> Cotidiano </span> </a></h3><style>.bscb-21884 .section-heading.sh-t3 a.active,.bscb-21884.bscb-21884 .section-heading.sh-t3 .main-link:first-child:last-child .h-text,.bscb-21884 .section-heading.sh-t3>.h-text,.bscb-21884.bscb-21884 .section-heading.sh-t3.sh-s8>.h-text,.bscb-21884.bscb-21884 .section-heading.sh-t3.sh-s8>a.main-link>.h-text{color:#4c97f4}.bscb-21884 .section-heading.sh-t3 a:hover .h-text,.bscb-21884 .section-heading.sh-t3 a.active .h-text{color:#4c97f4!important}.bscb-21884.bscb-21884 .section-heading.sh-t3:after{background-color:#4c97f4!important}.bscb-21884.bscb-21884 .section-heading.sh-t3.sh-s8>.main-link>.h-text,.bscb-21884.bscb-21884 .section-heading.sh-t3.sh-s8>a:last-child:first-child>.h-text,.bscb-21884.bscb-21884 .section-heading.sh-t3.sh-s8>a:last-child:first-child>.h-text,.bscb-21884.bscb-21884 .section-heading.sh-t3.sh-s8>.h-text:last-child:first-child{border-color:#4c97f4}.bscb-21884.bscb-21884 .listing-item:hover .title a,.bscb-21884.bscb-21884 .listing-item-text-1 .post-meta a:hover,.bscb-21884.bscb-21884 .listing-item-grid .post-meta a:hover,.bscb-21884.bscb-21884 .listing-item .rating-stars span:before{color:#4c97f4!important}.bscb-21884.bscb-21884 .listing-item .rating-bar span{background-color:#4c97f4!important}.bscb-21884 .bs-pagination .btn-bs-pagination:hover,.bscb-21884 .btn-bs-pagination.bs-pagination-in-loading{background-color:#4c97f4!important;border-color:#4c97f4!important;color:#fff!important}.bscb-21884 .listing-item-text-2:hover .item-inner{border-color:#4c97f4!important}.bscb-21884.bscb-21884.bscb-21884.bscb-21884 .term-badges.floated .term-badge a,.bscb-21884.bscb-21884 .bs-pagination-wrapper .bs-loading>div{background-color:#4c97f4!important;color:#fff!important}</style><div class=\"listing listing-grid listing-grid-1 clearfix columns-4\"><article class=\"post-6017 type-post format-standard has-post-thumbnail   listing-item listing-item-grid listing-item-grid-1 main-term-22\"><div class=\"item-inner\"><div class=\"featured clearfix\"><div class=\"term-badges floated\"><span class=\"term-badge term-22\"><a href=\"https://barbacenaonline.com.br/category/cidade/\">Cidade</a></span></div> <a  title=\"Dupla presa em flagrante comprava drogas em SJDR e distribuía em Barbacena\" data-src=\"https://barbacenaonline.com.br/application/uploads/2018/06/Drogas-0406-168x210.jpg\" data-bs-srcset=\"{&quot;baseurl&quot;:&quot;https:\\\\/\\\\/barbacenaonline.com.br\\\\/application\\\\/uploads\\\\/2018\\\\/06\\\\/&quot;,&quot;sizes&quot;:{&quot;162&quot;:&quot;Drogas-0406-e1528125906272.jpg&quot;,&quot;163&quot;:&quot;Drogas-0406-e1528125802573-163x136.jpg&quot;,&quot;168&quot;:&quot;Drogas-0406-168x210.jpg&quot;}}\"\\t\\t\\t\\t\\t\\tclass=\"img-holder\" href=\"https://barbacenaonline.com.br/dupla-presa-em-flagrante-comprava-drogas-em-sjdr-e-distribuia-em-barbacena/\"></a></div><h2 class=\"title\"> <a href=\"https://barbacenaonline.com.br/dupla-presa-em-flagrante-comprava-drogas-em-sjdr-e-distribuia-em-barbacena/\" class=\"post-title post-url\"> Dupla presa em flagrante comprava drogas em SJDR e distribuía em Barbacena </a></h2><div class=\"post-meta\"><span class=\"time\"><time class=\"post-published updated\"',\n",
       " '<a  title=\"Corsa capota no Santa Efigênia\" data-src=\"https://barbacenaonline.com.br/application/uploads/2018/11/Acidente-Santa-Efigênia-0211-357x210.jpg\" data-bs-srcset=\"{&quot;baseurl&quot;:&quot;https:\\\\/\\\\/barbacenaonline.com.br\\\\/application\\\\/uploads\\\\/2018\\\\/11\\\\/&quot;,&quot;sizes&quot;:{&quot;210&quot;:&quot;Acidente-Santa-Efig\\\\u00eania-0211-210x136.jpg&quot;,&quot;279&quot;:&quot;Acidente-Santa-Efig\\\\u00eania-0211-279x220.jpg&quot;,&quot;357&quot;:&quot;Acidente-Santa-Efig\\\\u00eania-0211-357x210.jpg&quot;,&quot;640&quot;:&quot;Acidente-Santa-Efig\\\\u00eania-0211-e1541250736220.jpg&quot;,&quot;750&quot;:&quot;Acidente-Santa-Efig\\\\u00eania-0211-750x430.jpg&quot;}}\"\\t\\t\\t\\t\\t\\tclass=\"img-holder\" href=\"https://barbacenaonline.com.br/corsa-capota-no-santa-efigenia/\"></a></div><h2 class=\"title\"> <a href=\"https://barbacenaonline.com.br/corsa-capota-no-santa-efigenia/\" class=\"post-title post-url\"> Corsa capota no Santa Efigênia </a></h2><div class=\"post-meta\"><span class=\"time\"><time class=\"post-published updated\"',\n",
       " '<a  title=\"Motociclista atropela pedestre na Praça da Boa Morte\" data-src=\"https://barbacenaonline.com.br/application/themes/publisher/images/default-thumb/publisher-md.png\"\\t\\t\\t\\t\\t\\tclass=\"img-holder\" href=\"https://barbacenaonline.com.br/motociclista-atropela-pedestre-na-praca-da-boa-morte/\"></a></div><h2 class=\"title\"> <a href=\"https://barbacenaonline.com.br/motociclista-atropela-pedestre-na-praca-da-boa-morte/\" class=\"post-title post-url\"> Motociclista atropela pedestre na Praça da Boa Morte </a></h2><div class=\"post-meta\"><span class=\"time\"><time class=\"post-published updated\"',\n",
       " '<a  title=\"Homem preso no São Pedro por armazenar pornografia infantil\" data-src=\"https://barbacenaonline.com.br/application/uploads/2018/10/índice-357x210.jpg\" data-bs-srcset=\"{&quot;baseurl&quot;:&quot;https:\\\\/\\\\/barbacenaonline.com.br\\\\/application\\\\/uploads\\\\/2018\\\\/10\\\\/&quot;,&quot;sizes&quot;:{&quot;210&quot;:&quot;\\\\u00edndice-210x136.jpg&quot;,&quot;279&quot;:&quot;\\\\u00edndice-279x220.jpg&quot;,&quot;357&quot;:&quot;\\\\u00edndice-357x210.jpg&quot;,&quot;640&quot;:&quot;\\\\u00edndice-e1540995523787.jpg&quot;,&quot;750&quot;:&quot;\\\\u00edndice-750x430.jpg&quot;}}\"\\t\\t\\t\\t\\t\\tclass=\"img-holder\" href=\"https://barbacenaonline.com.br/homem-preso-no-sao-pedro-por-armazenar-pornografia-infantil/\"></a></div><h2 class=\"title\"> <a href=\"https://barbacenaonline.com.br/homem-preso-no-sao-pedro-por-armazenar-pornografia-infantil/\" class=\"post-title post-url\"> Homem preso no São Pedro por armazenar pornografia infantil </a></h2><div class=\"post-meta\"><span class=\"time\"><time class=\"post-published updated\"',\n",
       " '<a  title=\"Incêndio em residência resulta em prejuízos materiais\" data-src=\"https://barbacenaonline.com.br/application/uploads/2018/11/Incêndio-Lafaiete-0211-357x210.jpg\" data-bs-srcset=\"{&quot;baseurl&quot;:&quot;https:\\\\/\\\\/barbacenaonline.com.br\\\\/application\\\\/uploads\\\\/2018\\\\/11\\\\/&quot;,&quot;sizes&quot;:{&quot;210&quot;:&quot;Inc\\\\u00eandio-Lafaiete-0211-210x136.jpg&quot;,&quot;279&quot;:&quot;Inc\\\\u00eandio-Lafaiete-0211-279x220.jpg&quot;,&quot;357&quot;:&quot;Inc\\\\u00eandio-Lafaiete-0211-357x210.jpg&quot;,&quot;640&quot;:&quot;Inc\\\\u00eandio-Lafaiete-0211-e1541251653307.jpg&quot;,&quot;750&quot;:&quot;Inc\\\\u00eandio-Lafaiete-0211-750x430.jpg&quot;}}\"\\t\\t\\t\\t\\t\\tclass=\"img-holder\" href=\"https://barbacenaonline.com.br/incendio-em-residencia-resulta-em-prejuizos-materiais/\"></a></div><h2 class=\"title\"> <a href=\"https://barbacenaonline.com.br/incendio-em-residencia-resulta-em-prejuizos-materiais/\" class=\"post-title post-url\"> Incêndio em residência resulta em prejuízos materiais </a></h2><div class=\"post-meta\"><span class=\"time\"><time class=\"post-published updated\"',\n",
       " '<a  title=\"Saída de pista entre Pinheiro Grosso e Senhora das Dores\" data-src=\"https://barbacenaonline.com.br/application/themes/publisher/images/default-thumb/publisher-md.png\"\\t\\t\\t\\t\\t\\tclass=\"img-holder\" href=\"https://barbacenaonline.com.br/saida-de-pista-entre-pinheiro-grosso-e-senhora-das-dores/\"></a></div><h2 class=\"title\"> <a href=\"https://barbacenaonline.com.br/saida-de-pista-entre-pinheiro-grosso-e-senhora-das-dores/\" class=\"post-title post-url\"> Saída de pista entre Pinheiro Grosso e Senhora das Dores </a></h2><div class=\"post-meta\"><span class=\"time\"><time class=\"post-published updated\"',\n",
       " '<a  title=\"Carreta pega fogo e chamas atingem vegetação\" data-src=\"https://barbacenaonline.com.br/application/uploads/2018/11/Incêndio-Carreta-040-357x210.jpg\" data-bs-srcset=\"{&quot;baseurl&quot;:&quot;https:\\\\/\\\\/barbacenaonline.com.br\\\\/application\\\\/uploads\\\\/2018\\\\/11\\\\/&quot;,&quot;sizes&quot;:{&quot;210&quot;:&quot;Inc\\\\u00eandio-Carreta-040-210x136.jpg&quot;,&quot;279&quot;:&quot;Inc\\\\u00eandio-Carreta-040-279x220.jpg&quot;,&quot;357&quot;:&quot;Inc\\\\u00eandio-Carreta-040-357x210.jpg&quot;,&quot;640&quot;:&quot;Inc\\\\u00eandio-Carreta-040-e1541070652869.jpg&quot;,&quot;750&quot;:&quot;Inc\\\\u00eandio-Carreta-040-750x430.jpg&quot;}}\"\\t\\t\\t\\t\\t\\tclass=\"img-holder\" href=\"https://barbacenaonline.com.br/carreta-pega-fogo-e-chamas-atingem-vegetacao/\"></a></div><h2 class=\"title\"> <a href=\"https://barbacenaonline.com.br/carreta-pega-fogo-e-chamas-atingem-vegetacao/\" class=\"post-title post-url\"> Carreta pega fogo e chamas atingem vegetação </a></h2><div class=\"post-meta\"><span class=\"time\"><time class=\"post-published updated\"',\n",
       " '<a  title=\"Pitbull ataca outro cão no Santa Efigênia\" data-src=\"https://barbacenaonline.com.br/application/uploads/2018/10/Pitbull-e1540984474321-357x210.jpg\" data-bs-srcset=\"{&quot;baseurl&quot;:&quot;https:\\\\/\\\\/barbacenaonline.com.br\\\\/application\\\\/uploads\\\\/2018\\\\/10\\\\/&quot;,&quot;sizes&quot;:{&quot;210&quot;:&quot;Pitbull-e1540984474321-210x136.jpg&quot;,&quot;279&quot;:&quot;Pitbull-e1540984474321-279x220.jpg&quot;,&quot;357&quot;:&quot;Pitbull-e1540984474321-357x210.jpg&quot;,&quot;640&quot;:&quot;Pitbull-e1540984484645.jpg&quot;,&quot;720&quot;:&quot;Pitbull-e1540984474321-720x430.jpg&quot;}}\"\\t\\t\\t\\t\\t\\tclass=\"img-holder\" href=\"https://barbacenaonline.com.br/pitbull-ataca-outro-cao-no-santa-efigenia/\"></a></div><h2 class=\"title\"> <a href=\"https://barbacenaonline.com.br/pitbull-ataca-outro-cao-no-santa-efigenia/\" class=\"post-title post-url\"> Pitbull ataca outro cão no Santa Efigênia </a></h2><div class=\"post-meta\"><span class=\"time\"><time class=\"post-published updated\"',\n",
       " '<a  title=\"SJDR: Jovem fratura a perna em acidente\" data-src=\"https://barbacenaonline.com.br/application/themes/publisher/images/default-thumb/publisher-md.png\"\\t\\t\\t\\t\\t\\tclass=\"img-holder\" href=\"https://barbacenaonline.com.br/sjdr-jovem-fratura-a-perna-em-acidente/\"></a></div><h2 class=\"title\"> <a href=\"https://barbacenaonline.com.br/sjdr-jovem-fratura-a-perna-em-acidente/\" class=\"post-title post-url\"> SJDR: Jovem fratura a perna em acidente </a></h2><div class=\"post-meta\"><span class=\"time\"><time class=\"post-published updated\"',\n",
       " '<a  title=\"Veículo atropela homem na 040\" data-src=\"https://barbacenaonline.com.br/application/uploads/2018/11/Acidente040-0211-357x210.jpg\" data-bs-srcset=\"{&quot;baseurl&quot;:&quot;https:\\\\/\\\\/barbacenaonline.com.br\\\\/application\\\\/uploads\\\\/2018\\\\/11\\\\/&quot;,&quot;sizes&quot;:{&quot;210&quot;:&quot;Acidente040-0211-210x136.jpg&quot;,&quot;279&quot;:&quot;Acidente040-0211-279x220.jpg&quot;,&quot;357&quot;:&quot;Acidente040-0211-357x210.jpg&quot;,&quot;480&quot;:&quot;Acidente040-0211-e1541198297205.jpg&quot;}}\"\\t\\t\\t\\t\\t\\tclass=\"img-holder\" href=\"https://barbacenaonline.com.br/5960-2/\"></a></div><h2 class=\"title\"> <a href=\"https://barbacenaonline.com.br/5960-2/\" class=\"post-title post-url\"> Veículo atropela homem na 040 </a></h2><div class=\"post-meta\"><span class=\"time\"><time class=\"post-published updated\"',\n",
       " '<a  title=\"Localizado corpo no Ribeirão Bananeiras\" data-src=\"https://barbacenaonline.com.br/application/themes/publisher/images/default-thumb/publisher-md.png\"\\t\\t\\t\\t\\t\\tclass=\"img-holder\" href=\"https://barbacenaonline.com.br/localizado-corpo-no-ribeirao-bananeiras/\"></a></div><h2 class=\"title\"> <a href=\"https://barbacenaonline.com.br/localizado-corpo-no-ribeirao-bananeiras/\" class=\"post-title post-url\"> Localizado corpo no Ribeirão Bananeiras </a></h2><div class=\"post-meta\"><span class=\"time\"><time class=\"post-published updated\"',\n",
       " '<a  title=\"Sine divulga 17 vagas de emprego com salários de até R$3.816\" data-src=\"https://barbacenaonline.com.br/application/uploads/2018/04/RAIS-642x336.jpg\" data-bs-srcset=\"{&quot;baseurl&quot;:&quot;https:\\\\/\\\\/barbacenaonline.com.br\\\\/application\\\\/uploads\\\\/2018\\\\/04\\\\/&quot;,&quot;sizes&quot;:{&quot;210&quot;:&quot;RAIS-642x336-210x136.jpg&quot;,&quot;279&quot;:&quot;RAIS-642x336-279x220.jpg&quot;,&quot;357&quot;:&quot;RAIS-642x336-357x210.jpg&quot;,&quot;642&quot;:&quot;RAIS-642x336.jpg&quot;}}\"\\t\\t\\t\\tclass=\"img-cont\" href=\"https://barbacenaonline.com.br/sine-divulga-17-vagas-de-emprego-com-salarios-de-ate-r3-816/\"></a><div class=\"term-badges floated\"><span class=\"term-badge term-25\"><a href=\"https://barbacenaonline.com.br/category/articulistas/\">Articulistas</a></span></div><div class=\"content-container\"><h2 class=\"title\"> <a href=\"https://barbacenaonline.com.br/sine-divulga-17-vagas-de-emprego-com-salarios-de-ate-r3-816/\" class=\"post-url post-title\"> Sine divulga 17 vagas de emprego com salários de até R$3.816 </a></h2><div class=\"post-meta\"><span class=\"time\"><time class=\"post-published updated\"',\n",
       " '<a  title=\"Mais de 3.000 planetas já foram encontrados fora do Sistema Solar. O que isso quer dizer?\" data-src=\"https://barbacenaonline.com.br/application/uploads/2018/11/20172407503018-t1200x480-279x220.jpg\" data-bs-srcset=\"{&quot;baseurl&quot;:&quot;https:\\\\/\\\\/barbacenaonline.com.br\\\\/application\\\\/uploads\\\\/2018\\\\/11\\\\/&quot;,&quot;sizes&quot;:{&quot;210&quot;:&quot;20172407503018-t1200x480-210x136.jpg&quot;,&quot;279&quot;:&quot;20172407503018-t1200x480-279x220.jpg&quot;,&quot;357&quot;:&quot;20172407503018-t1200x480-357x210.jpg&quot;,&quot;640&quot;:&quot;20172407503018-t1200x480-e1541359343755.jpg&quot;,&quot;750&quot;:&quot;20172407503018-t1200x480-750x430.jpg&quot;}}\"\\t\\t\\t\\tclass=\"img-cont\" href=\"https://barbacenaonline.com.br/mais-de-3-000-planetas-ja-foram-encontrados-fora-do-sistema-solar-o-que-isso-quer-dizer/\"></a><div class=\"term-badges floated\"><span class=\"term-badge term-25\"><a href=\"https://barbacenaonline.com.br/category/articulistas/\">Articulistas</a></span></div><div class=\"content-container\"><h2 class=\"title\"> <a href=\"https://barbacenaonline.com.br/mais-de-3-000-planetas-ja-foram-encontrados-fora-do-sistema-solar-o-que-isso-quer-dizer/\" class=\"post-url post-title\"> Mais de 3.000 planetas já foram encontrados fora do Sistema Solar. O&hellip; </a></h2></div></div></article ></div><div class=\"item-3-cont\"><article class=\"post-5978 type-post format-standard has-post-thumbnail  listing-item-3 listing-item listing-mg-item listing-mg-2-item listing-mg-type-1 main-term-25\"><div class=\"item-content\"> <a  title=\"#flashBOL: Medalha Santos Dumont é entregue a personalidades e entidades\" data-src=\"https://barbacenaonline.com.br/application/uploads/2018/11/MedalhaSD-2018-4-279x220.jpg\" data-bs-srcset=\"{&quot;baseurl&quot;:&quot;https:\\\\/\\\\/barbacenaonline.com.br\\\\/application\\\\/uploads\\\\/2018\\\\/11\\\\/&quot;,&quot;sizes&quot;:{&quot;210&quot;:&quot;MedalhaSD-2018-4-210x136.jpg&quot;,&quot;279&quot;:&quot;MedalhaSD-2018-4-279x220.jpg&quot;,&quot;357&quot;:&quot;MedalhaSD-2018-4-357x210.jpg&quot;,&quot;640&quot;:&quot;MedalhaSD-2018-4-e1541331685360.jpg&quot;,&quot;750&quot;:&quot;MedalhaSD-2018-4-750x430.jpg&quot;}}\"\\t\\t\\t\\tclass=\"img-cont\" href=\"https://barbacenaonline.com.br/flashbol-medalha-santos-dumont-e-entregue-a-personalidades-e-entidades/\"></a><div class=\"term-badges floated\"><span class=\"term-badge term-25\"><a href=\"https://barbacenaonline.com.br/category/articulistas/\">Articulistas</a></span></div><div class=\"content-container\"><h2 class=\"title\"> <a href=\"https://barbacenaonline.com.br/flashbol-medalha-santos-dumont-e-entregue-a-personalidades-e-entidades/\" class=\"post-url post-title\"> #flashBOL: Medalha Santos Dumont é entregue a personalidades e&hellip; </a></h2></div></div></article ></div></div><div class=\"mg-row mg-row-2 clearfix\"><div class=\"item-4-cont\"><article class=\"post-5975 type-post format-standard has-post-thumbnail  listing-item-4 listing-item listing-mg-item listing-mg-2-item listing-mg-type-1 main-term-25\"><div class=\"item-content\"> <a  title=\"A importância da família no desenvolvimento da criança\" data-src=\"https://barbacenaonline.com.br/application/uploads/2018/11/familia-279x220.jpg\" data-bs-srcset=\"{&quot;baseurl&quot;:&quot;https:\\\\/\\\\/barbacenaonline.com.br\\\\/application\\\\/uploads\\\\/2018\\\\/11\\\\/&quot;,&quot;sizes&quot;:{&quot;210&quot;:&quot;familia-210x136.jpg&quot;,&quot;279&quot;:&quot;familia-279x220.jpg&quot;,&quot;357&quot;:&quot;familia-357x210.jpg&quot;,&quot;626&quot;:&quot;familia.jpg&quot;}}\"\\t\\t\\t\\tclass=\"img-cont\" href=\"https://barbacenaonline.com.br/a-importancia-da-familia-no-desenvolvimento-da-crianca/\"></a><div class=\"term-badges floated\"><span class=\"term-badge term-25\"><a href=\"https://barbacenaonline.com.br/category/articulistas/\">Articulistas</a></span></div><div class=\"content-container\"><h2 class=\"title\"> <a href=\"https://barbacenaonline.com.br/a-importancia-da-familia-no-desenvolvimento-da-crianca/\" class=\"post-url post-title\"> A importância da família no desenvolvimento da criança </a></h2></div></div></article ></div><div class=\"item-5-cont\"><article class=\"post-5957 type-post format-standard has-post-thumbnail  listing-item-5 listing-item listing-mg-item listing-mg-2-item listing-mg-type-1 main-term-25\"><div class=\"item-content\"> <a  title=\"Lições de vida\" data-src=\"https://barbacenaonline.com.br/application/uploads/2018/11/SirleneAliane-0211-e1541197789506-279x220.jpg\" data-bs-srcset=\"{&quot;baseurl&quot;:&quot;https:\\\\/\\\\/barbacenaonline.com.br\\\\/application\\\\/uploads\\\\/2018\\\\/11\\\\/&quot;,&quot;sizes&quot;:{&quot;210&quot;:&quot;SirleneAliane-0211-e1541197789506-210x136.jpg&quot;,&quot;279&quot;:&quot;SirleneAliane-0211-e1541197789506-279x220.jpg&quot;,&quot;357&quot;:&quot;SirleneAliane-0211-e1541197789506-357x210.jpg&quot;,&quot;715&quot;:&quot;SirleneAliane-0211-e1541197789506.jpg&quot;}}\"\\t\\t\\t\\tclass=\"img-cont\" href=\"https://barbacenaonline.com.br/licoes-de-vida/\"></a><div class=\"term-badges floated\"><span class=\"term-badge term-25\"><a href=\"https://barbacenaonline.com.br/category/articulistas/\">Articulistas</a></span></div><div class=\"content-container\"><h2 class=\"title\"> <a href=\"https://barbacenaonline.com.br/licoes-de-vida/\" class=\"post-url post-title\"> Lições de vida </a></h2></div></div></article ></div></div></div></div></div><div class=\"bs-pagination-wrapper main-term-25 slider  bs-slider-item bs-items-3\"',\n",
       " '<a  title=\"Quem lê indica: O irmão imaginário\" data-src=\"https://barbacenaonline.com.br/application/uploads/2018/11/QLI-0211-750x430.jpg\" data-bs-srcset=\"{&quot;baseurl&quot;:&quot;https:\\\\/\\\\/barbacenaonline.com.br\\\\/application\\\\/uploads\\\\/2018\\\\/11\\\\/&quot;,&quot;sizes&quot;:{&quot;210&quot;:&quot;QLI-0211-210x136.jpg&quot;,&quot;279&quot;:&quot;QLI-0211-279x220.jpg&quot;,&quot;357&quot;:&quot;QLI-0211-357x210.jpg&quot;,&quot;640&quot;:&quot;QLI-0211-e1541123037284.jpg&quot;,&quot;750&quot;:&quot;QLI-0211-750x430.jpg&quot;}}\"\\t\\t\\t\\tclass=\"img-cont\" href=\"https://barbacenaonline.com.br/quem-le-indica-o-irmao-imaginario/\"></a><div class=\"term-badges floated\"><span class=\"term-badge term-25\"><a href=\"https://barbacenaonline.com.br/category/articulistas/\">Articulistas</a></span></div><div class=\"content-container\"><h2 class=\"title\"> <a href=\"https://barbacenaonline.com.br/quem-le-indica-o-irmao-imaginario/\" class=\"post-url post-title\"> Quem lê indica: O irmão imaginário </a></h2><div class=\"post-meta\"><span class=\"time\"><time class=\"post-published updated\"',\n",
       " '<a  title=\"Copa do Brasil e a mágica da inversão de poder\" data-src=\"https://barbacenaonline.com.br/application/uploads/2018/10/Taça-da-Copa-do-Brasil-CBF-279x220.jpeg\" data-bs-srcset=\"{&quot;baseurl&quot;:&quot;https:\\\\/\\\\/barbacenaonline.com.br\\\\/application\\\\/uploads\\\\/2018\\\\/10\\\\/&quot;,&quot;sizes&quot;:{&quot;210&quot;:&quot;Ta\\\\u00e7a-da-Copa-do-Brasil-CBF-210x136.jpeg&quot;,&quot;279&quot;:&quot;Ta\\\\u00e7a-da-Copa-do-Brasil-CBF-279x220.jpeg&quot;,&quot;357&quot;:&quot;Ta\\\\u00e7a-da-Copa-do-Brasil-CBF-357x210.jpeg&quot;,&quot;750&quot;:&quot;Ta\\\\u00e7a-da-Copa-do-Brasil-CBF-750x430.jpeg&quot;,&quot;910&quot;:&quot;Ta\\\\u00e7a-da-Copa-do-Brasil-CBF.jpeg&quot;}}\"\\t\\t\\t\\tclass=\"img-cont\" href=\"https://barbacenaonline.com.br/copa-do-brasil-e-a-magica-da-inversao-de-poder/\"></a><div class=\"term-badges floated\"><span class=\"term-badge term-25\"><a href=\"https://barbacenaonline.com.br/category/articulistas/\">Articulistas</a></span></div><div class=\"content-container\"><h2 class=\"title\"> <a href=\"https://barbacenaonline.com.br/copa-do-brasil-e-a-magica-da-inversao-de-poder/\" class=\"post-url post-title\"> Copa do Brasil e a mágica da inversão de poder </a></h2></div></div></article ></div><div class=\"item-3-cont\"><article class=\"post-5804 type-post format-standard has-post-thumbnail  listing-item-3 listing-item listing-mg-item listing-mg-2-item listing-mg-type-1 main-term-25\"><div class=\"item-content\"> <a  title=\"#flashBOL: Noite de comemoração para as secretárias excelentes\" data-src=\"https://barbacenaonline.com.br/application/uploads/2018/10/secretarias03-1-279x220.jpg\" data-bs-srcset=\"{&quot;baseurl&quot;:&quot;https:\\\\/\\\\/barbacenaonline.com.br\\\\/application\\\\/uploads\\\\/2018\\\\/10\\\\/&quot;,&quot;sizes&quot;:{&quot;210&quot;:&quot;secretarias03-1-210x136.jpg&quot;,&quot;279&quot;:&quot;secretarias03-1-279x220.jpg&quot;,&quot;357&quot;:&quot;secretarias03-1-357x210.jpg&quot;,&quot;640&quot;:&quot;secretarias03-1-e1540640267950.jpg&quot;,&quot;750&quot;:&quot;secretarias03-1-750x430.jpg&quot;}}\"\\t\\t\\t\\tclass=\"img-cont\" href=\"https://barbacenaonline.com.br/flashbol-noite-de-comemoracao-para-as-secretarias-excelentes/\"></a><div class=\"term-badges floated\"><span class=\"term-badge term-25\"><a href=\"https://barbacenaonline.com.br/category/articulistas/\">Articulistas</a></span></div><div class=\"content-container\"><h2 class=\"title\"> <a href=\"https://barbacenaonline.com.br/flashbol-noite-de-comemoracao-para-as-secretarias-excelentes/\" class=\"post-url post-title\"> #flashBOL: Noite de comemoração para as secretárias excelentes </a></h2></div></div></article ></div></div><div class=\"mg-row mg-row-2 clearfix\"><div class=\"item-4-cont\"><article class=\"post-5798 type-post format-standard has-post-thumbnail  listing-item-4 listing-item listing-mg-item listing-mg-2-item listing-mg-type-1 main-term-25\"><div class=\"item-content\"> <a  title=\"T-shirts: As queridinhas do momento\" data-src=\"https://barbacenaonline.com.br/application/uploads/2018/10/FOTO4-279x220.png\" data-bs-srcset=\"{&quot;baseurl&quot;:&quot;https:\\\\/\\\\/barbacenaonline.com.br\\\\/application\\\\/uploads\\\\/2018\\\\/10\\\\/&quot;,&quot;sizes&quot;:{&quot;210&quot;:&quot;FOTO4-210x136.png&quot;,&quot;279&quot;:&quot;FOTO4-279x220.png&quot;,&quot;357&quot;:&quot;FOTO4-357x210.png&quot;,&quot;640&quot;:&quot;FOTO4-e1540585356918.png&quot;,&quot;750&quot;:&quot;FOTO4-750x312.png&quot;}}\"\\t\\t\\t\\tclass=\"img-cont\" href=\"https://barbacenaonline.com.br/t-shits-as-queridinhas-do-momento/\"></a><div class=\"term-badges floated\"><span class=\"term-badge term-25\"><a href=\"https://barbacenaonline.com.br/category/articulistas/\">Articulistas</a></span></div><div class=\"content-container\"><h2 class=\"title\"> <a href=\"https://barbacenaonline.com.br/t-shits-as-queridinhas-do-momento/\" class=\"post-url post-title\"> T-shirts: As queridinhas do momento </a></h2></div></div></article ></div><div class=\"item-5-cont\"><article class=\"post-5795 type-post format-standard has-post-thumbnail  listing-item-5 listing-item listing-mg-item listing-mg-2-item listing-mg-type-1 main-term-25\"><div class=\"item-content\"> <a  title=\"Aprendendo a viver\" data-src=\"https://barbacenaonline.com.br/application/uploads/2018/10/SirleneAliane-2610-279x220.jpg\" data-bs-srcset=\"{&quot;baseurl&quot;:&quot;https:\\\\/\\\\/barbacenaonline.com.br\\\\/application\\\\/uploads\\\\/2018\\\\/10\\\\/&quot;,&quot;sizes&quot;:{&quot;210&quot;:&quot;SirleneAliane-2610-210x136.jpg&quot;,&quot;279&quot;:&quot;SirleneAliane-2610-279x220.jpg&quot;,&quot;357&quot;:&quot;SirleneAliane-2610-357x210.jpg&quot;,&quot;540&quot;:&quot;SirleneAliane-2610-e1540583853173.jpg&quot;}}\"\\t\\t\\t\\tclass=\"img-cont\" href=\"https://barbacenaonline.com.br/aprendendo-a-viver/\"></a><div class=\"term-badges floated\"><span class=\"term-badge term-25\"><a href=\"https://barbacenaonline.com.br/category/articulistas/\">Articulistas</a></span></div><div class=\"content-container\"><h2 class=\"title\"> <a href=\"https://barbacenaonline.com.br/aprendendo-a-viver/\" class=\"post-url post-title\"> Aprendendo a viver </a></h2></div></div></article ></div></div></div></div></div><div class=\"bs-pagination-wrapper main-term-25 slider  bs-slider-item bs-items-3\"',\n",
       " '<a  title=\"Quem lê indica: Diário de um Banana “Maré de azar”\" data-src=\"https://barbacenaonline.com.br/application/uploads/2018/10/QLI-2610-750x430.jpg\" data-bs-srcset=\"{&quot;baseurl&quot;:&quot;https:\\\\/\\\\/barbacenaonline.com.br\\\\/application\\\\/uploads\\\\/2018\\\\/10\\\\/&quot;,&quot;sizes&quot;:{&quot;210&quot;:&quot;QLI-2610-210x136.jpg&quot;,&quot;279&quot;:&quot;QLI-2610-279x220.jpg&quot;,&quot;357&quot;:&quot;QLI-2610-357x210.jpg&quot;,&quot;640&quot;:&quot;QLI-2610-e1540516806824.jpg&quot;,&quot;750&quot;:&quot;QLI-2610-750x430.jpg&quot;}}\"\\t\\t\\t\\tclass=\"img-cont\" href=\"https://barbacenaonline.com.br/quem-le-indica-diario-de-um-banana-mare-de-azar/\"></a><div class=\"term-badges floated\"><span class=\"term-badge term-25\"><a href=\"https://barbacenaonline.com.br/category/articulistas/\">Articulistas</a></span></div><div class=\"content-container\"><h2 class=\"title\"> <a href=\"https://barbacenaonline.com.br/quem-le-indica-diario-de-um-banana-mare-de-azar/\" class=\"post-url post-title\"> Quem lê indica: Diário de um Banana “Maré de azar” </a></h2><div class=\"post-meta\"><span class=\"time\"><time class=\"post-published updated\"',\n",
       " '<a  title=\"Polícia Militar abre concurso para músico\" data-src=\"https://barbacenaonline.com.br/application/themes/publisher/images/default-thumb/publisher-mg2.png\"\\t\\t\\t\\tclass=\"img-cont\" href=\"https://barbacenaonline.com.br/policia-militar-abre-concurso-para-musico/\"></a><div class=\"term-badges floated\"><span class=\"term-badge term-25\"><a href=\"https://barbacenaonline.com.br/category/articulistas/\">Articulistas</a></span></div><div class=\"content-container\"><h2 class=\"title\"> <a href=\"https://barbacenaonline.com.br/policia-militar-abre-concurso-para-musico/\" class=\"post-url post-title\"> Polícia Militar abre concurso para músico </a></h2></div></div></article ></div><div class=\"item-3-cont\"><article class=\"post-5698 type-post format-standard has-post-thumbnail  listing-item-3 listing-item listing-mg-item listing-mg-2-item listing-mg-type-1 main-term-25\"><div class=\"item-content\"> <a  title=\"Transtorno opositor desafiador\" data-src=\"https://barbacenaonline.com.br/application/uploads/2018/10/16-tod-279x220.jpg\" data-bs-srcset=\"{&quot;baseurl&quot;:&quot;https:\\\\/\\\\/barbacenaonline.com.br\\\\/application\\\\/uploads\\\\/2018\\\\/10\\\\/&quot;,&quot;sizes&quot;:{&quot;210&quot;:&quot;16-tod-210x136.jpg&quot;,&quot;279&quot;:&quot;16-tod-279x220.jpg&quot;,&quot;357&quot;:&quot;16-tod-357x210.jpg&quot;,&quot;750&quot;:&quot;16-tod-750x430.jpg&quot;,&quot;1500&quot;:&quot;16-tod.jpg&quot;}}\"\\t\\t\\t\\tclass=\"img-cont\" href=\"https://barbacenaonline.com.br/transtorno-opositor-desafiador/\"></a><div class=\"term-badges floated\"><span class=\"term-badge term-25\"><a href=\"https://barbacenaonline.com.br/category/articulistas/\">Articulistas</a></span></div><div class=\"content-container\"><h2 class=\"title\"> <a href=\"https://barbacenaonline.com.br/transtorno-opositor-desafiador/\" class=\"post-url post-title\"> Transtorno opositor desafiador </a></h2></div></div></article ></div></div><div class=\"mg-row mg-row-2 clearfix\"><div class=\"item-4-cont\"><article class=\"post-5695 type-post format-standard has-post-thumbnail  listing-item-4 listing-item listing-mg-item listing-mg-2-item listing-mg-type-1 main-term-25\"><div class=\"item-content\"> <a  title=\"Olhe mais para a natureza, o cosmos, e menos para o espelho e seu egoísmo\" data-src=\"https://barbacenaonline.com.br/application/uploads/2018/10/o-estudo-de-jane-goodall-sobre-os-chimpanzes-7-279x220.jpg\" data-bs-srcset=\"{&quot;baseurl&quot;:&quot;https:\\\\/\\\\/barbacenaonline.com.br\\\\/application\\\\/uploads\\\\/2018\\\\/10\\\\/&quot;,&quot;sizes&quot;:{&quot;210&quot;:&quot;o-estudo-de-jane-goodall-sobre-os-chimpanzes-7-210x136.jpg&quot;,&quot;279&quot;:&quot;o-estudo-de-jane-goodall-sobre-os-chimpanzes-7-279x220.jpg&quot;,&quot;357&quot;:&quot;o-estudo-de-jane-goodall-sobre-os-chimpanzes-7-357x210.jpg&quot;,&quot;480&quot;:&quot;o-estudo-de-jane-goodall-sobre-os-chimpanzes-7.jpg&quot;}}\"\\t\\t\\t\\tclass=\"img-cont\" href=\"https://barbacenaonline.com.br/olhe-mais-para-a-natureza-o-cosmos-e-menos-para-o-espelho-e-seu-egoismo/\"></a><div class=\"term-badges floated\"><span class=\"term-badge term-25\"><a href=\"https://barbacenaonline.com.br/category/articulistas/\">Articulistas</a></span></div><div class=\"content-container\"><h2 class=\"title\"> <a href=\"https://barbacenaonline.com.br/olhe-mais-para-a-natureza-o-cosmos-e-menos-para-o-espelho-e-seu-egoismo/\" class=\"post-url post-title\"> Olhe mais para a natureza, o cosmos, e menos para o espelho e seu&hellip; </a></h2></div></div></article ></div><div class=\"item-5-cont\"><article class=\"post-5669 type-post format-standard has-post-thumbnail  listing-item-5 listing-item listing-mg-item listing-mg-2-item listing-mg-type-1 main-term-25\"><div class=\"item-content\"> <a  title=\"#flashBOL: Professores e crianças recebem diversas homenagens\" data-src=\"https://barbacenaonline.com.br/application/uploads/2018/10/Conexão-7-279x220.jpg\" data-bs-srcset=\"{&quot;baseurl&quot;:&quot;https:\\\\/\\\\/barbacenaonline.com.br\\\\/application\\\\/uploads\\\\/2018\\\\/10\\\\/&quot;,&quot;sizes&quot;:{&quot;210&quot;:&quot;Conex\\\\u00e3o-7-210x136.jpg&quot;,&quot;279&quot;:&quot;Conex\\\\u00e3o-7-279x220.jpg&quot;,&quot;357&quot;:&quot;Conex\\\\u00e3o-7-357x210.jpg&quot;,&quot;640&quot;:&quot;Conex\\\\u00e3o-7-e1540038978351.jpg&quot;,&quot;750&quot;:&quot;Conex\\\\u00e3o-7-750x430.jpg&quot;}}\"\\t\\t\\t\\tclass=\"img-cont\" href=\"https://barbacenaonline.com.br/flashbol-professores-e-criancas-recebem-diversas-homenagens/\"></a><div class=\"term-badges floated\"><span class=\"term-badge term-25\"><a href=\"https://barbacenaonline.com.br/category/articulistas/\">Articulistas</a></span></div><div class=\"content-container\"><h2 class=\"title\"> <a href=\"https://barbacenaonline.com.br/flashbol-professores-e-criancas-recebem-diversas-homenagens/\" class=\"post-url post-title\"> #flashBOL: Professores e crianças recebem diversas homenagens </a></h2></div></div></article ></div></div></div></div></div><div class=\"bs-slider-controls main-term-25\"><div class=\"bs-control-nav  bs-control-nav-style-1\"></div></div></div></div></div></div></div></div><div class=\"row vc_row wpb_row vc_row-fluid\"><div class=\"bs-vc-wrapper\"><div class=\"wpb_column bs-vc-column vc_column_container vc_col-sm-12\"><div class=\"bs-vc-wrapper wpb_wrapper\"><div class=\"bscb-92126 bsb-have-heading-color bs-listing bs-listing-listing-grid-1 bs-listing-single-tab\"><style>.bscb-92126 .section-heading.sh-t3 a.active,.bscb-92126.bscb-92126 .section-heading.sh-t3 .main-link:first-child:last-child .h-text,.bscb-92126 .section-heading.sh-t3>.h-text,.bscb-92126.bscb-92126 .section-heading.sh-t3.sh-s8>.h-text,.bscb-92126.bscb-92126 .section-heading.sh-t3.sh-s8>a.main-link>.h-text{color:#4c97f4}.bscb-92126 .section-heading.sh-t3 a:hover .h-text,.bscb-92126 .section-heading.sh-t3 a.active .h-text{color:#4c97f4!important}.bscb-92126.bscb-92126 .section-heading.sh-t3:after{background-color:#4c97f4!important}.bscb-92126.bscb-92126 .section-heading.sh-t3.sh-s8>.main-link>.h-text,.bscb-92126.bscb-92126 .section-heading.sh-t3.sh-s8>a:last-child:first-child>.h-text,.bscb-92126.bscb-92126 .section-heading.sh-t3.sh-s8>a:last-child:first-child>.h-text,.bscb-92126.bscb-92126 .section-heading.sh-t3.sh-s8>.h-text:last-child:first-child{border-color:#4c97f4}.bscb-92126.bscb-92126 .listing-item:hover .title a,.bscb-92126.bscb-92126 .listing-item-text-1 .post-meta a:hover,.bscb-92126.bscb-92126 .listing-item-grid .post-meta a:hover,.bscb-92126.bscb-92126 .listing-item .rating-stars span:before{color:#4c97f4!important}.bscb-92126.bscb-92126 .listing-item .rating-bar span{background-color:#4c97f4!important}.bscb-92126 .bs-pagination .btn-bs-pagination:hover,.bscb-92126 .btn-bs-pagination.bs-pagination-in-loading{background-color:#4c97f4!important;border-color:#4c97f4!important;color:#fff!important}.bscb-92126 .listing-item-text-2:hover .item-inner{border-color:#4c97f4!important}.bscb-92126.bscb-92126.bscb-92126.bscb-92126 .term-badges.floated .term-badge a,.bscb-92126.bscb-92126 .bs-pagination-wrapper .bs-loading>div{background-color:#4c97f4!important;color:#fff!important}</style><div class=\"listing listing-grid listing-grid-1 clearfix columns-4\"><article class=\"post-6025 type-post format-standard has-post-thumbnail   listing-item listing-item-grid listing-item-grid-1 main-term-25\"><div class=\"item-inner\"><div class=\"featured clearfix\"><div class=\"term-badges floated\"><span class=\"term-badge term-25\"><a href=\"https://barbacenaonline.com.br/category/articulistas/\">Articulistas</a></span></div> <a  title=\"Sine divulga 17 vagas de emprego com salários de até R$3.816\" data-src=\"https://barbacenaonline.com.br/application/uploads/2018/04/RAIS-642x336-357x210.jpg\" data-bs-srcset=\"{&quot;baseurl&quot;:&quot;https:\\\\/\\\\/barbacenaonline.com.br\\\\/application\\\\/uploads\\\\/2018\\\\/04\\\\/&quot;,&quot;sizes&quot;:{&quot;210&quot;:&quot;RAIS-642x336-210x136.jpg&quot;,&quot;279&quot;:&quot;RAIS-642x336-279x220.jpg&quot;,&quot;357&quot;:&quot;RAIS-642x336-357x210.jpg&quot;,&quot;642&quot;:&quot;RAIS-642x336.jpg&quot;}}\"\\t\\t\\t\\t\\t\\tclass=\"img-holder\" href=\"https://barbacenaonline.com.br/sine-divulga-17-vagas-de-emprego-com-salarios-de-ate-r3-816/\"></a></div><h2 class=\"title\"> <a href=\"https://barbacenaonline.com.br/sine-divulga-17-vagas-de-emprego-com-salarios-de-ate-r3-816/\" class=\"post-title post-url\"> Sine divulga 17 vagas de emprego com salários de até R$3.816 </a></h2><div class=\"post-meta\"><span class=\"time\"><time class=\"post-published updated\"',\n",
       " '<a  title=\"Mais de 3.000 planetas já foram encontrados fora do Sistema Solar. O que isso quer dizer?\" data-src=\"https://barbacenaonline.com.br/application/uploads/2018/11/20172407503018-t1200x480-357x210.jpg\" data-bs-srcset=\"{&quot;baseurl&quot;:&quot;https:\\\\/\\\\/barbacenaonline.com.br\\\\/application\\\\/uploads\\\\/2018\\\\/11\\\\/&quot;,&quot;sizes&quot;:{&quot;210&quot;:&quot;20172407503018-t1200x480-210x136.jpg&quot;,&quot;279&quot;:&quot;20172407503018-t1200x480-279x220.jpg&quot;,&quot;357&quot;:&quot;20172407503018-t1200x480-357x210.jpg&quot;,&quot;640&quot;:&quot;20172407503018-t1200x480-e1541359343755.jpg&quot;,&quot;750&quot;:&quot;20172407503018-t1200x480-750x430.jpg&quot;}}\"\\t\\t\\t\\t\\t\\tclass=\"img-holder\" href=\"https://barbacenaonline.com.br/mais-de-3-000-planetas-ja-foram-encontrados-fora-do-sistema-solar-o-que-isso-quer-dizer/\"></a></div><h2 class=\"title\"> <a href=\"https://barbacenaonline.com.br/mais-de-3-000-planetas-ja-foram-encontrados-fora-do-sistema-solar-o-que-isso-quer-dizer/\" class=\"post-title post-url\"> Mais de 3.000 planetas já foram encontrados fora do Sistema Solar. O que isso quer&hellip; </a></h2><div class=\"post-meta\"><span class=\"time\"><time class=\"post-published updated\"',\n",
       " '<a  title=\"#flashBOL: Medalha Santos Dumont é entregue a personalidades e entidades\" data-src=\"https://barbacenaonline.com.br/application/uploads/2018/11/MedalhaSD-2018-4-357x210.jpg\" data-bs-srcset=\"{&quot;baseurl&quot;:&quot;https:\\\\/\\\\/barbacenaonline.com.br\\\\/application\\\\/uploads\\\\/2018\\\\/11\\\\/&quot;,&quot;sizes&quot;:{&quot;210&quot;:&quot;MedalhaSD-2018-4-210x136.jpg&quot;,&quot;279&quot;:&quot;MedalhaSD-2018-4-279x220.jpg&quot;,&quot;357&quot;:&quot;MedalhaSD-2018-4-357x210.jpg&quot;,&quot;640&quot;:&quot;MedalhaSD-2018-4-e1541331685360.jpg&quot;,&quot;750&quot;:&quot;MedalhaSD-2018-4-750x430.jpg&quot;}}\"\\t\\t\\t\\t\\t\\tclass=\"img-holder\" href=\"https://barbacenaonline.com.br/flashbol-medalha-santos-dumont-e-entregue-a-personalidades-e-entidades/\"></a></div><h2 class=\"title\"> <a href=\"https://barbacenaonline.com.br/flashbol-medalha-santos-dumont-e-entregue-a-personalidades-e-entidades/\" class=\"post-title post-url\"> #flashBOL: Medalha Santos Dumont é entregue a personalidades e entidades </a></h2><div class=\"post-meta\"><span class=\"time\"><time class=\"post-published updated\"',\n",
       " '<a  title=\"Presídio de São João del-Rei ganha novas vagas\" data-src=\"https://barbacenaonline.com.br/application/themes/publisher/images/default-thumb/publisher-tb1.png\"\\t\\t\\t\\t\\t\\tclass=\"img-holder\" href=\"https://barbacenaonline.com.br/presidio-de-sao-joao-del-rei-ganha-novas-vagas/\"></a></div><p class=\"title\"> <a href=\"https://barbacenaonline.com.br/presidio-de-sao-joao-del-rei-ganha-novas-vagas/\" class=\"post-url post-title\"> Presídio de São João del-Rei ganha novas vagas </a></p><div class=\"post-meta\"><span class=\"time\"><time class=\"post-published updated\"',\n",
       " '<a  title=\"Homem atingido nas nádegas por disparo de arma de fogo\" data-src=\"https://barbacenaonline.com.br/application/uploads/2018/06/Arma-1306-e1528897950308-86x64.jpg\" data-bs-srcset=\"{&quot;baseurl&quot;:&quot;https:\\\\/\\\\/barbacenaonline.com.br\\\\/application\\\\/uploads\\\\/2018\\\\/06\\\\/&quot;,&quot;sizes&quot;:{&quot;86&quot;:&quot;Arma-1306-e1528897950308-86x64.jpg&quot;,&quot;210&quot;:&quot;Arma-1306-e1528897950308-210x136.jpg&quot;,&quot;612&quot;:&quot;Arma-1306-e1528897950308.jpg&quot;}}\"\\t\\t\\t\\t\\t\\tclass=\"img-holder\" href=\"https://barbacenaonline.com.br/homem-atingido-nas-nadegas-por-disparo-de-arma-de-fogo/\"></a></div><p class=\"title\"> <a href=\"https://barbacenaonline.com.br/homem-atingido-nas-nadegas-por-disparo-de-arma-de-fogo/\" class=\"post-url post-title\"> Homem atingido nas nádegas por disparo de arma de fogo </a></p><div class=\"post-meta\"><span class=\"time\"><time class=\"post-published updated\"',\n",
       " '<a  title=\"Sine divulga 17 vagas de emprego com salários de até R$3.816\" data-src=\"https://barbacenaonline.com.br/application/uploads/2018/04/RAIS-642x336-86x64.jpg\" data-bs-srcset=\"{&quot;baseurl&quot;:&quot;https:\\\\/\\\\/barbacenaonline.com.br\\\\/application\\\\/uploads\\\\/2018\\\\/04\\\\/&quot;,&quot;sizes&quot;:{&quot;86&quot;:&quot;RAIS-642x336-86x64.jpg&quot;,&quot;210&quot;:&quot;RAIS-642x336-210x136.jpg&quot;,&quot;642&quot;:&quot;RAIS-642x336.jpg&quot;}}\"\\t\\t\\t\\t\\t\\tclass=\"img-holder\" href=\"https://barbacenaonline.com.br/sine-divulga-17-vagas-de-emprego-com-salarios-de-ate-r3-816/\"></a></div><p class=\"title\"> <a href=\"https://barbacenaonline.com.br/sine-divulga-17-vagas-de-emprego-com-salarios-de-ate-r3-816/\" class=\"post-url post-title\"> Sine divulga 17 vagas de emprego com salários de até R$3.816 </a></p><div class=\"post-meta\"><span class=\"time\"><time class=\"post-published updated\"']"
      ]
     },
     "execution_count": 24,
     "metadata": {},
     "output_type": "execute_result"
    }
   ],
   "source": [
    "re.findall(r'<a +title=\".+\"', html)"
   ]
  },
  {
   "cell_type": "code",
   "execution_count": 25,
   "metadata": {},
   "outputs": [
    {
     "data": {
      "text/plain": [
       "['<a  title=\"Presídio de São João del-Rei ganha novas vagas\"',\n",
       " '<a  title=\"Homem atingido nas nádegas por disparo de arma de fogo\"',\n",
       " '<a  title=\"Sine divulga 17 vagas de emprego com salários de até R$3.816\"',\n",
       " '<a  title=\"Dupla presa em flagrante comprava drogas em SJDR e distribuía em Barbacena\"',\n",
       " '<a  title=\"Congresso de Medicina Antroposófica põe em discussão as Práticas Integrativas\"',\n",
       " '<a  title=\"Testes no trânsito são prorrogados\"',\n",
       " '<a  title=\"Guarda Civil Municipal participa de capacitação para atuar no trânsito\"',\n",
       " '<a  title=\"Mais de sete mil pessoas farão o Enem em Barbacena\"',\n",
       " '<a  title=\"Dupla presa em flagrante comprava drogas em SJDR e distribuía em Barbacena\"',\n",
       " '<a  title=\"Corsa capota no Santa Efigênia\"',\n",
       " '<a  title=\"Motociclista atropela pedestre na Praça da Boa Morte\"',\n",
       " '<a  title=\"Homem preso no São Pedro por armazenar pornografia infantil\"',\n",
       " '<a  title=\"Incêndio em residência resulta em prejuízos materiais\"',\n",
       " '<a  title=\"Saída de pista entre Pinheiro Grosso e Senhora das Dores\"',\n",
       " '<a  title=\"Carreta pega fogo e chamas atingem vegetação\"',\n",
       " '<a  title=\"Pitbull ataca outro cão no Santa Efigênia\"',\n",
       " '<a  title=\"SJDR: Jovem fratura a perna em acidente\"',\n",
       " '<a  title=\"Veículo atropela homem na 040\"',\n",
       " '<a  title=\"Localizado corpo no Ribeirão Bananeiras\"',\n",
       " '<a  title=\"Sine divulga 17 vagas de emprego com salários de até R$3.816\"',\n",
       " '<a  title=\"Mais de 3.000 planetas já foram encontrados fora do Sistema Solar. O que isso quer dizer?\"',\n",
       " '<a  title=\"#flashBOL: Medalha Santos Dumont é entregue a personalidades e entidades\"',\n",
       " '<a  title=\"A importância da família no desenvolvimento da criança\"',\n",
       " '<a  title=\"Lições de vida\"',\n",
       " '<a  title=\"Quem lê indica: O irmão imaginário\"',\n",
       " '<a  title=\"Copa do Brasil e a mágica da inversão de poder\"',\n",
       " '<a  title=\"#flashBOL: Noite de comemoração para as secretárias excelentes\"',\n",
       " '<a  title=\"T-shirts: As queridinhas do momento\"',\n",
       " '<a  title=\"Aprendendo a viver\"',\n",
       " '<a  title=\"Quem lê indica: Diário de um Banana “Maré de azar”\"',\n",
       " '<a  title=\"Polícia Militar abre concurso para músico\"',\n",
       " '<a  title=\"Transtorno opositor desafiador\"',\n",
       " '<a  title=\"Olhe mais para a natureza, o cosmos, e menos para o espelho e seu egoísmo\"',\n",
       " '<a  title=\"#flashBOL: Professores e crianças recebem diversas homenagens\"',\n",
       " '<a  title=\"Sine divulga 17 vagas de emprego com salários de até R$3.816\"',\n",
       " '<a  title=\"Mais de 3.000 planetas já foram encontrados fora do Sistema Solar. O que isso quer dizer?\"',\n",
       " '<a  title=\"#flashBOL: Medalha Santos Dumont é entregue a personalidades e entidades\"',\n",
       " '<a  title=\"Presídio de São João del-Rei ganha novas vagas\"',\n",
       " '<a  title=\"Homem atingido nas nádegas por disparo de arma de fogo\"',\n",
       " '<a  title=\"Sine divulga 17 vagas de emprego com salários de até R$3.816\"']"
      ]
     },
     "execution_count": 25,
     "metadata": {},
     "output_type": "execute_result"
    }
   ],
   "source": [
    "re.findall(r'<a +title=\".+?\"', html)"
   ]
  },
  {
   "cell_type": "code",
   "execution_count": 26,
   "metadata": {},
   "outputs": [
    {
     "data": {
      "text/plain": [
       "['Presídio de São João del-Rei ganha novas vagas',\n",
       " 'Homem atingido nas nádegas por disparo de arma de fogo',\n",
       " 'Sine divulga 17 vagas de emprego com salários de até R$3.816',\n",
       " 'Dupla presa em flagrante comprava drogas em SJDR e distribuía em Barbacena',\n",
       " 'Congresso de Medicina Antroposófica põe em discussão as Práticas Integrativas',\n",
       " 'Testes no trânsito são prorrogados',\n",
       " 'Guarda Civil Municipal participa de capacitação para atuar no trânsito',\n",
       " 'Mais de sete mil pessoas farão o Enem em Barbacena',\n",
       " 'Dupla presa em flagrante comprava drogas em SJDR e distribuía em Barbacena',\n",
       " 'Corsa capota no Santa Efigênia',\n",
       " 'Motociclista atropela pedestre na Praça da Boa Morte',\n",
       " 'Homem preso no São Pedro por armazenar pornografia infantil',\n",
       " 'Incêndio em residência resulta em prejuízos materiais',\n",
       " 'Saída de pista entre Pinheiro Grosso e Senhora das Dores',\n",
       " 'Carreta pega fogo e chamas atingem vegetação',\n",
       " 'Pitbull ataca outro cão no Santa Efigênia',\n",
       " 'SJDR: Jovem fratura a perna em acidente',\n",
       " 'Veículo atropela homem na 040',\n",
       " 'Localizado corpo no Ribeirão Bananeiras',\n",
       " 'Sine divulga 17 vagas de emprego com salários de até R$3.816',\n",
       " 'Mais de 3.000 planetas já foram encontrados fora do Sistema Solar. O que isso quer dizer?',\n",
       " '#flashBOL: Medalha Santos Dumont é entregue a personalidades e entidades',\n",
       " 'A importância da família no desenvolvimento da criança',\n",
       " 'Lições de vida',\n",
       " 'Quem lê indica: O irmão imaginário',\n",
       " 'Copa do Brasil e a mágica da inversão de poder',\n",
       " '#flashBOL: Noite de comemoração para as secretárias excelentes',\n",
       " 'T-shirts: As queridinhas do momento',\n",
       " 'Aprendendo a viver',\n",
       " 'Quem lê indica: Diário de um Banana “Maré de azar”',\n",
       " 'Polícia Militar abre concurso para músico',\n",
       " 'Transtorno opositor desafiador',\n",
       " 'Olhe mais para a natureza, o cosmos, e menos para o espelho e seu egoísmo',\n",
       " '#flashBOL: Professores e crianças recebem diversas homenagens',\n",
       " 'Sine divulga 17 vagas de emprego com salários de até R$3.816',\n",
       " 'Mais de 3.000 planetas já foram encontrados fora do Sistema Solar. O que isso quer dizer?',\n",
       " '#flashBOL: Medalha Santos Dumont é entregue a personalidades e entidades',\n",
       " 'Presídio de São João del-Rei ganha novas vagas',\n",
       " 'Homem atingido nas nádegas por disparo de arma de fogo',\n",
       " 'Sine divulga 17 vagas de emprego com salários de até R$3.816']"
      ]
     },
     "execution_count": 26,
     "metadata": {},
     "output_type": "execute_result"
    }
   ],
   "source": [
    "re.findall(r'<a +title=\"(.+?)\"', html)"
   ]
  },
  {
   "cell_type": "markdown",
   "metadata": {},
   "source": [
    "<strong>Gerar dataset com o título e o link das notícias do Barbacena Online:</strong>"
   ]
  },
  {
   "cell_type": "code",
   "execution_count": 27,
   "metadata": {},
   "outputs": [
    {
     "data": {
      "text/plain": [
       "'\\n<div class=\"item-content\"> <a  title=\"Presídio de São João del-Rei ganha novas vagas\" data-src=\"https://barbacenaonline.com.br/application/themes/publisher/images/default-thumb/publisher-lg.png\"\\t\\t\\t\\tclass=\"img-cont\" href=\"https://barbacenaonline.com.br/presidio-de-sao-joao-del-rei-ganha-novas-vagas/\"></a>\\n\\n'"
      ]
     },
     "execution_count": 27,
     "metadata": {},
     "output_type": "execute_result"
    }
   ],
   "source": [
    "'''\n",
    "<div class=\"item-content\"> <a  title=\"Presídio de São João del-Rei ganha novas vagas\" data-src=\"https://barbacenaonline.com.br/application/themes/publisher/images/default-thumb/publisher-lg.png\"\\t\\t\\t\\tclass=\"img-cont\" href=\"https://barbacenaonline.com.br/presidio-de-sao-joao-del-rei-ganha-novas-vagas/\"></a>\n",
    "\n",
    "'''"
   ]
  },
  {
   "cell_type": "code",
   "execution_count": 28,
   "metadata": {},
   "outputs": [
    {
     "data": {
      "text/plain": [
       "('Presídio de São João del-Rei ganha novas vagas',\n",
       " 'https://barbacenaonline.com.br/application/themes/publisher/images/default-thumb/publisher-lg.png')"
      ]
     },
     "execution_count": 28,
     "metadata": {},
     "output_type": "execute_result"
    }
   ],
   "source": [
    "re.findall(r'<a +title=\"(.+?)\" +data-src=\"(.+?)\"', html)[0]"
   ]
  },
  {
   "cell_type": "code",
   "execution_count": 29,
   "metadata": {},
   "outputs": [
    {
     "data": {
      "text/html": [
       "<div>\n",
       "<style scoped>\n",
       "    .dataframe tbody tr th:only-of-type {\n",
       "        vertical-align: middle;\n",
       "    }\n",
       "\n",
       "    .dataframe tbody tr th {\n",
       "        vertical-align: top;\n",
       "    }\n",
       "\n",
       "    .dataframe thead th {\n",
       "        text-align: right;\n",
       "    }\n",
       "</style>\n",
       "<table border=\"1\" class=\"dataframe\">\n",
       "  <thead>\n",
       "    <tr style=\"text-align: right;\">\n",
       "      <th></th>\n",
       "      <th>titulo</th>\n",
       "      <th>link</th>\n",
       "    </tr>\n",
       "  </thead>\n",
       "  <tbody>\n",
       "    <tr>\n",
       "      <th>0</th>\n",
       "      <td>Presídio de São João del-Rei ganha novas vagas</td>\n",
       "      <td>https://barbacenaonline.com.br/application/the...</td>\n",
       "    </tr>\n",
       "    <tr>\n",
       "      <th>1</th>\n",
       "      <td>Homem atingido nas nádegas por disparo de arma...</td>\n",
       "      <td>https://barbacenaonline.com.br/application/upl...</td>\n",
       "    </tr>\n",
       "    <tr>\n",
       "      <th>2</th>\n",
       "      <td>Sine divulga 17 vagas de emprego com salários ...</td>\n",
       "      <td>https://barbacenaonline.com.br/application/upl...</td>\n",
       "    </tr>\n",
       "    <tr>\n",
       "      <th>3</th>\n",
       "      <td>Dupla presa em flagrante comprava drogas em SJ...</td>\n",
       "      <td>https://barbacenaonline.com.br/application/upl...</td>\n",
       "    </tr>\n",
       "    <tr>\n",
       "      <th>4</th>\n",
       "      <td>Congresso de Medicina Antroposófica põe em dis...</td>\n",
       "      <td>https://barbacenaonline.com.br/application/upl...</td>\n",
       "    </tr>\n",
       "  </tbody>\n",
       "</table>\n",
       "</div>"
      ],
      "text/plain": [
       "                                              titulo  \\\n",
       "0     Presídio de São João del-Rei ganha novas vagas   \n",
       "1  Homem atingido nas nádegas por disparo de arma...   \n",
       "2  Sine divulga 17 vagas de emprego com salários ...   \n",
       "3  Dupla presa em flagrante comprava drogas em SJ...   \n",
       "4  Congresso de Medicina Antroposófica põe em dis...   \n",
       "\n",
       "                                                link  \n",
       "0  https://barbacenaonline.com.br/application/the...  \n",
       "1  https://barbacenaonline.com.br/application/upl...  \n",
       "2  https://barbacenaonline.com.br/application/upl...  \n",
       "3  https://barbacenaonline.com.br/application/upl...  \n",
       "4  https://barbacenaonline.com.br/application/upl...  "
      ]
     },
     "execution_count": 29,
     "metadata": {},
     "output_type": "execute_result"
    }
   ],
   "source": [
    "import pandas as pd\n",
    "\n",
    "df = pd.DataFrame(\n",
    "    re.findall(r'<a +title=\"(.+?)\" +data-src=\"(.+?)\"', html),\n",
    "    columns=['titulo', 'link']\n",
    ")\n",
    "\n",
    "df.head()"
   ]
  },
  {
   "cell_type": "markdown",
   "metadata": {},
   "source": [
    "### Beautiful Soup\n",
    "\n",
    "Biblioteca para analisar documentos HTML e XML.\n",
    "\n",
    "https://www.crummy.com/software/BeautifulSoup/bs4/doc/"
   ]
  },
  {
   "cell_type": "code",
   "execution_count": 30,
   "metadata": {},
   "outputs": [],
   "source": [
    "from bs4 import BeautifulSoup"
   ]
  },
  {
   "cell_type": "code",
   "execution_count": 31,
   "metadata": {},
   "outputs": [],
   "source": [
    "soup = BeautifulSoup(html, 'html.parser')"
   ]
  },
  {
   "cell_type": "code",
   "execution_count": 32,
   "metadata": {},
   "outputs": [
    {
     "data": {
      "text/plain": [
       "<title>Barbacena Online – Notícias em Barbacena e região</title>"
      ]
     },
     "execution_count": 32,
     "metadata": {},
     "output_type": "execute_result"
    }
   ],
   "source": [
    "soup.find('title')"
   ]
  },
  {
   "cell_type": "code",
   "execution_count": 33,
   "metadata": {},
   "outputs": [
    {
     "data": {
      "text/plain": [
       "'title'"
      ]
     },
     "execution_count": 33,
     "metadata": {},
     "output_type": "execute_result"
    }
   ],
   "source": [
    "soup.find('title').name"
   ]
  },
  {
   "cell_type": "code",
   "execution_count": 34,
   "metadata": {},
   "outputs": [
    {
     "data": {
      "text/plain": [
       "'Barbacena Online – Notícias em Barbacena e região'"
      ]
     },
     "execution_count": 34,
     "metadata": {},
     "output_type": "execute_result"
    }
   ],
   "source": [
    "soup.find('title').text"
   ]
  },
  {
   "cell_type": "code",
   "execution_count": 35,
   "metadata": {},
   "outputs": [
    {
     "data": {
      "text/plain": [
       "'head'"
      ]
     },
     "execution_count": 35,
     "metadata": {},
     "output_type": "execute_result"
    }
   ],
   "source": [
    "soup.find('title').parent.name"
   ]
  },
  {
   "cell_type": "code",
   "execution_count": 36,
   "metadata": {},
   "outputs": [
    {
     "data": {
      "text/plain": [
       "[<p class=\"bsac-caption\">- Advertisement -</p>,\n",
       " <p class=\"bsac-caption\">- Advertisement -</p>,\n",
       " <p>Portal de Notícias Barbacena Online<br/> Fundado em 01 de setembro de 2001</p>,\n",
       " <p>E-mail: contato@barbacenaonline.com.br</p>,\n",
       " <p>Whatsaap: (32) 9-8835-4900</p>,\n",
       " <p class=\"section-heading sh-t5 sh-s1 main-term-none\"> <span class=\"h-text main-term-none main-link\"> Mais vistos </span></p>,\n",
       " <p class=\"title\"> <a class=\"post-url post-title\" href=\"https://barbacenaonline.com.br/presidio-de-sao-joao-del-rei-ganha-novas-vagas/\"> Presídio de São João del-Rei ganha novas vagas </a></p>,\n",
       " <p class=\"title\"> <a class=\"post-url post-title\" href=\"https://barbacenaonline.com.br/homem-atingido-nas-nadegas-por-disparo-de-arma-de-fogo/\"> Homem atingido nas nádegas por disparo de arma de fogo </a></p>,\n",
       " <p class=\"title\"> <a class=\"post-url post-title\" href=\"https://barbacenaonline.com.br/sine-divulga-17-vagas-de-emprego-com-salarios-de-ate-r3-816/\"> Sine divulga 17 vagas de emprego com salários de até R$3.816 </a></p>,\n",
       " <p>Welcome, Login to your account.</p>,\n",
       " <p>Recover your password.</p>,\n",
       " <p>A password will be e-mailed to you.</p>]"
      ]
     },
     "execution_count": 36,
     "metadata": {},
     "output_type": "execute_result"
    }
   ],
   "source": [
    "soup.find_all('p')"
   ]
  },
  {
   "cell_type": "code",
   "execution_count": 37,
   "metadata": {},
   "outputs": [
    {
     "data": {
      "text/plain": [
       "'- Advertisement -'"
      ]
     },
     "execution_count": 37,
     "metadata": {},
     "output_type": "execute_result"
    }
   ],
   "source": [
    "soup.find_all('p')[0].text"
   ]
  },
  {
   "cell_type": "code",
   "execution_count": 38,
   "metadata": {},
   "outputs": [
    {
     "data": {
      "text/plain": [
       "<article class=\"post-6040 type-post format-standard has-post-thumbnail listing-item-1 listing-item listing-mg-item listing-mg-2-item listing-mg-type-1 main-term-23\"><div class=\"item-content\"> <a class=\"img-cont\" data-src=\"https://barbacenaonline.com.br/application/themes/publisher/images/default-thumb/publisher-lg.png\" href=\"https://barbacenaonline.com.br/presidio-de-sao-joao-del-rei-ganha-novas-vagas/\" title=\"Presídio de São João del-Rei ganha novas vagas\"></a><div class=\"term-badges floated\"><span class=\"term-badge term-23\"><a href=\"https://barbacenaonline.com.br/category/regiao/\">Região</a></span></div><div class=\"content-container\"><h2 class=\"title\"> <a class=\"post-url post-title\" href=\"https://barbacenaonline.com.br/presidio-de-sao-joao-del-rei-ganha-novas-vagas/\"> Presídio de São João del-Rei ganha novas vagas </a></h2><div class=\"post-meta\"><span class=\"time\"><time class=\"post-published updated\" datetime=\"2018-11-05T18:41:43+00:00\">5 nov, 2018</time></span></div></div></div></article>"
      ]
     },
     "execution_count": 38,
     "metadata": {},
     "output_type": "execute_result"
    }
   ],
   "source": [
    "soup.find_all('article', class_='type-post')[0]"
   ]
  },
  {
   "cell_type": "code",
   "execution_count": 39,
   "metadata": {},
   "outputs": [
    {
     "data": {
      "text/plain": [
       "'Presídio de São João del-Rei ganha novas vagas'"
      ]
     },
     "execution_count": 39,
     "metadata": {},
     "output_type": "execute_result"
    }
   ],
   "source": [
    "soup.find_all('article', class_='type-post')[0].find('a')['title']"
   ]
  },
  {
   "cell_type": "code",
   "execution_count": 40,
   "metadata": {},
   "outputs": [
    {
     "data": {
      "text/plain": [
       "'https://barbacenaonline.com.br/presidio-de-sao-joao-del-rei-ganha-novas-vagas/'"
      ]
     },
     "execution_count": 40,
     "metadata": {},
     "output_type": "execute_result"
    }
   ],
   "source": [
    "soup.find_all('article', class_='type-post')[0].find('a')['href']"
   ]
  },
  {
   "cell_type": "markdown",
   "metadata": {},
   "source": [
    "### Consumindo uma API\n",
    "\n",
    "APIs (Application Programming Interface) possibilitam a comunicação entre seu código e um sistema remoto, como uma rede social.\n",
    "\n",
    "Exemplo: OMDb API - The Open Movie Database\n",
    "\n",
    "http://www.omdbapi.com/\n",
    "\n",
    "Gerar uma chave (API key) e ativar o link enviado por e-mail."
   ]
  },
  {
   "cell_type": "code",
   "execution_count": 41,
   "metadata": {},
   "outputs": [],
   "source": [
    "API = 'http://www.omdbapi.com/?apikey=••••••••&'"
   ]
  },
  {
   "cell_type": "code",
   "execution_count": 42,
   "metadata": {},
   "outputs": [
    {
     "data": {
      "text/plain": [
       "{'Response': 'True',\n",
       " 'Search': [{'Poster': 'https://m.media-amazon.com/images/M/MV5BNDQ4YzFmNzktMmM5ZC00MDZjLTk1OTktNDE2ODE4YjM2MjJjXkEyXkFqcGdeQXVyNTA4NzY1MzY@._V1_SX300.jpg',\n",
       "   'Title': 'World War Z',\n",
       "   'Type': 'movie',\n",
       "   'Year': '2013',\n",
       "   'imdbID': 'tt0816711'},\n",
       "  {'Poster': 'https://m.media-amazon.com/images/M/MV5BMjQ0MTgyNjAxMV5BMl5BanBnXkFtZTgwNjUzMDkyODE@._V1_SX300.jpg',\n",
       "   'Title': 'Captain America: Civil War',\n",
       "   'Type': 'movie',\n",
       "   'Year': '2016',\n",
       "   'imdbID': 'tt3498820'},\n",
       "  {'Poster': 'https://m.media-amazon.com/images/M/MV5BMjMxNjY2MDU1OV5BMl5BanBnXkFtZTgwNzY1MTUwNTM@._V1_SX300.jpg',\n",
       "   'Title': 'Avengers: Infinity War',\n",
       "   'Type': 'movie',\n",
       "   'Year': '2018',\n",
       "   'imdbID': 'tt4154756'},\n",
       "  {'Poster': 'https://m.media-amazon.com/images/M/MV5BNDUyODAzNDI1Nl5BMl5BanBnXkFtZTcwMDA2NDAzMw@@._V1_SX300.jpg',\n",
       "   'Title': 'War of the Worlds',\n",
       "   'Type': 'movie',\n",
       "   'Year': '2005',\n",
       "   'imdbID': 'tt0407304'},\n",
       "  {'Poster': 'https://m.media-amazon.com/images/M/MV5BMTYzZWE3MDAtZjZkMi00MzhlLTlhZDUtNmI2Zjg3OWVlZWI0XkEyXkFqcGdeQXVyNDk3NzU2MTQ@._V1_SX300.jpg',\n",
       "   'Title': 'Lord of War',\n",
       "   'Type': 'movie',\n",
       "   'Year': '2005',\n",
       "   'imdbID': 'tt0399295'},\n",
       "  {'Poster': 'https://m.media-amazon.com/images/M/MV5BNDNmYTQzMDEtMmY0MS00OTNjLTk4MjItMDZhMzkzOGI3MzA0XkEyXkFqcGdeQXVyNjk5NDA3OTk@._V1_SX300.jpg',\n",
       "   'Title': 'War for the Planet of the Apes',\n",
       "   'Type': 'movie',\n",
       "   'Year': '2017',\n",
       "   'imdbID': 'tt3450958'},\n",
       "  {'Poster': 'https://m.media-amazon.com/images/M/MV5BMTYyOTQ4MDE2MV5BMl5BanBnXkFtZTcwOTE0MTgwNw@@._V1_SX300.jpg',\n",
       "   'Title': 'This Means War',\n",
       "   'Type': 'movie',\n",
       "   'Year': '2012',\n",
       "   'imdbID': 'tt1596350'},\n",
       "  {'Poster': 'https://m.media-amazon.com/images/M/MV5BMjEyNzQ0NzM4MV5BMl5BanBnXkFtZTgwMDI0ODM2OTE@._V1_SX300.jpg',\n",
       "   'Title': 'War Dogs',\n",
       "   'Type': 'movie',\n",
       "   'Year': '2016',\n",
       "   'imdbID': 'tt2005151'},\n",
       "  {'Poster': 'https://m.media-amazon.com/images/M/MV5BMjExNzkxOTYyNl5BMl5BanBnXkFtZTcwODA0MjU4Ng@@._V1_SX300.jpg',\n",
       "   'Title': 'War Horse',\n",
       "   'Type': 'movie',\n",
       "   'Year': '2011',\n",
       "   'imdbID': 'tt1568911'},\n",
       "  {'Poster': 'https://m.media-amazon.com/images/M/MV5BMTgwMDgwMDc4MF5BMl5BanBnXkFtZTYwOTU3MDM4._V1_SX300.jpg',\n",
       "   'Title': \"Charlie Wilson's War\",\n",
       "   'Type': 'movie',\n",
       "   'Year': '2007',\n",
       "   'imdbID': 'tt0472062'}],\n",
       " 'totalResults': '3841'}"
      ]
     },
     "execution_count": 42,
     "metadata": {},
     "output_type": "execute_result"
    }
   ],
   "source": [
    "# Montar dataset de filmes de guerra\n",
    "requests.get(API + 's=war').json()"
   ]
  },
  {
   "cell_type": "markdown",
   "metadata": {},
   "source": [
    "<strong>Visualizador:</strong> https://jsoneditoronline.org/\n",
    "\n",
    "<img src=\"./img/json.png\">"
   ]
  },
  {
   "cell_type": "code",
   "execution_count": 43,
   "metadata": {},
   "outputs": [],
   "source": [
    "# Coletando os 100 primeiros resultados\n",
    "dados = []\n",
    "\n",
    "for pagina in range(1, 11):\n",
    "    j = requests.get(API + 's=war').json()\n",
    "    for resultado in j['Search']:\n",
    "        dados.append([\n",
    "            resultado['Title'],\n",
    "            resultado['Type'],\n",
    "            resultado['Year'],\n",
    "            resultado['Poster'],\n",
    "            resultado['imdbID'],\n",
    "        ])"
   ]
  },
  {
   "cell_type": "code",
   "execution_count": 44,
   "metadata": {},
   "outputs": [
    {
     "name": "stdout",
     "output_type": "stream",
     "text": [
      "(100, 5)\n"
     ]
    },
    {
     "data": {
      "text/html": [
       "<div>\n",
       "<style scoped>\n",
       "    .dataframe tbody tr th:only-of-type {\n",
       "        vertical-align: middle;\n",
       "    }\n",
       "\n",
       "    .dataframe tbody tr th {\n",
       "        vertical-align: top;\n",
       "    }\n",
       "\n",
       "    .dataframe thead th {\n",
       "        text-align: right;\n",
       "    }\n",
       "</style>\n",
       "<table border=\"1\" class=\"dataframe\">\n",
       "  <thead>\n",
       "    <tr style=\"text-align: right;\">\n",
       "      <th></th>\n",
       "      <th>titulo</th>\n",
       "      <th>tipo</th>\n",
       "      <th>ano</th>\n",
       "      <th>poster</th>\n",
       "      <th>id_imdb</th>\n",
       "    </tr>\n",
       "  </thead>\n",
       "  <tbody>\n",
       "    <tr>\n",
       "      <th>0</th>\n",
       "      <td>World War Z</td>\n",
       "      <td>movie</td>\n",
       "      <td>2013</td>\n",
       "      <td>https://m.media-amazon.com/images/M/MV5BNDQ4Yz...</td>\n",
       "      <td>tt0816711</td>\n",
       "    </tr>\n",
       "    <tr>\n",
       "      <th>1</th>\n",
       "      <td>Captain America: Civil War</td>\n",
       "      <td>movie</td>\n",
       "      <td>2016</td>\n",
       "      <td>https://m.media-amazon.com/images/M/MV5BMjQ0MT...</td>\n",
       "      <td>tt3498820</td>\n",
       "    </tr>\n",
       "    <tr>\n",
       "      <th>2</th>\n",
       "      <td>Avengers: Infinity War</td>\n",
       "      <td>movie</td>\n",
       "      <td>2018</td>\n",
       "      <td>https://m.media-amazon.com/images/M/MV5BMjMxNj...</td>\n",
       "      <td>tt4154756</td>\n",
       "    </tr>\n",
       "    <tr>\n",
       "      <th>3</th>\n",
       "      <td>War of the Worlds</td>\n",
       "      <td>movie</td>\n",
       "      <td>2005</td>\n",
       "      <td>https://m.media-amazon.com/images/M/MV5BNDUyOD...</td>\n",
       "      <td>tt0407304</td>\n",
       "    </tr>\n",
       "    <tr>\n",
       "      <th>4</th>\n",
       "      <td>Lord of War</td>\n",
       "      <td>movie</td>\n",
       "      <td>2005</td>\n",
       "      <td>https://m.media-amazon.com/images/M/MV5BMTYzZW...</td>\n",
       "      <td>tt0399295</td>\n",
       "    </tr>\n",
       "  </tbody>\n",
       "</table>\n",
       "</div>"
      ],
      "text/plain": [
       "                       titulo   tipo   ano  \\\n",
       "0                 World War Z  movie  2013   \n",
       "1  Captain America: Civil War  movie  2016   \n",
       "2      Avengers: Infinity War  movie  2018   \n",
       "3           War of the Worlds  movie  2005   \n",
       "4                 Lord of War  movie  2005   \n",
       "\n",
       "                                              poster    id_imdb  \n",
       "0  https://m.media-amazon.com/images/M/MV5BNDQ4Yz...  tt0816711  \n",
       "1  https://m.media-amazon.com/images/M/MV5BMjQ0MT...  tt3498820  \n",
       "2  https://m.media-amazon.com/images/M/MV5BMjMxNj...  tt4154756  \n",
       "3  https://m.media-amazon.com/images/M/MV5BNDUyOD...  tt0407304  \n",
       "4  https://m.media-amazon.com/images/M/MV5BMTYzZW...  tt0399295  "
      ]
     },
     "execution_count": 44,
     "metadata": {},
     "output_type": "execute_result"
    }
   ],
   "source": [
    "df = pd.DataFrame(dados, columns=['titulo', 'tipo', 'ano', 'poster', 'id_imdb'])\n",
    "\n",
    "print(df.shape)\n",
    "\n",
    "df.head()"
   ]
  },
  {
   "cell_type": "code",
   "execution_count": 45,
   "metadata": {},
   "outputs": [
    {
     "data": {
      "text/plain": [
       "array(['2013', '2016', '2018', '2005', '2017', '2012', '2011', '2007'],\n",
       "      dtype=object)"
      ]
     },
     "execution_count": 45,
     "metadata": {},
     "output_type": "execute_result"
    }
   ],
   "source": [
    "df['ano'].unique()"
   ]
  },
  {
   "cell_type": "code",
   "execution_count": 46,
   "metadata": {},
   "outputs": [
    {
     "name": "stdout",
     "output_type": "stream",
     "text": [
      "<class 'pandas.core.frame.DataFrame'>\n",
      "RangeIndex: 100 entries, 0 to 99\n",
      "Data columns (total 5 columns):\n",
      "titulo     100 non-null object\n",
      "tipo       100 non-null object\n",
      "ano        100 non-null object\n",
      "poster     100 non-null object\n",
      "id_imdb    100 non-null object\n",
      "dtypes: object(5)\n",
      "memory usage: 4.0+ KB\n"
     ]
    }
   ],
   "source": [
    "df.info()"
   ]
  },
  {
   "cell_type": "code",
   "execution_count": 47,
   "metadata": {},
   "outputs": [],
   "source": [
    "# Corrigindo o tipo do ano\n",
    "df = df.astype({'ano': int})"
   ]
  },
  {
   "cell_type": "code",
   "execution_count": 48,
   "metadata": {},
   "outputs": [
    {
     "name": "stdout",
     "output_type": "stream",
     "text": [
      "<class 'pandas.core.frame.DataFrame'>\n",
      "RangeIndex: 100 entries, 0 to 99\n",
      "Data columns (total 5 columns):\n",
      "titulo     100 non-null object\n",
      "tipo       100 non-null object\n",
      "ano        100 non-null int64\n",
      "poster     100 non-null object\n",
      "id_imdb    100 non-null object\n",
      "dtypes: int64(1), object(4)\n",
      "memory usage: 4.0+ KB\n"
     ]
    }
   ],
   "source": [
    "df.info()"
   ]
  },
  {
   "cell_type": "code",
   "execution_count": 52,
   "metadata": {},
   "outputs": [
    {
     "data": {
      "text/plain": [
       "<matplotlib.axes._subplots.AxesSubplot at 0x7fd2e2c69400>"
      ]
     },
     "execution_count": 52,
     "metadata": {},
     "output_type": "execute_result"
    },
    {
     "data": {
      "image/png": "[encoded data removed]",
      "text/plain": [
       "<Figure size 432x288 with 1 Axes>"
      ]
     },
     "metadata": {},
     "output_type": "display_data"
    }
   ],
   "source": [
    "# Distribuição dos filmes por ano\n",
    "df['ano'].hist(edgecolor='black', grid=False)"
   ]
  },
  {
   "cell_type": "code",
   "execution_count": 55,
   "metadata": {},
   "outputs": [
    {
     "data": {
      "text/html": [
       "<div>\n",
       "<style scoped>\n",
       "    .dataframe tbody tr th:only-of-type {\n",
       "        vertical-align: middle;\n",
       "    }\n",
       "\n",
       "    .dataframe tbody tr th {\n",
       "        vertical-align: top;\n",
       "    }\n",
       "\n",
       "    .dataframe thead th {\n",
       "        text-align: right;\n",
       "    }\n",
       "</style>\n",
       "<table border=\"1\" class=\"dataframe\">\n",
       "  <thead>\n",
       "    <tr style=\"text-align: right;\">\n",
       "      <th></th>\n",
       "      <th>titulo</th>\n",
       "      <th>tipo</th>\n",
       "      <th>ano</th>\n",
       "      <th>poster</th>\n",
       "      <th>id_imdb</th>\n",
       "      <th>tam_titulo</th>\n",
       "    </tr>\n",
       "  </thead>\n",
       "  <tbody>\n",
       "    <tr>\n",
       "      <th>0</th>\n",
       "      <td>World War Z</td>\n",
       "      <td>movie</td>\n",
       "      <td>2013</td>\n",
       "      <td>https://m.media-amazon.com/images/M/MV5BNDQ4Yz...</td>\n",
       "      <td>tt0816711</td>\n",
       "      <td>11</td>\n",
       "    </tr>\n",
       "    <tr>\n",
       "      <th>1</th>\n",
       "      <td>Captain America: Civil War</td>\n",
       "      <td>movie</td>\n",
       "      <td>2016</td>\n",
       "      <td>https://m.media-amazon.com/images/M/MV5BMjQ0MT...</td>\n",
       "      <td>tt3498820</td>\n",
       "      <td>26</td>\n",
       "    </tr>\n",
       "    <tr>\n",
       "      <th>2</th>\n",
       "      <td>Avengers: Infinity War</td>\n",
       "      <td>movie</td>\n",
       "      <td>2018</td>\n",
       "      <td>https://m.media-amazon.com/images/M/MV5BMjMxNj...</td>\n",
       "      <td>tt4154756</td>\n",
       "      <td>22</td>\n",
       "    </tr>\n",
       "    <tr>\n",
       "      <th>3</th>\n",
       "      <td>War of the Worlds</td>\n",
       "      <td>movie</td>\n",
       "      <td>2005</td>\n",
       "      <td>https://m.media-amazon.com/images/M/MV5BNDUyOD...</td>\n",
       "      <td>tt0407304</td>\n",
       "      <td>17</td>\n",
       "    </tr>\n",
       "    <tr>\n",
       "      <th>4</th>\n",
       "      <td>Lord of War</td>\n",
       "      <td>movie</td>\n",
       "      <td>2005</td>\n",
       "      <td>https://m.media-amazon.com/images/M/MV5BMTYzZW...</td>\n",
       "      <td>tt0399295</td>\n",
       "      <td>11</td>\n",
       "    </tr>\n",
       "  </tbody>\n",
       "</table>\n",
       "</div>"
      ],
      "text/plain": [
       "                       titulo   tipo   ano  \\\n",
       "0                 World War Z  movie  2013   \n",
       "1  Captain America: Civil War  movie  2016   \n",
       "2      Avengers: Infinity War  movie  2018   \n",
       "3           War of the Worlds  movie  2005   \n",
       "4                 Lord of War  movie  2005   \n",
       "\n",
       "                                              poster    id_imdb  tam_titulo  \n",
       "0  https://m.media-amazon.com/images/M/MV5BNDQ4Yz...  tt0816711          11  \n",
       "1  https://m.media-amazon.com/images/M/MV5BMjQ0MT...  tt3498820          26  \n",
       "2  https://m.media-amazon.com/images/M/MV5BMjMxNj...  tt4154756          22  \n",
       "3  https://m.media-amazon.com/images/M/MV5BNDUyOD...  tt0407304          17  \n",
       "4  https://m.media-amazon.com/images/M/MV5BMTYzZW...  tt0399295          11  "
      ]
     },
     "execution_count": 55,
     "metadata": {},
     "output_type": "execute_result"
    }
   ],
   "source": [
    "# Adicionando nova coluna: tamanho do título\n",
    "df['tam_titulo'] = df['titulo'].apply(lambda x: len(x))\n",
    "\n",
    "df.head()"
   ]
  },
  {
   "cell_type": "code",
   "execution_count": 56,
   "metadata": {},
   "outputs": [
    {
     "data": {
      "text/plain": [
       "<matplotlib.axes._subplots.AxesSubplot at 0x7fd2e2c5c320>"
      ]
     },
     "execution_count": 56,
     "metadata": {},
     "output_type": "execute_result"
    },
    {
     "data": {
      "image/png": "[encoded data removed]",
      "text/plain": [
       "<Figure size 432x288 with 1 Axes>"
      ]
     },
     "metadata": {},
     "output_type": "display_data"
    }
   ],
   "source": [
    "df['tam_titulo'].hist(edgecolor='black', grid=False)"
   ]
  },
  {
   "cell_type": "code",
   "execution_count": 80,
   "metadata": {},
   "outputs": [],
   "source": [
    "# Salvando o dataset\n",
    "df.to_csv('filmes.csv', index=False)"
   ]
  },
  {
   "cell_type": "code",
   "execution_count": 50,
   "metadata": {},
   "outputs": [
    {
     "data": {
      "text/html": [
       "<h1>Hello, world!</h1>"
      ],
      "text/plain": [
       "<IPython.core.display.HTML object>"
      ]
     },
     "metadata": {},
     "output_type": "display_data"
    }
   ],
   "source": [
    "# Renderizando HTML\n",
    "from IPython.core.display import display, HTML\n",
    "\n",
    "display(HTML('<h1>Hello, world!</h1>'))"
   ]
  },
  {
   "cell_type": "code",
   "execution_count": 51,
   "metadata": {},
   "outputs": [
    {
     "name": "stdout",
     "output_type": "stream",
     "text": [
      "World War Z\n"
     ]
    },
    {
     "data": {
      "text/html": [
       "<img src=\"https://m.media-amazon.com/images/M/MV5BNDQ4YzFmNzktMmM5ZC00MDZjLTk1OTktNDE2ODE4YjM2MjJjXkEyXkFqcGdeQXVyNTA4NzY1MzY@._V1_SX300.jpg\" style=\"width: 20%\">"
      ],
      "text/plain": [
       "<IPython.core.display.HTML object>"
      ]
     },
     "metadata": {},
     "output_type": "display_data"
    },
    {
     "data": {
      "text/html": [
       "<hr>"
      ],
      "text/plain": [
       "<IPython.core.display.HTML object>"
      ]
     },
     "metadata": {},
     "output_type": "display_data"
    },
    {
     "name": "stdout",
     "output_type": "stream",
     "text": [
      "Captain America: Civil War\n"
     ]
    },
    {
     "data": {
      "text/html": [
       "<img src=\"https://m.media-amazon.com/images/M/MV5BMjQ0MTgyNjAxMV5BMl5BanBnXkFtZTgwNjUzMDkyODE@._V1_SX300.jpg\" style=\"width: 20%\">"
      ],
      "text/plain": [
       "<IPython.core.display.HTML object>"
      ]
     },
     "metadata": {},
     "output_type": "display_data"
    },
    {
     "data": {
      "text/html": [
       "<hr>"
      ],
      "text/plain": [
       "<IPython.core.display.HTML object>"
      ]
     },
     "metadata": {},
     "output_type": "display_data"
    },
    {
     "name": "stdout",
     "output_type": "stream",
     "text": [
      "Avengers: Infinity War\n"
     ]
    },
    {
     "data": {
      "text/html": [
       "<img src=\"https://m.media-amazon.com/images/M/MV5BMjMxNjY2MDU1OV5BMl5BanBnXkFtZTgwNzY1MTUwNTM@._V1_SX300.jpg\" style=\"width: 20%\">"
      ],
      "text/plain": [
       "<IPython.core.display.HTML object>"
      ]
     },
     "metadata": {},
     "output_type": "display_data"
    },
    {
     "data": {
      "text/html": [
       "<hr>"
      ],
      "text/plain": [
       "<IPython.core.display.HTML object>"
      ]
     },
     "metadata": {},
     "output_type": "display_data"
    },
    {
     "name": "stdout",
     "output_type": "stream",
     "text": [
      "War of the Worlds\n"
     ]
    },
    {
     "data": {
      "text/html": [
       "<img src=\"https://m.media-amazon.com/images/M/MV5BNDUyODAzNDI1Nl5BMl5BanBnXkFtZTcwMDA2NDAzMw@@._V1_SX300.jpg\" style=\"width: 20%\">"
      ],
      "text/plain": [
       "<IPython.core.display.HTML object>"
      ]
     },
     "metadata": {},
     "output_type": "display_data"
    },
    {
     "data": {
      "text/html": [
       "<hr>"
      ],
      "text/plain": [
       "<IPython.core.display.HTML object>"
      ]
     },
     "metadata": {},
     "output_type": "display_data"
    },
    {
     "name": "stdout",
     "output_type": "stream",
     "text": [
      "Lord of War\n"
     ]
    },
    {
     "data": {
      "text/html": [
       "<img src=\"https://m.media-amazon.com/images/M/MV5BMTYzZWE3MDAtZjZkMi00MzhlLTlhZDUtNmI2Zjg3OWVlZWI0XkEyXkFqcGdeQXVyNDk3NzU2MTQ@._V1_SX300.jpg\" style=\"width: 20%\">"
      ],
      "text/plain": [
       "<IPython.core.display.HTML object>"
      ]
     },
     "metadata": {},
     "output_type": "display_data"
    },
    {
     "data": {
      "text/html": [
       "<hr>"
      ],
      "text/plain": [
       "<IPython.core.display.HTML object>"
      ]
     },
     "metadata": {},
     "output_type": "display_data"
    }
   ],
   "source": [
    "# Exibindo os 5 primeiros pôsteres\n",
    "for i in range(5):\n",
    "    print(df['titulo'].iloc[i])\n",
    "    \n",
    "    display(HTML('<img src=\"{0}\" style=\"width: 20%\">'.format(df['poster'].iloc[i])))\n",
    "    display(HTML('<hr>'))"
   ]
  },
  {
   "cell_type": "markdown",
   "metadata": {},
   "source": [
    "## Atividade para sala\n",
    "\n",
    "Criar seu próprio dataset (tema livre) coletando dados de um site ou API. O dataset produzido precisa ter <strong>no mínimo</strong>:\n",
    "\n",
    "<ul>\n",
    "    <li>500 registros (linhas)</li>\n",
    "    <li>6 features (colunas)</li>\n",
    "</ul>\n",
    "\n",
    "Salvar o dataset no formato CSV."
   ]
  },
  {
   "cell_type": "markdown",
   "metadata": {},
   "source": [
    "## Atividade para casa\n",
    "\n",
    "\n",
    "Realizar a análise exploratória do seu dataset, e apresentar para a turma na próxima aula, na forma de apresentação de slides."
   ]
  }
 ],
 "metadata": {
  "kernelspec": {
   "display_name": "Python 3",
   "language": "python",
   "name": "python3"
  },
  "language_info": {
   "codemirror_mode": {
    "name": "ipython",
    "version": 3
   },
   "file_extension": ".py",
   "mimetype": "text/x-python",
   "name": "python",
   "nbconvert_exporter": "python",
   "pygments_lexer": "ipython3",
   "version": "3.6.4"
  }
 },
 "nbformat": 4,
 "nbformat_minor": 2
}
